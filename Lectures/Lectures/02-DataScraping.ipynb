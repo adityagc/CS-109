{
 "cells": [
  {
   "cell_type": "code",
   "execution_count": 1,
   "metadata": {},
   "outputs": [
    {
     "data": {
      "text/plain": [
       "'Shift+Tab on ipython to get info about object'"
      ]
     },
     "execution_count": 1,
     "metadata": {},
     "output_type": "execute_result"
    }
   ],
   "source": [
    "\"\"\"Shift+Tab on ipython to get info about object\"\"\""
   ]
  },
  {
   "cell_type": "code",
   "execution_count": 2,
   "metadata": {},
   "outputs": [
    {
     "name": "stdout",
     "output_type": "stream",
     "text": [
      "Python 2.7.15 :: Anaconda, Inc.\n",
      "Requirement already satisfied: seaborn in /home/adityagc/.local/lib/python2.7/site-packages (0.8.1)\n",
      "Requirement already satisfied: scipy in /home/adityagc/.local/lib/python2.7/site-packages (from seaborn) (1.1.0)\n",
      "Requirement already satisfied: numpy in /home/adityagc/.local/lib/python2.7/site-packages (from seaborn) (1.14.3)\n",
      "Requirement already satisfied: pandas in /home/adityagc/.local/lib/python2.7/site-packages (from seaborn) (0.23.0)\n",
      "Requirement already satisfied: matplotlib in /home/adityagc/anaconda2/lib/python2.7/site-packages (from seaborn) (2.2.2)\n",
      "Requirement already satisfied: pytz>=2011k in /home/adityagc/.local/lib/python2.7/site-packages (from pandas->seaborn) (2018.4)\n",
      "Requirement already satisfied: python-dateutil>=2.5.0 in /home/adityagc/.local/lib/python2.7/site-packages (from pandas->seaborn) (2.7.3)\n",
      "Requirement already satisfied: subprocess32 in /home/adityagc/.local/lib/python2.7/site-packages (from matplotlib->seaborn) (3.5.0)\n",
      "Requirement already satisfied: cycler>=0.10 in /home/adityagc/.local/lib/python2.7/site-packages (from matplotlib->seaborn) (0.10.0)\n",
      "Requirement already satisfied: six>=1.10 in /home/adityagc/.local/lib/python2.7/site-packages (from matplotlib->seaborn) (1.11.0)\n",
      "Requirement already satisfied: backports.functools-lru-cache in /home/adityagc/.local/lib/python2.7/site-packages (from matplotlib->seaborn) (1.5)\n",
      "Requirement already satisfied: pyparsing!=2.0.4,!=2.1.2,!=2.1.6,>=2.0.1 in /home/adityagc/.local/lib/python2.7/site-packages (from matplotlib->seaborn) (2.2.0)\n",
      "Requirement already satisfied: kiwisolver>=1.0.1 in /home/adityagc/.local/lib/python2.7/site-packages (from matplotlib->seaborn) (1.0.1)\n",
      "Requirement already satisfied: setuptools in /home/adityagc/.local/lib/python2.7/site-packages (from kiwisolver>=1.0.1->matplotlib->seaborn) (39.2.0)\n"
     ]
    }
   ],
   "source": [
    "!python --version\n",
    "!pip install seaborn"
   ]
  },
  {
   "cell_type": "code",
   "execution_count": null,
   "metadata": {},
   "outputs": [],
   "source": []
  },
  {
   "cell_type": "code",
   "execution_count": 14,
   "metadata": {
    "slideshow": {
     "slide_type": "skip"
    }
   },
   "outputs": [],
   "source": [
    "## all imports\n",
    "from IPython.display import HTML\n",
    "import numpy as np\n",
    "import urllib\n",
    "import bs4 #this is beautiful soup\n",
    "import time\n",
    "import operator\n",
    "import socket\n",
    "import pickle\n",
    "import re # regular expressions\n",
    "import urllib2\n",
    "from pandas import Series\n",
    "import pandas as pd\n",
    "from pandas import DataFrame\n",
    "\n",
    "import matplotlib\n",
    "import matplotlib.pyplot as plt\n",
    "%matplotlib inline\n",
    "\n",
    "# import seaborn as sns\n",
    "# sns.set_context(\"talk\")\n",
    "# sns.set_style(\"white\")\n",
    "\n",
    "from secret import *"
   ]
  },
  {
   "cell_type": "markdown",
   "metadata": {
    "slideshow": {
     "slide_type": "skip"
    }
   },
   "source": [
    "API registrations\n",
    "=================\n",
    "\n",
    "If you would like to run all the examples in this notebook, you need to register for the following APIs:\n",
    "\n",
    "* Rotten Tomatoes\n",
    "\n",
    "http://developer.rottentomatoes.com/member/register\n",
    "\n",
    "* Twitter\n",
    "\n",
    "https://apps.twitter.com/app/new\n",
    "\n",
    "* Twitter instructions\n",
    "\n",
    "https://twittercommunity.com/t/how-to-get-my-api-key/7033"
   ]
  },
  {
   "cell_type": "markdown",
   "metadata": {
    "slideshow": {
     "slide_type": "slide"
    }
   },
   "source": [
    "CS109\n",
    "=====\n",
    "\n",
    "Verena Kaynig-Fittkau, Joe Blitzstein, Hanspeter Pfister\n",
    "\n",
    "* vkaynig@seas.harvard.edu\n",
    "* staff@cs109.org"
   ]
  },
  {
   "cell_type": "markdown",
   "metadata": {
    "slideshow": {
     "slide_type": "slide"
    }
   },
   "source": [
    "Announcements\n",
    "==============\n",
    "\n",
    "* Over 400 sign ups on github!\n",
    "* If you are still missing, fill out the survey, time is running out!\n",
    "* Make sure you are on Piazza!\n",
    "\n",
    "\n",
    "* More [git help](https://www.youtube.com/channel/UC0-KaiZFXBlGOFN71YsEV8g/videos)\n",
    "\n",
    "\n",
    "* HW0 is due on Thursday \n",
    "* HW1 is coming out on Thursday\n"
   ]
  },
  {
   "cell_type": "markdown",
   "metadata": {
    "slideshow": {
     "slide_type": "slide"
    }
   },
   "source": [
    "Todays lecture:\n",
    "===============\n",
    "\n",
    "* introduction to pandas\n",
    "    - read a table\n",
    "    - do some plots\n",
    "\n",
    "* all about data scraping\n",
    "* ***What is it? ***\n",
    "* How to do it:\n",
    "    - from a website\n",
    "    - with an API"
   ]
  },
  {
   "cell_type": "markdown",
   "metadata": {
    "slideshow": {
     "slide_type": "skip"
    }
   },
   "source": [
    "Answer: Data scraping is about obtaining data from webpages. There is low level scraping where you parse the data out of the html code of the webpage. There also is scraping over APIs from websites who try to make your life a bit easier."
   ]
  },
  {
   "cell_type": "markdown",
   "metadata": {
    "slideshow": {
     "slide_type": "slide"
    }
   },
   "source": [
    "IPython Notebooks:\n",
    "===================\n",
    "\n",
    "![IPython](images/ipython.png \"IPython\")"
   ]
  },
  {
   "cell_type": "markdown",
   "metadata": {
    "collapsed": true,
    "slideshow": {
     "slide_type": "slide"
    }
   },
   "source": [
    "IPython Notebooks:\n",
    "===================\n",
    "\n",
    "* These slides are an IPython notebook!\n",
    "* https://github.com/damianavila/live_reveal"
   ]
  },
  {
   "cell_type": "code",
   "execution_count": 32,
   "metadata": {},
   "outputs": [
    {
     "name": "stdout",
     "output_type": "stream",
     "text": [
      "Hello CS109\n",
      "I love IPython\n"
     ]
    }
   ],
   "source": [
    "print (\"Hello CS109\")\n",
    "\n",
    "print (\"I love IPython\")\n",
    "\n",
    "# Ipython notebook have tab completion!\n",
    "# and inbuild help\n",
    "  \n",
    "a = np.zeros(3)\n",
    "a.clip?"
   ]
  },
  {
   "cell_type": "markdown",
   "metadata": {
    "slideshow": {
     "slide_type": "slide"
    }
   },
   "source": [
    "General advice about programming\n",
    "==================================\n",
    "\n",
    "* You will find nearly everything on google\n",
    "* Try: length of a list in python\n",
    "* A programmer is someone who can turn stack overflow snippets into running code\n",
    "* Use tab completion\n",
    "* Make your variable names meaningful\n"
   ]
  },
  {
   "cell_type": "markdown",
   "metadata": {
    "slideshow": {
     "slide_type": "slide"
    }
   },
   "source": [
    "How to load a table\n",
    "===================\n",
    "\n",
    "* we use Pandas for this\n",
    "* Pandas can do a __lot__ more\n",
    "* more about it later"
   ]
  },
  {
   "cell_type": "markdown",
   "metadata": {
    "slideshow": {
     "slide_type": "slide"
    }
   },
   "source": [
    "The MovieLens data\n",
    "===================\n",
    "\n",
    "http://grouplens.org/datasets/movielens/\n",
    "\n",
    "![Grouplens](images/grouplens.jpg \"Grouplens\")\n",
    "\n",
    "Example inspired by [Greg Reda](http://www.gregreda.com/2013/10/26/using-pandas-on-the-movielens-dataset/)"
   ]
  },
  {
   "cell_type": "markdown",
   "metadata": {
    "slideshow": {
     "slide_type": "slide"
    }
   },
   "source": [
    "Read the user data\n",
    "=================="
   ]
  },
  {
   "cell_type": "code",
   "execution_count": 5,
   "metadata": {
    "slideshow": {
     "slide_type": "-"
    }
   },
   "outputs": [
    {
     "data": {
      "text/html": [
       "<div>\n",
       "<style scoped>\n",
       "    .dataframe tbody tr th:only-of-type {\n",
       "        vertical-align: middle;\n",
       "    }\n",
       "\n",
       "    .dataframe tbody tr th {\n",
       "        vertical-align: top;\n",
       "    }\n",
       "\n",
       "    .dataframe thead th {\n",
       "        text-align: right;\n",
       "    }\n",
       "</style>\n",
       "<table border=\"1\" class=\"dataframe\">\n",
       "  <thead>\n",
       "    <tr style=\"text-align: right;\">\n",
       "      <th></th>\n",
       "      <th>user_id</th>\n",
       "      <th>age</th>\n",
       "      <th>sex</th>\n",
       "      <th>occupation</th>\n",
       "      <th>zip_code</th>\n",
       "    </tr>\n",
       "  </thead>\n",
       "  <tbody>\n",
       "    <tr>\n",
       "      <th>0</th>\n",
       "      <td>1</td>\n",
       "      <td>24</td>\n",
       "      <td>M</td>\n",
       "      <td>technician</td>\n",
       "      <td>85711</td>\n",
       "    </tr>\n",
       "    <tr>\n",
       "      <th>1</th>\n",
       "      <td>2</td>\n",
       "      <td>53</td>\n",
       "      <td>F</td>\n",
       "      <td>other</td>\n",
       "      <td>94043</td>\n",
       "    </tr>\n",
       "    <tr>\n",
       "      <th>2</th>\n",
       "      <td>3</td>\n",
       "      <td>23</td>\n",
       "      <td>M</td>\n",
       "      <td>writer</td>\n",
       "      <td>32067</td>\n",
       "    </tr>\n",
       "    <tr>\n",
       "      <th>3</th>\n",
       "      <td>4</td>\n",
       "      <td>24</td>\n",
       "      <td>M</td>\n",
       "      <td>technician</td>\n",
       "      <td>43537</td>\n",
       "    </tr>\n",
       "    <tr>\n",
       "      <th>4</th>\n",
       "      <td>5</td>\n",
       "      <td>33</td>\n",
       "      <td>F</td>\n",
       "      <td>other</td>\n",
       "      <td>15213</td>\n",
       "    </tr>\n",
       "  </tbody>\n",
       "</table>\n",
       "</div>"
      ],
      "text/plain": [
       "   user_id  age sex  occupation zip_code\n",
       "0        1   24   M  technician    85711\n",
       "1        2   53   F       other    94043\n",
       "2        3   23   M      writer    32067\n",
       "3        4   24   M  technician    43537\n",
       "4        5   33   F       other    15213"
      ]
     },
     "execution_count": 5,
     "metadata": {},
     "output_type": "execute_result"
    }
   ],
   "source": [
    "# pass in column names for each CSV\n",
    "u_cols = ['user_id', 'age', 'sex', 'occupation', 'zip_code']\n",
    "\n",
    "users = pd.read_csv(\n",
    "    'http://files.grouplens.org/datasets/movielens/ml-100k/u.user', \n",
    "    sep='|', names=u_cols)\n",
    "\n",
    "users.head()"
   ]
  },
  {
   "cell_type": "markdown",
   "metadata": {
    "slideshow": {
     "slide_type": "slide"
    }
   },
   "source": [
    "Read the ratings\n",
    "============"
   ]
  },
  {
   "cell_type": "code",
   "execution_count": 34,
   "metadata": {},
   "outputs": [
    {
     "data": {
      "text/html": [
       "<div>\n",
       "<style scoped>\n",
       "    .dataframe tbody tr th:only-of-type {\n",
       "        vertical-align: middle;\n",
       "    }\n",
       "\n",
       "    .dataframe tbody tr th {\n",
       "        vertical-align: top;\n",
       "    }\n",
       "\n",
       "    .dataframe thead th {\n",
       "        text-align: right;\n",
       "    }\n",
       "</style>\n",
       "<table border=\"1\" class=\"dataframe\">\n",
       "  <thead>\n",
       "    <tr style=\"text-align: right;\">\n",
       "      <th></th>\n",
       "      <th>user_id</th>\n",
       "      <th>movie_id</th>\n",
       "      <th>rating</th>\n",
       "      <th>unix_timestamp</th>\n",
       "    </tr>\n",
       "  </thead>\n",
       "  <tbody>\n",
       "    <tr>\n",
       "      <th>0</th>\n",
       "      <td>196</td>\n",
       "      <td>242</td>\n",
       "      <td>3</td>\n",
       "      <td>881250949</td>\n",
       "    </tr>\n",
       "    <tr>\n",
       "      <th>1</th>\n",
       "      <td>186</td>\n",
       "      <td>302</td>\n",
       "      <td>3</td>\n",
       "      <td>891717742</td>\n",
       "    </tr>\n",
       "    <tr>\n",
       "      <th>2</th>\n",
       "      <td>22</td>\n",
       "      <td>377</td>\n",
       "      <td>1</td>\n",
       "      <td>878887116</td>\n",
       "    </tr>\n",
       "    <tr>\n",
       "      <th>3</th>\n",
       "      <td>244</td>\n",
       "      <td>51</td>\n",
       "      <td>2</td>\n",
       "      <td>880606923</td>\n",
       "    </tr>\n",
       "    <tr>\n",
       "      <th>4</th>\n",
       "      <td>166</td>\n",
       "      <td>346</td>\n",
       "      <td>1</td>\n",
       "      <td>886397596</td>\n",
       "    </tr>\n",
       "  </tbody>\n",
       "</table>\n",
       "</div>"
      ],
      "text/plain": [
       "   user_id  movie_id  rating  unix_timestamp\n",
       "0      196       242       3       881250949\n",
       "1      186       302       3       891717742\n",
       "2       22       377       1       878887116\n",
       "3      244        51       2       880606923\n",
       "4      166       346       1       886397596"
      ]
     },
     "execution_count": 34,
     "metadata": {},
     "output_type": "execute_result"
    }
   ],
   "source": [
    "r_cols = ['user_id', 'movie_id', 'rating', 'unix_timestamp']\n",
    "ratings = pd.read_csv(\n",
    "    'http://files.grouplens.org/datasets/movielens/ml-100k/u.data', \n",
    "    sep='\\t', names=r_cols)\n",
    "\n",
    "ratings.head() "
   ]
  },
  {
   "cell_type": "markdown",
   "metadata": {
    "slideshow": {
     "slide_type": "slide"
    }
   },
   "source": [
    "Now data about the movies\n",
    "========================="
   ]
  },
  {
   "cell_type": "code",
   "execution_count": 7,
   "metadata": {},
   "outputs": [
    {
     "data": {
      "text/html": [
       "<div>\n",
       "<style scoped>\n",
       "    .dataframe tbody tr th:only-of-type {\n",
       "        vertical-align: middle;\n",
       "    }\n",
       "\n",
       "    .dataframe tbody tr th {\n",
       "        vertical-align: top;\n",
       "    }\n",
       "\n",
       "    .dataframe thead th {\n",
       "        text-align: right;\n",
       "    }\n",
       "</style>\n",
       "<table border=\"1\" class=\"dataframe\">\n",
       "  <thead>\n",
       "    <tr style=\"text-align: right;\">\n",
       "      <th></th>\n",
       "      <th>movie_id</th>\n",
       "      <th>title</th>\n",
       "      <th>release_date</th>\n",
       "      <th>video_release_date</th>\n",
       "      <th>imdb_url</th>\n",
       "    </tr>\n",
       "  </thead>\n",
       "  <tbody>\n",
       "    <tr>\n",
       "      <th>0</th>\n",
       "      <td>1</td>\n",
       "      <td>Toy Story (1995)</td>\n",
       "      <td>01-Jan-1995</td>\n",
       "      <td>NaN</td>\n",
       "      <td>http://us.imdb.com/M/title-exact?Toy%20Story%2...</td>\n",
       "    </tr>\n",
       "    <tr>\n",
       "      <th>1</th>\n",
       "      <td>2</td>\n",
       "      <td>GoldenEye (1995)</td>\n",
       "      <td>01-Jan-1995</td>\n",
       "      <td>NaN</td>\n",
       "      <td>http://us.imdb.com/M/title-exact?GoldenEye%20(...</td>\n",
       "    </tr>\n",
       "    <tr>\n",
       "      <th>2</th>\n",
       "      <td>3</td>\n",
       "      <td>Four Rooms (1995)</td>\n",
       "      <td>01-Jan-1995</td>\n",
       "      <td>NaN</td>\n",
       "      <td>http://us.imdb.com/M/title-exact?Four%20Rooms%...</td>\n",
       "    </tr>\n",
       "    <tr>\n",
       "      <th>3</th>\n",
       "      <td>4</td>\n",
       "      <td>Get Shorty (1995)</td>\n",
       "      <td>01-Jan-1995</td>\n",
       "      <td>NaN</td>\n",
       "      <td>http://us.imdb.com/M/title-exact?Get%20Shorty%...</td>\n",
       "    </tr>\n",
       "    <tr>\n",
       "      <th>4</th>\n",
       "      <td>5</td>\n",
       "      <td>Copycat (1995)</td>\n",
       "      <td>01-Jan-1995</td>\n",
       "      <td>NaN</td>\n",
       "      <td>http://us.imdb.com/M/title-exact?Copycat%20(1995)</td>\n",
       "    </tr>\n",
       "  </tbody>\n",
       "</table>\n",
       "</div>"
      ],
      "text/plain": [
       "   movie_id              title release_date  video_release_date  \\\n",
       "0         1   Toy Story (1995)  01-Jan-1995                 NaN   \n",
       "1         2   GoldenEye (1995)  01-Jan-1995                 NaN   \n",
       "2         3  Four Rooms (1995)  01-Jan-1995                 NaN   \n",
       "3         4  Get Shorty (1995)  01-Jan-1995                 NaN   \n",
       "4         5     Copycat (1995)  01-Jan-1995                 NaN   \n",
       "\n",
       "                                            imdb_url  \n",
       "0  http://us.imdb.com/M/title-exact?Toy%20Story%2...  \n",
       "1  http://us.imdb.com/M/title-exact?GoldenEye%20(...  \n",
       "2  http://us.imdb.com/M/title-exact?Four%20Rooms%...  \n",
       "3  http://us.imdb.com/M/title-exact?Get%20Shorty%...  \n",
       "4  http://us.imdb.com/M/title-exact?Copycat%20(1995)  "
      ]
     },
     "execution_count": 7,
     "metadata": {},
     "output_type": "execute_result"
    }
   ],
   "source": [
    "# the movies file contains columns indicating the movie's genres\n",
    "# let's only load the first five columns of the file with usecols\n",
    "m_cols = ['movie_id', 'title', 'release_date', \n",
    "            'video_release_date', 'imdb_url']\n",
    "\n",
    "movies = pd.read_csv(\n",
    "    'http://files.grouplens.org/datasets/movielens/ml-100k/u.item', \n",
    "    sep='|', names=m_cols, usecols=range(5))\n",
    "\n",
    "movies.head()"
   ]
  },
  {
   "cell_type": "markdown",
   "metadata": {
    "slideshow": {
     "slide_type": "slide"
    }
   },
   "source": [
    "Get information about data\n",
    "======================="
   ]
  },
  {
   "cell_type": "code",
   "execution_count": 35,
   "metadata": {},
   "outputs": [
    {
     "name": "stdout",
     "output_type": "stream",
     "text": [
      "movie_id                int64\n",
      "title                  object\n",
      "release_date           object\n",
      "video_release_date    float64\n",
      "imdb_url               object\n",
      "dtype: object\n",
      "\n",
      "          movie_id  video_release_date\n",
      "count  1682.000000                 0.0\n",
      "mean    841.500000                 NaN\n",
      "std     485.695893                 NaN\n",
      "min       1.000000                 NaN\n",
      "25%     421.250000                 NaN\n",
      "50%     841.500000                 NaN\n",
      "75%    1261.750000                 NaN\n",
      "max    1682.000000                 NaN\n"
     ]
    }
   ],
   "source": [
    "print movies.dtypes\n",
    "print\n",
    "print movies.describe()\n",
    "# *** Why only those two columns? ***"
   ]
  },
  {
   "cell_type": "markdown",
   "metadata": {
    "slideshow": {
     "slide_type": "slide"
    }
   },
   "source": [
    "Selecting data\n",
    "==============\n",
    "\n",
    "* DataFrame => group of Series with shared index\n",
    "* single DataFrame column => Series"
   ]
  },
  {
   "cell_type": "code",
   "execution_count": 9,
   "metadata": {
    "slideshow": {
     "slide_type": "slide"
    }
   },
   "outputs": [
    {
     "name": "stdout",
     "output_type": "stream",
     "text": [
      "   occupation sex\n",
      "0  technician   M\n",
      "1       other   F\n",
      "2      writer   M\n",
      "3  technician   M\n",
      "4       other   F\n"
     ]
    }
   ],
   "source": [
    "users.head()\n",
    "users['occupation'].head()\n",
    "## *** Where did the nice design go? ***\n",
    "columns_you_want = ['occupation', 'sex'] \n",
    "print users[columns_you_want].head()\n",
    "\n",
    "#print users.head()\n",
    "\n",
    "#print users.iloc[3]"
   ]
  },
  {
   "cell_type": "markdown",
   "metadata": {
    "slideshow": {
     "slide_type": "slide"
    }
   },
   "source": [
    "Filtering data\n",
    "==============\n",
    "\n",
    "Select users older than 25"
   ]
  },
  {
   "cell_type": "code",
   "execution_count": 10,
   "metadata": {},
   "outputs": [
    {
     "data": {
      "text/html": [
       "<div>\n",
       "<style scoped>\n",
       "    .dataframe tbody tr th:only-of-type {\n",
       "        vertical-align: middle;\n",
       "    }\n",
       "\n",
       "    .dataframe tbody tr th {\n",
       "        vertical-align: top;\n",
       "    }\n",
       "\n",
       "    .dataframe thead th {\n",
       "        text-align: right;\n",
       "    }\n",
       "</style>\n",
       "<table border=\"1\" class=\"dataframe\">\n",
       "  <thead>\n",
       "    <tr style=\"text-align: right;\">\n",
       "      <th></th>\n",
       "      <th>user_id</th>\n",
       "      <th>age</th>\n",
       "      <th>sex</th>\n",
       "      <th>occupation</th>\n",
       "      <th>zip_code</th>\n",
       "    </tr>\n",
       "  </thead>\n",
       "  <tbody>\n",
       "    <tr>\n",
       "      <th>1</th>\n",
       "      <td>2</td>\n",
       "      <td>53</td>\n",
       "      <td>F</td>\n",
       "      <td>other</td>\n",
       "      <td>94043</td>\n",
       "    </tr>\n",
       "    <tr>\n",
       "      <th>4</th>\n",
       "      <td>5</td>\n",
       "      <td>33</td>\n",
       "      <td>F</td>\n",
       "      <td>other</td>\n",
       "      <td>15213</td>\n",
       "    </tr>\n",
       "    <tr>\n",
       "      <th>5</th>\n",
       "      <td>6</td>\n",
       "      <td>42</td>\n",
       "      <td>M</td>\n",
       "      <td>executive</td>\n",
       "      <td>98101</td>\n",
       "    </tr>\n",
       "    <tr>\n",
       "      <th>6</th>\n",
       "      <td>7</td>\n",
       "      <td>57</td>\n",
       "      <td>M</td>\n",
       "      <td>administrator</td>\n",
       "      <td>91344</td>\n",
       "    </tr>\n",
       "    <tr>\n",
       "      <th>7</th>\n",
       "      <td>8</td>\n",
       "      <td>36</td>\n",
       "      <td>M</td>\n",
       "      <td>administrator</td>\n",
       "      <td>05201</td>\n",
       "    </tr>\n",
       "  </tbody>\n",
       "</table>\n",
       "</div>"
      ],
      "text/plain": [
       "   user_id  age sex     occupation zip_code\n",
       "1        2   53   F          other    94043\n",
       "4        5   33   F          other    15213\n",
       "5        6   42   M      executive    98101\n",
       "6        7   57   M  administrator    91344\n",
       "7        8   36   M  administrator    05201"
      ]
     },
     "execution_count": 10,
     "metadata": {},
     "output_type": "execute_result"
    }
   ],
   "source": [
    "oldUsers = users[users.age > 25]\n",
    "oldUsers.head()"
   ]
  },
  {
   "cell_type": "markdown",
   "metadata": {
    "slideshow": {
     "slide_type": "slide"
    }
   },
   "source": [
    "Quiz:\n",
    "=====\n",
    "\n",
    "* show users aged 40 and male\n",
    "\n",
    "* show the mean age of female programmers"
   ]
  },
  {
   "cell_type": "code",
   "execution_count": 36,
   "metadata": {},
   "outputs": [
    {
     "data": {
      "text/html": [
       "<div>\n",
       "<style scoped>\n",
       "    .dataframe tbody tr th:only-of-type {\n",
       "        vertical-align: middle;\n",
       "    }\n",
       "\n",
       "    .dataframe tbody tr th {\n",
       "        vertical-align: top;\n",
       "    }\n",
       "\n",
       "    .dataframe thead th {\n",
       "        text-align: right;\n",
       "    }\n",
       "</style>\n",
       "<table border=\"1\" class=\"dataframe\">\n",
       "  <thead>\n",
       "    <tr style=\"text-align: right;\">\n",
       "      <th></th>\n",
       "      <th>user_id</th>\n",
       "      <th>age</th>\n",
       "      <th>sex</th>\n",
       "      <th>occupation</th>\n",
       "      <th>zip_code</th>\n",
       "    </tr>\n",
       "  </thead>\n",
       "  <tbody>\n",
       "    <tr>\n",
       "      <th>18</th>\n",
       "      <td>19</td>\n",
       "      <td>40</td>\n",
       "      <td>M</td>\n",
       "      <td>librarian</td>\n",
       "      <td>02138</td>\n",
       "    </tr>\n",
       "    <tr>\n",
       "      <th>82</th>\n",
       "      <td>83</td>\n",
       "      <td>40</td>\n",
       "      <td>M</td>\n",
       "      <td>other</td>\n",
       "      <td>44133</td>\n",
       "    </tr>\n",
       "    <tr>\n",
       "      <th>115</th>\n",
       "      <td>116</td>\n",
       "      <td>40</td>\n",
       "      <td>M</td>\n",
       "      <td>healthcare</td>\n",
       "      <td>97232</td>\n",
       "    </tr>\n",
       "    <tr>\n",
       "      <th>199</th>\n",
       "      <td>200</td>\n",
       "      <td>40</td>\n",
       "      <td>M</td>\n",
       "      <td>programmer</td>\n",
       "      <td>93402</td>\n",
       "    </tr>\n",
       "    <tr>\n",
       "      <th>283</th>\n",
       "      <td>284</td>\n",
       "      <td>40</td>\n",
       "      <td>M</td>\n",
       "      <td>executive</td>\n",
       "      <td>92629</td>\n",
       "    </tr>\n",
       "  </tbody>\n",
       "</table>\n",
       "</div>"
      ],
      "text/plain": [
       "     user_id  age sex  occupation zip_code\n",
       "18        19   40   M   librarian    02138\n",
       "82        83   40   M       other    44133\n",
       "115      116   40   M  healthcare    97232\n",
       "199      200   40   M  programmer    93402\n",
       "283      284   40   M   executive    92629"
      ]
     },
     "execution_count": 36,
     "metadata": {},
     "output_type": "execute_result"
    }
   ],
   "source": [
    "df1 = users[(users['age'] == 40) & (users['sex'] == 'M')]\n",
    "df1.head()"
   ]
  },
  {
   "cell_type": "code",
   "execution_count": 37,
   "metadata": {},
   "outputs": [
    {
     "data": {
      "text/plain": [
       "32.166666666666664"
      ]
     },
     "execution_count": 37,
     "metadata": {},
     "output_type": "execute_result"
    }
   ],
   "source": [
    "df2 = users[(users['sex'] == 'F') & (users['occupation'] == 'programmer')]['age']\n",
    "df2.mean()\n",
    "\n",
    "#NOTE THAT THIS DOESNT WORK WITH and. So and is exclusively boolean and & is for everthing else"
   ]
  },
  {
   "cell_type": "code",
   "execution_count": 38,
   "metadata": {
    "slideshow": {
     "slide_type": "slide"
    }
   },
   "outputs": [
    {
     "data": {
      "text/html": [
       "<div>\n",
       "<style scoped>\n",
       "    .dataframe tbody tr th:only-of-type {\n",
       "        vertical-align: middle;\n",
       "    }\n",
       "\n",
       "    .dataframe tbody tr th {\n",
       "        vertical-align: top;\n",
       "    }\n",
       "\n",
       "    .dataframe thead th {\n",
       "        text-align: right;\n",
       "    }\n",
       "</style>\n",
       "<table border=\"1\" class=\"dataframe\">\n",
       "  <thead>\n",
       "    <tr style=\"text-align: right;\">\n",
       "      <th></th>\n",
       "      <th>user_id</th>\n",
       "      <th>age</th>\n",
       "      <th>sex</th>\n",
       "      <th>occupation</th>\n",
       "      <th>zip_code</th>\n",
       "    </tr>\n",
       "  </thead>\n",
       "  <tbody>\n",
       "    <tr>\n",
       "      <th>18</th>\n",
       "      <td>19</td>\n",
       "      <td>40</td>\n",
       "      <td>M</td>\n",
       "      <td>librarian</td>\n",
       "      <td>02138</td>\n",
       "    </tr>\n",
       "    <tr>\n",
       "      <th>82</th>\n",
       "      <td>83</td>\n",
       "      <td>40</td>\n",
       "      <td>M</td>\n",
       "      <td>other</td>\n",
       "      <td>44133</td>\n",
       "    </tr>\n",
       "    <tr>\n",
       "      <th>115</th>\n",
       "      <td>116</td>\n",
       "      <td>40</td>\n",
       "      <td>M</td>\n",
       "      <td>healthcare</td>\n",
       "      <td>97232</td>\n",
       "    </tr>\n",
       "  </tbody>\n",
       "</table>\n",
       "</div>"
      ],
      "text/plain": [
       "     user_id  age sex  occupation zip_code\n",
       "18        19   40   M   librarian    02138\n",
       "82        83   40   M       other    44133\n",
       "115      116   40   M  healthcare    97232"
      ]
     },
     "execution_count": 38,
     "metadata": {},
     "output_type": "execute_result"
    }
   ],
   "source": [
    "# users aged 40 AND male\n",
    "users[(users.age == 40) & (users.sex == 'M')].head(3)"
   ]
  },
  {
   "cell_type": "code",
   "execution_count": 39,
   "metadata": {
    "slideshow": {
     "slide_type": "slide"
    }
   },
   "outputs": [
    {
     "name": "stdout",
     "output_type": "stream",
     "text": [
      "          user_id        age\n",
      "count    6.000000   6.000000\n",
      "mean   411.166667  32.166667\n",
      "std    149.987222   5.115336\n",
      "min    292.000000  26.000000\n",
      "25%    313.000000  28.250000\n",
      "50%    378.000000  32.000000\n",
      "75%    416.750000  36.500000\n",
      "max    698.000000  38.000000\n",
      "32.166666666666664\n",
      "32.166666666666664\n"
     ]
    }
   ],
   "source": [
    "## users who are female and programmers\n",
    "selected_users = users[(users.sex == 'F') & \n",
    "                       (users.occupation == 'programmer')]\n",
    "\n",
    "## show statistic summary\n",
    "print selected_users.describe()\n",
    "\n",
    "## alternatives:\n",
    "print selected_users.age.mean()\n",
    "print selected_users['age'].mean()"
   ]
  },
  {
   "cell_type": "markdown",
   "metadata": {
    "slideshow": {
     "slide_type": "slide"
    }
   },
   "source": [
    "Split-apply-combine\n",
    "===================\n",
    "\n",
    "* splitting the data into groups based on some criteria\n",
    "* applying a function to each group independently\n",
    "* combining the results into a data structure"
   ]
  },
  {
   "cell_type": "markdown",
   "metadata": {
    "slideshow": {
     "slide_type": "slide"
    }
   },
   "source": [
    "Split-apply-combine\n",
    "===================\n",
    "\n",
    "<img src=http://i.imgur.com/yjNkiwL.png></img>"
   ]
  },
  {
   "cell_type": "markdown",
   "metadata": {
    "slideshow": {
     "slide_type": "slide"
    }
   },
   "source": [
    "Find Diligent Users\n",
    "===================\n",
    "\n",
    "* split data per user ID\n",
    "* count ratings\n",
    "* combine result"
   ]
  },
  {
   "cell_type": "code",
   "execution_count": 15,
   "metadata": {
    "slideshow": {
     "slide_type": "slide"
    }
   },
   "outputs": [
    {
     "name": "stdout",
     "output_type": "stream",
     "text": [
      "   user_id  movie_id  rating  unix_timestamp\n",
      "0      196       242       3       881250949\n",
      "1      186       302       3       891717742\n",
      "2       22       377       1       878887116\n",
      "3      244        51       2       880606923\n",
      "4      166       346       1       886397596\n"
     ]
    },
    {
     "data": {
      "text/plain": [
       "user_id\n",
       "1    272\n",
       "2     62\n",
       "3     54\n",
       "4     24\n",
       "5    175\n",
       "Name: movie_id, dtype: int64"
      ]
     },
     "execution_count": 15,
     "metadata": {},
     "output_type": "execute_result"
    }
   ],
   "source": [
    "print ratings.head()\n",
    "## split data\n",
    "#grouped_data = ratings.groupby('user_id')\n",
    "grouped_data = ratings['movie_id'].groupby(ratings['user_id'])\n",
    "#grouped_data.head()\n",
    "## count and combine\n",
    "ratings_per_user = grouped_data.count()\n",
    "\n",
    "ratings_per_user.head(5)"
   ]
  },
  {
   "cell_type": "markdown",
   "metadata": {
    "slideshow": {
     "slide_type": "slide"
    }
   },
   "source": [
    "Quiz\n",
    "====\n",
    "\n",
    "* get the average rating per movie\n",
    "* advanced: get the movie titles with the highest average rating"
   ]
  },
  {
   "cell_type": "code",
   "execution_count": 16,
   "metadata": {},
   "outputs": [
    {
     "data": {
      "text/plain": [
       "movie_id\n",
       "1    3.878319\n",
       "2    3.206107\n",
       "3    3.033333\n",
       "4    3.550239\n",
       "5    3.302326\n",
       "Name: rating, dtype: float64"
      ]
     },
     "execution_count": 16,
     "metadata": {},
     "output_type": "execute_result"
    }
   ],
   "source": [
    "# MY SOLUTION:\n",
    "grouped_data = ratings['rating'].groupby(ratings['movie_id'])\n",
    "grouped_data.mean().head()"
   ]
  },
  {
   "cell_type": "code",
   "execution_count": 17,
   "metadata": {
    "slideshow": {
     "slide_type": "slide"
    }
   },
   "outputs": [
    {
     "data": {
      "text/plain": [
       "'DOESNT WORK'"
      ]
     },
     "execution_count": 17,
     "metadata": {},
     "output_type": "execute_result"
    }
   ],
   "source": [
    "# MY SOLUTION:\n",
    "\n",
    "grouped_data = ratings['rating'].groupby(ratings['movie_id'])\n",
    "highrated = grouped_data.mean()\n",
    "desc_order = highrated.sort_values(ascending=False)\n",
    "rankings = desc_order.keys()\n",
    "best_movies = movies[movies['movie_id'].isin(rankings)].title\n",
    "\"\"\"DOESNT WORK\"\"\""
   ]
  },
  {
   "cell_type": "code",
   "execution_count": 18,
   "metadata": {
    "slideshow": {
     "slide_type": "slide"
    }
   },
   "outputs": [
    {
     "name": "stdout",
     "output_type": "stream",
     "text": [
      "Average ratings:\n",
      "movie_id\n",
      "1    3.878319\n",
      "2    3.206107\n",
      "3    3.033333\n",
      "4    3.550239\n",
      "5    3.302326\n",
      "Name: rating, dtype: float64\n",
      "\n"
     ]
    },
    {
     "data": {
      "text/plain": [
       "Int64Index([814, 1122, 1189, 1201, 1293, 1467, 1500, 1536, 1599, 1653], dtype='int64', name=u'movie_id')"
      ]
     },
     "execution_count": 18,
     "metadata": {},
     "output_type": "execute_result"
    }
   ],
   "source": [
    "## split data\n",
    "grouped_data = ratings['rating'].groupby(ratings['movie_id'])\n",
    "## average and combine\n",
    "average_ratings = grouped_data.mean()\n",
    "print \"Average ratings:\"\n",
    "print average_ratings.head()\n",
    "print\n",
    "\n",
    "maximum_rating = average_ratings.max()\n",
    "good_movie_ids = average_ratings[average_ratings == maximum_rating].index\n",
    "good_movie_ids"
   ]
  },
  {
   "cell_type": "code",
   "execution_count": 19,
   "metadata": {
    "slideshow": {
     "slide_type": "slide"
    }
   },
   "outputs": [
    {
     "name": "stdout",
     "output_type": "stream",
     "text": [
      "Good movie ids:\n",
      "Int64Index([814, 1122, 1189, 1201, 1293, 1467, 1500, 1536, 1599, 1653], dtype='int64', name=u'movie_id')\n",
      "\n",
      "Best movie titles\n",
      "813                         Great Day in Harlem, A (1994)\n",
      "1121                       They Made Me a Criminal (1939)\n",
      "1188                                   Prefontaine (1997)\n",
      "1200           Marlene Dietrich: Shadow and Light (1996) \n",
      "1292                                      Star Kid (1997)\n",
      "1466                 Saint of Fort Washington, The (1993)\n",
      "1499                            Santa with Muscles (1996)\n",
      "1535                                 Aiqing wansui (1994)\n",
      "1598                        Someone Else's America (1995)\n",
      "1652    Entertaining Angels: The Dorothy Day Story (1996)\n",
      "Name: title, dtype: object\n",
      "\n"
     ]
    }
   ],
   "source": [
    "print \"Good movie ids:\"\n",
    "print good_movie_ids\n",
    "print\n",
    "\n",
    "print \"Best movie titles\"\n",
    "print movies[movies.movie_id.isin(good_movie_ids)].title\n",
    "print"
   ]
  },
  {
   "cell_type": "code",
   "execution_count": 20,
   "metadata": {
    "slideshow": {
     "slide_type": "slide"
    }
   },
   "outputs": [
    {
     "name": "stdout",
     "output_type": "stream",
     "text": [
      "Number of ratings per movie\n",
      "movie_id\n",
      "814     1\n",
      "1122    1\n",
      "1189    3\n",
      "1201    1\n",
      "1293    3\n",
      "1467    2\n",
      "1500    2\n",
      "1536    1\n",
      "1599    1\n",
      "1653    1\n",
      "Name: rating, dtype: int64\n"
     ]
    }
   ],
   "source": [
    "how_many_ratings = grouped_data.count()\n",
    "print \"Number of ratings per movie\"\n",
    "print how_many_ratings[average_ratings == maximum_rating]"
   ]
  },
  {
   "cell_type": "markdown",
   "metadata": {
    "slideshow": {
     "slide_type": "slide"
    }
   },
   "source": [
    "Passing a Function\n",
    "==================\n"
   ]
  },
  {
   "cell_type": "code",
   "execution_count": 21,
   "metadata": {},
   "outputs": [],
   "source": [
    "average_ratings = grouped_data.apply(lambda f: f.mean())\n",
    "average_ratings.head()\n",
    "\n",
    "#is equivalent to:\n",
    "\n",
    "def somename(f):\n",
    "    return f.mean()"
   ]
  },
  {
   "cell_type": "markdown",
   "metadata": {
    "slideshow": {
     "slide_type": "slide"
    }
   },
   "source": [
    "Quiz\n",
    "====\n",
    "\n",
    "* get the average rating per user\n",
    "* advanced: list all occupations and if they are male or female dominant"
   ]
  },
  {
   "cell_type": "code",
   "execution_count": 22,
   "metadata": {},
   "outputs": [
    {
     "data": {
      "text/plain": [
       "user_id\n",
       "1    3.610294\n",
       "2    3.709677\n",
       "3    2.796296\n",
       "4    4.333333\n",
       "5    2.874286\n",
       "Name: rating, dtype: float64"
      ]
     },
     "execution_count": 22,
     "metadata": {},
     "output_type": "execute_result"
    }
   ],
   "source": [
    "#MY SOLUTION:\n",
    "\n",
    "group = ratings['rating'].groupby(ratings['user_id'])\n",
    "groupmean = group.mean()\n",
    "groupmean.head()"
   ]
  },
  {
   "cell_type": "code",
   "execution_count": 23,
   "metadata": {
    "slideshow": {
     "slide_type": "slide"
    }
   },
   "outputs": [
    {
     "data": {
      "text/plain": [
       "user_id\n",
       "1    3.610294\n",
       "2    3.709677\n",
       "3    2.796296\n",
       "4    4.333333\n",
       "5    2.874286\n",
       "Name: rating, dtype: float64"
      ]
     },
     "execution_count": 23,
     "metadata": {},
     "output_type": "execute_result"
    }
   ],
   "source": [
    "grouped_data = ratings['rating'].groupby(ratings['user_id'])\n",
    "average_ratings = grouped_data.mean()\n",
    "average_ratings.head()"
   ]
  },
  {
   "cell_type": "code",
   "execution_count": 24,
   "metadata": {
    "slideshow": {
     "slide_type": "slide"
    }
   },
   "outputs": [
    {
     "name": "stdout",
     "output_type": "stream",
     "text": [
      "occupation\n",
      "administrator     True\n",
      "artist            True\n",
      "doctor            True\n",
      "educator          True\n",
      "engineer          True\n",
      "entertainment     True\n",
      "executive         True\n",
      "healthcare       False\n",
      "homemaker        False\n",
      "lawyer            True\n",
      "librarian        False\n",
      "marketing         True\n",
      "none              True\n",
      "other             True\n",
      "programmer        True\n",
      "retired           True\n",
      "salesman          True\n",
      "scientist         True\n",
      "student           True\n",
      "technician        True\n",
      "writer            True\n",
      "Name: sex, dtype: bool\n",
      "\n",
      "\n"
     ]
    }
   ],
   "source": [
    "grouped_data = users['sex'].groupby(users['occupation'])\n",
    "male_dominant_occupations = grouped_data.apply(lambda f: \n",
    "                                               sum(f == 'M') > sum(f == 'F'))\n",
    "print male_dominant_occupations\n",
    "print '\\n'"
   ]
  },
  {
   "cell_type": "code",
   "execution_count": 25,
   "metadata": {
    "slideshow": {
     "slide_type": "slide"
    }
   },
   "outputs": [
    {
     "name": "stdout",
     "output_type": "stream",
     "text": [
      "number of male users: \n",
      "670\n",
      "number of female users: \n",
      "273\n"
     ]
    }
   ],
   "source": [
    "print 'number of male users: '\n",
    "print sum(users['sex'] == 'M')\n",
    "\n",
    "print 'number of female users: '\n",
    "print sum(users['sex'] == 'F')"
   ]
  },
  {
   "cell_type": "markdown",
   "metadata": {
    "slideshow": {
     "slide_type": "slide"
    }
   },
   "source": [
    "Pandas \"wrapup\"\n",
    "==========\n",
    "\n",
    "- create data frames\n",
    "- get sub-frames\n",
    "- filter data \n",
    "- use group-by\n",
    "- apply a user defined function\n",
    "\n",
    "\n",
    "![cute panda](images/cute_panda.jpg)"
   ]
  },
  {
   "cell_type": "markdown",
   "metadata": {
    "slideshow": {
     "slide_type": "slide"
    }
   },
   "source": [
    "Python data scraping\n",
    "====================\n",
    "\n",
    "* Why scrape the web?\n",
    "    - vast source of information\n",
    "    - automate tasks\n",
    "    - keep up with sites\n",
    "    - fun!\n",
    "\n",
    "** Can you think of examples ? **"
   ]
  },
  {
   "cell_type": "markdown",
   "metadata": {
    "slideshow": {
     "slide_type": "skip"
    }
   },
   "source": [
    "  \n",
    "Answer: Some examples we had were stock market monitoring, sports data, or airline prices."
   ]
  },
  {
   "cell_type": "markdown",
   "metadata": {
    "slideshow": {
     "slide_type": "slide"
    }
   },
   "source": [
    "Read and Tweet!\n",
    "=================\n",
    "\n",
    "![ReadTweet](http://developer.nytimes.com/files/readtweet.jpg)\n",
    "\n",
    "* by Justin Blinder\n",
    "* http://projects.justinblinder.com/We-Read-We-Tweet"
   ]
  },
  {
   "cell_type": "markdown",
   "metadata": {
    "slideshow": {
     "slide_type": "skip"
    }
   },
   "source": [
    "“We Read, We Tweet” geographically visualizes the dissemination of New York Times articles through Twitter. Each line connects the location of a tweet to the contextual location of the New York Times article it referenced. The lines are generated in a sequence based on the time in which a tweet occurs. The project explores digital news distribution in a temporal and spatial context through the social space of Twitter."
   ]
  },
  {
   "cell_type": "markdown",
   "metadata": {
    "slideshow": {
     "slide_type": "slide"
    }
   },
   "source": [
    "Twitter Sentiments\n",
    "=================\n",
    "\n",
    "![TwitterSentiments](http://www.csc.ncsu.edu/faculty/healey/tweet_viz/figs/tweet-viz-ex.png\n",
    " \"Twitter Sentiments\")\n",
    "\n",
    "* by Healey and Ramaswamy\n",
    "* http://www.csc.ncsu.edu/faculty/healey/tweet_viz/tweet_app/"
   ]
  },
  {
   "cell_type": "markdown",
   "metadata": {
    "slideshow": {
     "slide_type": "skip"
    }
   },
   "source": [
    "Type a keyword into the input field, then click the Query button. Recent tweets that contain your keyword are pulled from Twitter and visualized in the Sentiment tab as circles. Hover your mouse over a tweet or click on it to see its text."
   ]
  },
  {
   "cell_type": "markdown",
   "metadata": {
    "slideshow": {
     "slide_type": "slide"
    }
   },
   "source": [
    "Python data scraping\n",
    "====================\n",
    "\n",
    "* copyrights and permission:\n",
    "    - be careful and polite\n",
    "    - give credit\n",
    "    - care about media law\n",
    "    - don't be evil (no spam, overloading sites, etc.)"
   ]
  },
  {
   "cell_type": "markdown",
   "metadata": {
    "slideshow": {
     "slide_type": "slide"
    }
   },
   "source": [
    "Robots.txt\n",
    "==========\n",
    "\n",
    "![Robots.txt](images/robots_txt.jpg \"Robots.txt\")"
   ]
  },
  {
   "cell_type": "markdown",
   "metadata": {
    "slideshow": {
     "slide_type": "slide"
    }
   },
   "source": [
    "Robots.txt\n",
    "==========\n",
    "\n",
    "* specified by web site owner\n",
    "* gives instructions to web robots (aka your script)\n",
    "* is located at the top-level directory of the web server\n",
    "\n",
    "http://www.example.com/robots.txt\n",
    "\n",
    "If you want you can also have a look at\n",
    "\n",
    "http://google.com/robots.txt"
   ]
  },
  {
   "cell_type": "markdown",
   "metadata": {
    "slideshow": {
     "slide_type": "slide"
    }
   },
   "source": [
    "Robots.txt\n",
    "==========\n",
    "\n",
    "*** What does this one do? ***"
   ]
  },
  {
   "cell_type": "raw",
   "metadata": {},
   "source": [
    "\n",
    "User-agent: Google\n",
    "Disallow:\n",
    "\n",
    "User-agent: *\n",
    "Disallow: /"
   ]
  },
  {
   "cell_type": "markdown",
   "metadata": {
    "slideshow": {
     "slide_type": "skip"
    }
   },
   "source": [
    "Answer: This file allows google to search through everything on the server, while all others should stay completely away."
   ]
  },
  {
   "cell_type": "markdown",
   "metadata": {
    "slideshow": {
     "slide_type": "slide"
    }
   },
   "source": [
    "Things to consider:\n",
    "-------------------\n",
    "\n",
    "* can be just ignored\n",
    "* can be a security risk - *** Why? ***"
   ]
  },
  {
   "cell_type": "markdown",
   "metadata": {
    "slideshow": {
     "slide_type": "skip"
    }
   },
   "source": [
    "Answer: You are basically telling everybody who cares to look into the file where you have stored sensitive information."
   ]
  },
  {
   "cell_type": "markdown",
   "metadata": {
    "slideshow": {
     "slide_type": "slide"
    }
   },
   "source": [
    "Scraping with Python:\n",
    "=====================\n",
    "\n",
    "* scraping is all about HTML tags\n",
    "* bad news: \n",
    "    - need to learn about tags\n",
    "    - websites can be ugly"
   ]
  },
  {
   "cell_type": "markdown",
   "metadata": {
    "slideshow": {
     "slide_type": "slide"
    }
   },
   "source": [
    "HTML\n",
    "=====\n",
    "\n",
    "* HyperText Markup Language\n",
    "\n",
    "* standard for creating webpages\n",
    "\n",
    "* HTML tags \n",
    "    - have angle brackets\n",
    "    - typically come in pairs"
   ]
  },
  {
   "cell_type": "markdown",
   "metadata": {
    "slideshow": {
     "slide_type": "skip"
    }
   },
   "source": [
    "This is an example for a minimal webpage defined in HTML tags. The root tag is `<html>` and then you have the `<head>` tag. This part of the page typically includes the title of the page and might also have other meta information like the author or keywords that are important for search engines. The `<body>` tag marks the actual content of the page. You can play around with the `<h2>` tag trying different header levels. They range from 1 to 6. "
   ]
  },
  {
   "cell_type": "code",
   "execution_count": 40,
   "metadata": {
    "slideshow": {
     "slide_type": "slide"
    }
   },
   "outputs": [
    {
     "data": {
      "text/html": [
       "<!DOCTYPE html>\n",
       "<html>\n",
       "  <head>\n",
       "    <title>This is a title</title>\n",
       "  </head>\n",
       "  <body>\n",
       "    <h2> Test </h2>\n",
       "    <p>Hello world!</p>\n",
       "  </body>\n",
       "</html>"
      ],
      "text/plain": [
       "<IPython.core.display.HTML object>"
      ]
     },
     "execution_count": 40,
     "metadata": {},
     "output_type": "execute_result"
    }
   ],
   "source": [
    "htmlString = \"\"\"<!DOCTYPE html>\n",
    "<html>\n",
    "  <head>\n",
    "    <title>This is a title</title>\n",
    "  </head>\n",
    "  <body>\n",
    "    <h2> Test </h2>\n",
    "    <p>Hello world!</p>\n",
    "  </body>\n",
    "</html>\"\"\"\n",
    "\n",
    "htmlOutput = HTML(htmlString)\n",
    "htmlOutput"
   ]
  },
  {
   "cell_type": "markdown",
   "metadata": {
    "slideshow": {
     "slide_type": "slide"
    }
   },
   "source": [
    "Useful Tags\n",
    "===========\n",
    "\n",
    "* heading\n",
    "`<h1></h1> ... <h6></h6>`\n",
    "\n",
    "* paragraph\n",
    "`<p></p>` \n",
    "\n",
    "* line break\n",
    "`<br>` \n",
    "\n",
    "* link with attribute\n",
    "\n",
    "`<a href=\"http://www.example.com/\">An example link</a>`\n"
   ]
  },
  {
   "cell_type": "markdown",
   "metadata": {
    "slideshow": {
     "slide_type": "slide"
    }
   },
   "source": [
    "Scraping with Python:\n",
    "=====================\n",
    "\n",
    "* example of a beautifully simple webpage:\n",
    "\n",
    "http://www.crummy.com/software/BeautifulSoup"
   ]
  },
  {
   "cell_type": "markdown",
   "metadata": {
    "slideshow": {
     "slide_type": "slide"
    }
   },
   "source": [
    "Scraping with Python:\n",
    "=====================\n",
    "\n",
    "* good news: \n",
    "    - some browsers help\n",
    "    - look for: inspect element\n",
    "    - need only basic html\n",
    "    \n",
    "** Try 'Ctrl-Shift I' in Chrome **\n",
    "\n",
    "** Try 'Command-Option I' in Safari **\n"
   ]
  },
  {
   "cell_type": "markdown",
   "metadata": {
    "slideshow": {
     "slide_type": "slide"
    }
   },
   "source": [
    "Scraping with Python\n",
    "==================\n",
    "\n",
    "* different useful libraries:\n",
    "    - urllib\n",
    "    - beautifulsoup\n",
    "    - pattern\n",
    "    - soupy\n",
    "    - LXML\n",
    "    - ...\n",
    "    "
   ]
  },
  {
   "cell_type": "markdown",
   "metadata": {
    "slideshow": {
     "slide_type": "skip"
    }
   },
   "source": [
    "The following cell just defines a url as a string and then reads the data from that url using the `urllib` library. If you uncomment the print command you see that we got the whole HTML content of the page into the string variable source."
   ]
  },
  {
   "cell_type": "code",
   "execution_count": 41,
   "metadata": {
    "slideshow": {
     "slide_type": "slide"
    }
   },
   "outputs": [
    {
     "name": "stdout",
     "output_type": "stream",
     "text": [
      "<!DOCTYPE HTML PUBLIC \"-//W3C//DTD HTML 4.0 Transitional//EN\"\n",
      "\"http://www.w3.org/TR/REC-html40/transitional.dtd\">\n",
      "<html>\n",
      "<head>\n",
      "<meta http-equiv=\"Content-Type\" content=\"text/html; charset=utf-8\">\n",
      "<title>Beautiful Soup: We called him Tortoise because he taught us.</title>\n",
      "<link rev=\"made\" href=\"mailto:leonardr@segfault.org\">\n",
      "<link rel=\"stylesheet\" type=\"text/css\" href=\"/nb/themes/Default/nb.css\">\n",
      "<meta name=\"Description\" content=\"Beautiful Soup: a library designed for screen-scraping HTML and XML.\">\n",
      "<meta name=\"generator\" content=\"Markov Approximation 1.4 (module: leonardr)\">\n",
      "<meta name=\"author\" content=\"Leonard Richardson\">\n",
      "</head>\n",
      "<body bgcolor=\"white\" text=\"black\" link=\"blue\" vlink=\"660066\" alink=\"red\">\n",
      "<img align=\"right\" src=\"10.1.jpg\" width=\"250\"><br />\n",
      "\n",
      "<p>You didn't write that awful page. You're just trying to get some\n",
      "data out of it. Beautiful Soup is here to help. Since 2004, it's been\n",
      "saving programmers hours or days of work on quick-turnaround\n",
      "screen scraping projects.</p>\n",
      "\n",
      "<div align=\"center\">\n",
      "\n",
      "<a href=\"bs4/download/\"><h1>Beautiful Soup</h1></a>\n",
      "\n",
      "<p>\"A tremendous boon.\" -- Python411 Podcast</p>\n",
      "\n",
      "<p>[ <a href=\"#Download\">Download</a> | <a\n",
      "href=\"bs4/doc/\">Documentation</a> | <a href=\"#HallOfFame\">Hall of Fame</a> | <a href=\"https://code.launchpad.net/beautifulsoup\">Source</a> | <a href=\"https://groups.google.com/forum/?fromgroups#!forum/beautifulsoup\">Discussion group</a>  | <a href=\"zine/\">Zine</a> ]</p>\n",
      "\n",
      "<small>If Beautiful Soup has saved you a lot of time and money, one way to pay me back is to read <a href=\"zine/\"><i>Tool Safety</i></a>, a short zine I wrote about what I learned about software development from working on Beautiful Soup. Thanks!</small> </div>\n",
      "\n",
      "<p><i>If you have questions, send them to <a\n",
      "href=\"https://groups.google.com/forum/?fromgroups#!forum/beautifulsoup\">the discussion\n",
      "group</a>. If you find a bug, <a href=\"https://bugs.launchpad.net/beautifulsoup/\">file it</a>.</i></p>\n",
      "\n",
      "<p>Beautiful Soup is a Python library designed for quick turnaround\n",
      "projects like screen-scraping. Three features make it powerful:\n",
      "\n",
      "<ol>\n",
      "\n",
      "<li>Beautiful Soup provides a few simple methods and Pythonic idioms\n",
      "for navigating, searching, and modifying a parse tree: a toolkit for\n",
      "dissecting a document and extracting what you need. It doesn't take\n",
      "much code to write an application\n",
      "\n",
      "<li>Beautiful Soup automatically converts incoming documents to\n",
      "Unicode and outgoing documents to UTF-8. You don't have to think\n",
      "about encodings, unless the document doesn't specify an encoding and\n",
      "Beautiful Soup can't detect one. Then you just have to specify the\n",
      "original encoding.\n",
      "\n",
      "<li>Beautiful Soup sits on top of popular Python parsers like <a\n",
      "href=\"http://lxml.de/\">lxml</a> and <a\n",
      "href=\"http://code.google.com/p/html5lib/\">html5lib</a>, allowing you\n",
      "to try out different parsing strategies or trade speed for\n",
      "flexibility.\n",
      "\n",
      "</ol>\n",
      "\n",
      "<p>Beautiful Soup parses anything you give it, and does the tree\n",
      "traversal stuff for you. You can tell it \"Find all the links\", or\n",
      "\"Find all the links of class <tt>externalLink</tt>\", or \"Find all the\n",
      "links whose urls match \"foo.com\", or \"Find the table heading that's\n",
      "got bold text, then give me that text.\"\n",
      "\n",
      "<p>Valuable data that was once locked up in poorly-designed websites\n",
      "is now within your reach. Projects that would have taken hours take\n",
      "only minutes with Beautiful Soup.\n",
      "\n",
      "<p>Interested? <a href=\"bs4/doc/\">Read more.</a>\n",
      "\n",
      "<a name=\"Download\"><h2>Download Beautiful Soup</h2></a>\n",
      "\n",
      "<p>The current release is <a href=\"bs4/download/\">Beautiful Soup\n",
      "4.6.0</a> (May 7, 2017). You can install Beautiful Soup 4 with\n",
      "<code>pip install beautifulsoup4</code>.\n",
      "\n",
      "<p>In Debian and Ubuntu, Beautiful Soup is available as the\n",
      "<code>python-bs4</code> package (for Python 2) or the\n",
      "<code>python3-bs4</code> package (for Python 3). In Fedora it's\n",
      "available as the <code>python-beautifulsoup4</code> package.\n",
      "\n",
      "<p>Beautiful Soup is licensed under the MIT license, so you can also\n",
      "download the tarball, drop the <code>bs4/</code> directory into almost\n",
      "any Python application (or into your library path) and start using it\n",
      "immediately. (If you want to do this under Python 3, you will need to\n",
      "manually convert the code using <code>2to3</code>.)\n",
      "\n",
      "<p>Beautiful Soup 4 works on both Python 2 (2.7+) and Python 3.\n",
      "\n",
      "<h3>Beautiful Soup 3</h3>\n",
      "\n",
      "<p>Beautiful Soup 3 was the official release line of Beautiful Soup\n",
      "from May 2006 to March 2012. It is considered stable, and only\n",
      "critical security bugs will be fixed. <a\n",
      "href=\"http://www.crummy.com/software/BeautifulSoup/bs3/documentation.html\">Here's\n",
      "the Beautiful Soup 3 documentation.</a>\n",
      "\n",
      "<p>Beautiful Soup 3 works only under Python 2.x. It is licensed under\n",
      "the same license as Python itself.\n",
      "\n",
      "<p>The current release of Beautiful Soup 3 is <a\n",
      "href=\"download/3.x/BeautifulSoup-3.2.1.tar.gz\">3.2.1</a> (February 16,\n",
      "2012). You can install Beautiful Soup 3 with <code>pip install\n",
      "BeautifulSoup</code>. It's also available as\n",
      "<code>python-beautifulsoup</code> in Debian and Ubuntu, and as\n",
      "<code>python-BeautifulSoup</code> in Fedora.\n",
      "\n",
      "<p>You can also download the tarball and use\n",
      "<code>BeautifulSoup.py</code> in your project directly.\n",
      "\n",
      "\n",
      "<a name=\"HallOfFame\"><h2>Hall of Fame</h2></a>\n",
      "\n",
      "<p>Over the years, Beautiful Soup has been used in hundreds of\n",
      "different projects. There's no way I can list them all, but I want to\n",
      "highlight a few high-profile projects. Beautiful Soup isn't what makes\n",
      "these projects interesting, but it did make their completion easier:\n",
      "\n",
      "<ul>\n",
      "\n",
      "<li><a\n",
      " href=\"http://www.nytimes.com/2007/10/25/arts/design/25vide.html\">\"Movable\n",
      " Type\"</a>, a work of digital art on display in the lobby of the New\n",
      " York Times building, uses Beautiful Soup to scrape news feeds.\n",
      "\n",
      "<li>Reddit uses Beautiful Soup to <a\n",
      "href=\"https://github.com/reddit/reddit/blob/85f9cff3e2ab9bb8f19b96acd8da4ebacc079f04/r2/r2/lib/media.py\">parse\n",
      "a page that's been linked to and find a representative image</a>.\n",
      "\n",
      "<li>Alexander Harrowell uses Beautiful Soup to <a\n",
      " href=\"http://www.harrowell.org.uk/viktormap.html\">track the business\n",
      " activities</a> of an arms merchant.\n",
      "\n",
      "<li>The developers of Python itself used Beautiful Soup to <a\n",
      "href=\"http://svn.python.org/view/tracker/importer/\">migrate the Python\n",
      "bug tracker from Sourceforge to Roundup</a>.\n",
      "\n",
      "<li>The <a href=\"http://www2.ljworld.com/\">Lawrence Journal-World</a>\n",
      "uses Beautiful Soup to <A\n",
      "href=\"http://www.b-list.org/weblog/2010/nov/02/news-done-broke/\">gather\n",
      "statewide election results</a>.\n",
      "\n",
      "<li>The <a href=\"http://esrl.noaa.gov/gsd/fab/\">NOAA's Forecast\n",
      "Applications Branch</a> uses Beautiful Soup in <a\n",
      "href=\"http://laps.noaa.gov/topograbber/\">TopoGrabber</a>, a script for\n",
      "downloading \"high resolution USGS datasets.\"\n",
      "\n",
      "</ul>\n",
      "\n",
      "<p>If you've used Beautiful Soup in a project you'd like me to know\n",
      "about, please do send email to me or <a\n",
      "href=\"http://groups.google.com/group/beautifulsoup/\">the discussion\n",
      "group</a>.\n",
      "\n",
      "<h2>Development</h2>\n",
      "\n",
      "<p>Development happens at <a\n",
      "href=\"https://launchpad.net/beautifulsoup\">Launchpad</a>. You can <a\n",
      "href=\"https://code.launchpad.net/beautifulsoup/\">get the source\n",
      "code</a> or <a href=\"https://bugs.launchpad.net/beautifulsoup/\">file\n",
      "bugs</a>.<hr><table><tr><td valign=\"top\">\n",
      "<p>This document (<a href=\"/source/software/BeautifulSoup/index.bhtml\">source</a>) is part of Crummy, the webspace of <a href=\"/self/\">Leonard Richardson</a> (<a href=\"/self/contact.html\">contact information</a>). It was last modified on Friday, August 11 2017, 14:19:20 Nowhere Standard Time and last built on Wednesday, June 13 2018, 15:00:02 Nowhere Standard Time.</p><p><table class=\"licenseText\"><tr><td><a href=\"http://creativecommons.org/licenses/by-sa/2.0/\"><img border=\"0\" src=\"/nb//resources/img/somerights20.jpg\"></a></td><td valign=\"top\">Crummy is &copy; 1996-2018 Leonard Richardson. Unless otherwise noted, all text licensed under a <a href=\"http://creativecommons.org/licenses/by-sa/2.0/\">Creative Commons License</a>.</td></tr></table></span><!--<rdf:RDF xmlns=\"http://web.resource.org/cc/\" xmlns:dc=\"http://purl.org/dc/elements/1.1/\" xmlns:rdf=\"http://www.w3.org/1999/02/22-rdf-syntax-ns#\"><Work rdf:about=\"http://www.crummy.com/\"><dc:title>Crummy: The Site</dc:title><dc:rights><Agent><dc:title>Crummy: the Site</dc:title></Agent></dc:rights><dc:format>text/html</dc:format><license rdf:resource=http://creativecommons.org/licenses/by-sa/2.0//></Work><License rdf:about=\"http://creativecommons.org/licenses/by-sa/2.0/\"></License></rdf:RDF>--></p></td><td valign=top><p><b>Document tree:</b>\n",
      "<dl><dd><a href=\"http://www.crummy.com/\">http://www.crummy.com/</a><dl><dd><a href=\"http://www.crummy.com/software/\">software/</a><dl><dd><a href=\"http://www.crummy.com/software/BeautifulSoup/\">BeautifulSoup/</a></dl>\n",
      "</dl>\n",
      "</dl>\n",
      "\n",
      "\n",
      "Site Search:\n",
      "\n",
      "<form method=\"get\" action=\"/search/\">\n",
      "        <input type=\"text\" name=\"q\" maxlength=\"255\" value=\"\"></input>\n",
      "        </form>\n",
      "        </td>\n",
      "\n",
      "</tr>\n",
      "\n",
      "</table>\n",
      "</body>\n",
      "</html>\n",
      "\n"
     ]
    }
   ],
   "source": [
    "url = 'http://www.crummy.com/software/BeautifulSoup'\n",
    "source = urllib.urlopen(url).read()\n",
    "print source"
   ]
  },
  {
   "cell_type": "markdown",
   "metadata": {
    "slideshow": {
     "slide_type": "slide"
    }
   },
   "source": [
    "Quiz :\n",
    "======\n",
    "\n",
    "* Is the word 'Alice' mentioned on the beautiful soup homepage?\n",
    "* How often does the word 'Soup' occur on the site?\n",
    "    - hint: use `.count()`\n",
    "* At what index occurs the substring 'alien video games' ?\n",
    "    - hint: use `.find()`"
   ]
  },
  {
   "cell_type": "code",
   "execution_count": 46,
   "metadata": {
    "slideshow": {
     "slide_type": "slide"
    }
   },
   "outputs": [
    {
     "name": "stdout",
     "output_type": "stream",
     "text": [
      "False\n",
      "43\n",
      "-1\n",
      "\n",
      "\n"
     ]
    }
   ],
   "source": [
    "## is 'Alice' in source?\n",
    "print 'Alice' in source\n",
    "\n",
    "## count occurences of 'Soup'\n",
    "print source.count('Soup')\n",
    "\n",
    "## find index of 'alien video games'\n",
    "position =  source.find('alien video games')\n",
    "print position\n",
    "\n",
    "## quick test to see the substring in the source variable\n",
    "## you can access strings like lists\n",
    "print source[position:position + 20]\n",
    "\n",
    "## or the tidier version:\n",
    "print source[position:position + len('alien video games')]"
   ]
  },
  {
   "cell_type": "markdown",
   "metadata": {
    "slideshow": {
     "slide_type": "slide"
    }
   },
   "source": [
    "Beautiful Soup\n",
    "==============\n",
    "\n",
    "* designed to make your life easier\n",
    "* many good functions for parsing html code"
   ]
  },
  {
   "cell_type": "markdown",
   "metadata": {
    "slideshow": {
     "slide_type": "slide"
    }
   },
   "source": [
    "Some examples\n",
    "=============\n"
   ]
  },
  {
   "cell_type": "code",
   "execution_count": 48,
   "metadata": {
    "scrolled": true
   },
   "outputs": [
    {
     "name": "stdout",
     "output_type": "stream",
     "text": [
      "<!DOCTYPE HTML PUBLIC \"-//W3C//DTD HTML 4.0 Transitional//EN\" \"http://www.w3.org/TR/REC-html40/transitional.dtd\">\n",
      "<html>\n",
      " <head>\n",
      "  <meta content=\"text/html; charset=utf-8\" http-equiv=\"Content-Type\"/>\n",
      "  <title>\n",
      "   Beautiful Soup: We called him Tortoise because he taught us.\n",
      "  </title>\n",
      "  <link href=\"mailto:leonardr@segfault.org\" rev=\"made\"/>\n",
      "  <link href=\"/nb/themes/Default/nb.css\" rel=\"stylesheet\" type=\"text/css\"/>\n",
      "  <meta content=\"Beautiful Soup: a library designed for screen-scraping HTML and XML.\" name=\"Description\"/>\n",
      "  <meta content=\"Markov Approximation 1.4 (module: leonardr)\" name=\"generator\"/>\n",
      "  <meta content=\"Leonard Richardson\" name=\"author\"/>\n",
      " </head>\n",
      " <body alink=\"red\" bgcolor=\"white\" link=\"blue\" text=\"black\" vlink=\"660066\">\n",
      "  <img align=\"right\" src=\"10.1.jpg\" width=\"250\"/>\n",
      "  <br/>\n",
      "  <p>\n",
      "   You didn't write that awful page. You're just trying to get some\n",
      "data out of it. Beautiful Soup is here to help. Since 2004, it's been\n",
      "saving programmers hours or days of work on quick-turnaround\n",
      "screen scraping projects.\n",
      "  </p>\n",
      "  <div align=\"center\">\n",
      "   <a href=\"bs4/download/\">\n",
      "    <h1>\n",
      "     Beautiful Soup\n",
      "    </h1>\n",
      "   </a>\n",
      "   <p>\n",
      "    \"A tremendous boon.\" -- Python411 Podcast\n",
      "   </p>\n",
      "   <p>\n",
      "    [\n",
      "    <a href=\"#Download\">\n",
      "     Download\n",
      "    </a>\n",
      "    |\n",
      "    <a href=\"bs4/doc/\">\n",
      "     Documentation\n",
      "    </a>\n",
      "    |\n",
      "    <a href=\"#HallOfFame\">\n",
      "     Hall of Fame\n",
      "    </a>\n",
      "    |\n",
      "    <a href=\"https://code.launchpad.net/beautifulsoup\">\n",
      "     Source\n",
      "    </a>\n",
      "    |\n",
      "    <a href=\"https://groups.google.com/forum/?fromgroups#!forum/beautifulsoup\">\n",
      "     Discussion group\n",
      "    </a>\n",
      "    |\n",
      "    <a href=\"zine/\">\n",
      "     Zine\n",
      "    </a>\n",
      "    ]\n",
      "   </p>\n",
      "   <small>\n",
      "    If Beautiful Soup has saved you a lot of time and money, one way to pay me back is to read\n",
      "    <a href=\"zine/\">\n",
      "     <i>\n",
      "      Tool Safety\n",
      "     </i>\n",
      "    </a>\n",
      "    , a short zine I wrote about what I learned about software development from working on Beautiful Soup. Thanks!\n",
      "   </small>\n",
      "  </div>\n",
      "  <p>\n",
      "   <i>\n",
      "    If you have questions, send them to\n",
      "    <a href=\"https://groups.google.com/forum/?fromgroups#!forum/beautifulsoup\">\n",
      "     the discussion\n",
      "group\n",
      "    </a>\n",
      "    . If you find a bug,\n",
      "    <a href=\"https://bugs.launchpad.net/beautifulsoup/\">\n",
      "     file it\n",
      "    </a>\n",
      "    .\n",
      "   </i>\n",
      "  </p>\n",
      "  <p>\n",
      "   Beautiful Soup is a Python library designed for quick turnaround\n",
      "projects like screen-scraping. Three features make it powerful:\n",
      "  </p>\n",
      "  <ol>\n",
      "   <li>\n",
      "    Beautiful Soup provides a few simple methods and Pythonic idioms\n",
      "for navigating, searching, and modifying a parse tree: a toolkit for\n",
      "dissecting a document and extracting what you need. It doesn't take\n",
      "much code to write an application\n",
      "   </li>\n",
      "   <li>\n",
      "    Beautiful Soup automatically converts incoming documents to\n",
      "Unicode and outgoing documents to UTF-8. You don't have to think\n",
      "about encodings, unless the document doesn't specify an encoding and\n",
      "Beautiful Soup can't detect one. Then you just have to specify the\n",
      "original encoding.\n",
      "   </li>\n",
      "   <li>\n",
      "    Beautiful Soup sits on top of popular Python parsers like\n",
      "    <a href=\"http://lxml.de/\">\n",
      "     lxml\n",
      "    </a>\n",
      "    and\n",
      "    <a href=\"http://code.google.com/p/html5lib/\">\n",
      "     html5lib\n",
      "    </a>\n",
      "    , allowing you\n",
      "to try out different parsing strategies or trade speed for\n",
      "flexibility.\n",
      "   </li>\n",
      "  </ol>\n",
      "  <p>\n",
      "   Beautiful Soup parses anything you give it, and does the tree\n",
      "traversal stuff for you. You can tell it \"Find all the links\", or\n",
      "\"Find all the links of class\n",
      "   <tt>\n",
      "    externalLink\n",
      "   </tt>\n",
      "   \", or \"Find all the\n",
      "links whose urls match \"foo.com\", or \"Find the table heading that's\n",
      "got bold text, then give me that text.\"\n",
      "  </p>\n",
      "  <p>\n",
      "   Valuable data that was once locked up in poorly-designed websites\n",
      "is now within your reach. Projects that would have taken hours take\n",
      "only minutes with Beautiful Soup.\n",
      "  </p>\n",
      "  <p>\n",
      "   Interested?\n",
      "   <a href=\"bs4/doc/\">\n",
      "    Read more.\n",
      "   </a>\n",
      "   <a name=\"Download\">\n",
      "    <h2>\n",
      "     Download Beautiful Soup\n",
      "    </h2>\n",
      "   </a>\n",
      "  </p>\n",
      "  <p>\n",
      "   The current release is\n",
      "   <a href=\"bs4/download/\">\n",
      "    Beautiful Soup\n",
      "4.6.0\n",
      "   </a>\n",
      "   (May 7, 2017). You can install Beautiful Soup 4 with\n",
      "   <code>\n",
      "    pip install beautifulsoup4\n",
      "   </code>\n",
      "   .\n",
      "  </p>\n",
      "  <p>\n",
      "   In Debian and Ubuntu, Beautiful Soup is available as the\n",
      "   <code>\n",
      "    python-bs4\n",
      "   </code>\n",
      "   package (for Python 2) or the\n",
      "   <code>\n",
      "    python3-bs4\n",
      "   </code>\n",
      "   package (for Python 3). In Fedora it's\n",
      "available as the\n",
      "   <code>\n",
      "    python-beautifulsoup4\n",
      "   </code>\n",
      "   package.\n",
      "  </p>\n",
      "  <p>\n",
      "   Beautiful Soup is licensed under the MIT license, so you can also\n",
      "download the tarball, drop the\n",
      "   <code>\n",
      "    bs4/\n",
      "   </code>\n",
      "   directory into almost\n",
      "any Python application (or into your library path) and start using it\n",
      "immediately. (If you want to do this under Python 3, you will need to\n",
      "manually convert the code using\n",
      "   <code>\n",
      "    2to3\n",
      "   </code>\n",
      "   .)\n",
      "  </p>\n",
      "  <p>\n",
      "   Beautiful Soup 4 works on both Python 2 (2.7+) and Python 3.\n",
      "  </p>\n",
      "  <h3>\n",
      "   Beautiful Soup 3\n",
      "  </h3>\n",
      "  <p>\n",
      "   Beautiful Soup 3 was the official release line of Beautiful Soup\n",
      "from May 2006 to March 2012. It is considered stable, and only\n",
      "critical security bugs will be fixed.\n",
      "   <a href=\"http://www.crummy.com/software/BeautifulSoup/bs3/documentation.html\">\n",
      "    Here's\n",
      "the Beautiful Soup 3 documentation.\n",
      "   </a>\n",
      "  </p>\n",
      "  <p>\n",
      "   Beautiful Soup 3 works only under Python 2.x. It is licensed under\n",
      "the same license as Python itself.\n",
      "  </p>\n",
      "  <p>\n",
      "   The current release of Beautiful Soup 3 is\n",
      "   <a href=\"download/3.x/BeautifulSoup-3.2.1.tar.gz\">\n",
      "    3.2.1\n",
      "   </a>\n",
      "   (February 16,\n",
      "2012). You can install Beautiful Soup 3 with\n",
      "   <code>\n",
      "    pip install\n",
      "BeautifulSoup\n",
      "   </code>\n",
      "   . It's also available as\n",
      "   <code>\n",
      "    python-beautifulsoup\n",
      "   </code>\n",
      "   in Debian and Ubuntu, and as\n",
      "   <code>\n",
      "    python-BeautifulSoup\n",
      "   </code>\n",
      "   in Fedora.\n",
      "  </p>\n",
      "  <p>\n",
      "   You can also download the tarball and use\n",
      "   <code>\n",
      "    BeautifulSoup.py\n",
      "   </code>\n",
      "   in your project directly.\n",
      "   <a name=\"HallOfFame\">\n",
      "    <h2>\n",
      "     Hall of Fame\n",
      "    </h2>\n",
      "   </a>\n",
      "  </p>\n",
      "  <p>\n",
      "   Over the years, Beautiful Soup has been used in hundreds of\n",
      "different projects. There's no way I can list them all, but I want to\n",
      "highlight a few high-profile projects. Beautiful Soup isn't what makes\n",
      "these projects interesting, but it did make their completion easier:\n",
      "  </p>\n",
      "  <ul>\n",
      "   <li>\n",
      "    <a href=\"http://www.nytimes.com/2007/10/25/arts/design/25vide.html\">\n",
      "     \"Movable\n",
      " Type\"\n",
      "    </a>\n",
      "    , a work of digital art on display in the lobby of the New\n",
      " York Times building, uses Beautiful Soup to scrape news feeds.\n",
      "   </li>\n",
      "   <li>\n",
      "    Reddit uses Beautiful Soup to\n",
      "    <a href=\"https://github.com/reddit/reddit/blob/85f9cff3e2ab9bb8f19b96acd8da4ebacc079f04/r2/r2/lib/media.py\">\n",
      "     parse\n",
      "a page that's been linked to and find a representative image\n",
      "    </a>\n",
      "    .\n",
      "   </li>\n",
      "   <li>\n",
      "    Alexander Harrowell uses Beautiful Soup to\n",
      "    <a href=\"http://www.harrowell.org.uk/viktormap.html\">\n",
      "     track the business\n",
      " activities\n",
      "    </a>\n",
      "    of an arms merchant.\n",
      "   </li>\n",
      "   <li>\n",
      "    The developers of Python itself used Beautiful Soup to\n",
      "    <a href=\"http://svn.python.org/view/tracker/importer/\">\n",
      "     migrate the Python\n",
      "bug tracker from Sourceforge to Roundup\n",
      "    </a>\n",
      "    .\n",
      "   </li>\n",
      "   <li>\n",
      "    The\n",
      "    <a href=\"http://www2.ljworld.com/\">\n",
      "     Lawrence Journal-World\n",
      "    </a>\n",
      "    uses Beautiful Soup to\n",
      "    <a href=\"http://www.b-list.org/weblog/2010/nov/02/news-done-broke/\">\n",
      "     gather\n",
      "statewide election results\n",
      "    </a>\n",
      "    .\n",
      "   </li>\n",
      "   <li>\n",
      "    The\n",
      "    <a href=\"http://esrl.noaa.gov/gsd/fab/\">\n",
      "     NOAA's Forecast\n",
      "Applications Branch\n",
      "    </a>\n",
      "    uses Beautiful Soup in\n",
      "    <a href=\"http://laps.noaa.gov/topograbber/\">\n",
      "     TopoGrabber\n",
      "    </a>\n",
      "    , a script for\n",
      "downloading \"high resolution USGS datasets.\"\n",
      "   </li>\n",
      "  </ul>\n",
      "  <p>\n",
      "   If you've used Beautiful Soup in a project you'd like me to know\n",
      "about, please do send email to me or\n",
      "   <a href=\"http://groups.google.com/group/beautifulsoup/\">\n",
      "    the discussion\n",
      "group\n",
      "   </a>\n",
      "   .\n",
      "  </p>\n",
      "  <h2>\n",
      "   Development\n",
      "  </h2>\n",
      "  <p>\n",
      "   Development happens at\n",
      "   <a href=\"https://launchpad.net/beautifulsoup\">\n",
      "    Launchpad\n",
      "   </a>\n",
      "   . You can\n",
      "   <a href=\"https://code.launchpad.net/beautifulsoup/\">\n",
      "    get the source\n",
      "code\n",
      "   </a>\n",
      "   or\n",
      "   <a href=\"https://bugs.launchpad.net/beautifulsoup/\">\n",
      "    file\n",
      "bugs\n",
      "   </a>\n",
      "   .\n",
      "  </p>\n",
      "  <hr/>\n",
      "  <table>\n",
      "   <tr>\n",
      "    <td valign=\"top\">\n",
      "     <p>\n",
      "      This document (\n",
      "      <a href=\"/source/software/BeautifulSoup/index.bhtml\">\n",
      "       source\n",
      "      </a>\n",
      "      ) is part of Crummy, the webspace of\n",
      "      <a href=\"/self/\">\n",
      "       Leonard Richardson\n",
      "      </a>\n",
      "      (\n",
      "      <a href=\"/self/contact.html\">\n",
      "       contact information\n",
      "      </a>\n",
      "      ). It was last modified on Friday, August 11 2017, 14:19:20 Nowhere Standard Time and last built on Wednesday, June 13 2018, 15:00:02 Nowhere Standard Time.\n",
      "     </p>\n",
      "     <p>\n",
      "     </p>\n",
      "     <table class=\"licenseText\">\n",
      "      <tr>\n",
      "       <td>\n",
      "        <a href=\"http://creativecommons.org/licenses/by-sa/2.0/\">\n",
      "         <img border=\"0\" src=\"/nb//resources/img/somerights20.jpg\"/>\n",
      "        </a>\n",
      "       </td>\n",
      "       <td valign=\"top\">\n",
      "        Crummy is © 1996-2018 Leonard Richardson. Unless otherwise noted, all text licensed under a\n",
      "        <a href=\"http://creativecommons.org/licenses/by-sa/2.0/\">\n",
      "         Creative Commons License\n",
      "        </a>\n",
      "        .\n",
      "       </td>\n",
      "      </tr>\n",
      "     </table>\n",
      "     <!--<rdf:RDF xmlns=\"http://web.resource.org/cc/\" xmlns:dc=\"http://purl.org/dc/elements/1.1/\" xmlns:rdf=\"http://www.w3.org/1999/02/22-rdf-syntax-ns#\"><Work rdf:about=\"http://www.crummy.com/\"><dc:title>Crummy: The Site</dc:title><dc:rights><Agent><dc:title>Crummy: the Site</dc:title></Agent></dc:rights><dc:format>text/html</dc:format><license rdf:resource=http://creativecommons.org/licenses/by-sa/2.0//></Work><License rdf:about=\"http://creativecommons.org/licenses/by-sa/2.0/\"></License></rdf:RDF>-->\n",
      "    </td>\n",
      "    <td valign=\"top\">\n",
      "     <p>\n",
      "      <b>\n",
      "       Document tree:\n",
      "      </b>\n",
      "     </p>\n",
      "     <dl>\n",
      "      <dd>\n",
      "       <a href=\"http://www.crummy.com/\">\n",
      "        http://www.crummy.com/\n",
      "       </a>\n",
      "       <dl>\n",
      "        <dd>\n",
      "         <a href=\"http://www.crummy.com/software/\">\n",
      "          software/\n",
      "         </a>\n",
      "         <dl>\n",
      "          <dd>\n",
      "           <a href=\"http://www.crummy.com/software/BeautifulSoup/\">\n",
      "            BeautifulSoup/\n",
      "           </a>\n",
      "          </dd>\n",
      "         </dl>\n",
      "        </dd>\n",
      "       </dl>\n",
      "      </dd>\n",
      "     </dl>\n",
      "     Site Search:\n",
      "     <form action=\"/search/\" method=\"get\">\n",
      "      <input maxlength=\"255\" name=\"q\" type=\"text\" value=\"\"/>\n",
      "     </form>\n",
      "    </td>\n",
      "   </tr>\n",
      "  </table>\n",
      " </body>\n",
      "</html>\n",
      "\n"
     ]
    },
    {
     "data": {
      "text/plain": [
       "[<a href=\"bs4/download/\"><h1>Beautiful Soup</h1></a>,\n",
       " <a href=\"#Download\">Download</a>,\n",
       " <a href=\"bs4/doc/\">Documentation</a>,\n",
       " <a href=\"#HallOfFame\">Hall of Fame</a>,\n",
       " <a href=\"https://code.launchpad.net/beautifulsoup\">Source</a>,\n",
       " <a href=\"https://groups.google.com/forum/?fromgroups#!forum/beautifulsoup\">Discussion group</a>,\n",
       " <a href=\"zine/\">Zine</a>,\n",
       " <a href=\"zine/\"><i>Tool Safety</i></a>,\n",
       " <a href=\"https://groups.google.com/forum/?fromgroups#!forum/beautifulsoup\">the discussion\\ngroup</a>,\n",
       " <a href=\"https://bugs.launchpad.net/beautifulsoup/\">file it</a>,\n",
       " <a href=\"http://lxml.de/\">lxml</a>,\n",
       " <a href=\"http://code.google.com/p/html5lib/\">html5lib</a>,\n",
       " <a href=\"bs4/doc/\">Read more.</a>,\n",
       " <a name=\"Download\"><h2>Download Beautiful Soup</h2></a>,\n",
       " <a href=\"bs4/download/\">Beautiful Soup\\n4.6.0</a>,\n",
       " <a href=\"http://www.crummy.com/software/BeautifulSoup/bs3/documentation.html\">Here's\\nthe Beautiful Soup 3 documentation.</a>,\n",
       " <a href=\"download/3.x/BeautifulSoup-3.2.1.tar.gz\">3.2.1</a>,\n",
       " <a name=\"HallOfFame\"><h2>Hall of Fame</h2></a>,\n",
       " <a href=\"http://www.nytimes.com/2007/10/25/arts/design/25vide.html\">\"Movable\\n Type\"</a>,\n",
       " <a href=\"https://github.com/reddit/reddit/blob/85f9cff3e2ab9bb8f19b96acd8da4ebacc079f04/r2/r2/lib/media.py\">parse\\na page that's been linked to and find a representative image</a>,\n",
       " <a href=\"http://www.harrowell.org.uk/viktormap.html\">track the business\\n activities</a>,\n",
       " <a href=\"http://svn.python.org/view/tracker/importer/\">migrate the Python\\nbug tracker from Sourceforge to Roundup</a>,\n",
       " <a href=\"http://www2.ljworld.com/\">Lawrence Journal-World</a>,\n",
       " <a href=\"http://www.b-list.org/weblog/2010/nov/02/news-done-broke/\">gather\\nstatewide election results</a>,\n",
       " <a href=\"http://esrl.noaa.gov/gsd/fab/\">NOAA's Forecast\\nApplications Branch</a>,\n",
       " <a href=\"http://laps.noaa.gov/topograbber/\">TopoGrabber</a>,\n",
       " <a href=\"http://groups.google.com/group/beautifulsoup/\">the discussion\\ngroup</a>,\n",
       " <a href=\"https://launchpad.net/beautifulsoup\">Launchpad</a>,\n",
       " <a href=\"https://code.launchpad.net/beautifulsoup/\">get the source\\ncode</a>,\n",
       " <a href=\"https://bugs.launchpad.net/beautifulsoup/\">file\\nbugs</a>,\n",
       " <a href=\"/source/software/BeautifulSoup/index.bhtml\">source</a>,\n",
       " <a href=\"/self/\">Leonard Richardson</a>,\n",
       " <a href=\"/self/contact.html\">contact information</a>,\n",
       " <a href=\"http://creativecommons.org/licenses/by-sa/2.0/\"><img border=\"0\" src=\"/nb//resources/img/somerights20.jpg\"/></a>,\n",
       " <a href=\"http://creativecommons.org/licenses/by-sa/2.0/\">Creative Commons License</a>,\n",
       " <a href=\"http://www.crummy.com/\">http://www.crummy.com/</a>,\n",
       " <a href=\"http://www.crummy.com/software/\">software/</a>,\n",
       " <a href=\"http://www.crummy.com/software/BeautifulSoup/\">BeautifulSoup/</a>]"
      ]
     },
     "execution_count": 48,
     "metadata": {},
     "output_type": "execute_result"
    }
   ],
   "source": [
    "## get bs4 object\n",
    "soup = bs4.BeautifulSoup(source)\n",
    " \n",
    "## compare the two print statements\n",
    "# print soup\n",
    "print soup.prettify()\n",
    "\n",
    "## show how to find all a tags\n",
    "soup.findAll('a')\n",
    "\n",
    "## ***Why does this not work? ***\n",
    "#soup.findAll('Soup')"
   ]
  },
  {
   "cell_type": "markdown",
   "metadata": {
    "slideshow": {
     "slide_type": "skip"
    }
   },
   "source": [
    "The last command only returns an empty list, because `Soup` is not an HTML tag. It is just a string that occours in the webpage."
   ]
  },
  {
   "cell_type": "markdown",
   "metadata": {
    "slideshow": {
     "slide_type": "slide"
    }
   },
   "source": [
    "Some examples\n",
    "============="
   ]
  },
  {
   "cell_type": "code",
   "execution_count": 30,
   "metadata": {},
   "outputs": [
    {
     "data": {
      "text/plain": [
       "['bs4/download/',\n",
       " '#Download',\n",
       " 'bs4/doc/',\n",
       " '#HallOfFame',\n",
       " 'https://code.launchpad.net/beautifulsoup',\n",
       " 'https://groups.google.com/forum/?fromgroups#!forum/beautifulsoup',\n",
       " 'zine/',\n",
       " 'zine/',\n",
       " 'https://groups.google.com/forum/?fromgroups#!forum/beautifulsoup',\n",
       " 'https://bugs.launchpad.net/beautifulsoup/',\n",
       " 'http://lxml.de/',\n",
       " 'http://code.google.com/p/html5lib/',\n",
       " 'bs4/doc/',\n",
       " None,\n",
       " 'bs4/download/',\n",
       " 'http://www.crummy.com/software/BeautifulSoup/bs3/documentation.html',\n",
       " 'download/3.x/BeautifulSoup-3.2.1.tar.gz',\n",
       " None,\n",
       " 'http://www.nytimes.com/2007/10/25/arts/design/25vide.html',\n",
       " 'https://github.com/reddit/reddit/blob/85f9cff3e2ab9bb8f19b96acd8da4ebacc079f04/r2/r2/lib/media.py',\n",
       " 'http://www.harrowell.org.uk/viktormap.html',\n",
       " 'http://svn.python.org/view/tracker/importer/',\n",
       " 'http://www2.ljworld.com/',\n",
       " 'http://www.b-list.org/weblog/2010/nov/02/news-done-broke/',\n",
       " 'http://esrl.noaa.gov/gsd/fab/',\n",
       " 'http://laps.noaa.gov/topograbber/',\n",
       " 'http://groups.google.com/group/beautifulsoup/',\n",
       " 'https://launchpad.net/beautifulsoup',\n",
       " 'https://code.launchpad.net/beautifulsoup/',\n",
       " 'https://bugs.launchpad.net/beautifulsoup/',\n",
       " '/source/software/BeautifulSoup/index.bhtml',\n",
       " '/self/',\n",
       " '/self/contact.html',\n",
       " 'http://creativecommons.org/licenses/by-sa/2.0/',\n",
       " 'http://creativecommons.org/licenses/by-sa/2.0/',\n",
       " 'http://www.crummy.com/',\n",
       " 'http://www.crummy.com/software/',\n",
       " 'http://www.crummy.com/software/BeautifulSoup/']"
      ]
     },
     "execution_count": 30,
     "metadata": {},
     "output_type": "execute_result"
    }
   ],
   "source": [
    "## get attribute value from an element:\n",
    "## find tag: this only returns the first occurrence, not all tags in the string\n",
    "first_tag = soup.find('a')\n",
    "\n",
    "## get attribute `href`\n",
    "first_tag.get('href')\n",
    "\n",
    "## get all links in the page\n",
    "link_list = [l.get('href') for l in soup.findAll('a')]\n",
    "link_list"
   ]
  },
  {
   "cell_type": "code",
   "execution_count": 56,
   "metadata": {
    "slideshow": {
     "slide_type": "slide"
    }
   },
   "outputs": [
    {
     "ename": "TypeError",
     "evalue": "'NoneType' object has no attribute '__getitem__'",
     "output_type": "error",
     "traceback": [
      "\u001b[0;31m---------------------------------------------------------------------------\u001b[0m",
      "\u001b[0;31mTypeError\u001b[0m                                 Traceback (most recent call last)",
      "\u001b[0;32m<ipython-input-56-0aee102cbae1>\u001b[0m in \u001b[0;36m<module>\u001b[0;34m()\u001b[0m\n\u001b[1;32m      6\u001b[0m \u001b[0;31m# if it starts with 'http' we are happy\u001b[0m\u001b[0;34m\u001b[0m\u001b[0;34m\u001b[0m\u001b[0m\n\u001b[1;32m      7\u001b[0m \u001b[0;32mfor\u001b[0m \u001b[0ml\u001b[0m \u001b[0;32min\u001b[0m \u001b[0mlink_list\u001b[0m\u001b[0;34m:\u001b[0m\u001b[0;34m\u001b[0m\u001b[0m\n\u001b[0;32m----> 8\u001b[0;31m     \u001b[0;32mif\u001b[0m \u001b[0ml\u001b[0m\u001b[0;34m[\u001b[0m\u001b[0;34m:\u001b[0m\u001b[0;36m4\u001b[0m\u001b[0;34m]\u001b[0m \u001b[0;34m==\u001b[0m \u001b[0;34m'http'\u001b[0m\u001b[0;34m:\u001b[0m\u001b[0;34m\u001b[0m\u001b[0m\n\u001b[0m\u001b[1;32m      9\u001b[0m         \u001b[0mexternal_links\u001b[0m\u001b[0;34m.\u001b[0m\u001b[0mappend\u001b[0m\u001b[0;34m(\u001b[0m\u001b[0ml\u001b[0m\u001b[0;34m)\u001b[0m\u001b[0;34m\u001b[0m\u001b[0m\n\u001b[1;32m     10\u001b[0m \u001b[0;34m\u001b[0m\u001b[0m\n",
      "\u001b[0;31mTypeError\u001b[0m: 'NoneType' object has no attribute '__getitem__'"
     ]
    }
   ],
   "source": [
    "## filter all external links\n",
    "# create an empty list to collect the valid links\n",
    "external_links = []\n",
    "\n",
    "# write a loop to filter the links\n",
    "# if it starts with 'http' we are happy\n",
    "for l in link_list:\n",
    "    if l[:4] == 'http':\n",
    "        external_links.append(l)\n",
    "\n",
    "# this throws an error! It says something about 'NoneType'"
   ]
  },
  {
   "cell_type": "code",
   "execution_count": 57,
   "metadata": {
    "slideshow": {
     "slide_type": "slide"
    }
   },
   "outputs": [
    {
     "data": {
      "text/plain": [
       "['bs4/download/',\n",
       " '#Download',\n",
       " 'bs4/doc/',\n",
       " '#HallOfFame',\n",
       " 'https://code.launchpad.net/beautifulsoup',\n",
       " 'https://groups.google.com/forum/?fromgroups#!forum/beautifulsoup',\n",
       " 'zine/',\n",
       " 'zine/',\n",
       " 'https://groups.google.com/forum/?fromgroups#!forum/beautifulsoup',\n",
       " 'https://bugs.launchpad.net/beautifulsoup/',\n",
       " 'http://lxml.de/',\n",
       " 'http://code.google.com/p/html5lib/',\n",
       " 'bs4/doc/',\n",
       " None,\n",
       " 'bs4/download/',\n",
       " 'http://www.crummy.com/software/BeautifulSoup/bs3/documentation.html',\n",
       " 'download/3.x/BeautifulSoup-3.2.1.tar.gz',\n",
       " None,\n",
       " 'http://www.nytimes.com/2007/10/25/arts/design/25vide.html',\n",
       " 'https://github.com/reddit/reddit/blob/85f9cff3e2ab9bb8f19b96acd8da4ebacc079f04/r2/r2/lib/media.py',\n",
       " 'http://www.harrowell.org.uk/viktormap.html',\n",
       " 'http://svn.python.org/view/tracker/importer/',\n",
       " 'http://www2.ljworld.com/',\n",
       " 'http://www.b-list.org/weblog/2010/nov/02/news-done-broke/',\n",
       " 'http://esrl.noaa.gov/gsd/fab/',\n",
       " 'http://laps.noaa.gov/topograbber/',\n",
       " 'http://groups.google.com/group/beautifulsoup/',\n",
       " 'https://launchpad.net/beautifulsoup',\n",
       " 'https://code.launchpad.net/beautifulsoup/',\n",
       " 'https://bugs.launchpad.net/beautifulsoup/',\n",
       " '/source/software/BeautifulSoup/index.bhtml',\n",
       " '/self/',\n",
       " '/self/contact.html',\n",
       " 'http://creativecommons.org/licenses/by-sa/2.0/',\n",
       " 'http://creativecommons.org/licenses/by-sa/2.0/',\n",
       " 'http://www.crummy.com/',\n",
       " 'http://www.crummy.com/software/',\n",
       " 'http://www.crummy.com/software/BeautifulSoup/']"
      ]
     },
     "execution_count": 57,
     "metadata": {},
     "output_type": "execute_result"
    }
   ],
   "source": [
    "# lets investigate. Have a close look at the link_list:\n",
    "link_list\n",
    "\n",
    "# Seems that there are None elements!\n",
    "# Let's verify\n",
    "#print sum([l is None for l in link_list])\n",
    "\n",
    "# So there are two elements in the list that are None!"
   ]
  },
  {
   "cell_type": "code",
   "execution_count": 58,
   "metadata": {
    "slideshow": {
     "slide_type": "slide"
    }
   },
   "outputs": [
    {
     "data": {
      "text/plain": [
       "['https://code.launchpad.net/beautifulsoup',\n",
       " 'https://groups.google.com/forum/?fromgroups#!forum/beautifulsoup',\n",
       " 'https://groups.google.com/forum/?fromgroups#!forum/beautifulsoup',\n",
       " 'https://bugs.launchpad.net/beautifulsoup/',\n",
       " 'http://lxml.de/',\n",
       " 'http://code.google.com/p/html5lib/',\n",
       " 'http://www.crummy.com/software/BeautifulSoup/bs3/documentation.html',\n",
       " 'http://www.nytimes.com/2007/10/25/arts/design/25vide.html',\n",
       " 'https://github.com/reddit/reddit/blob/85f9cff3e2ab9bb8f19b96acd8da4ebacc079f04/r2/r2/lib/media.py',\n",
       " 'http://www.harrowell.org.uk/viktormap.html',\n",
       " 'http://svn.python.org/view/tracker/importer/',\n",
       " 'http://www2.ljworld.com/',\n",
       " 'http://www.b-list.org/weblog/2010/nov/02/news-done-broke/',\n",
       " 'http://esrl.noaa.gov/gsd/fab/',\n",
       " 'http://laps.noaa.gov/topograbber/',\n",
       " 'http://groups.google.com/group/beautifulsoup/',\n",
       " 'https://launchpad.net/beautifulsoup',\n",
       " 'https://code.launchpad.net/beautifulsoup/',\n",
       " 'https://bugs.launchpad.net/beautifulsoup/',\n",
       " 'http://creativecommons.org/licenses/by-sa/2.0/',\n",
       " 'http://creativecommons.org/licenses/by-sa/2.0/',\n",
       " 'http://www.crummy.com/',\n",
       " 'http://www.crummy.com/software/',\n",
       " 'http://www.crummy.com/software/BeautifulSoup/']"
      ]
     },
     "execution_count": 58,
     "metadata": {},
     "output_type": "execute_result"
    }
   ],
   "source": [
    "# Let's filter those objects out in the for loop\n",
    "external_links = []\n",
    "\n",
    "# write a loop to filter the links\n",
    "# if it is not None and starts with 'http' we are happy\n",
    "for l in link_list:\n",
    "    if l is not None and l[:4] == 'http':\n",
    "        external_links.append(l)\n",
    "        \n",
    "external_links"
   ]
  },
  {
   "cell_type": "markdown",
   "metadata": {
    "slideshow": {
     "slide_type": "skip"
    }
   },
   "source": [
    "Note: The above `if` condition works because of lazy evaluation in Python. The `and` statement becomes `False` if the first part is `False`, so there is no need to ever evaluate the second part. Thus a `None` entry in the list gets never asked about its first four characters. "
   ]
  },
  {
   "cell_type": "markdown",
   "metadata": {},
   "source": [
    "# Amaze!"
   ]
  },
  {
   "cell_type": "code",
   "execution_count": null,
   "metadata": {
    "slideshow": {
     "slide_type": "slide"
    }
   },
   "outputs": [],
   "source": [
    "# and we can put this in a list comprehension as well, it almost reads like \n",
    "# a sentence.\n",
    "\n",
    "[l for l in link_list if l is not None and l.startswith('http')]"
   ]
  },
  {
   "cell_type": "markdown",
   "metadata": {
    "slideshow": {
     "slide_type": "slide"
    }
   },
   "source": [
    "Parsing the Tree\n",
    "================\n",
    "\n"
   ]
  },
  {
   "cell_type": "code",
   "execution_count": 49,
   "metadata": {},
   "outputs": [
    {
     "data": {
      "text/plain": [
       "<body><h3> Test </h3><p>Hello world!</p></body>"
      ]
     },
     "execution_count": 49,
     "metadata": {},
     "output_type": "execute_result"
    }
   ],
   "source": [
    "# redifining `s` without any line breaks\n",
    "s = \"\"\"<!DOCTYPE html><html><head><title>This is a title</title></head><body><h3> Test </h3><p>Hello world!</p></body></html>\"\"\"\n",
    "## get bs4 object\n",
    "tree = bs4.BeautifulSoup(s)\n",
    "\n",
    "## get html root node\n",
    "root_node = tree.html\n",
    "\n",
    "## get head from root using contents\n",
    "head = root_node.contents[0]\n",
    "\n",
    "## get body from root\n",
    "body = root_node.contents[1]\n",
    "\n",
    "## could directly access body\n",
    "tree.body"
   ]
  },
  {
   "cell_type": "markdown",
   "metadata": {
    "slideshow": {
     "slide_type": "slide"
    }
   },
   "source": [
    "Quiz:\n",
    "=====\n",
    "\n",
    "* Find the `h3` tag by parsing the tree starting at `body`\n",
    "* Create a list of all __Hall of Fame__ entries listed on the Beautiful Soup webpage\n",
    "    - hint: it is the only unordered list in the page (tag `ul`)\n"
   ]
  },
  {
   "cell_type": "code",
   "execution_count": 60,
   "metadata": {
    "slideshow": {
     "slide_type": "slide"
    }
   },
   "outputs": [
    {
     "data": {
      "text/plain": [
       "<h3> Test </h3>"
      ]
     },
     "execution_count": 60,
     "metadata": {},
     "output_type": "execute_result"
    }
   ],
   "source": [
    "## get h3 tag from body\n",
    "body.contents[0]"
   ]
  },
  {
   "cell_type": "code",
   "execution_count": 63,
   "metadata": {
    "slideshow": {
     "slide_type": "slide"
    }
   },
   "outputs": [
    {
     "data": {
      "text/plain": [
       "[[<a href=\"http://www.nytimes.com/2007/10/25/arts/design/25vide.html\">\"Movable\\n Type\"</a>,\n",
       "  u', a work of digital art on display in the lobby of the New\\n York Times building, uses Beautiful Soup to scrape news feeds.\\n\\n'],\n",
       " [u'Reddit uses Beautiful Soup to ',\n",
       "  <a href=\"https://github.com/reddit/reddit/blob/85f9cff3e2ab9bb8f19b96acd8da4ebacc079f04/r2/r2/lib/media.py\">parse\\na page that's been linked to and find a representative image</a>,\n",
       "  u'.\\n\\n'],\n",
       " [u'Alexander Harrowell uses Beautiful Soup to ',\n",
       "  <a href=\"http://www.harrowell.org.uk/viktormap.html\">track the business\\n activities</a>,\n",
       "  u' of an arms merchant.\\n\\n'],\n",
       " [u'The developers of Python itself used Beautiful Soup to ',\n",
       "  <a href=\"http://svn.python.org/view/tracker/importer/\">migrate the Python\\nbug tracker from Sourceforge to Roundup</a>,\n",
       "  u'.\\n\\n'],\n",
       " [u'The ',\n",
       "  <a href=\"http://www2.ljworld.com/\">Lawrence Journal-World</a>,\n",
       "  u'\\nuses Beautiful Soup to ',\n",
       "  <a href=\"http://www.b-list.org/weblog/2010/nov/02/news-done-broke/\">gather\\nstatewide election results</a>,\n",
       "  u'.\\n\\n'],\n",
       " [u'The ',\n",
       "  <a href=\"http://esrl.noaa.gov/gsd/fab/\">NOAA's Forecast\\nApplications Branch</a>,\n",
       "  u' uses Beautiful Soup in ',\n",
       "  <a href=\"http://laps.noaa.gov/topograbber/\">TopoGrabber</a>,\n",
       "  u', a script for\\ndownloading \"high resolution USGS datasets.\"\\n\\n']]"
      ]
     },
     "execution_count": 63,
     "metadata": {},
     "output_type": "execute_result"
    }
   ],
   "source": [
    "## use ul as entry point\n",
    "entry_point = soup.find('ul')\n",
    "\n",
    "## get hall of fame list from entry point\n",
    "## skip the first entry \n",
    "hall_of_fame_list = entry_point.contents[1:]\n",
    "\n",
    "## reformat into a list containing strings\n",
    "tmp = []\n",
    "for li in hall_of_fame_list:\n",
    "    tmp.append(li.contents)\n",
    "tmp"
   ]
  },
  {
   "cell_type": "markdown",
   "metadata": {
    "slideshow": {
     "slide_type": "slide"
    }
   },
   "source": [
    "`tmp` now is actually a list of lists containing the hall of fame entries. \n",
    "Here is some advanced Python on how to print really just one entry per list item.\n",
    "\n",
    "The cool things about this are: \n",
    "* The use of `\"\"` to just access the `join` function of strings.\n",
    "* The `join` function itself\n",
    "* that you can actually have two nested for loops in a list comprehension"
   ]
  },
  {
   "cell_type": "code",
   "execution_count": 64,
   "metadata": {
    "slideshow": {
     "slide_type": "-"
    }
   },
   "outputs": [
    {
     "name": "stdout",
     "output_type": "stream",
     "text": [
      "<a href=\"http://www.nytimes.com/2007/10/25/arts/design/25vide.html\">\"Movable\n",
      " Type\"</a>, a work of digital art on display in the lobby of the New\n",
      " York Times building, uses Beautiful Soup to scrape news feeds.\n",
      "\n",
      "\n",
      "Reddit uses Beautiful Soup to <a href=\"https://github.com/reddit/reddit/blob/85f9cff3e2ab9bb8f19b96acd8da4ebacc079f04/r2/r2/lib/media.py\">parse\n",
      "a page that's been linked to and find a representative image</a>.\n",
      "\n",
      "\n",
      "Alexander Harrowell uses Beautiful Soup to <a href=\"http://www.harrowell.org.uk/viktormap.html\">track the business\n",
      " activities</a> of an arms merchant.\n",
      "\n",
      "\n",
      "The developers of Python itself used Beautiful Soup to <a href=\"http://svn.python.org/view/tracker/importer/\">migrate the Python\n",
      "bug tracker from Sourceforge to Roundup</a>.\n",
      "\n",
      "\n",
      "The <a href=\"http://www2.ljworld.com/\">Lawrence Journal-World</a>\n",
      "uses Beautiful Soup to <a href=\"http://www.b-list.org/weblog/2010/nov/02/news-done-broke/\">gather\n",
      "statewide election results</a>.\n",
      "\n",
      "\n",
      "The <a href=\"http://esrl.noaa.gov/gsd/fab/\">NOAA's Forecast\n",
      "Applications Branch</a> uses Beautiful Soup in <a href=\"http://laps.noaa.gov/topograbber/\">TopoGrabber</a>, a script for\n",
      "downloading \"high resolution USGS datasets.\"\n",
      "\n",
      "\n"
     ]
    }
   ],
   "source": [
    "test =  [\"\".join(str(a) for a in sublist) for sublist in tmp]\n",
    "print '\\n'.join(test)"
   ]
  },
  {
   "cell_type": "markdown",
   "metadata": {
    "slideshow": {
     "slide_type": "slide"
    }
   },
   "source": [
    "Advanced Example\n",
    "===============\n",
    "\n",
    "Idea by [Jesse Steinweg-Woods](https://jessesw.com/Data-Science-Skills/)\n",
    "--------------------------------------------------------------------------------"
   ]
  },
  {
   "cell_type": "markdown",
   "metadata": {
    "slideshow": {
     "slide_type": "slide"
    }
   },
   "source": [
    "Scraping data science skills\n",
    "=============================\n",
    "\n",
    "- What skills are in demand for data scientists?\n",
    "- Should we have a lecture on Spark or only on MapReduce?\n",
    "\n",
    "We want to scrape the information from job advertisements for data scientists from indeed.com\n",
    "Let's scrape and find out!"
   ]
  },
  {
   "cell_type": "code",
   "execution_count": 71,
   "metadata": {
    "slideshow": {
     "slide_type": "slide"
    }
   },
   "outputs": [
    {
     "data": {
      "text/plain": [
       "<!DOCTYPE html>\\n<html dir=\"ltr\" lang=\"en\">\\n<head>\\n<meta content=\"text/html;charset=unicode-escape\" http-equiv=\"content-type\"/>\\n<script src=\"/s/1c5b9b9/en_US.js\" type=\"text/javascript\"></script>\\n<link href=\"/s/78ef659/jobsearch_all.css\" rel=\"stylesheet\" type=\"text/css\"/>\\n<link href=\"http://rss.indeed.com/rss?q=data+scientist\" rel=\"alternate\" title=\"Data Scientist Jobs, Employment\" type=\"application/rss+xml\"/>\\n<link href=\"/m/jobs?q=data+scientist\" media=\"only screen and (max-width: 640px)\" rel=\"alternate\"/>\\n<link href=\"/m/jobs?q=data+scientist\" media=\"handheld\" rel=\"alternate\"/>\\n<script type=\"text/javascript\">\\n    \\n    if (typeof window['closureReadyCallbacks'] == 'undefined') {\\n        window['closureReadyCallbacks'] = [];\\n    }\\n\\n    function call_when_jsall_loaded(cb) {\\n        if (window['closureReady']) {\\n            cb();\\n        } else {\\n            window['closureReadyCallbacks'].push(cb);\\n        }\\n    }\\n</script>\\n<meta content=\"1\" name=\"ppstriptst\"/>\\n<script src=\"/s/77d0b62/jobsearch-all-compiled.js\" type=\"text/javascript\"></script>\\n<script type=\"text/javascript\">\\n\\nvar searchUID = '1cft8mcmn534nbbp';\\nvar tk = '1cft8mcmn534nbbp';\\n\\nvar loggedIn = false;\\nvar dcmPayload = 'jobse0;jobal0;viewj0;savej0;6927552';\\nvar myindeed = true;\\nvar userEmail = '';\\nvar tellFriendEmail = '';\\nvar globalLoginURL = 'https:\\\\/\\\\/www.indeed.com\\\\/account\\\\/login?dest=%2Fq-data-scientist-jobs.html';\\nvar globalRegisterURL = 'https:\\\\/\\\\/www.indeed.com\\\\/account\\\\/register?dest=%2Fq-data-scientist-jobs.html';\\nvar searchKey = 'bebb41335ed80f2a';\\nvar searchState = 'q=data+scientist&amp;';\\nvar searchQS = 'q=data+scientist';\\nvar eventType = 'jobsearch';\\nvar locale = 'en_US';\\nfunction clk(id) { var a = document.getElementById(id); var hr = a.href; var si = a.href.indexOf('&jsa='); if (si > 0) return; var jsh = hr + '&tk=1cft8mcmn534nbbp&jsa=6599'; a.href = jsh; }\\nfunction sjomd(id) { var a = document.getElementById(id); var hr = a.href; var ocs = hr.indexOf('&oc=1'); if (ocs < 0) return; var oce = ocs + 5; a.href = hr.substring(0, ocs) + hr.substring(oce); }\\nfunction sjoc(id, sal) { var a = document.getElementById(id); a.href = a.href + '&oc=1&sal='+sal; }\\nfunction ptk(st,p) {document.cookie = 'PTK=\"tk=1cft8mcmn534nbbp&type=jobsearch&subtype='+st+(p?'&'+p:'')+'\"; path=/';}\\nfunction rbptk(st, c, p) { ptk(st, 'cat='+c+(p?'&p='+p:''));}\\n</script>\\n<script type=\"text/javascript\">\\n\\tfunction loadJSAsync( ) {\\n\\t\\tfor ( var i = 0; i < arguments.length; i++ ) {\\n\\t\\t\\tvar url = arguments[i];\\n\\t\\t\\t(function() {\\n\\t\\t\\t\\tvar s = document.createElement(\"script\"), el = document.getElementsByTagName(\"script\")[0];\\n\\t\\t\\t\\ts.async = true;\\n\\t\\t\\t\\ts.src = url;\\n\\t\\t\\t\\tel.parentNode.insertBefore(s, el);\\n\\t\\t\\t})();\\n\\t\\t}\\n\\t}\\n</script>\\n<meta content=\"28,842 Data Scientist jobs available on Indeed.com. Search from Data Scientist, Senior Research Scientist and more!\" name=\"description\"/>\\n<meta content=\"Data Scientist Jobs, Employment,  careers,  employment,  job listings,  job search,  search engine, work in \" name=\"keywords\"/>\\n<meta content=\"origin-when-cross-origin\" name=\"referrer\"/>\\n<link href=\"/q-Data-Scientist-jobs.html\" rel=\"canonical\"/>\\n<link href=\"/jobs?q=data+scientist&amp;start=10\" rel=\"next\"/><script type=\"text/javascript\">\\n    var dcmPayload = 'jobse0;jobal0;viewj0;savej0;6927552';\\n    var indeedCsrfToken = 'Od1PsQbWWbxwmG0MID14ydaNK4mVDZ7u';\\n    var hashedCsrfToken = '28dffa8c461ddf26250a65a800d0a138';\\n</script>\\n<style type=\"text/css\">\\n    .jasxcustomfonttst-useCustomHostedFontFullPage *{font-family:\"Open Sans\", sans-serif !important}.jasxcustomfonttst-useLato *{font-family:\"Lato\", sans-serif !important}.jasxcustomfonttst-useFira *{font-family:\"Fira Sans\", sans-serif !important}.jasxcustomfonttst-useGibson *{font-family:\"Gibson\", sans-serif !important}.jasxcustomfonttst-useAvenir *{font-family:\"Avenir Next\", sans-serif !important}#accessibilityBanner{position:absolute;left:-10000%;height:50px;width:100%;color:#000;font-size:13px;font-family:Arial;background-color:#F2F2F2;border-width:1px;border-color:#E6E6E6;line-height:50px}#accessibilityText{position:relative;left:12px;white-space:nowrap}#accessibilityClose{position:absolute;right:12px}.icl-Button{box-sizing:border-box;display:inline-block;color:#fff;-webkit-font-smoothing:antialiased;text-decoration:none;text-overflow:ellipsis;white-space:nowrap;-webkit-highlight:none;-webkit-tap-highlight-color:transparent;-webkit-touch-callout:none;-webkit-appearance:none;-moz-appearance:none;appearance:none;-webkit-user-select:none;-moz-user-select:none;-ms-user-select:none;user-select:none;font-family:Helvetica Neue,Helvetica,Arial,Liberation Sans,Roboto,Noto,sans-serif;font-size:1rem;letter-spacing:0;line-height:1.5rem;font-weight:700;line-height:1.125rem}[dir] .icl-Button{background-color:#085ff7;border:.125rem solid #085ff7;border-radius:6.25rem;background-repeat:repeat-x;cursor:pointer;padding-top:1rem;padding-bottom:1rem}[dir=ltr] .icl-Button{margin:0.75rem 0.75rem 0.75rem 0;padding-left:1.5rem;padding-right:1.5rem}[dir=rtl] .icl-Button{margin:0.75rem 0 0.75rem 0.75rem;padding-right:1.5rem;padding-left:1.5rem}[dir] .icl-Button::-moz-focus-inner{border:0}.icl-Button:disabled,.icl-Button:disabled:hover{color:#ccc}[dir] .icl-Button:disabled,[dir] .icl-Button:disabled:hover{cursor:default;background:#fff;border:.125rem solid #ececec}.icl-Button:active,.icl-Button:hover{color:#fff;text-decoration:none}[dir] .icl-Button:active,[dir] .icl-Button:hover{background-color:#1497ff;border-color:#1497ff}.icl-Button--primary{box-sizing:border-box;display:inline-block;color:#fff;-webkit-font-smoothing:antialiased;text-decoration:none;text-overflow:ellipsis;white-space:nowrap;-webkit-highlight:none;-webkit-tap-highlight-color:transparent;-webkit-touch-callout:none;-webkit-appearance:none;-moz-appearance:none;appearance:none;-webkit-user-select:none;-moz-user-select:none;-ms-user-select:none;user-select:none}[dir] .icl-Button--primary{background-color:#085ff7;border:.125rem solid #085ff7;border-radius:6.25rem;background-repeat:repeat-x;cursor:pointer}[dir=ltr] .icl-Button--primary{margin:0.75rem 0.75rem 0.75rem 0}[dir=rtl] .icl-Button--primary{margin:0.75rem 0 0.75rem 0.75rem}[dir] .icl-Button--primary::-moz-focus-inner{border:0}.icl-Button--primary:disabled,.icl-Button--primary:disabled:hover{color:#ccc}[dir] .icl-Button--primary:disabled,[dir] .icl-Button--primary:disabled:hover{cursor:default;background:#fff;border:.125rem solid #ececec}.icl-Button--primary:active,.icl-Button--primary:hover{color:#fff;text-decoration:none}[dir] .icl-Button--primary:active,[dir] .icl-Button--primary:hover{background-color:#1497ff;border-color:#1497ff}.icl-Button--secondary{box-sizing:border-box;display:inline-block;color:#085ff7;-webkit-font-smoothing:antialiased;text-decoration:none;text-overflow:ellipsis;white-space:nowrap;-webkit-highlight:none;-webkit-tap-highlight-color:transparent;-webkit-touch-callout:none;-webkit-appearance:none;-moz-appearance:none;appearance:none;-webkit-user-select:none;-moz-user-select:none;-ms-user-select:none;user-select:none}[dir] .icl-Button--secondary{background-color:#fff;border:.125rem solid #085ff7;border-radius:6.25rem;background-repeat:repeat-x;cursor:pointer}[dir=ltr] .icl-Button--secondary{margin:0.75rem 0.75rem 0.75rem 0}[dir=rtl] .icl-Button--secondary{margin:0.75rem 0 0.75rem 0.75rem}[dir] .icl-Button--secondary::-moz-focus-inner{border:0}.icl-Button--secondary:disabled,.icl-Button--secondary:disabled:hover{color:#ccc}[dir] .icl-Button--secondary:disabled,[dir] .icl-Button--secondary:disabled:hover{cursor:default;background:#fff;border:.125rem solid #ececec}.icl-Button--secondary:active,.icl-Button--secondary:hover{color:#1497ff;text-decoration:none}[dir] .icl-Button--secondary:active,[dir] .icl-Button--secondary:hover{background-color:#fff;border-color:#1497ff}.icl-Button--tertiary{box-sizing:border-box;display:inline-block;color:#085ff7;-webkit-font-smoothing:antialiased;text-decoration:none;text-overflow:ellipsis;white-space:nowrap;-webkit-highlight:none;-webkit-tap-highlight-color:transparent;-webkit-touch-callout:none;-webkit-appearance:none;-moz-appearance:none;appearance:none;-webkit-user-select:none;-moz-user-select:none;-ms-user-select:none;user-select:none}[dir] .icl-Button--tertiary{background-color:#fff;border:.125rem solid #ececec;border-radius:6.25rem;background-repeat:repeat-x;cursor:pointer}[dir=ltr] .icl-Button--tertiary{margin:0.75rem 0.75rem 0.75rem 0}[dir=rtl] .icl-Button--tertiary{margin:0.75rem 0 0.75rem 0.75rem}[dir] .icl-Button--tertiary::-moz-focus-inner{border:0}.icl-Button--tertiary:disabled,.icl-Button--tertiary:disabled:hover{color:#ccc}[dir] .icl-Button--tertiary:disabled,[dir] .icl-Button--tertiary:disabled:hover{cursor:default;background:#fff;border:.125rem solid #ececec}.icl-Button--tertiary:active,.icl-Button--tertiary:hover{color:#1497ff;text-decoration:none}[dir] .icl-Button--tertiary:active,[dir] .icl-Button--tertiary:hover{background-color:#fff;border-color:#ececec}.icl-Button--xl{font-family:Helvetica Neue,Helvetica,Arial,Liberation Sans,Roboto,Noto,sans-serif;font-size:1.25rem;letter-spacing:-.1px;line-height:1.75rem;font-weight:700}[dir] .icl-Button--xl{padding-top:.5rem;padding-bottom:.5rem}[dir=ltr] .icl-Button--xl,[dir=rtl] .icl-Button--xl{padding-left:1.5rem;padding-right:1.5rem}.icl-Button--lg{font-family:Helvetica Neue,Helvetica,Arial,Liberation Sans,Roboto,Noto,sans-serif;font-size:1rem;letter-spacing:0;line-height:1.5rem;font-weight:700;line-height:1.125rem}[dir] .icl-Button--lg{padding-top:1rem;padding-bottom:1rem}[dir=ltr] .icl-Button--lg,[dir=rtl] .icl-Button--lg{padding-left:1.5rem;padding-right:1.5rem}.icl-Button--md{font-family:Helvetica Neue,Helvetica,Arial,Liberation Sans,Roboto,Noto,sans-serif;font-size:.875rem;letter-spacing:0;line-height:1.25rem;font-weight:700;line-height:1.5rem}[dir] .icl-Button--md{padding-top:.5rem;padding-bottom:.5rem}[dir=ltr] .icl-Button--md,[dir=rtl] .icl-Button--md{padding-left:1.5rem;padding-right:1.5rem}.icl-Button--sm{font-family:Helvetica Neue,Helvetica,Arial,Liberation Sans,Roboto,Noto,sans-serif;font-size:.75rem;letter-spacing:0;line-height:1.25rem;font-weight:700;line-height:1.5rem}[dir] .icl-Button--sm{padding-top:.25rem;padding-bottom:.25rem}[dir=ltr] .icl-Button--sm,[dir=rtl] .icl-Button--sm{padding-left:1rem;padding-right:1rem}.icl-Button--xs{font-family:Helvetica Neue,Helvetica,Arial,Liberation Sans,Roboto,Noto,sans-serif;font-size:.625rem;letter-spacing:0;line-height:1rem;font-weight:500;line-height:.875rem}[dir] .icl-Button--xs{padding-top:.125rem;padding-bottom:.125rem;padding-top:0}[dir=ltr] .icl-Button--xs,[dir=rtl] .icl-Button--xs{padding-left:.5rem;padding-right:.5rem}.icl-Button--block{display:block;width:100%;max-width:21.9375rem;overflow:hidden}[dir] .icl-Button--block{margin:.75rem auto}[dir] .icl-Button--group{border-radius:0;box-shadow:0 0 0 transparent}[dir=ltr] .icl-Button--group{float:left;margin:0 0 0 -1px}[dir=rtl] .icl-Button--group{float:right;margin:0 -1px 0 0}[dir] .icl-Button--group:hover{box-shadow:0 0 0 transparent}[dir=ltr] .icl-Button--group:first-child{margin-left:0;border-bottom-left-radius:6px;border-top-left-radius:6px}[dir=rtl] .icl-Button--group:first-child{margin-right:0}[dir=ltr] .icl-Button--group:last-child,[dir=rtl] .icl-Button--group:first-child{border-bottom-right-radius:6px;border-top-right-radius:6px}[dir=rtl] .icl-Button--group:last-child{border-bottom-left-radius:6px;border-top-left-radius:6px}[dir=ltr] .icl-Button--icon,[dir=rtl] .icl-Button--icon{padding-left:10px;padding-right:10px}.icl-Button--responsive{max-width:21.9375rem;width:100%}[dir] .icl-Button--responsive{margin:.75rem 0 0}[dir] .icl-Button--responsive:first-child{margin-top:0}@media only screen and (min-width: 768px){.icl-Button--responsive{width:auto}}.icl-Button--special{box-sizing:border-box;display:inline-block;color:#fff;-webkit-font-smoothing:antialiased;text-decoration:none;text-overflow:ellipsis;white-space:nowrap;-webkit-highlight:none;-webkit-tap-highlight-color:transparent;-webkit-touch-callout:none;-webkit-appearance:none;-moz-appearance:none;appearance:none;-webkit-user-select:none;-moz-user-select:none;-ms-user-select:none;user-select:none}[dir] .icl-Button--special{background-color:#f60;border:.125rem solid #f60;border-radius:6.25rem;background-repeat:repeat-x;cursor:pointer}[dir=ltr] .icl-Button--special{margin:0.75rem 0.75rem 0.75rem 0}[dir=rtl] .icl-Button--special{margin:0.75rem 0 0.75rem 0.75rem}[dir] .icl-Button--special::-moz-focus-inner{border:0}.icl-Button--special:disabled,.icl-Button--special:disabled:hover{color:#ccc}[dir] .icl-Button--special:disabled,[dir] .icl-Button--special:disabled:hover{cursor:default;background:#fff;border:.125rem solid #ececec}.icl-Button--special:active,.icl-Button--special:hover{color:#fff;text-decoration:none}[dir] .icl-Button--special:active,[dir] .icl-Button--special:hover{background-color:#f60;border-color:#f60}.icl-Button--danger{box-sizing:border-box;display:inline-block;color:#fff;-webkit-font-smoothing:antialiased;text-decoration:none;text-overflow:ellipsis;white-space:nowrap;-webkit-highlight:none;-webkit-tap-highlight-color:transparent;-webkit-touch-callout:none;-webkit-appearance:none;-moz-appearance:none;appearance:none;-webkit-user-select:none;-moz-user-select:none;-ms-user-select:none;user-select:none}[dir] .icl-Button--danger{background-color:#db183f;border:.125rem solid #db183f;border-radius:6.25rem;background-repeat:repeat-x;cursor:pointer}[dir=ltr] .icl-Button--danger{margin:0.75rem 0.75rem 0.75rem 0}[dir=rtl] .icl-Button--danger{margin:0.75rem 0 0.75rem 0.75rem}[dir] .icl-Button--danger::-moz-focus-inner{border:0}.icl-Button--danger:disabled,.icl-Button--danger:disabled:hover{color:#ccc}[dir] .icl-Button--danger:disabled,[dir] .icl-Button--danger:disabled:hover{cursor:default;background:#fff;border:.125rem solid #ececec}.icl-Button--danger:active,.icl-Button--danger:hover{color:#fff;text-decoration:none}[dir] .icl-Button--danger:active,[dir] .icl-Button--danger:hover{background-color:#db183f;border-color:#db183f}.icl-Button--working{box-sizing:border-box;display:inline-block;color:#fff;-webkit-font-smoothing:antialiased;text-decoration:none;text-overflow:ellipsis;white-space:nowrap;-webkit-highlight:none;-webkit-tap-highlight-color:transparent;-webkit-touch-callout:none;-webkit-appearance:none;-moz-appearance:none;appearance:none;-webkit-user-select:none;-moz-user-select:none;-ms-user-select:none;user-select:none}[dir] .icl-Button--working{background-color:#085ff7;border:.125rem solid #085ff7;border-radius:6.25rem;background-repeat:repeat-x;cursor:pointer}[dir=ltr] .icl-Button--working{margin:0.75rem 0.75rem 0.75rem 0}[dir=rtl] .icl-Button--working{margin:0.75rem 0 0.75rem 0.75rem}[dir] .icl-Button--working::-moz-focus-inner{border:0}.icl-Button--working:disabled,.icl-Button--working:disabled:hover{color:#ccc}[dir] .icl-Button--working:disabled,[dir] .icl-Button--working:disabled:hover{cursor:default;background:#fff;border:.125rem solid #ececec}.icl-Button--working:active,.icl-Button--working:hover{color:#fff;text-decoration:none}[dir] .icl-Button--working:active,[dir] .icl-Button--working:hover{background-color:#1497ff;border-color:#1497ff}.icl-Button--transparent{box-sizing:border-box;display:inline-block;color:#085ff7;-webkit-font-smoothing:antialiased;text-decoration:none;text-overflow:ellipsis;white-space:nowrap;-webkit-highlight:none;-webkit-tap-highlight-color:transparent;-webkit-touch-callout:none;-webkit-appearance:none;-moz-appearance:none;appearance:none;-webkit-user-select:none;-moz-user-select:none;-ms-user-select:none;user-select:none}[dir] .icl-Button--transparent{background-color:transparent;border:.125rem solid transparent;border-radius:6.25rem;background-repeat:repeat-x;cursor:pointer}[dir=ltr] .icl-Button--transparent{margin:0.75rem 0.75rem 0.75rem 0}[dir=rtl] .icl-Button--transparent{margin:0.75rem 0 0.75rem 0.75rem}[dir] .icl-Button--transparent::-moz-focus-inner{border:0}.icl-Button--transparent:disabled,.icl-Button--transparent:disabled:hover{color:#ccc}[dir] .icl-Button--transparent:disabled,[dir] .icl-Button--transparent:disabled:hover{cursor:default;background:#fff;border:.125rem solid #ececec}.icl-Button--transparent:active,.icl-Button--transparent:hover{color:#085ff7;text-decoration:none}[dir] .icl-Button--transparent:active,[dir] .icl-Button--transparent:hover{background-color:transparent;border-color:transparent}\\n</style>\\n<style type=\"text/css\">\\n    #resultsCol { padding-top: 0; }\\n    .searchCount { margin-top: 6px; }\\n    .showing { padding-top: 9px; padding-bottom: 9px; }\\n\\n    .brdr { height: 1px; overflow: hidden; background-color: #ccc; }\\n\\n    /* Tall window sizes */\\n    @media only screen and (min-height:780px){\\n        .showing { padding-bottom: 0; }\\n    }\\n\\n    /* Wide window sizes */\\n    @media only screen and (min-width:1125px){\\n        .brdr  { margin-left: 12px; margin-right: 12px; }\\n    }\\n\\n    a, a:link, .link, .btn, .btn:hover { text-decoration:none; }\\na:hover, .link:hover { text-decoration:underline; }\\n.dya-container a { text-decoration: underline!important; }</style>\\n<script>\\n        function onLoadHandler() {\\n            \\n                document.js.reset();\\n                jobSeenInit('1cft8mcmn534nbbp', [{\\n                    'jobClassName': 'result',\\n                    'scanIta': true,\\n                    'containsSponsored': true,\\n                    'context': ''\\n                }]);\\n            \\n            if ( document.radius_update ) { document.radius_update.reset(); }\\n            \\n\\n            initJobsearchUnloadBeacon('1cft8mcmn534nbbp');\\n        }\\n\\n        initLogInitialUserInteraction('1cft8mcmn534nbbp', 'serp');\\n\\n        window.onload = onLoadHandler;\\n    </script>\\n<link href=\"android-app://com.indeed.android.jobsearch/https/www.indeed.com/m/jobs?q=data+scientist\" rel=\"alternate\"/>\\n<title>Data Scientist Jobs, Employment | Indeed.com</title>\\n<style type=\"text/css\">\\n    .btn,.sg-btn{display:inline-block;padding:9px 15px;border:1px solid #9a99ac;border-bottom-color:#a2a2a2;-webkit-border-radius:6px;-moz-border-radius:6px;-ms-border-radius:6px;-o-border-radius:6px;border-radius:6px;background-color:#D9D9E2;background-image:-moz-linear-gradient(top, #f8f8f9, #D9D9E2);background-image:-webkit-gradient(linear, 0 0, 0 100%, from(#f8f8f9), to(#D9D9E2));background-image:-webkit-linear-gradient(top, #f8f8f9, #D9D9E2);background-image:linear-gradient(to bottom, #f8f8f9, #D9D9E2);background-repeat:repeat-x;-webkit-box-shadow:0 1px 5px rgba(0,0,0,0.2);-moz-box-shadow:0 1px 5px rgba(0,0,0,0.2);-ms-box-shadow:0 1px 5px rgba(0,0,0,0.2);-o-box-shadow:0 1px 5px rgba(0,0,0,0.2);box-shadow:0 1px 5px rgba(0,0,0,0.2);color:#333;vertical-align:middle;text-align:center;text-decoration:none;text-shadow:0 1px #fff;font-weight:700;font-size:16px;font-family:\"Helvetica Neue\",Helvetica,Arial,\"Lucida Grande\",sans-serif;line-height:22px;filter:progid:DXImageTransform.Microsoft.gradient(startColorstr='#fff8f8f9', endColorstr='#ffe6e6e6', GradientType=0);cursor:pointer;-webkit-user-select:none;-moz-user-select:none;-ms-user-select:none;-o-user-select:none;user-select:none;-webkit-touch-callout:none;-webkit-highlight:none;-webkit-tap-highlight-color:transparent;text-overflow:ellipsis;white-space:nowrap;overflow:hidden}.btn.active,.btn.sg-active,.btn:active,.btn.disabled,.btn.sg-disabled,.btn[disabled],.sg-btn.active,.sg-btn.sg-active,.sg-btn:active,.sg-btn.disabled,.sg-btn.sg-disabled,.sg-btn[disabled]{outline:none;background-color:#f8f8f9;color:#333}.btn:focus,.sg-btn:focus{outline:0;box-shadow:0 0 1px 0 #1642bb;-webkit-transition:box-shadow 0.2s linear;-moz-transition:box-shadow 0.2s linear;transition:box-shadow 0.2s linear}.btn.active,.btn.sg-active,.btn:active,.sg-btn.active,.sg-btn.sg-active,.sg-btn:active{background-color:#f8f8f9;background-image:none;-webkit-box-shadow:inset 0 2px 4px rgba(0,0,0,0.15),0 1px 2px rgba(0,0,0,0.05);-moz-box-shadow:inset 0 2px 4px rgba(0,0,0,0.15),0 1px 2px rgba(0,0,0,0.05);box-shadow:inset 0 2px 4px rgba(0,0,0,0.15),0 1px 2px rgba(0,0,0,0.05)}.btn.disabled,.btn.sg-disabled,.btn[disabled],.sg-btn.disabled,.sg-btn.sg-disabled,.sg-btn[disabled]{background-color:#f8f8f9;background-image:none;-webkit-box-shadow:none;-moz-box-shadow:none;box-shadow:none;opacity:.65;filter:alpha(opacity=65);cursor:default}.btn-primary,.sg-btn-primary{border-color:#1642bb;background-color:#5585f2;background-image:-moz-linear-gradient(top, #6598ff, #2e5ad7);background-image:-webkit-gradient(linear, 0 0, 0 100%, from(#6598ff), to(#2e5ad7));background-image:-webkit-linear-gradient(top, #6598ff, #2e5ad7);background-image:linear-gradient(to bottom, #6598ff, #2e5ad7);background-repeat:repeat-x;color:#F8F8F9;text-shadow:0 -1px #0f2299;-ms-filter:progid:DXImageTransform.Microsoft.dropshadow(OffX=0, OffY=-1, Color=#e80f2299, Positive=true);filter:progid:DXImageTransform.Microsoft.dropshadow(OffX=0, OffY=-1, Color=#e80f2299, Positive=true);filter:progid:DXImageTransform.Microsoft.gradient(startColorstr='#ff6598fe', endColorstr='#ff3c69e0', GradientType=0);zoom:1}.btn-primary.active,.btn-primary.sg-active,.btn-primary:active,.btn-primary.disabled,.btn-primary.sg-disabled,.btn-primary[disabled],.sg-btn-primary.active,.sg-btn-primary.sg-active,.sg-btn-primary:active,.sg-btn-primary.disabled,.sg-btn-primary.sg-disabled,.sg-btn-primary[disabled]{background-color:#2e5ad7;color:#F8F8F9}.btn-primary:focus,.sg-btn-primary:focus{box-shadow:0 0 1px 0 #000}.btn-special,.sg-btn-special{border-color:#ba3200;background-color:#5585f2;background-image:-moz-linear-gradient(top, #f60, #f14200);background-image:-webkit-gradient(linear, 0 0, 0 100%, from(#f60), to(#f14200));background-image:-webkit-linear-gradient(top, #f60, #f14200);background-image:linear-gradient(to bottom, #f60, #f14200);background-repeat:repeat-x;color:#F8F8F9;text-shadow:0 -1px #000;-ms-filter:progid:DXImageTransform.Microsoft.dropshadow(OffX=0, OffY=-1, Color=#e80f2299, Positive=true);filter:progid:DXImageTransform.Microsoft.dropshadow(OffX=0, OffY=-1, Color=#e80f2299, Positive=true);filter:progid:DXImageTransform.Microsoft.gradient(startColorstr='#ff6598fe', endColorstr='#ff3c69e0', GradientType=0);zoom:1}.btn-special.active,.btn-special.sg-active,.btn-special:active,.btn-special.disabled,.btn-special.sg-disabled,.btn-special[disabled],.sg-btn-special.active,.sg-btn-special.sg-active,.sg-btn-special:active,.sg-btn-special.disabled,.sg-btn-special.sg-disabled,.sg-btn-special[disabled]{background-color:#f14200;color:#F8F8F9}.btn-special:focus,.sg-btn-special:focus{box-shadow:0 0 1px 0 #000}.btn-danger,.sg-btn-danger{border-color:#83121b;background-color:#5585f2;background-image:-moz-linear-gradient(top, #d1787f, #b01825);background-image:-webkit-gradient(linear, 0 0, 0 100%, from(#d1787f), to(#b01825));background-image:-webkit-linear-gradient(top, #d1787f, #b01825);background-image:linear-gradient(to bottom, #d1787f, #b01825);background-repeat:repeat-x;color:#F8F8F9;text-shadow:0 -1px #000;-ms-filter:progid:DXImageTransform.Microsoft.dropshadow(OffX=0, OffY=-1, Color=#e80f2299, Positive=true);filter:progid:DXImageTransform.Microsoft.dropshadow(OffX=0, OffY=-1, Color=#e80f2299, Positive=true);filter:progid:DXImageTransform.Microsoft.gradient(startColorstr='#ff6598fe', endColorstr='#ff3c69e0', GradientType=0);zoom:1}.btn-danger.active,.btn-danger.sg-active,.btn-danger:active,.btn-danger.disabled,.btn-danger.sg-disabled,.btn-danger[disabled],.sg-btn-danger.active,.sg-btn-danger.sg-active,.sg-btn-danger:active,.sg-btn-danger.disabled,.sg-btn-danger.sg-disabled,.sg-btn-danger[disabled]{background-color:#b01825;color:#F8F8F9}.btn-danger:focus,.sg-btn-danger:focus{box-shadow:0 0 1px 0 #000}input.btn,input.sg-btn{-webkit-appearance:none}button.btn::-moz-focus-inner,button.sg-btn::-moz-focus-inner{border:0}.btn-sm,.sg-btn-sm,.btn-xs,.sg-bt-xs{padding:6px 12px}.btn-xs,.sg-btn-xs{padding:3px 6px;line-height:15px}.btn-md,.sg-btn-md{padding:6px 6px}.btn-lg,.sg-btn-lg{padding:9px 18px;border-radius:6px;font-size:18px}.btn-block,.sg-btn-block{display:block;margin:9px auto;-webkit-box-sizing:border-box !important;-moz-box-sizing:border-box !important;box-sizing:border-box !important;max-width:352px}.btn-block-compact,.sg-btn-block-compact{margin:2px auto}input.btn-block,input.sg-btn-block,button.btn-block,button.sg-btn-block{width:100%;max-width:351px}.btn-block+.btn-block,.sg-btn-block+.sg-btn-block{margin-top:5px}#buttonContainer .btn,#buttonContainer .sg-btn{margin:0}.btn-icon .cssImage{margin-bottom:-40px;position:relative;top:-27px}.btn-pair{-webkit-box-sizing:border-box !important;-moz-box-sizing:border-box !important;box-sizing:border-box !important;width:49%}#refineresultscol{width:184px}#refineresults{width:180px}#branding-td{width:186px;text-align:center}.ltr #searchCount{margin-right:4px;margin-left:4px}.ltr #resultsCol .sorting{padding-right:4px}.ltr #resultsCol .showing{padding-left:4px}.ltr #jobsearch{padding-left:4px}.rtl #searchCount{margin-left:4px;margin-right:4px}.rtl #resultsCol .sorting{padding-left:4px}.rtl #resultsCol .showing{padding-right:4px}.rtl #jobsearch{padding-right:4px}.jaui,.hasu .gasc,.row,.message,.oocs{padding-left:4px;padding-right:4px}#resumePromo{padding-left:4px;padding-right:4px}#primePromo{padding-left:4px;padding-right:4px}@media only screen and (min-width: 1125px){.ltr #refineresults{padding-left:15px}.ltr #branding img{margin-left:16px;margin-right:28px}.rtl #refineresults{padding-right:15px}.rtl #branding img{margin-right:16px;margin-left:28px}.ltr #searchCount{margin-right:12px;margin-left:12px}.ltr #resultsCol .sorting{padding-right:12px}.ltr #resultsCol .showing{padding-left:12px}.ltr #jobsearch{padding-left:12px}.rtl #searchCount{margin-left:12px;margin-right:12px}.rtl #resultsCol .sorting{padding-left:12px}.rtl #resultsCol .showing{padding-right:12px}.rtl #jobsearch{padding-right:12px}.jaui,.hasu .gasc,.row,.message,.oocs{padding-left:12px;padding-right:12px}#resumePromo{padding-left:12px;padding-right:12px}#primePromo{padding-left:12px;padding-right:12px}#resultsBody{width:1125px}#refineresultscol,#branding-td{width:225px}#refineresults{width:210px}}@media only screen and (min-width: 1250px){#resultsBody{width:1250px}#auxCol{width:315px}#refineresultscol,#branding-td{width:275px}#refineresults{width:260px}.ltr #refineresults{padding-left:15px}.ltr #branding img{margin-left:16px;margin-right:28px}.rtl #refineresults{padding-right:15px}.rtl #branding img{margin-right:16px;margin-left:28px}.ltr #searchCount{margin-right:12px;margin-left:12px}.ltr #resultsCol .sorting{padding-right:12px}.ltr #resultsCol .showing{padding-left:12px}.ltr #jobsearch{padding-left:12px}.rtl #searchCount{margin-left:12px;margin-right:12px}.rtl #resultsCol .sorting{padding-left:12px}.rtl #resultsCol .showing{padding-right:12px}.rtl #jobsearch{padding-right:12px}.jaui,.hasu .gasc,.row,.message,.oocs{padding-left:12px;padding-right:12px}#resumePromo{padding-left:12px;padding-right:12px}#primePromo{padding-left:12px;padding-right:12px}}#branding-td{padding:5px 0 5px 0px}.resultsTop{padding-top:9px}\\n</style>\\n<style>\\n        body.janus{background-color:#f6f6f6}body.janus *,body.janus .jasxcustomfonttst-useAvenir *{font-family:\"Helvetica Neue\",Helvetica,Arial,sans-serif !important;-webkit-font-smoothing:antialiased;-moz-osx-font-smoothing:grayscale;box-sizing:border-box}body.janus a,body.janus a:link{color:#2164f3}body.janus input::-webkit-contacts-auto-fill-button{visibility:hidden;display:none !important;pointer-events:none;position:absolute;right:0}body.janus .origin_site_link a{color:#085ff7}body.janus div#g_nav{border-bottom:2px solid #f6f6f6 !important;height:46px !important;margin-bottom:0}body.janus div#g_nav a{cursor:pointer;color:#4b4b4b !important;font-weight:400}body.janus div#g_nav#inboxLinkNavbar{font-weight:500 !important;font-size:12px !important;line-height:15.6px !important}body.janus div#g_nav .navBi a{font-size:12px;font-weight:500;position:relative;padding:12px 0;text-decoration:none}body.janus div#g_nav .navBi a:after{content:'';border-bottom:2px solid transparent;position:absolute;bottom:1px;left:0;right:0}body.janus div#g_nav .navBi a#userOptionsLabel{color:#2164f3 !important;font-size:12px;padding:12px 0}body.janus div#g_nav .navBi a:hover:after{border-color:#1497ff}body.janus div#g_nav .navBi a.selected{color:#000 !important;font-weight:700}body.janus div#g_nav .navBi a.selected:after{border-color:#2164f3}body.janus div#g_nav #userOptionsLabel{border-radius:15px 15px 0 0;border:2px solid transparent;margin-bottom:0 !important}body.janus div#g_nav #userOptionsLabel b{text-decoration:none}body.janus div#g_nav #userOptionsLabel.active{border-color:#f6f6f6;padding:9px 12px !important}body.janus div#g_nav #userOptions{border:2px solid #f6f6f6;border-radius:15px 0 15px 15px;box-shadow:2px 3px 8px 0 rgba(0,0,0,0.08);padding:4px 0;margin-top:-1px}body.janus div#g_nav #userOptions .userOptionGroupHeader,body.janus div#g_nav #userOptions .userOptionItem a,body.janus div#g_nav #userOptions .userNameRepeat{display:block;min-width:220px;padding:2px 16px}body.janus div#g_nav #userOptions .userOptionGroup{border-top:2px solid #f6f6f6}body.janus div#g_nav table{height:55px;margin-top:-8px}body.janus div#g_nav td{padding:0 !important}body.janus .inwrapBorder{border:0 !important}body.janus .inwrapBorder .inwrapBorderTop{background-color:transparent !important;background-image:none !important;border:0 !important}body.janus .inwrapBorder .input_submit{background-color:#085ff7 !important;border:2px solid #085ff7 !important;color:#fff !important;border-radius:100px !important;font-size:0.75rem;letter-spacing:0;line-height:1.25rem;font-weight:700;line-height:24px;padding:4px 1.5rem !important;min-width:95px;font-weight:500;box-sizing:border-box}body.janus .inwrapBorder .input_submit:hover{background-color:#1497ff !important;border-color:#1497ff !important}body.janus .inwrapBorder .input_submit:disabled{color:#ccc !important;background-color:#fff !important;border-color:#fff !important}body.janus .inwrapBorder .input_submit:hover{border-radius:100px !important}body.janus .inwrapBorder .input_submit.brandAdFollow,body.janus .inwrapBorder .input_submit.followButton{background-image:none !important}body.janus .inwrapBorder input.input_text{border:2px solid #ccc !important;box-sizing:border-box;background-color:#ececec}body.janus .inwrap{border:0 !important}body.janus #jobsearch .sl{background-position:right bottom;background-size:auto 80%;color:#767676;margin-left:10px;padding-right:20px}[dir=\"rtl\"] body.janus #jobsearch .sl{margin-left:0;margin-right:10px;padding-right:0;padding-left:20px;background-image:none}[dir=\"rtl\"] body.janus #jobsearch .sl:after{content:\"\";background-image:url(\"data:image/svg+xml,%3Csvg xmlns='http://www.w3.org/2000/svg' viewBox='3 3 19 19' width='16' height='16'%3E%3Cg%3E%3Cpath fill='#CCC' d='M10 6L8.59 7.41 13.17 12 8.59 16.59 10 18l6-6Z'/%3E%3C/g%3E%3C/svg%3E\");background-repeat:no-repeat;background-size:auto 80%;z-index:-1;transform:rotate(180deg);height:1.275em;width:1.275em;float:left;margin:0 1em}body.janus #jobsearch td.npl{padding:0 !important}body.janus #jobsearch #what_label_top,body.janus #jobsearch #where_label_top{color:#767676;font-weight:500 !important;padding:0 14px 7px !important;display:block;font-size:11px;letter-spacing:.5px}body.janus #jobsearch #what_label_bot,body.janus #jobsearch #where_label_bot,body.janus #jobsearch #what_label,body.janus #jobsearch #where_label{padding:9px 12px 0 !important;display:block;color:#767676;font-size:11px;white-space:normal !important;max-width:220px !important}body.janus #jobsearch .inwrapBorder .input_submit{background-color:#085ff7 !important;border:2px solid #085ff7 !important;color:#fff !important;border-radius:100px !important;font-size:0.75rem;letter-spacing:0;line-height:1.25rem;font-weight:700;line-height:24px;padding:4px 1.5rem !important;min-width:110px}body.janus #jobsearch .inwrapBorder .input_submit:hover{background-color:#1497ff !important;border-color:#1497ff !important}body.janus #jobsearch .inwrapBorder .input_submit:disabled{color:#ccc !important;background-color:#fff !important;border-color:#fff !important}body.janus #jobsearch .inwrapBorder .inwrapBorderTop{border:0 !important}[dir=\"ltr\"] body.janus #jobsearch .inwrapBorder .inwrapBorderTop{margin-left:10px}[dir=\"rtl\"] body.janus #jobsearch .inwrapBorder .inwrapBorderTop{margin-right:10px}body.janus #jobsearch .inwrap #what,body.janus #jobsearch .inwrap #where{width:264px !important;height:40px !important}body.janus #jobsearch .inwrap #what::-ms-clear,body.janus #jobsearch .inwrap #where::-ms-clear{display:none;width:0;height:0}#viewport body.janus #jobsearch .inwrap #what,#viewport body.janus #jobsearch .inwrap #where{width:280px !important}[dir=\"ltr\"] body.janus #jobsearch .inwrap #what{margin-right:2px !important}[dir=\"rtl\"] body.janus #jobsearch .inwrap #what{margin-left:2px !important}body.janus #jobsearch .auxColPad .input_submit{background-color:#fff !important;background-image:none !important;border:2px solid #ececec !important;color:#085ff7 !important;border-radius:100px !important;font-size:0.75rem;letter-spacing:0;line-height:1.25rem;font-weight:700;line-height:24px;padding:4px 1.5rem !important}body.janus #jobsearch .auxColPad .input_submit:hover{color:#1497ff !important;background-color:#fff !important;border-color:#ececec !important}body.janus #jobsearch .headerTipBubble{max-width:500px !important}body.janus [dir] .icl-LegalConsentBanner-action .icl-Button{background:#fff;background-image:none !important;border:2px solid transparent;border-radius:100px !important;box-shadow:none !important;box-sizing:border-box;color:#085ff7;max-width:100% !important;text-shadow:none !important}body.janus [dir] .icl-LegalConsentBanner-action .icl-Button--primary{background-color:#085ff7 !important;border:2px solid #085ff7 !important;color:#fff !important;border-radius:100px !important}body.janus [dir] .icl-LegalConsentBanner-action .icl-Button--primary:hover{background-color:#1497ff !important;border-color:#1497ff !important;box-shadow:none !important;background-image:none !important}body.janus .footerCta.greyBar{background-color:#f6f6f6 !important;border-top:2px solid #f6f6f6;font-size:20px;font-weight:700;padding:16px 0}body.janus .footerCta.greyBar>span{display:block}body.janus .footerCta.greyBar [dir] .icl-Button.cta_button.blue{background-color:#085ff7 !important;border:2px solid #085ff7 !important;color:#fff !important;border-radius:100px !important;font-size:0.875rem;letter-spacing:0;line-height:1.25rem;font-weight:700;line-height:24px;padding:0.5rem 1.5rem !important;box-shadow:none !important;text-shadow:none !important;background-image:none !important}body.janus .footerCta.greyBar [dir] .icl-Button.cta_button.blue:hover{background-color:#1497ff !important;border-color:#1497ff !important}body.janus .footerCta.greyBar [dir] .icl-Button.cta_button.blue:disabled{color:#ccc !important;background-color:#fff !important;border-color:#fff !important}body.janus #resumeCtaFooter,body.janus #updateResumeCtaFooter{height:auto !important}body.janus #resumeCtaFooter>div,body.janus #updateResumeCtaFooter>div{position:static !important}body.janus #what_acdiv.acd{width:calc(100% - 126px)}body.janus .content #what_acdiv.acd{width:calc(100% - 145px)}body.janus .content #acdiv.acd{width:calc(100% - 28px)}body.janus #refineresults{width:275px !important}body.janus #what_acdiv.acd,body.janus #acdiv.acd{border:2px solid #1497ff !important;border-radius:15px;box-shadow:2px 3px 8px 0 rgba(0,0,0,0.08)}body.janus #what_acdiv.acd .aci,body.janus #acdiv.acd .aci{padding:2px 12px}body.janus #what_acdiv.acd .aci:first-child,body.janus #acdiv.acd .aci:first-child{border-radius:13px 13px 0 0}body.janus #what_acdiv.acd .aci:last-child,body.janus #acdiv.acd .aci:last-child{border-radius:0 0 13px 13px}body.janus #what_acdiv.acd .acis,body.janus #acdiv.acd .acis{background-color:#1497ff}body.janus #footer{margin-top:0 !important}body.janus #footer-legal{font-size:11px !important}body.janus #valuePropFooter.bottom-border{border-bottom:2px solid #f6f6f6}body.janus #valuePropFooter .top-border{border-top:2px solid #f6f6f6}body.janus #valuePropFooter .vpfooter-content .vpfooter-btn-section>span:first-child{font-weight:700;margin-bottom:0.25rem}body.janus #valuePropFooter .vpfooter-content .vpfooter-btn-section [dir] .icl-Button.cta_button{box-shadow:none !important;text-shadow:none !important;background-image:none !important}body.janus #valuePropFooter .vpfooter-content .vpfooter-btn-section [dir] .icl-Button.cta_button.blue{background-color:#085ff7 !important;border:2px solid #085ff7 !important;color:#fff !important;border-radius:100px !important;font-size:0.875rem;letter-spacing:0;line-height:1.25rem;font-weight:700;line-height:24px;padding:0.5rem 1.5rem !important}body.janus #valuePropFooter .vpfooter-content .vpfooter-btn-section [dir] .icl-Button.cta_button.blue:hover{background-color:#1497ff !important;border-color:#1497ff !important}body.janus #valuePropFooter .vpfooter-content .vpfooter-btn-section [dir] .icl-Button.cta_button.blue:disabled{color:#ccc !important;background-color:#fff !important;border-color:#fff !important}body.janus #valuePropFooter .vpfooter-content .vpfooter-btn-section [dir] .icl-Button.cta_button.grey{background-color:#fff !important;background-image:none !important;border:2px solid #085ff7 !important;color:#085ff7 !important;border-radius:100px !important;font-size:0.875rem;letter-spacing:0;line-height:1.25rem;font-weight:700;line-height:24px;padding:0.5rem 1.5rem !important}body.janus #valuePropFooter .vpfooter-content .vpfooter-btn-section [dir] .icl-Button.cta_button.grey:hover{color:#1497ff !important;background-color:#fff !important;border-color:#1497ff !important}body.janus #valuePropFooter .vpfooter-content .vpfooter-values .vpimages-true>span{font-size:14px}body.janus #jobsearch .inwrap #what.input_text{background:#fff !important;border:2px solid #ececec !important;border-radius:100px !important;color:#4b4b4b !important;font-family:\"Helvetica Neue\",Helvetica,Arial,\"Liberation Sans\",Roboto,Noto,sans-serif;font-size:0.75rem;letter-spacing:0;line-height:1.25rem;font-weight:400;min-height:36px !important;padding:0.5rem 1rem !important}body.janus #jobsearch .inwrap #what.input_text:focus,body.janus #jobsearch .inwrap #what.input_text:active{border-color:#1497ff !important;outline:0 !important}[dir=\"ltr\"] body.janus #jobsearch .inwrap #what.input_text{border-top-left-radius:100px !important;border-top-right-radius:0 !important;border-bottom-right-radius:0 !important;border-bottom-left-radius:100px !important;padding-right:2.3em !important}[dir=\"rtl\"] body.janus #jobsearch .inwrap #what.input_text{border-top-left-radius:0 !important;border-top-right-radius:100px !important;border-bottom-right-radius:100px !important;border-bottom-left-radius:0 !important;padding-left:2.3em !important}body.janus #jobsearch .inwrap #where.input_text{background:#fff !important;border:2px solid #ececec !important;border-radius:100px !important;color:#4b4b4b !important;font-family:\"Helvetica Neue\",Helvetica,Arial,\"Liberation Sans\",Roboto,Noto,sans-serif;font-size:0.75rem;letter-spacing:0;line-height:1.25rem;font-weight:400;min-height:36px !important;padding:0.5rem 1rem !important}body.janus #jobsearch .inwrap #where.input_text:focus,body.janus #jobsearch .inwrap #where.input_text:active{border-color:#1497ff !important;outline:0 !important}[dir=\"ltr\"] body.janus #jobsearch .inwrap #where.input_text{border-top-left-radius:0 !important;border-top-right-radius:100px !important;border-bottom-right-radius:100px !important;border-bottom-left-radius:0 !important;padding-right:2.5em !important}[dir=\"rtl\"] body.janus #jobsearch .inwrap #where.input_text{border-top-left-radius:100px !important;border-top-right-radius:0 !important;border-bottom-right-radius:0 !important;border-bottom-left-radius:100px !important;padding-left:2.5em !important}body.janus .recJobs .viewJobRec a:after,body.janus .recJobs .sjr .ita-inline-job:after{background-position:left center;background-repeat:no-repeat;background-size:contain;content:'';display:block;position:absolute}body.janus .content #recPromoDisplay a,body.janus .recJobs .viewJobRec a:after,body.janus .recJobs .sjr .ita-inline-job:after,body.janus #jobsearch .sl,body.janus #gajui a,body.janus .srchlst_wrap .srchlst .rsi a,body.janus #promo_link a,body.janus #refineresultscol #recPromoDisplay:after,body.janus #populartable td a{background-image:url(\"data:image/svg+xml,%3Csvg xmlns='http://www.w3.org/2000/svg' viewBox='3 3 19 19' width='16' height='16'%3E%3Cg%3E%3Cpath fill='#CCC' d='M10 6L8.59 7.41 13.17 12 8.59 16.59 10 18l6-6Z'/%3E%3C/g%3E%3C/svg%3E\");background-repeat:no-repeat}body.janus #bviewrecs a,body.janus #bviewmorerecs a,body.janus .content #recPromoDisplay a{background-position:calc(101% - 1px) center}body.janus #promo_link a,body.janus .srchlst_wrap .srchlst .rsi a{background-position:98% center}body.janus #populartable td a{background-position:98% 52%;background-size:14px 14px}body.janus .recJobs .viewJobRec a:after,body.janus .recJobs .sjr .ita-inline-job:after{background-position:right center;width:18px;height:100%;top:0;right:8px;bottom:0}body.janus #refineresultscol #recPromoDisplay{position:relative}body.janus #refineresultscol #recPromoDisplay:after{background-position:right center;top:2px;right:100px;bottom:0;width:14px}body.janus #jobsearch .inwrap #where,body.janus #jobsearch .inwrap #what{padding-right:34px !important}body.janus #jobsearch td.npl .inwrap{position:relative}body.janus #jobsearch td.npl:nth-child(1) .inwrap:after,body.janus #jobsearch td.npl:nth-child(2) .inwrap:after{background-position:left center;background-repeat:no-repeat;background-size:contain;content:'';display:block;position:absolute}body.janus #jobsearch td.npl:nth-child(1) .inwrap:after{background-image:url(\"data:image/svg+xml;base64,PHN2ZyB4bWxucz0iaHR0cDovL3d3dy53My5vcmcvMjAwMC9zdmciIHZpZXdCb3g9IjAgMCAyMSAyMCI+PHRpdGxlPkFzc2V0IDE8L3RpdGxlPjxwYXRoIGQ9Ik0yMSAxOC42MmwtNC41Ni00LjU2YTkuMSA5LjEgMCAxIDAtMS4yOCAxLjQ4TDE5LjYyIDIwek05IDE2YTcgNyAwIDEgMSA3LTcgNyA3IDAgMCAxLTcgN3oiIGRhdGEtbmFtZT0iTGF5ZXIgMSIvPjwvc3ZnPg==\")}[dir=\"ltr\"] body.janus #jobsearch td.npl:nth-child(1) .inwrap:after{width:16px;height:16px;top:11px;right:14px}[dir=\"rtl\"] body.janus #jobsearch td.npl:nth-child(1) .inwrap:after{width:16px;height:16px;top:11px;left:14px}body.janus #jobsearch td.npl:nth-child(2) .inwrap:after{background-image:url(\"data:image/svg+xml;base64,PHN2ZyB4bWxucz0iaHR0cDovL3d3dy53My5vcmcvMjAwMC9zdmciIHdpZHRoPSIxOCIgaGVpZ2h0PSIyNyIgdmlld0JveD0iMCAwIDE4IDI3Ij48ZyBmaWxsPSJub25lIiBmaWxsLXJ1bGU9ImV2ZW5vZGQiPjxwYXRoIHN0cm9rZT0iIzAwMCIgc3Ryb2tlLXdpZHRoPSIyIiBkPSJNOSAyNC43MmM1LjMzLTcuNTQgOC0xMi44NCA4LTE1LjcyIDAtNC40Mi0zLjU4LTgtOC04UzEgNC41OCAxIDljMCAyLjg4IDIuNjYgOC4xOCA4IDE1LjcyeiIvPjxjaXJjbGUgY3g9IjkiIGN5PSI5IiByPSIzIiBmaWxsPSIjMDAwIi8+PC9nPjwvc3ZnPg==\")}[dir=\"ltr\"] body.janus #jobsearch td.npl:nth-child(2) .inwrap:after{width:16px;height:16px;top:11px;right:14px}[dir=\"rtl\"] body.janus #jobsearch td.npl:nth-child(2) .inwrap:after{width:16px;height:16px;top:11px;left:14px}body.janus #resumePromo .picard-ico{background-image:url(\"data:image/svg+xml;base64,PHN2ZyB4bWxucz0iaHR0cDovL3d3dy53My5vcmcvMjAwMC9zdmciIHZpZXdCb3g9IjAgMCAyMSAyNCI+PHRpdGxlPmljb25fZGVjb3JhdGl2ZS1wcm9maWxlPC90aXRsZT48cGF0aCBkPSJNMTAuNSAyYTQgNCAwIDEgMS00IDQgNCA0IDAgMCAxIDQtNHptMCAxMGE2IDYgMCAxIDAtNi02IDYgNiAwIDAgMCA2IDZ6TTIuNjMgMjJsMS40Ni01Ljg5QTEuMzYgMS4zNiAwIDAgMSA1LjM0IDE1aC4zNmw0LjgxIDQuNzFMMTUuMzIgMTVoLjM2YTEuMzUgMS4zNSAwIDAgMSAxLjIyIDEuMTFMMTguMzkgMjJ6bTExLjI0LTdsLTMuMzcgMy4yOUw3LjE1IDE1em01IC42MkEzLjM3IDMuMzcgMCAwIDAgMTUuNjYgMTNINS4zNGEzLjM3IDMuMzcgMCAwIDAtMy4yIDIuNjJMMCAyNGgyMXoiIGRhdGEtbmFtZT0iTGF5ZXIgMSIvPjwvc3ZnPg==\");background-size:16px 16px;width:16px;height:16px}body.janus .rbHeader .ws_bold,body.janus #radius_update label,body.janus .rbHeader,body.janus #recentsearches .rsh,body.janus #recPromoDisplay a,body.janus #refineresults span[role=\"heading\"]+div{font-size:14px;font-weight:500;color:#000 !important}body.janus #recPromoDisplay a{color:#2164f3 !important}body.janus .content #recPromoDisplay{margin-bottom:2em !important}body.janus .rbOpen .more_link{margin-top:-8px;margin-bottom:24px}body.janus #refineresults .more_link,body.janus #recentsearches .clearRSControl .sl,body.janus .result-link-bar-container .sl,body.janus .sl.ws_label{font-size:12px;color:#2164f3;font-weight:400}body.janus .row .new{color:#f60 !important}body.janus .nji.recDecoration,body.janus .rsList .nji,body.janus .rsi .nji,body.janus .row .new,body.janus .content #recPromoDisplay .nji.recDecoration,body.janus #recPromoDisplayPageLast .nji.recDecoration,body.janus #serpRecommendations #bviewmorerecs .nji.recDecoration,body.janus #resultsCol #bviewrecs .nji.recDecoration,body.janus #resultsCol #bviewmorerecs .nji.recDecoration,body.janus #job-content #bviewmorerecs .nji.recDecoration{color:#f60 !important;font-size:12px;line-height:1}body.janus #refineresultscol #recPromoDisplay .nji.recDecoration{color:#f60 !important;display:inline-block;font-weight:400 !important;line-height:1 !important;padding:0 4px 1px;position:relative}body.janus #jobsearch .inwrap #what.input_text{background:#fff !important;border:2px solid #ececec !important;border-radius:100px !important;color:#4b4b4b !important;font-family:\"Helvetica Neue\",Helvetica,Arial,\"Liberation Sans\",Roboto,Noto,sans-serif;font-size:0.75rem;letter-spacing:0;line-height:1.25rem;font-weight:400;min-height:36px !important;padding:0.5rem 1rem !important}body.janus #jobsearch .inwrap #what.input_text:focus,body.janus #jobsearch .inwrap #what.input_text:active{border-color:#1497ff !important;outline:0 !important}[dir=\"ltr\"] body.janus #jobsearch .inwrap #what.input_text{border-top-left-radius:100px !important;border-top-right-radius:0 !important;border-bottom-right-radius:0 !important;border-bottom-left-radius:100px !important;padding-right:2.3em !important}[dir=\"rtl\"] body.janus #jobsearch .inwrap #what.input_text{border-top-left-radius:0 !important;border-top-right-radius:100px !important;border-bottom-right-radius:100px !important;border-bottom-left-radius:0 !important;padding-left:2.3em !important}body.janus #jobsearch .inwrap #where.input_text{background:#fff !important;border:2px solid #ececec !important;border-radius:100px !important;color:#4b4b4b !important;font-family:\"Helvetica Neue\",Helvetica,Arial,\"Liberation Sans\",Roboto,Noto,sans-serif;font-size:0.75rem;letter-spacing:0;line-height:1.25rem;font-weight:400;min-height:36px !important;padding:0.5rem 1rem !important}body.janus #jobsearch .inwrap #where.input_text:focus,body.janus #jobsearch .inwrap #where.input_text:active{border-color:#1497ff !important;outline:0 !important}[dir=\"ltr\"] body.janus #jobsearch .inwrap #where.input_text{border-top-left-radius:0 !important;border-top-right-radius:100px !important;border-bottom-right-radius:100px !important;border-bottom-left-radius:0 !important;padding-right:2.5em !important}[dir=\"rtl\"] body.janus #jobsearch .inwrap #where.input_text{border-top-left-radius:100px !important;border-top-right-radius:0 !important;border-bottom-right-radius:0 !important;border-bottom-left-radius:100px !important;padding-left:2.5em !important}body.janus div#g_nav #p_nav{margin-left:20px}body.janus div#g_nav #u_nav{margin-right:18px}body.janus #refineresultscol,body.janus #resultsCol,body.janus #g_nav,body.janus #footerWrapper,body.janus #footer{background-color:#fff}body.janus #refineresultscol .rsList{margin:0 !important}body.janus #refineresultscol .rsList .nji{color:#f60 !important;font-weight:400 !important}body.janus #refineresults{box-sizing:border-box;padding-left:0;padding-right:0}body.janus #refineresults #recPromoDisplay,body.janus #refineresults>div{color:#2d2d2d;padding-left:20px;padding-right:17px}body.janus #refineresults #radius_update{padding-left:20px;padding-right:17px}body.janus #refineresults>div.rbSection{margin-left:4px}body.janus #refineresults>div.rbSection,body.janus #refineresults #radius_update,body.janus #refineresults #recPromoDisplay{margin-bottom:24px;margin-left:3px}body.janus #refineresults span[role=\"heading\"]+div{font-size:14px;font-weight:500;color:#767676;white-space:nowrap;margin-left:3px !important}body.janus #refineresults span[role=\"heading\"]+div .no-wrap{display:block;font-size:12px;margin-top:4px;margin-bottom:24px}body.janus #refineresults span[role=\"heading\"]+div .no-wrap b,body.janus #refineresults span[role=\"heading\"]+div .no-wrap a{font-weight:500 !important}body.janus #refineresults span[role=\"heading\"]+div .no-wrap b{color:#2d2d2d !important}body.janus #refineresults span[role=\"heading\"]+div .no-wrap a:visited{color:#2164f3}body.janus #refineresults h1{padding:0 16px}body.janus #refineresults h1 font{font-size:10px !important;font-weight:400 !important;color:#767676}body.janus #footer{margin:0;padding:1em 24px}body.janus #footerWrapper{width:100%;position:absolute;left:0;right:0}body.janus #resultsCol #bjobalerts{margin-bottom:0 !important}body.janus .footerJaPromoBubble,body.janus #bjobalertswrapper .jaPromoUi{margin-left:16px;margin-right:16px}body.janus #resultsCol #bjobalerts.jaPromoUi{margin-bottom:24px !important}body.janus #branding-td{width:253px !important}body.janus table[role=banner]{width:100%;background-color:#fff;padding-top:24px;padding-bottom:16px;border-bottom:2px solid #f6f6f6}[dir=\"ltr\"] body.janus #refineresultscol,[dir=\"ltr\"] body.janus #resultsCol{border-right:2px solid #f6f6f6}[dir=\"rtl\"] body.janus #refineresultscol,[dir=\"rtl\"] body.janus #resultsCol{border-left:2px solid #f6f6f6}body.janus #resultsCol .row,body.janus #resultsCol .related_searches,body.janus #resultsCol .dupetext,body.janus #footer{border-top:2px solid #f6f6f6}body.janus .rbOpen .more_link{margin-left:2px;margin-top:0 !important}body.janus #refineresultscol #recentsearches{margin-left:0 !important;margin-bottom:24px;padding-left:24px}body.janus #refineresultscol{position:relative}body.janus #refineresultscol #refineresults{padding-top:8px}body.janus #refineresultscol .no-wrap a{color:#2164f3}body.janus #refineresultscol .clearRSControl{margin-bottom:24px}body.janus #radius_update select{padding:4px;width:100%;font-size:12px !important;margin-top:4px}body.janus #resultsCol .row{padding:24px 16px;position:relative;margin-bottom:0}body.janus #resultsCol .row .sjcl,body.janus #resultsCol .row .snip .summary{margin-right:50px}body.janus #resultsCol .row .snip .summary,body.janus #resultsCol .row .ita-snippet{display:block;margin-top:4px !important;margin-bottom:16px}body.janus #resultsCol .row .company,body.janus #resultsCol .row .location,body.janus #resultsCol .row .slNoUnderline,body.janus #resultsCol .row .snip .summary,body.janus #resultsCol .row .ita-snippet,body.janus .result div.row table tr td.snip{font-size:14px}body.janus .div.row table tr td.snip{line-height:1.5 !important}body.janus #resultsCol .jobtitle{margin-bottom:2px;font-weight:700}body.janus #resultsCol h2.jobtitle{margin-right:50px;text-overflow:ellipsis}body.janus #resultsCol h2.jobtitle a{text-decoration:underline !important}body.janus #resultsCol .jobtitle a,body.janus #resultsCol .jobtitle{color:#2164f3 !important}body.janus #resultsCol .jobtitle a:visited,body.janus #resultsCol .jobtitle:visited{color:#767676 !important}body.janus .row .iaP .iaLabel{font-weight:500;color:#f60 !important}body.janus .result .company,body.janus [data-tn-element=reviewStars]:link,body.janus [data-tn-element=reviewStars] .slNoUnderline,body.janus .result .snip,body.janus .result .JobTags-list,body.janus .result .summary,body.janus #resultsCol #bjobalerts,body.janus #resultsCol #primePromo,body.janus .rbOpen .more_link span{color:#4b4b4b !important;width:auto}body.janus .result .experience{font-size:0.75rem;line-height:1.33}body.janus .result .experienceHeader{color:#6f6f6f}body.janus .result .experienceList{color:#4b4b4b}body.janus .result .company a,body.janus .result .turnstileLink .slNoUnderline{color:#2d2d2d !important;font-weight:500}body.janus .result .company a{color:#000 !important;font-weight:500}body.janus .result .turnstileLink .slNoUnderline{font-weight:400 !important}body.janus .result .more-link,body.janus .result .more_loc{font-size:11px;color:#2164f3}body.janus #resultsCol .related_searches,body.janus #resultsCol .ws_content,body.janus #resultsCol .more_actions,body.janus #resultsCol .dupetext,body.janus #resultsCol .showing{font-size:12px}body.janus #resultsCol .related_searches{padding:24px 16px 0;margin-bottom:0}body.janus #resultsCol .related_searches b{font-weight:700}body.janus #resultsCol .related_searches a{color:#000;border-right:0}body.janus #resultsCol .related_searches .rightBorder{border-right:0;margin-right:0;padding-right:0}body.janus #resultsCol .related_searches .rightBorder:after{content:'-';margin-left:3px;margin-right:3px}body.janus #resultsCol .related_searches .related_searches_list{margin-bottom:24px}body.janus #resultsCol #resumePromo{color:#4b4b4b;margin:0;padding:24px 16px;padding-top:0 !important;margin-top:12px !important;position:relative;font-weight:700}body.janus #resultsCol #resumePromo .new-ico{display:none}body.janus #resultsCol #resumePromo .resume-promo-link{color:#2164f3}body.janus #resultsCol #resumePromo .resume-promo-link b{font-weight:700}body.janus #resultsCol .ws_content,body.janus #resultsCol .more_actions{background:#ececec;border:0 !important;margin-top:16px}body.janus #resultsCol .ws_content a,body.janus #resultsCol .more_actions a{color:#2164f3}body.janus #resultsCol .dupetext{color:#4b4b4b;margin-bottom:0;margin-top:0 !important;padding:16px}body.janus #resultsCol .dupetext a{color:#2164f3;font-weight:700}body.janus #resultsCol #recPromoDisplayPageLast{padding:0 12px;margin:0}body.janus #resultsCol #recPromoDisplayPageLast a{margin-left:4px;color:#2164f3 !important}body.janus #resultsCol .jaui{background-color:#fff;border-top:2px solid #f6f6f6;border-bottom:2px solid #f6f6f6;padding:16px}body.janus #resultsCol .jaui .ico{display:none}body.janus #resultsCol .showing{color:#2d2d2d;margin-bottom:0 !important;padding:0 16px 8px !important;margin-top:8px !important;font-weight:500}body.janus #resultsCol .showing b,body.janus #resultsCol .showing a{font-weight:500 !important}body.janus #resultsCol .showing b{color:#2d2d2d !important}body.janus #resultsCol .showing a{color:#2164f3}body.janus #resultsCol .showing a:visited{color:#2164f3}body.janus #resultsCol #searchCount{margin:0 !important;color:#767676;font-size:12px}body.janus #resultsCol .resultsTop{padding:0;margin-bottom:0}body.janus #resultsCol .pagination{border-bottom:2px solid #f6f6f6 !important;margin-top:-2px !important;margin-bottom:0 !important;padding:24px 16px 32px;color:#767676;font-size:12px;font-weight:500;text-align:left;margin-right:-28px}body.janus #resultsCol .pagination .pn,body.janus #resultsCol .pagination .np,body.janus #resultsCol .pagination b{font-size:16px;font-weight:700}body.janus #resultsCol .pagination b{color:#000;margin-left:4px}body.janus #resultsCol .pagination a{margin-left:4px}body.janus #resultsCol .pagination a,body.janus #resultsCol .pagination a .pn{color:#2164f3 !important}body.janus .lastRow+div+div{margin-bottom:0 !important}body.janus #footer #secondary_nav .gaj_heading{margin-left:-1em;font-weight:700}body.janus #footer #secondary_nav a{color:#000}body.janus #footer #secondary_nav .origin_site_link a{color:#2164f3}body.janus #footer #secondary_nav,body.janus #footer #footer-legal{text-align:left;font-size:11px}body.janus #resultsCol .footerJaPromoBubble{margin-top:0 !important}body.janus #resultsCol #primePromo,body.janus #resultsCol #searchCount,body.janus #resultsCol .messageContainer{padding-left:16px;padding-right:16px}body.janus #resultsCol #primePromo a{color:#2164f3}body.janus #resultsCol .messageContainer .message{color:#000;margin:0;padding:8px 0}body.janus #resultsCol{position:relative;margin-top:8px !important;padding-right:0 !important}body.janus #resultsCol .messageContainer{border-bottom:2px solid #f6f6f6;margin-top:-2px}body.janus #resultsCol .no_results{padding-left:0;width:auto !important}body.janus #resultsCol .bad_query>h2,body.janus #resultsCol #suggested_queries,body.janus #resultsCol #search_suggestions{padding:12px 16px}body.janus .no_results{padding-left:0;width:auto !important}body.janus .no_results .bad_query div{width:auto !important}body.janus .no_results #suggested_queries{border-bottom:2px solid #f6f6f6}body.janus .no_results hr{display:none}body.janus .no_results #recommendations{font-size:14px;font-weight:700;padding:16px 16px 10px}body.janus .no_results #recommendations .row{margin-left:-16px;margin-right:-16px;font-weight:400}body.janus .no_results #recommendations .row.lastRow{border-bottom:2px solid #f6f6f6}body.janus .no_results #recommendations #bviewmorerecs a{color:#000 !important}body.janus #auxCol{padding-top:24px;padding-left:24px}body.janus #auxCol .jaui,body.janus #auxCol #femp_list,body.janus #univsrch-salary-v3 #univsrch-salary-info,body.janus .cmp_display .cmp_info,body.janus .rezcta_display .rezcta_info,body.janus .rightRail{border:0 !important;border-top:6px solid #ffca4f !important;background-color:#fff;box-shadow:none !important;color:#767676;font-size:12px;font-weight:400}body.janus #auxCol .ja_rec_confirm_ui_tst{border:0;border-top:6px solid #ffca4f !important}body.janus #auxCol #tjobalerts,body.janus #auxCol #jobalerts{border-radius:0 !important}body.janus #auxCol .ja_rec_confirm_ui_tst,body.janus #tjobalerts .jobalertlabel,body.janus #jobalerts .jobalertlabel,body.janus #femp_list .femp_header,body.janus #univsrch-salary-v3 #univsrch-salary-title{padding:12px 16px !important;border-bottom:2px solid #f6f6f6;background-color:#fff;font-size:12px;color:#4b4b4b;font-weight:500}body.janus #auxCol .ja_rec_confirm_ui_tst h4,body.janus #auxCol .ja_rec_action_text{font-size:12px;color:#4b4b4b}body.janus #tjobalerts.jaui .member,body.janus #jobalerts.jaui .member,body.janus #femp_list .femp_header,body.janus #univsrch-salary-v3 #univsrch-salary-title{color:#4b4b4b !important;font-weight:500}body.janus #tjobalerts .jobalertlabel,body.janus #jobalerts .jobalertlabel,body.janus #auxCol .ja_rec_confirm_ui_tst h4,body.janus #univsrch-salary-v3 #univsrch-salary-eval,body.janus #femp_list .femp_header,body.janus #univsrch-salary-v3 #univsrch-salary-title{margin:0}body.janus #auxCol .jaui{padding:0}body.janus #ja_active_check,body.janus #tjobalerts .jobalertlabel .ico,body.janus #jobalerts .jobalertlabel .ico{display:none}body.janus #jobalerts #jobalertmessage,body.janus #tjobalerts #tjobalertmessage{padding-top:0 !important}body.janus #tjobalerts #tjobalertmessage,body.janus #jobalerts #jobalertmessage,body.janus #femp_list .femp_item,body.janus #tjobalertswrapper .ja_rec_ui_tst_box,body.janus #jobalertswrapper .ja_rec_ui_tst_box,body.janus #univsrch-salary-v3 #univsrch-salary-eval{background-color:#fff;border:0;color:#767676;font-size:12px;font-weight:400;line-height:1.5;padding:16px}body.janus #tjobalerts #tjobalertmessage a,body.janus #tjobalerts #tjobalertmessage a.jobtitle,body.janus #jobalerts #jobalertmessage a,body.janus #jobalerts #jobalertmessage a.jobtitle,body.janus #femp_list .femp_item a,body.janus #femp_list .femp_item a.jobtitle,body.janus #tjobalertswrapper .ja_rec_ui_tst_box a,body.janus #tjobalertswrapper .ja_rec_ui_tst_box a.jobtitle,body.janus #jobalertswrapper .ja_rec_ui_tst_box a,body.janus #jobalertswrapper .ja_rec_ui_tst_box a.jobtitle,body.janus #univsrch-salary-v3 #univsrch-salary-eval a,body.janus #univsrch-salary-v3 #univsrch-salary-eval a.jobtitle{color:#2164f3 !important;font-weight:500;font-size:12px}body.janus #jobalerts #jobalerttext:not(:empty),body.janus #tjobalerts #tjobalerttext:not(:empty){padding-top:16px;padding-left:16px;padding-right:16px;display:block}body.janus #univsrch-salary-v3 #univsrch-salary-rates>#univsrch-salary-currentsalary.v3{color:#000;font-size:16px}body.janus #jobalerts #jobalertsending,body.janus #tjobalerts #tjobalertsending{margin:16px;display:block}body.janus .jaui .ws_label,body.janus .jaui .ws_label_open,body.janus .jaui .member{color:#2164f3}body.janus .related_searches_right-rail{border:0 !important;border-top:6px solid #ffca4f !important;background-color:#fff;box-shadow:none !important;color:#767676;font-size:12px;font-weight:400;margin-top:2em;width:inherit}body.janus .related_searches_right-rail_title{padding:12px 16px !important;border-bottom:2px solid #f6f6f6;background-color:#fff;font-size:12px;color:#4b4b4b;font-weight:500}body.janus .related_searches_right-rail_list{background-color:#fff;border:0;color:#767676;font-size:12px;font-weight:400;line-height:1.5;padding:16px;padding:16px 16px 20px;margin:0}body.janus .related_searches_right-rail_list .related_searches_right-rail_list-item{list-style-type:none}body.janus .related_searches_right-rail_list .related_searches_right-rail_list-item_with-border{display:inline}body.janus .related_searches_right-rail_list .related_searches_right-rail_list-item_with-border:not(last-child):after{content:'-';margin-left:3px;margin-right:3px}body.janus #jobsearch{padding-left:24px !important}body.janus #jobsearch .label,body.janus #jobsearch .label label,body.janus .lav .jsf .label,body.janus .result .location,body.janus #resultsCol .more_actions ul li .mat{color:#767676}body.janus .footer{height:50px;border-top-width:2px;padding:9px 0}body.janus #footerMainLinks{margin:10px 0 -5px}body.janus #resultsBody .indeed-apply-button{background-color:#fff !important;background-image:none !important;border:2px solid #ececec !important;color:#085ff7 !important;border-radius:100px !important;font-size:0.875rem;letter-spacing:0;line-height:1.25rem;font-weight:700;line-height:24px;padding:0.5rem 1.5rem !important;background-image:none !important;padding:0 !important;box-shadow:none !important;height:auto !important;border-color:#ececec !important}body.janus #resultsBody .indeed-apply-button:hover{color:#1497ff !important;background-color:#fff !important;border-color:#ececec !important}body.janus #resultsBody .indeed-apply-button .indeed-apply-button-inner{background:#fff;background-image:none !important;border:2px solid transparent;border-radius:100px !important;box-shadow:none !important;box-sizing:border-box;color:#085ff7;max-width:100% !important;text-shadow:none !important}body.janus #resultsBody .indeed-apply-button:hover{border-color:#1497ff !important;background-color:none !important;background-image:none !important}body.janus #resultsBody .indeed-apply-button:hover .indeed-apply-button-inner{background-image:none !important}body.janus #resultsBody .indeed-apply-button:hover .indeed-apply-button-label{color:#1497ff}body.janus #resultsBody .indeed-apply-button .indeed-apply-button-label{color:#085ff7;line-height:25px;padding:3px 14px;border-radius:0 !important}body.janus #alertemail,body.janus #talertemail,body.janus #balertemail{background:#fff !important;border:2px solid #ececec !important;border-radius:100px !important;color:#4b4b4b !important;font-family:\"Helvetica Neue\",Helvetica,Arial,\"Liberation Sans\",Roboto,Noto,sans-serif;font-size:0.75rem;letter-spacing:0;line-height:1.25rem;font-weight:400;min-height:36px !important;padding:0.5rem 1rem !important}body.janus #alertemail:focus,body.janus #alertemail:active,body.janus #talertemail:focus,body.janus #talertemail:active,body.janus #balertemail:focus,body.janus #balertemail:active{border-color:#1497ff !important;outline:0 !important}body.janus #resultsCol #balertemail{border-top-left-radius:100px !important;border-top-right-radius:0 !important;border-bottom-right-radius:0 !important;border-bottom-left-radius:100px !important;margin-right:-5px}body.janus #resultsCol #balertsubmit{border-top-left-radius:0 !important;border-top-right-radius:100px !important;border-bottom-right-radius:100px !important;border-bottom-left-radius:0 !important;position:relative;top:0 !important;left:-2px}body.janus #balertsubmit,body.janus #talertsubmit,body.janus #alertsubmit{background-color:#fff !important;background-image:none !important;border:2px solid #ececec !important;color:#085ff7 !important;border-radius:100px !important;font-size:0.75rem;letter-spacing:0;line-height:1.25rem;font-weight:700;line-height:24px;padding:4px 1.5rem !important;min-height:35px;min-width:100px}body.janus #balertsubmit:hover,body.janus #talertsubmit:hover,body.janus #alertsubmit:hover{color:#1497ff !important;background-color:#fff !important;border-color:#ececec !important}body.janus #jobalertmessage .indeed-serp-button,body.janus #tjobalertmessage .indeed-serp-button,body.janus #balertsubmit .indeed-serp-button,body.janus #tjobalertmessage span,body.janus #jobalertmessage span,body.janus #bjobalertmessage span{box-shadow:none !important;text-shadow:none !important;border-radius:0 !important;border:0 !important;font-weight:400 !important;background:none !important;height:auto !important}body.janus .jobalertform-terms-outer-wrapper .jobalertform-terms-inner-wrapper{background:#fff !important;height:auto !important}body.janus #bjobalertmessage .indeed-serp-button{margin-left:4px;margin-top:-1px}body.janus #pageContent .relatedQuerySpacing{border:0;border-bottom:2px solid #f6f6f6;padding:16px;margin:0}body.janus #pageContent .relatedQuerySpacing .grayText{color:#4b4b4b;font-size:12px;margin-bottom:2px}body.janus .rbOpen .rbHeader{padding-left:2px !important}body.janus .rsList li{color:#767676;margin:9px 0 !important}body.janus .rsList li a{color:#2164f3 !important;font-size:12px}body.janus .rbList{margin-left:2px !important;margin-bottom:16px}body.janus .rbList li{position:relative;color:#4b4b4b !important;margin:8px 0 !important;color:#6f6f6f !important}[dir=\"ltr\"] body.janus .rbList li{text-align:right}[dir=\"rtl\"] body.janus .rbList li{text-align:left}body.janus .rbList li a{overflow:hidden;text-overflow:ellipsis;color:#2d2d2d !important;font-weight:400;font-size:12px;max-width:75%}[dir=\"ltr\"] body.janus .rbList li a{float:left;text-align:left;padding-right:12px}[dir=\"rtl\"] body.janus .rbList li a{float:right;text-align:right;padding-left:12px}body.janus #bviewrecs,body.janus #bviewmorerecs{align-items:baseline;display:-ms-flexbox;display:flex;justify-content:space-around;-ms-flex-order:1;order:1}body.janus #bviewrecs .recDecoration,body.janus #bviewmorerecs .recDecoration{display:none;-ms-flex-order:4;order:4}body.janus #bviewrecs a,body.janus #bviewmorerecs a{padding:0 1em;-ms-flex-order:2;order:2;flex-grow:2}body.janus #bviewrecs .nji.recDecoration,body.janus #bviewmorerecs .nji.recDecoration{float:none;-ms-flex-order:3;order:3;position:relative;display:flex;margin:0;font-weight:400}body.janus #bviewrecs .nji.recDecoration::after,body.janus #bviewmorerecs .nji.recDecoration::after{display:block;padding-left:12px;content:url(\"data:image/svg+xml,%3Csvg xmlns='http://www.w3.org/2000/svg' viewBox='3 3 19 19' width='16' height='16'%3E%3Cg%3E%3Cpath fill='#CCC' d='M10 6L8.59 7.41 13.17 12 8.59 16.59 10 18l6-6Z'/%3E%3C/g%3E%3C/svg%3E\");margin-top:-1px}[dir=\"rtl\"] body.janus #bviewrecs .nji.recDecoration::after,[dir=\"rtl\"] body.janus #bviewmorerecs .nji.recDecoration::after{transform:rotate(180deg);margin-top:-3px}body.janus #serpRecommendations{border-top:2px solid #f6f6f6}body.janus #serpRecommendations .brdr{display:none}body.janus #serpRecommendations #bviewmorerecs{border-top:2px solid #f6f6f6;padding:16px 16px 2px}body.janus #serpRecommendations #bviewmorerecs a{color:#000 !important;font-size:16px;font-weight:500 !important}body.janus #serpRecommendations .recTitle{font-size:16px;font-weight:500;padding:0 16px}body.janus #bviewrecs{margin-top:0 !important}body.janus #popover-foreground{border-top:6px solid #ffca4f}body.janus #popover-foreground #popover-form-container{padding-top:0}body.janus #popover-foreground .popover-heading-container{border-bottom:2px solid #f6f6f6;margin:-10px -25px 25px;padding-bottom:15px}body.janus #popover-foreground .popover-heading-container .envelope{display:none}body.janus #popover-foreground #popover-x{margin-top:-18px}body.janus #popover-foreground .popover-heading{margin-left:25px;margin-right:25px;font-size:14px}body.janus #popover-foreground .popover-input{border:2px solid #ccc;border-radius:100px;padding:6px 15px;font-size:14px;box-sizing:border-box;height:37px;width:100%}body.janus #popover-foreground .popover-small.caption{font-size:12px;color:#767676;padding-bottom:4px;display:block}body.janus #popover-foreground .cleanuptst-indeed-serp-button{box-shadow:none !important;text-shadow:none !important;border-radius:0 !important;border:0 !important;font-weight:400 !important;background-image:none !important;background-color:#085ff7 !important;border:2px solid #085ff7;border-radius:100px !important;color:#fff;font-weight:500 !important;padding:2px 24px;font-size:14px}body.janus #popover-foreground .cleanuptst-indeed-serp-button:hover{background-color:#1497ff !important;border-color:#1497ff !important}body.janus #popover-foreground #popover-close-link{font-weight:400 !important}body.janus #postJobClickCta [dir] .icl-Button.icl-Button--primary.cta_button.blue{box-shadow:none !important;text-shadow:none !important;background-image:none !important;background-color:#085ff7 !important;border:2px solid #085ff7 !important;color:#fff !important;border-radius:100px !important;font-size:0.875rem;letter-spacing:0;line-height:1.25rem;font-weight:700;line-height:24px;padding:0.5rem 1.5rem !important}body.janus #postJobClickCta [dir] .icl-Button.icl-Button--primary.cta_button.blue:hover{background-color:#1497ff !important;border-color:#1497ff !important}body.janus #postJobClickCta [dir] .icl-Button.icl-Button--primary.cta_button.blue:disabled{color:#ccc !important;background-color:#fff !important;border-color:#fff !important}body.janus .univsrch-ci-logo{height:98px !important}body.janus .ja_col .ja_rec_ico_white{background-image:url(\"data:image/svg+xml;base64,PD94bWwgdmVyc2lvbj0iMS4wIiBlbmNvZGluZz0iVVRGLTgiPz48c3ZnIHdpZHRoPSIyNHB4IiBoZWlnaHQ9IjE4cHgiIHZpZXdCb3g9IjAgMCAyNCAxOCIgdmVyc2lvbj0iMS4xIiB4bWxucz0iaHR0cDovL3d3dy53My5vcmcvMjAwMC9zdmciIHhtbG5zOnhsaW5rPSJodHRwOi8vd3d3LnczLm9yZy8xOTk5L3hsaW5rIj4gICAgICAgIDx0aXRsZT5JY29uL0RlY29yYXRpdmUvU3Vic2NyaXB0aW9ucy9NRDwvdGl0bGU+ICAgIDxkZXNjPkNyZWF0ZWQgd2l0aCBTa2V0Y2guPC9kZXNjPiAgICA8ZGVmcz48L2RlZnM+ICAgIDxnIGlkPSJEUy0yNjItLS1JY29ucy1Db21wb25lbnQiIHN0cm9rZT0ibm9uZSIgc3Ryb2tlLXdpZHRoPSIxIiBmaWxsPSJub25lIiBmaWxsLXJ1bGU9ImV2ZW5vZGQiIHRyYW5zZm9ybT0idHJhbnNsYXRlKC00MTcuMDAwMDAwLCAtMTgxNC4wMDAwMDApIj4gICAgICAgIDxnIGlkPSJJY29uL0RlY29yYXRpdmUvU3Vic2NyaXB0aW9ucy9NRCIgdHJhbnNmb3JtPSJ0cmFuc2xhdGUoNDE3LjAwMDAwMCwgMTgxMS4wMDAwMDApIj4gICAgICAgICAgICA8cG9seWdvbiBpZD0iU2hhcGUiIHBvaW50cz0iMCAwIDI0IDAgMjQgMjQgMCAyNCI+PC9wb2x5Z29uPiAgICAgICAgICAgIDxwb2x5Z29uIGlkPSJGaWxsLTEiIGZpbGw9IiNGRkQzNUMiIGZpbGwtcnVsZT0iZXZlbm9kZCIgcG9pbnRzPSIwIDMuOTk5OSAxMiAxMy45MTU5IDI0IDMuOTk5OSI+PC9wb2x5Z29uPiAgICAgICAgICAgIDxwYXRoIGQ9Ik0wLDIxIEwyNCwyMSBMMjQsMyBMMCwzIEwwLDIxIFogTTIuNzc3LDUgTDIxLjIyMyw1IEwxMiwxMi43NDQgTDIuNzc3LDUgWiBNMjIsNS42MDMgTDIyLDE5IEwyLDE5IEwyLDUuNjAzIEwxMiwxNCBMMjIsNS42MDMgWiIgaWQ9IkZpbGwtMiIgZmlsbD0iIzAwMDAwMCIgZmlsbC1ydWxlPSJldmVub2RkIj48L3BhdGg+ICAgICAgICA8L2c+ICAgIDwvZz48L3N2Zz4=\");background-size:18px 12px}body.janus .rightRailAd.singleImageAd{background:#fff;border:none;padding:0 0 16px}body.janus .rightRailAd.singleImageAd .sdn{color:#767676 !important}body.janus #univsrch-sal-distribution ul>li.univsrch-sal-highlight{background-color:#ffdc7a}body.janus #univsrch-ci{padding-left:0px;margin-left:16px;margin-top:8px}body.janus #univsrch-ci .univsrch-ci-block{border:2px solid #f6f6f6;border-radius:2px;padding:8px 8px 4px;margin-right:16px}body.janus #univsrch-ci .univsrch-ci-block .univsrch-ci-logo-small{margin-right:8px}body.janus #univsrch-ci .univsrch-ci-block .univsrch-ci-ratings{margin-left:4px}body.janus #univsrch-ci .univsrch-ci-block .univsrch-ci-acme-link a{font-size:12px;line-height:1.5;margin-right:32px}body.janus #univsrch-ci #univsrch-ci-prompt{padding-top:8px;padding-bottom:8px}body.janus #wfh-prompt{font-style:italic;padding-top:8px;padding-bottom:8px;padding-left:15px}body.janus #jobsearch .inwrap #what.input_text{background:#fff !important;border:2px solid #ececec !important;border-radius:100px !important;color:#4b4b4b !important;font-family:\"Helvetica Neue\",Helvetica,Arial,\"Liberation Sans\",Roboto,Noto,sans-serif;font-size:0.75rem;letter-spacing:0;line-height:1.25rem;font-weight:400;min-height:36px !important;padding:0.5rem 1rem !important}body.janus #jobsearch .inwrap #what.input_text:focus,body.janus #jobsearch .inwrap #what.input_text:active{border-color:#1497ff !important;outline:0 !important}[dir=\"ltr\"] body.janus #jobsearch .inwrap #what.input_text{border-top-left-radius:100px !important;border-top-right-radius:0 !important;border-bottom-right-radius:0 !important;border-bottom-left-radius:100px !important;padding-right:2.3em !important}[dir=\"rtl\"] body.janus #jobsearch .inwrap #what.input_text{border-top-left-radius:0 !important;border-top-right-radius:100px !important;border-bottom-right-radius:100px !important;border-bottom-left-radius:0 !important;padding-left:2.3em !important}body.janus #jobsearch .inwrap #where.input_text{background:#fff !important;border:2px solid #ececec !important;border-radius:100px !important;color:#4b4b4b !important;font-family:\"Helvetica Neue\",Helvetica,Arial,\"Liberation Sans\",Roboto,Noto,sans-serif;font-size:0.75rem;letter-spacing:0;line-height:1.25rem;font-weight:400;min-height:36px !important;padding:0.5rem 1rem !important}body.janus #jobsearch .inwrap #where.input_text:focus,body.janus #jobsearch .inwrap #where.input_text:active{border-color:#1497ff !important;outline:0 !important}[dir=\"ltr\"] body.janus #jobsearch .inwrap #where.input_text{border-top-left-radius:0 !important;border-top-right-radius:100px !important;border-bottom-right-radius:100px !important;border-bottom-left-radius:0 !important;padding-right:2.5em !important}[dir=\"rtl\"] body.janus #jobsearch .inwrap #where.input_text{border-top-left-radius:100px !important;border-top-right-radius:0 !important;border-bottom-right-radius:0 !important;border-bottom-left-radius:100px !important;padding-left:2.5em !important}body.janus .lnav td{padding-bottom:0}body.janus .ltr #branding img{margin-left:32px !important;margin-bottom:0 !important;margin-top:10px !important}body.janus div#g_nav table{margin-top:-8px}body.janus table[role=\"banner\"]{padding-bottom:7px !important;padding-top:8px !important}body.janus #jobsearch #what_label_top,body.janus #jobsearch #where_label_top{color:#4b4b4b !important;font-size:12px !important;font-weight:500 !important;line-height:16px !important;padding-bottom:4px !important}body.janus #jobsearch .inwrap #where,body.janus #jobsearch .inwrap #what{background-color:#fff;height:36px !important}body.janus #jobsearch .inwrap #what.input_text{background:#fff !important;border:2px solid #ececec !important;border-radius:100px !important;color:#4b4b4b !important;font-family:\"Helvetica Neue\",Helvetica,Arial,\"Liberation Sans\",Roboto,Noto,sans-serif;font-size:0.75rem;letter-spacing:0;line-height:1.25rem;font-weight:400;min-height:36px !important;padding:0.5rem 1rem !important}body.janus #jobsearch .inwrap #what.input_text:focus,body.janus #jobsearch .inwrap #what.input_text:active{border-color:#1497ff !important;outline:0 !important}[dir=\"ltr\"] body.janus #jobsearch .inwrap #what.input_text{border-top-left-radius:100px !important;border-top-right-radius:0 !important;border-bottom-right-radius:0 !important;border-bottom-left-radius:100px !important;padding-right:2.3em !important}[dir=\"rtl\"] body.janus #jobsearch .inwrap #what.input_text{border-top-left-radius:0 !important;border-top-right-radius:100px !important;border-bottom-right-radius:100px !important;border-bottom-left-radius:0 !important;padding-left:2.3em !important}body.janus #jobsearch .inwrap #where.input_text{background:#fff !important;border:2px solid #ececec !important;border-radius:100px !important;color:#4b4b4b !important;font-family:\"Helvetica Neue\",Helvetica,Arial,\"Liberation Sans\",Roboto,Noto,sans-serif;font-size:0.75rem;letter-spacing:0;line-height:1.25rem;font-weight:400;min-height:36px !important;padding:0.5rem 1rem !important}body.janus #jobsearch .inwrap #where.input_text:focus,body.janus #jobsearch .inwrap #where.input_text:active{border-color:#1497ff !important;outline:0 !important}[dir=\"ltr\"] body.janus #jobsearch .inwrap #where.input_text{border-top-left-radius:0 !important;border-top-right-radius:100px !important;border-bottom-right-radius:100px !important;border-bottom-left-radius:0 !important;padding-right:2.5em !important}[dir=\"rtl\"] body.janus #jobsearch .inwrap #where.input_text{border-top-left-radius:100px !important;border-top-right-radius:0 !important;border-bottom-right-radius:0 !important;border-bottom-left-radius:100px !important;padding-left:2.5em !important}body.janus #jobsearch #what_label_bot,body.janus #jobsearch #where_label_bot,body.janus #jobsearch #what_label,body.janus #jobsearch #where_label{padding-top:4px !important}body.janus #resultsCol #primePromo,body.janus #resultsCol #resumePromo{margin-bottom:0 !important;margin-top:8px !important;padding:8px 16px !important;padding-top:0 !important;border-bottom:2px solid #f6f6f6}body.janus #refineresultscol #refineresults{padding-left:10px !important}body.janus #resultsCol .row{border-top:0 !important;padding:8px 16px !important}body.janus #resultsCol .row .snip .summary{margin-bottom:2px !important}body.janus #resultsCol .jobtitle a:visited,body.janus #resultsCol .jobtitle:visited{color:#5a38d6 !important}body.janus #resultsCol .row .snip .summary{font-size:12px !important}body.janus .result .iaP{display:block;margin-bottom:4px}body.janus .result .iaP .iaLabel{font-weight:400 !important}body.janus #resultsCol .pagination,body.janus #resultsCol .related_searches{border-top:0}body.janus .close-link.closeLink{background-image:url(\"data:image/svg+xml;base64,PHN2ZyB4bWxucz0iaHR0cDovL3d3dy53My5vcmcvMjAwMC9zdmciIHdpZHRoPSIxMiIgaGVpZ2h0PSIxMiI+PGcgZmlsbD0ibm9uZSIgZmlsbC1ydWxlPSJldmVub2RkIiBzdHJva2U9IiMwMDAiIHN0cm9rZS13aWR0aD0iMiI+PHBhdGggZD0iTTEwLjUxIDFMMSAxMC41MU0xIDFsOS41MSA5LjUxIi8+PC9nPjwvc3ZnPg==\");background-position:center;height:12px;width:12px;margin-right:12px;margin-top:12px}body.janus #resultsCol #resumePromo{padding-left:16px !important}body.janus #serpRecommendations .recTitle{position:relative;padding-left:42px !important}body.janus #serpRecommendations .recTitle:before{background-position:left center;background-repeat:no-repeat;background-size:contain;content:'';display:block;position:absolute;background-image:url(\"data:image/svg+xml;base64,PHN2ZyB4bWxucz0naHR0cDovL3d3dy53My5vcmcvMjAwMC9zdmcnIHdpZHRoPScyNCcgaGVpZ2h0PScyMicgdmlld0JveD0nMCAwIDI0IDIyJz48ZyBmaWxsPSdub25lJz48ZyB0cmFuc2Zvcm09J3RyYW5zbGF0ZSgtMzMwIC0xNzU4KXRyYW5zbGF0ZSgzMzAgMTc1OCknPjxwYXRoIGQ9J00xNy43IDE5LjlMMTYuNiAxMy41IDIxLjMgOSAxNC45IDguMSAxMiAyLjMgOS4xIDguMSAyLjcgOSA3LjQgMTMuNSA2LjMgMTkuOSAxMiAxNi45IDE3LjcgMTkuOVonIHN0eWxlPSdzdHJva2Utd2lkdGg6MjtzdHJva2U6IzAwMCcvPjxwb2x5Z29uIHBvaW50cz0nMTIgMTQuNSA5LjEgMTYgOS42IDEyLjggNy4yIDEwLjUgMTAuNSAxMCAxMiA3IDEzLjUgMTAgMTYuOCAxMC41IDE0LjQgMTIuOCAxNC45IDE2JyBmaWxsPScjRkZDQTRGJy8+PC9nPjwvZz48L3N2Zz4K\") !important;width:18px;height:18px;left:16px}body.janus #refineresultscol .more_link span{display:inline-block;overflow:hidden;white-space:nowrap}[dir=\"ltr\"] body.janus #refineresultscol .more_link span{padding-left:24px}[dir=\"rtl\"] body.janus #refineresultscol .more_link span{padding-right:24px}body.janus #refineresultscol .more_link span:before{background-position:left center;background-repeat:no-repeat;background-size:contain;content:'';display:block;position:absolute;background-image:url(\"data:image/svg+xml;base64,PHN2ZyB4bWxucz0iaHR0cDovL3d3dy53My5vcmcvMjAwMC9zdmciIHdpZHRoPSIyMCIgaGVpZ2h0PSIyMCI+PGcgZmlsbD0ibm9uZSIgZmlsbC1ydWxlPSJldmVub2RkIj48cGF0aCBmaWxsPSIjMTk1RkY3IiBkPSJNNSA5aDEwdjJINXoiLz48cGF0aCBmaWxsPSIjMTk1RkY3IiBkPSJNOSAxNVY1aDJ2MTB6Ii8+PGNpcmNsZSBjeD0iMTAiIGN5PSIxMCIgcj0iOSIgc3Ryb2tlPSIjRUNFQ0VDIiBzdHJva2Utd2lkdGg9IjIiLz48L2c+PC9zdmc+\");height:20px;width:20px;margin-top:-3px}[dir=\"ltr\"] body.janus #refineresultscol .more_link span:before{margin-left:-24px}[dir=\"rtl\"] body.janus #refineresultscol .more_link span:before{margin-right:-24px}body.janus .result-link-bar-container .result-link-bar .save-job-link{color:#2164f3 !important;font-size:12px;line-height:1.2}body.janus .result-link-bar-container{display:inline-block;color:transparent}body.janus .result-link-bar .date,body.janus .row .result-link-source,body.janus .row .sponsoredGray,body.janus .row .myjobs-serp-link,body.janus .result-link-bar a[href*='/myjobs?from=serp'],body.janus .row .sdn,body.janus .row .iaP .iaLabel,body.janus .result .more-link,body.janus .result-link-bar-container .sl{border-bottom:0 !important;color:#6f6f6f !important;display:inline-block;font-size:12px;line-height:1.167 !important}body.janus .row .iaP .iaLabel{color:#f60 !important}body.janus .iaP{display:inline-block;font-weight:400;margin-right:10px}body.janus #resultsCol .jobtitle a,body.janus #resultsCol .jobtitle{color:#000 !important;text-decoration:underline !important}body.janus #resultsCol .jobtitle a.visited,body.janus #resultsCol .jobtitle.visited{color:#5a38d6 !important}body.janus #resultsCol .jobtitle a:hover,body.janus #resultsCol .jobtitle:hover{text-decoration:none !important}body.janus #resultsCol h2.jobtitle{text-decoration:none !important}body.janus #recPromoDisplay a{color:#2164f3 !important}body.janus .row .new{border-color:#fff !important;color:#f60 !important}body.janus #refineresultscol #refineresults{padding-left:8px !important;margin-left:0px !important}body.janus #resultsCol{border-right:0 !important;padding-bottom:0 !important}body.janus #resultsCol .messageContainer{border:0 !important}body.janus .vjs-highlight:after,body.janus .vjs-highlight:before{display:none !important}body.janus #footer{border-top:0 !important}body.janus #footerWrapper{border-color:#F6F6F6 !important}body.janus #resultsCol .row.result{margin-right:0 !important;padding-left:12px !important;box-sizing:border-box !important;overflow:hidden !important;border:0px solid transparent !important}[dir=\"ltr\"] body.janus #resultsCol .row.result{border-left:4px solid transparent !important}[dir=\"rtl\"] body.janus #resultsCol .row.result{border-right:4px solid transparent !important}body.janus #resultsCol .row.result .jobtitle{margin-right:0 !important}body.janus #resultsCol .row.result .jobtitle a{display:inline-block !important;text-overflow:ellipsis}[dir=\"ltr\"] body.janus #resultsCol .row.result .sjcl,[dir=\"ltr\"] body.janus #resultsCol .row.result .summary{margin-left:0 !important;margin-right:24px !important}[dir=\"rtl\"] body.janus #resultsCol .row.result .sjcl,[dir=\"rtl\"] body.janus #resultsCol .row.result .summary{margin-right:0 !important;margin-left:24px !important}body.janus #resultsCol .row.result.vjs-highlight{background:#f6f6f6 !important;border-color:#ffca4f !important;border-bottom-color:transparent !important}[dir=\"ltr\"] body.janus #resultsCol .row.result.vjs-highlight{border-right-color:transparent !important}[dir=\"rtl\"] body.janus #resultsCol .row.result.vjs-highlight{border-left-color:transparent !important}body.janus #resultsCol .row.result:hover{border-color:transparent !important}body.janus #resultsCol .row.result:hover .jobtitle a{text-decoration:underline !important}body.janus #resultsCol .row.clickcard{border-bottom-color:transparent !important;border-right-color:transparent !important;border-top-color:transparent !important;border-left-color:transparent !important}body.janus #resultsCol .row.clickcard:hover{border-bottom-color:transparent !important;border-right-color:transparent !important;border-top-color:transparent !important;border-left-color:transparent !important}body.janus #resultsCol .row.clickcard:hover .jobtitle a{text-decoration:underline !important}body.janus #resultsCol .row.clickcard:hover{background-color:#f9f9f9 !important}body.janus #vjs-container{margin-top:24px !important;margin-bottom:24px !important;margin-left:0 !important;border:none !important}body.janus #vjs-container #vjs-header{border-top:8px solid #ffca4f !important;box-shadow:0 5px 6px -6px #000}body.janus #vjs-container #vjs-header .job-footer-button-row{margin-top:8px !important}body.janus #vjs-container #vjs-header #vjs-cmL{max-height:52px}[lang=\"en\"] body.janus #vjs-container .indeed-apply-button-container{width:48% !important;display:inline-block}body.janus #vjs-container .indeed-apply-button-placeholder{cursor:pointer}body.janus #vjs-container .indeed-apply-button,body.janus #vjs-container .indeed-apply-button-placeholder{background:transparent !important;background-color:#f60 !important;border:2px solid #f60 !important;color:#fff !important;border-radius:100px !important;font-size:0.875rem;letter-spacing:0;line-height:1.25rem;font-weight:700;line-height:24px;padding:0.5rem 1.5rem !important;margin:8px 16px 0 0 !important;line-height:1.25rem !important}body.janus #vjs-container .indeed-apply-button:hover,body.janus #vjs-container .indeed-apply-button-placeholder:hover{background-color:#FF6F09 !important;border-color:#FF6F09 !important}body.janus #vjs-container .indeed-apply-button:disabled,body.janus #vjs-container .indeed-apply-button-placeholder:disabled{color:#ccc !important;background-color:#fff !important;border-color:#fff !important}[lang=\"en\"] body.janus #vjs-container .indeed-apply-button,[lang=\"en\"] body.janus #vjs-container .indeed-apply-button-placeholder{box-sizing:border-box !important;text-align:center;width:calc(100% - 16px) !important}body.janus #vjs-container .indeed-apply-button .indeed-apply-button-inner,body.janus #vjs-container .indeed-apply-button-placeholder .indeed-apply-button-inner{background:none !important;border:0 !important;height:0 !important;padding:0 !important;font:inherit !important;float:none !important}body.janus #vjs-container .indeed-apply-button .indeed-apply-button-inner:hover,body.janus #vjs-container .indeed-apply-button-placeholder .indeed-apply-button-inner:hover{background-color:none !important}body.janus #vjs-container .indeed-apply-button .indeed-apply-button-inner .indeed-apply-button-label,body.janus #vjs-container .indeed-apply-button-placeholder .indeed-apply-button-inner .indeed-apply-button-label{background-image:none !important;box-shadow:none !important;box-sizing:border-box;max-width:100% !important;text-shadow:none !important;color:#fff !important;font-weight:700 !important;padding:0 !important;line-height:22px !important}body.janus #vjs-container .indeed-apply-button .indeed-apply-button-inner .indeed-apply-button-label:hover,body.janus #vjs-container .indeed-apply-button-placeholder .indeed-apply-button-inner .indeed-apply-button-label:hover{background-color:none !important;box-shadow:none !important}body.janus #vjs-container .blue-button{background-color:#085ff7 !important;border:2px solid #085ff7 !important;color:#fff !important;border-radius:100px !important;font-size:0.875rem;letter-spacing:0;line-height:1.25rem;font-weight:700;line-height:24px;padding:0.5rem 1.5rem !important;background-image:none !important;box-shadow:none !important;box-sizing:border-box;max-width:100% !important;text-shadow:none !important;margin:8px 16px 0 0 !important}body.janus #vjs-container .blue-button:hover{background-color:#1497ff !important;border-color:#1497ff !important}body.janus #vjs-container .blue-button:disabled{color:#ccc !important;background-color:#fff !important;border-color:#fff !important}[lang=\"en\"] body.janus #vjs-container .blue-button{width:48% !important}@media only screen and (min-width: 1200px) and (max-width: 1360px){[lang=\"en\"] body.janus #vjs-container .blue-button{width:auto !important}}[lang=\"en\"] body.janus #vjs-container #state-picker-container{width:47% !important}@media only screen and (min-width: 1200px) and (max-width: 1360px){[lang=\"en\"] body.janus #vjs-container #state-picker-container{width:auto !important}}body.janus #vjs-container #state-picker-container .state-picker-button{background-color:#fff !important;background-image:none !important;border:2px solid #085ff7 !important;color:#085ff7 !important;border-radius:100px !important;font-size:0.875rem;letter-spacing:0;line-height:1.25rem;font-weight:700;line-height:24px;padding:0.5rem 1.5rem !important}body.janus #vjs-container #state-picker-container .state-picker-button:hover{color:#1497ff !important;background-color:#fff !important;border-color:#1497ff !important}[lang=\"en\"] body.janus #vjs-container #state-picker-container .state-picker-button{width:100% !important}body.janus #vjs-container #indeed_apply .state-picker-button.dd-target,body.janus #vjs-container #state-picker-container .state-picker-button.dd-target{background-color:#fff !important;background-image:none !important;border:2px solid #ececec !important;color:#085ff7 !important;border-radius:100px !important;font-size:0.875rem;letter-spacing:0;line-height:1.25rem;font-weight:700;line-height:24px;padding:0.5rem 1.5rem !important;background-image:none !important;box-shadow:none !important;min-width:100%;margin-top:8px !important}body.janus #vjs-container #indeed_apply .state-picker-button.dd-target:hover,body.janus #vjs-container #state-picker-container .state-picker-button.dd-target:hover{color:#1497ff !important;background-color:#fff !important;border-color:#ececec !important}body.janus #vjs-container #state-picker-info-container .state-picker-info-body{background:#f6f6f6}body.janus #vjs-container #state-picker-container .state-picker-info-arrow{border-bottom:10px solid #f6f6f6 !important}body.janus #vjs-container #state-picker-container .dd-menu{border:2px solid #ccc;border-radius:15px;background-color:#fff;box-shadow:2px 3px 8px 0 rgba(0,0,0,0.08);color:#4b4b4b;margin-left:15px;margin-top:2px;width:100% !important;margin-bottom:48px}body.janus #vjs-container #state-picker-container .dd-menu .dd-menu-option{background-color:#fff;border:0}body.janus #vjs-container #state-picker-container .dd-menu .dd-menu-option:not(:last-of-type){border-bottom:2px solid #f6f6f6}body.janus #vjs-container #state-picker-container .dd-menu .dd-menu-option:first-child{border-radius:13px 13px 0 0}body.janus #vjs-container #state-picker-container .dd-menu .dd-menu-option:last-child{border-radius:0 0 13px 13px}body.janus #vjs-container #state-picker-container .dd-menu .dd-menu-option:hover{background-color:#f6f6f6 !important}body.janus #auxCol{padding-left:24px !important}body.janus #auxCol #femp_list,body.janus #jobalertswrapper,body.janus #univsrch-salary-v3,body.janus .rightRailAd{margin-left:0 !important}body.janus .indeed-apply-button-placeholder-overlay{position:fixed;display:flex;top:0;left:0;right:0;bottom:0;background-color:rgba(102,102,102,0.6)}body.janus .indeed-apply-button-placeholder-spinner{border:6px solid;border-top:6px solid;width:40px;height:40px;border-color:rgba(102,102,102,0.6);border-top-color:#00c;border-radius:50%;-webkit-animation:spin 1s linear infinite;animation:spin 1s linear infinite;margin:auto;top:0;bottom:0;left:0;right:0}@-webkit-keyframes spin{0%{-webkit-transform:rotate(0deg)}100%{-webkit-transform:rotate(360deg)}}@keyframes spin{0%{transform:rotate(0deg)}100%{transform:rotate(360deg)}}\\n</style>\\n<style>\\n        body.janus #what_acdiv.acd{border:0 !important;border-color:inherit !important}body.janus .z-index-override{z-index:101 !important}body.janus #what_acdiv.acd,body.janus #acdiv.acd{border:0 !important;width:100% !important;z-index:101}body.janus #what_acdiv.acd ul,body.janus #acdiv.acd ul{border:2px solid #1497ff !important;border-radius:15px;box-shadow:2px 3px 8px 0 rgba(0,0,0,0.08);overflow:hidden}body.janus #what_acdiv.acd li.ac-active:hover,body.janus #what_acdiv.acd li.ac-active:active,body.janus #acdiv.acd li.ac-active:hover,body.janus #acdiv.acd li.ac-active:active{color:#4b4b4b !important}body.janus .ac-active{color:#4b4b4b !important;background-color:#ececec !important}body.janus .ac-row{font-size:.875rem;padding:0.5rem 1rem}body.janus .ac-row .bold{color:#000}\\n</style>\\n</head>\\n<body class=\"ltr jasxcustomfonttst-inactive janus\" data-tn-application=\"jasx\" data-tn-olth=\"41be357fa1c7dc26c5ee98836f8950b3\" data-tn-originlogid=\"1cft8mcmn534nbbp\" data-tn-originlogtype=\"jobsearch\">\\n<div id=\"accessibilityBanner\"><span id=\"accessibilityText\">Skip to <!-- This is translated before reaching this state --><a class=\"accessibilityMenu\" href=\"#jobPostingsAnchor\" id=\"skipToJobs\">Job Postings</a>, <!-- This is translated before reaching this state --><a class=\"accessibilityMenu\" href=\"#what\" id=\"skipToSearch\">Search</a></span><a id=\"accessibilityClose\">Close</a></div><script type=\"text/javascript\">\\n     createTabBar('1cft8mcmn534nbbp');\\n   </script>\\n<script>\\n        var vjsStable = true;\\n        var viewJobOnSerp = new indeed.vjs('1cft8mcmn534nbbp', 'vjs');\\n        var vjk = viewJobOnSerp.getVJK();\\n        var vjFrom = viewJobOnSerp.getFrom();\\n        var vjTk = viewJobOnSerp.getTk();\\n        var vjUrl = viewJobOnSerp.vjUrl(vjk, vjFrom, vjTk);\\n        var showVjOnSerp = vjsStable;\\n        var zrp = false;\\n        if ((zrp || !showVjOnSerp || window.innerWidth < 1200) && vjUrl) {\\n            window.location.replace(vjUrl);\\n        } else if (showVjOnSerp) {\\n            var jobKeysWithInfo = {};\\n            \\n            jobKeysWithInfo['9a5449d9792cd6ae'] = true;\\n            \\n            jobKeysWithInfo['de8696554cc71b22'] = true;\\n            \\n            jobKeysWithInfo['392ea0d93230424c'] = true;\\n            \\n            jobKeysWithInfo['2d7c6cc29c4555c8'] = true;\\n            \\n            jobKeysWithInfo['119193f6d1bbdab6'] = true;\\n            \\n            jobKeysWithInfo['790db77715a64f01'] = true;\\n            \\n            jobKeysWithInfo['3e0122d3f5ff4af4'] = true;\\n            \\n            jobKeysWithInfo['4e6d747c8470498d'] = true;\\n            \\n            jobKeysWithInfo['636d342617306182'] = true;\\n            \\n            jobKeysWithInfo['8293c99fe6ff4510'] = true;\\n            \\n            jobKeysWithInfo['e41ba31a5c7cdbe6'] = true;\\n            \\n            jobKeysWithInfo['535a264fa58ea216'] = true;\\n            \\n            jobKeysWithInfo['572b86d638549e59'] = true;\\n            \\n            jobKeysWithInfo['6b5e920bdd627e42'] = false;\\n            \\n            jobKeysWithInfo['7bc2087719c1dca7'] = true;\\n            \\n            jobKeysWithInfo['0be2a3c1a60aea42'] = true;\\n            \\n            if (vjk && !jobKeysWithInfo.hasOwnProperty(vjk)) {\\n                jobKeysWithInfo[vjk] = true;\\n            }\\n            viewJobOnSerp.preloadDescs(jobKeysWithInfo);\\n            var bindAndRender = function () {\\n                if (showVjOnSerp) {\\n                    viewJobOnSerp.bindJobKeys(jobKeysWithInfo);\\n                    if (vjUrl) {\\n                        var vjFrom = viewJobOnSerp.getFrom();\\n                        var vjTk = viewJobOnSerp.getTk();\\n                        viewJobOnSerp.renderOnJobKey(vjk, vjFrom, vjTk, undefined, function () {\\n                            window.location.replace(vjUrl);\\n                        });\\n                    }\\n                }\\n            }\\n        }\\n    </script>\\n<style type=\"text/css\">\\n    body { margin-top: 0; margin-left: 0; margin-right: 0; padding-top: 0; padding-right: 0; padding-left: 0; }\\n\\n    #g_nav { border-bottom:1px solid #ccc; margin-bottom:9px; }\\n\\n    #g_nav a,\\n    #g_nav a:visited { color: #00c; }\\n\\n    .navBi { display: -moz-inline-box; display: inline-block; padding: 9px 12px; margin: 0; list-style-type: none; }\\n\\n    </style>\\n<div class=\"left\" data-tn-section=\"globalNav\" id=\"g_nav\" role=\"navigation\">\\n<table cellpadding=\"0\" cellspacing=\"0\" width=\"100%\">\\n<tr>\\n<td nowrap=\"\"><style type=\"text/css\">\\n#p_nav a.selected { font-weight: bold; text-decoration:none; color: #000 !important; }\\n</style>\\n<div id=\"p_nav\"><span class=\"navBi\"><a class=\"selected\" href=\"/\" id=\"jobsLink\" title=\"Jobs\">Find Jobs</a></span><span class=\"navBi\"><a href=\"/companies\" onmousedown=\"this.href = appendParamsOnce(this.href, '?from=headercmplink&amp;attributionid=jobsearch')\">Company Reviews</a></span><span class=\"navBi\"><a href=\"/salaries\" onmousedown=\"this.href = appendParamsOnce(this.href, '?from=headercmplink&amp;attributionid=jobsearch')\">Find Salaries</a></span><span class=\"navBi\"><a href=\"/resumes?isid=find-resumes&amp;ikw=SERPtop&amp;co=US&amp;hl=en\" id=\"rezLink\">Find Resumes</a></span><span class=\"navBi\"><a href=\"/hire?hl=en&amp;cc=US\" id=\"empLink\" onclick=\"if ( this.href.match('&amp;isid=employerlink-US-control&amp;ikw=SERPtop') == null ) { this.href += '&amp;isid=employerlink-US-control&amp;ikw=SERPtop' };\">Employers / Post Job</a></span></div>\\n</td>\\n<td align=\"right\" nowrap=\"\"><style type=\"text/css\">\\n    \\n\\n    #navpromo a,\\n    #navpromo a:visited {\\n        color: #f60;\\n    }\\n\\n    \\n    #u_nav .login_unconfirmed,\\n    #u_nav .login_unconfirmed a,\\n    #u_nav .login_unconfirmed a:visited {\\n        color: #c00\\n    }\\n\\n    #u_nav .resume_pending,\\n    #u_nav .resume_pending a,\\n    #u_nav .resume_pending a:visited {\\n        color: #c00\\n    }\\n\\n    #userOptionsLabel {\\n        position: relative;\\n        z-index: 5;\\n    }\\n\\n    #userOptionsLabel b {\\n        cursor: pointer;\\n        text-decoration: underline;\\n        position: relative;\\n        z-index: 5;\\n    }\\n\\n    #userOptionsLabel:active {\\n        outline: none;\\n    }\\n\\n    #userOptionsLabel.active {\\n        padding: 9px 11px;\\n        margin-bottom: -1px;\\n        _margin-bottom: 0px;\\n        border: 1px solid #ccc;\\n        border-top: 0;\\n    }\\n\\n    #userOptionsLabel.active .arrowStub {\\n        border-width: 0 3px 3px;\\n        _border-width: 0px 3px 4px;\\n        border-color: transparent;\\n        border-bottom-color: #666;\\n        top: -2px;\\n        border-style: dashed dashed solid;\\n    }\\n\\n    #userOptionsLabel.active .halfPxlFix {\\n        background: #fff;\\n        bottom: -3px;\\n        height: 6px;\\n        left: 0;\\n        position: absolute;\\n        right: 0;\\n        border: 1px solid #fff;\\n    }\\n\\n    .arrowStub {\\n        position: relative;\\n        border-style: solid dashed dashed;\\n        border-color: transparent;\\n        border-top-color: #666;\\n        display: -moz-inline-box;\\n        display: inline-block;\\n        font-size: 0;\\n        height: 0;\\n        line-height: 0;\\n        width: 0;\\n    left: 4px;\\n        border-top-width: 3px;\\n        border-bottom-width: 0;\\n        border-right-width: 3px;\\n        padding-top: 1px;\\n        top: -1px;\\n    }\\n\\n    #userOptions {\\n        z-index: 2;\\n        visibility: hidden;\\n        position: absolute;\\n    right: 0;\\n        x_right: -1px;\\n        top: 100%;\\n        padding: 9px 15px;\\n        border: 1px solid #ccc;\\n        background: #fff;\\n        min-width: 150px;\\n        _width: 150px;\\n        text-align: left;\\n    }\\n\\n    #userOptions.open {\\n        visibility: visible;\\n    }\\n\\n    .userOptionItem {\\n        margin: 6px 0;\\n    }\\n\\n    .userOptionItem a {\\n        white-space: nowrap;\\n    }\\n\\n    .userOptionGroup {\\n        border-top: 1px solid #e8e8e8;\\n        margin-top: 12px;\\n    }\\n\\n    .userNameRepeat {\\n        color: #a8a8a8;\\n        padding-right: 48px;\\n        font-weight: bold;\\n    }\\n\\n    .userOptionGroupHeader {\\n        font-weight: bold;\\n        margin: 6px 0;\\n    }\\n\\n    </style>\\n<div id=\"u_nav\">\\n<script>\\n\\nfunction regExpEscape(s) {\\n    return String(s).replace(/([-()\\\\[\\\\]{}+?*.$\\\\^|,:#<!\\\\\\\\])/g, '\\\\\\\\$1').\\n            replace(/\\\\x08/g, '\\\\\\\\x08');\\n}\\n\\n\\nfunction appendParamsOnce(url, params) {\\n  var useParams = params.replace(/^(\\\\?|\\\\&)/, '');\\n  var anchorRegExp = new RegExp(/#.*$/);\\n  var urlAnchorMatch = url.match(anchorRegExp);\\n\\n  var anchor = urlAnchorMatch == null ? '' : urlAnchorMatch;\\n  url = url.replace(anchorRegExp, '');\\n\\n  if (url.match(new RegExp('[\\\\\\\\?|\\\\\\\\&]' + regExpEscape(useParams))) == null) {\\n    url += (url.indexOf('?') > 0 ? '&' : '?') + useParams;\\n  }\\n  url += anchor;\\n\\n  return url;\\n}\\n\\n</script>\\n<div id=\"user_actions\">\\n<span class=\"navBi resumeCTAWhiteOutline \">\\n<span class=\"resume-promo\" id=\"navpromo\">\\n<a href=\"/promo/resume\" onclick=\"window.location=this.href + '?from=nav&amp;subfrom=rezprmstd&amp;trk.origin=jobsearch&amp;trk.variant=rezprmstd&amp;trk.pos=nav&amp;trk.tk=1cft8mcmn534nbbp'; return false;\">Upload your resume</a>\\n</span>\\n</span>\\n<span class=\"navBi\"><a href=\"https://www.indeed.com/account/login?dest=%2Fjobs%3Fq%3Ddata%2Bscientist\" id=\"userOptionsLabel\" rel=\"nofollow\">Sign in</a></span>\\n</div>\\n</div>\\n</td>\\n</tr>\\n</table>\\n</div>\\n<style type=\"text/css\">\\n    .indeedLogo {\\n        margin: 8px 0 0 9px;\\n        border: 0;\\n        width: 166px;\\n        height: 64px;\\n    }\\n    \\n            .indeedLogo {\\n                background: url(\"data:image/svg+xml,%3Csvg xmlns='http://www.w3.org/2000/svg' viewBox='0 0 155 43'%3E%3Cstyle%3E.st0%7Bfill:%232164F3;%7D%3C/style%3E%3Cpath class='st0' d='M147.2 34.1c-.6 1.2-1.3 2.1-2.2 2.6-.9.6-2 .8-3.1.8s-2.2-.3-3.1-.9c-.9-.6-1.7-1.5-2.2-2.7-.5-1.2-.8-2.7-.8-4.4 0-1.6.3-3.1.8-4.3.5-1.2 1.2-2.2 2.2-2.8.9-.7 2-1 3.2-1h.1c1.1 0 2.1.3 3.1 1 .9.6 1.7 1.6 2.3 2.7.6 1.2.8 2.7.8 4.3-.3 2-.5 3.5-1.1 4.7m6.5-25.7c-.5-.6-1.3-.9-2.3-.9-1 0-1.7.3-2.3 1-.5.7-.8 1.6-.8 2.9v9.4c-1.2-1.3-2.5-2.3-3.7-2.9-.8-.4-1.7-.7-2.8-.8-.6-.1-1.2-.1-1.9-.1-3.2 0-5.8 1.1-7.8 3.3-2 2.2-3 5.3-3 9.2 0 1.9.3 3.6.8 5.2s1.2 3 2.2 4.2 2.1 2.1 3.4 2.7c1.3.6 2.7 1 4.3 1 .7 0 1.4-.1 2-.2l1.2-.3c1-.3 1.9-.8 2.7-1.4.8-.6 1.7-1.4 2.6-2.4v.6c0 1.2.3 2 .8 2.7.6.6 1.3.9 2.2.9s1.6-.3 2.2-.9c.6-.6.8-1.5.8-2.7V11.1c.2-1.2-.1-2.1-.6-2.7m-41.5 14.4c1-1.1 2.3-1.6 3.9-1.6 1.7 0 3 .5 4.1 1.6 1 1.1 1.6 2.6 1.8 4.8h-11.7c.2-2.1.8-3.7 1.9-4.8m15 11.6c-.4-.4-.9-.5-1.6-.5-.6 0-1.1.1-1.4.4-.8.7-1.5 1.3-2 1.8-.5.4-1.1.8-1.7 1.2-.6.4-1.2.7-1.8.8-.7.2-1.3.3-2.1.3h-.5c-1-.1-1.9-.3-2.7-.8-1-.5-1.7-1.4-2.3-2.4-.6-1.1-.8-2.5-.9-3.9h12.6c1.7 0 3-.1 3.9-.6.9-.5 1.4-1.5 1.4-3.1 0-1.7-.5-3.4-1.4-5.1-.9-1.6-2.2-3-4.1-4-1.8-1-3.9-1.6-6.5-1.6h-.2c-1.9 0-3.6.3-5.1.9-1.6.6-2.9 1.5-4 2.6-1.1 1.2-1.9 2.5-2.5 4.1-.6 1.6-.9 3.3-.9 5.2 0 4 1.2 7.1 3.5 9.4 2.2 2.2 5.2 3.3 9 3.5h.7c1.8 0 3.4-.2 4.8-.7 1.4-.5 2.6-1 3.5-1.7.9-.7 1.6-1.5 2.1-2.2.5-.8.7-1.4.7-2 .1-.8-.1-1.3-.5-1.6M86.3 22.8c1-1.1 2.3-1.6 3.9-1.6 1.7 0 3 .5 4.1 1.6 1 1.1 1.6 2.6 1.8 4.8H84.4c.3-2.1.9-3.7 1.9-4.8m13.5 11c-.6 0-1.1.1-1.4.4-.8.7-1.5 1.3-2 1.8-.5.4-1 .8-1.6 1.2-.6.4-1.2.7-1.9.8-.6.2-1.3.3-2.1.3h-.5c-1-.1-1.9-.3-2.7-.8-.9-.5-1.7-1.4-2.3-2.4-.6-1.1-.9-2.5-.9-3.9H97c1.7 0 3-.1 3.9-.6.9-.5 1.4-1.5 1.4-3.1 0-1.7-.4-3.4-1.3-5.1-.9-1.6-2.3-3-4.1-4-1.8-1-4-1.6-6.5-1.6h-.2c-1.9 0-3.5.3-5.1.9-1.6.6-2.9 1.5-4 2.6-1.1 1.2-1.9 2.5-2.5 4.1s-.9 3.3-.9 5.2c0 4 1.2 7.1 3.5 9.4 2.2 2.2 5.2 3.3 9 3.5h.7c1.8 0 3.4-.2 4.8-.7 1.4-.5 2.6-1 3.5-1.7.9-.7 1.6-1.5 2.1-2.2.5-.8.7-1.4.7-2 0-.6-.2-1.2-.6-1.5-.4-.4-1-.6-1.6-.6M14 38.3c0 1.4.3 2.4 1 3.1.7.7 1.5 1.1 2.5 1.1 1.1 0 1.9-.4 2.6-1 .7-.7 1-1.7 1-3.1V21.8c-1.7 1-3.6 1.5-5.7 1.5-.4 0-.9 0-1.3-.1L14 38.3m54.2-4.2c-.6 1.2-1.3 2.1-2.3 2.6-.9.6-2 .8-3.1.8s-2.2-.3-3.1-.9c-1-.6-1.7-1.5-2.2-2.7s-.8-2.7-.8-4.4c0-1.6.3-3.1.8-4.3.5-1.2 1.2-2.2 2.2-2.8.9-.7 2-1 3.1-1h.1c1.1 0 2.1.3 3.1 1 1 .6 1.7 1.6 2.3 2.7.5 1.2.8 2.7.8 4.3 0 2-.3 3.5-.9 4.7m6.5-25.7c-.5-.6-1.3-.9-2.2-.9-1 0-1.7.3-2.3 1-.5.7-.8 1.6-.8 2.9v9.3c-1.2-1.3-2.5-2.3-3.8-2.9-.8-.4-1.7-.7-2.8-.8-.6-.1-1.2-.1-1.9-.1-3.2 0-5.8 1.1-7.8 3.3-2 2.2-3 5.3-3 9.2 0 1.9.3 3.6.7 5.2.5 1.6 1.2 3 2.2 4.2 1 1.2 2.1 2.1 3.4 2.7 1.3.6 2.7 1 4.3 1 .7 0 1.4-.1 2-.2l1.2-.3c1-.3 1.9-.8 2.7-1.4.8-.6 1.7-1.4 2.6-2.4v.6c0 1.2.3 2 .9 2.7.6.6 1.3.9 2.2.9.8 0 1.6-.3 2.2-.9.6-.6.8-1.5.8-2.7V11.1c.2-1.2 0-2.1-.6-2.7M31.3 20.3c0-.7-.1-1.4-.4-1.9-.3-.5-.7-.9-1.1-1.2-.5-.3-1-.4-1.5-.4-.9 0-1.7.3-2.2.9-.5.6-.8 1.5-.8 2.7v18.2c0 1.2.3 2.2.8 2.8.6.7 1.4 1 2.3 1 1 0 1.7-.3 2.3-1 .6-.7.8-1.6.8-2.9v-7.9c0-2.6.2-4.3.5-5.3.4-1.2 1.2-2.1 2.1-2.8.9-.7 2-1 3.1-1 1.8 0 3 .6 3.5 1.6.6 1.1.8 2.7.8 4.8v10.5c0 1.2.4 2.2 1 2.8.6.7 1.4 1 2.3 1 .9 0 1.7-.3 2.3-1 .6-.6.9-1.6.9-2.9V26.9c0-1.4-.1-2.5-.2-3.4-.1-.9-.4-1.7-.8-2.5-.7-1.3-1.6-2.3-3-3.1s-2.9-1.1-4.6-1.1c-1.8 0-3.3.4-4.7 1-1.3.7-2.6 1.8-3.7 3.2M14 2.2c-6.3 2.6-10.7 8.2-12.7 15C1 18.5.7 19.7.5 21c0 0-.1 1.3.1 1 .2-.3.3-.8.4-1.1 1-3.2 2.1-6 3.9-8.8 4.3-6.2 11.2-10.2 18.6-8 1.3.5 2.5 1.2 3.8 1.9.2.2 1.9 1.5 1.6.3-.3-.9-1.1-1.7-1.8-2.4C23.3.8 18.3.7 14 2.2M19.6 19c2.6-1.3 3.7-4.4 2.3-7-1.3-2.6-4.5-3.6-7.1-2.3-2.6 1.3-3.6 4.4-2.3 7 1.3 2.6 4.5 3.6 7.1 2.3'/%3E%3C/svg%3E\") no-repeat;\\n                background-size: 155px 43px;\\n            }\\n        \\n#branding img { border: 0; }\\n#jobsearch { margin: 0 }\\n.inwrap { border-right: 1px solid #e8e8e8;border-bottom: 1px solid #e8e8e8;display:inline-block; }\\n.inwrap input { box-sizing: border-box; margin:0; height: 30px; font-family:Arial,sans-serif;border:1px solid #ccc; border-bottom-color:#aaa;border-right-color:#aaa; -webkit-border-radius: 0; -webkit-appearance: none; }\\n.inwrap .input_text { font-size:18px;padding:3px 6px;_margin: -1px 0; }\\n.inwrap .input_submit {color:#614041;font-size:15px;height:30px;background: #e8e8e8; padding:3px 9px;cursor:pointer;_padding:3px;}\\n.inwrap .input_submit:active { background: #ccc; }\\n.lnav  {width:100%;line-height:1;;font-size:10pt;}\\n.jsf .label {font-size:12px; line-height:1.2;padding-top:0;color:#aaa;font-weight:normal;white-space:nowrap;padding-right:1.5em}\\n.jsf .label label {font-weight:normal}\\n.jsf .sl { font-size: 11px; color: #77c; white-space: nowrap; }\\n.npb { padding-bottom: 0; color: #f60; font-weight:bold; }\\n.npl { padding-left: 0 }\\niframe { display:block; }\\n\\n.acd { position:absolute; width:100%; z-index: 1; }\\n#acdiv { width: 364px; }\\n#what_acdiv { width: 662px; }\\n.acd ul { border: 1px solid #333; background: #fff; padding: 0; margin: 3px 0 0 0; }\\n.acd li { list-style-type: none; font-size: 18px; padding:1px 6px; cursor:pointer; }\\n.acd li.ac-active { background:#36c; color:#fff; }\\n/* This css contains styles for company links in what autocomplete (DISC-81) */\\n\\n/* make the whole div with autocomplete suggestion to be a link */\\n#what_acdiv .what_ac_link {\\n    display: inline-block;\\n    text-decoration: none;\\n    width: 100%;\\n    height: 100%;\\n    color: black;\\n}\\n\\n/* show icon that link will be open in a new window */\\n#what_acdiv .what_ac_link:after {\\n    background: url(/images/icon-open-in-new-tab.png) no-repeat;\\n    background-position-x: right;\\n    background-position-y: center;\\n    background-origin: border-box;\\n    height: 24px;\\n    display: inline-block;\\n    position: absolute;\\n    padding-left: 5px;\\n    padding-right: 20px;\\n    color: #666666;\\n}\\n\\n#what_acdiv .what_ac_reviews_link:after {\\n    content: \" reviews\";\\n}\\n#what_acdiv .what_ac_salaries_link:after {\\n    content: \" salaries\";\\n}\\n\\n/* if item is chosen then text should be white */\\n#what_acdiv .acis .what_ac_link,\\n#what_acdiv .acis .what_ac_link:after {\\n    color: #fff;\\n}\\n\\n\\n\\n#jobalerts .ws_label,\\n#jobalerts .member { z-index: 1; }\\n#acr td { padding-top:0; padding-bottom:0; }\\n#acr td .h { display:none; }\\n\\n#what { width: 280px; }\\n#where { width: 260px; }\\n.inwrapBorder{border:1px solid #1C4ED9;border-top-color:#2F62F1;border-bottom-color:#133FBB;display:inline-block;width:auto;}\\n.inwrapBorderTop{border-top:1px solid #69F;display:inline-block;background-color:#3163F2;filter:progid:DXImageTransform.Microsoft.gradient(startColorstr='#3163F2',endColorstr='#2B57D5');background:-webkit-gradient(linear,left top,left bottom,from(#3163F2),to(#2B57D5));background:-moz-linear-gradient(top,#3163F2,#2B57D5);background:linear-gradient(top,#3163F2,#2B57D5);}\\n.inwrapBorder .input_submit{background: transparent;border:0;color:#fff;font-family:Arial;font-size:15px;margin:0;padding:4px 9px;cursor:pointer;_padding:3px;}\\n.inwrapBorder a.input_submit{text-decoration: none; display: block;}\\n\\n.inwrapBorder:hover{border-color:#235af6;border-top-color:#4072ff;border-bottom-color:#1e4fd9;}\\n.inwrapBorderTop:hover{border-top-color:#7ba7ff;background-color:#4273ff;filter:progid:DXImageTransform.Microsoft.gradient(startColorstr='#4273ff',endColorstr='#3364f1');background:-webkit-gradient(linear,left top,left bottom,from(#4273ff),to(#3364f1));background:-moz-linear-gradient(top,#4273ff,#3364f1);background:linear-gradient(top,#4273ff,#3364f1);}\\n\\n.inwrapBorder:active{border-color:#536db7;border-top-color:#4b69c1;border-bottom-color:#3753a6;}\\n.inwrapBorder:active .inwrapBorderTop{border-top-color:#6c82c1;background-color:#4b69c1;filter:progid:DXImageTransform.Microsoft.gradient(startColorstr='#4b69c1',endColorstr='#3753a6');background:-webkit-gradient(linear,left top,left bottom,from(#4b69c1),to(#3753a6));background:-moz-linear-gradient(top,#4b69c1,#3753a6);background:linear-gradient(top,#4b69c1,#3753a6);}\\n\\n.roundedCorner {\\n    display: inline-block;\\n    zoom: 1; /* zoom and *display = ie7 hack for display:inline-block */\\n    *display: inline;\\n    vertical-align: baseline;\\n    margin: 0 2px;\\n    outline: none;\\n    cursor: pointer;\\n    text-align: center;\\n    text-decoration: none;\\n    font: 15px/100% Arial, Helvetica, sans-serif;\\n    padding: .5em 2em .55em;\\n    text-shadow: 0 1px 1px rgba(0,0,0,.3);\\n    -webkit-border-radius: .5em;\\n    -moz-border-radius: .5em;\\n    border-radius: .5em;\\n    -webkit-box-shadow: 0 1px 2px rgba(0,0,0,.2);\\n    -moz-box-shadow: 0 1px 2px rgba(0,0,0,.2);\\n    box-shadow: 0 1px 2px rgba(0,0,0,.2);\\n}\\n.roundedCorner:hover {\\n    text-decoration: none;\\n}\\n.roundedCorner:active {\\n    position: relative;\\n    top: 1px;\\n}\\n\\n.bigrounded {\\n    -webkit-border-radius: 2em;\\n    -moz-border-radius: 2em;\\n    border-radius: 2em;\\n}\\n.medium {\\n    font-size: 12px;\\n    padding: .4em 1.5em .42em;\\n}\\n.small {\\n    font-size: 11px;\\n    padding: .2em 1em .275em;\\n}\\n\\n.indeedblue {\\n    color: #d9eef7;\\n    border: solid 1px #1C4ED9;\\n    background: #3163F2;\\n    background: -webkit-gradient(linear, left top, left bottom, from(#2F62F1), to(#133FBB));\\n    background: -moz-linear-gradient(top,  #2F62F1,  #133FBB);\\n    filter:  progid:DXImageTransform.Microsoft.gradient(startColorstr='#2F62F1', endColorstr='#133FBB');\\n}\\n.indeedblue:hover, .indeedblue:focus {\\n    background: #235af6;\\n    background: -webkit-gradient(linear, left top, left bottom, from(#4072ff), to(#1e4fd9));\\n    background: -moz-linear-gradient(top,  #4072ff,  #1e4fd9);\\n    filter:  progid:DXImageTransform.Microsoft.gradient(startColorstr='#4072ff', endColorstr='#1e4fd9');\\n}\\n.indeedblue:active {\\n    color: #d9eef7;\\n    background: -webkit-gradient(linear, left top, left bottom, from(#4b69c1), to(#3753a6));\\n    background: -moz-linear-gradient(top,  #4b69c1,  #3753a6);\\n    filter:  progid:DXImageTransform.Microsoft.gradient(startColorstr='#4b69c1', endColorstr='#3753a6');\\n}\\n</style>\\n<span id=\"hidden_colon\" style=\"display:none\">:</span>\\n<table border=\"0\" cellpadding=\"0\" cellspacing=\"0\" role=\"banner\"><tr><td width=\"1125\"><table cellpadding=\"0\" cellspacing=\"0\" class=\"lnav\">\\n<tr>\\n<td id=\"branding-td\" style=\"vertical-align:top;\"><a href=\"/\" id=\"branding\" onmousedown=\"ptk('logo');\"><img alt=\"one search. all jobs. Indeed\" class=\"indeedLogo\" src=\"data:image/gif;base64,R0lGODlhAQABAJEAAAAAAP///////wAAACH5BAEHAAIALAAAAAABAAEAAAICVAEAOw==\" style=\"margin-bottom:6px;display:block;\" title=\"one search. all jobs. Indeed\"/></a></td>\\n<td style=\"padding-top:3px;\" valign=\"top\">\\n<form action=\"/jobs\" class=\"jsf\" id=\"jobsearch\" method=\"get\" name=\"js\" onsubmit=\"ptk('topsearch');\\n                formAutocompleteCookie(window['autocomplete']);\">\\n<table align=\"left\" cellpadding=\"3\" cellspacing=\"0\">\\n<tr>\\n<td class=\"npb\"><label for=\"what\" id=\"what_label_top\">What</label></td>\\n<td class=\"npb\" colspan=\"3\"><label for=\"where\" id=\"where_label_top\">Where</label></td>\\n</tr>\\n<tr role=\"search\">\\n<td class=\"npl epr\">\\n<span class=\"inwrap\" id=\"what_container\"><input class=\"input_text\" id=\"what\" maxlength=\"512\" name=\"q\" size=\"31\" value=\"data scientist\"/></span>\\n<div style=\"width:250px\"><!-- --></div>\\n<div style=\"position:relative;z-index:2\"><div class=\"acd\" id=\"what_acdiv\"></div></div>\\n</td>\\n<td class=\"npl epr\">\\n<span class=\"inwrap\" id=\"where_container\"><input class=\"input_text\" id=\"where\" maxlength=\"45\" name=\"l\" size=\"27\" value=\"\"/></span>\\n<div style=\"width:200px\"><!-- --></div>\\n<div style=\"position:relative;z-index:2\"><div class=\"acd\" id=\"acdiv\"></div></div>\\n</td>\\n<td class=\"npl\" style=\"width:1px\"><span class=\"inwrapBorder\" style=\"width:auto;padding-right:0;\"><span class=\"inwrapBorderTop\"><input class=\"input_submit\" id=\"fj\" type=\"submit\" value=\"Find Jobs\"/></span></span></td>\\n<td class=\"npl advanced-search\" style=\"width:240px;\"><div style=\"margin-left:12px; display:flex;\"><a class=\"sl\" href=\"/advanced_search?q=data+scientist\">Advanced Job Search</a></div></td>\\n</tr>\\n<tr valign=\"baseline\">\\n<td class=\"label\" id=\"what_label_cell\">\\n<label aria-hidden=\"true\" for=\"what\" id=\"what_label\">job title, keywords or company</label>\\n</td>\\n<td class=\"label\" colspan=\"3\" id=\"where_label_cell\">\\n<label aria-hidden=\"true\" for=\"where\" id=\"where_label\">city, state, or zip</label>\\n</td>\\n</tr>\\n</table>\\n</form>\\n</td>\\n</tr>\\n</table>\\n</td></tr></table>\\n<script type=\"text/javascript\">\\n\\nnew AcController('where_ac', 'where_container', 'where', 'acdiv', 'acdiv_list',\\n    '/rpc/suggest?from=serp&tk=1cft8mcmn534nbbp&version=2', 'l');\\n\\nnew AcController('what_ac', 'what_container', 'what', 'what_acdiv', 'what_acdiv_list',\\n    '/rpc/suggest?what=true&from=serp&tk=1cft8mcmn534nbbp&version=2', 'q');\\n</script>\\n<script type=\"text/javascript\">\\nfunction rclk(el,jobdata,oc,sal) { var ocstr = oc ? '&onclick=1' : ''; document.cookie='RCLK=\"jk='+jobdata.jk+'&tk=1cft8mcmn534nbbp&from=web&rd='+jobdata.rd+'&qd=7tdTJLF8oc4dPpT7T_zGvGA3XpPBAN42oEhBbwa0-XP0q_5iKGXhGepJfZBzu_OoHiCYdY4K5cj3ZF4MAIuUY6K6EhJ09u71_kN2ODPHVS8ikVEnxsYnb6zpE9uFgOr0&ts=1528916816599&sal='+sal+ocstr+'\"; path=/'; return true;}\\n\\nfunction vjrclk(jk, qd, rd, oc, vjk, vjtk, jobsearchTk) {\\n  var ocstr = oc ? '&onclick=1' : '';\\n  var jobsearchTk = jobsearchTk ? jobsearchTk : '';\\n  document.cookie = 'RCLK=\"jk=' + jk + '&vjtk=' + vjtk + '&jobsearchTk=' + jobsearchTk + '&rd=' + rd + '&qd=' + qd + '&ts=' + new Date().getTime() + ocstr + '\"; path=/';\\n  return true;\\n}\\n\\nvar resumePopover;\\nfunction updateResumePromoCookie(event) {\\n    if (window['resumePopoverShowValue'] && !event.ctrlKey) {\\n        if (!resumePopover) {\\n            var setYearExpiration = false;\\n            resumePopover = new ResumePopover('1cft8mcmn534nbbp', '1cft8mcmg534nam1', setYearExpiration);\\n        }\\n\\n        resumePopover.updatePopoverCookieValue();\\n        if (false) {\\n            resumePopover.logConditionMet();\\n        }\\n    }\\n    return true;\\n}\\nfunction zrprclk(el,jobdata,oc) { var ocstr = oc ? '&onclick=1' : ''; document.cookie='RCLK=\"jk='+jobdata.jk+'&tk=1cft8mcmn534nbbp&from=reconzrp&rd='+jobdata.rd+'&qd=7tdTJLF8oc4dPpT7T_zGvGA3XpPBAN42oEhBbwa0-XP0q_5iKGXhGepJfZBzu_OoHiCYdY4K5cj3ZF4MAIuUY6K6EhJ09u71_kN2ODPHVS8ikVEnxsYnb6zpE9uFgOr0&ts=1528916816599'+ocstr+'\"; path=/'; return true;}\\nfunction prjbottomclk(el,jobdata,oc) { var ocstr = oc ? '&onclick=1' : ''; document.cookie='RCLK=\"jk='+jobdata.jk+'&tk=1cft8mcmn534nbbp&from=reconserp&rd='+jobdata.rd+'&qd=7tdTJLF8oc4dPpT7T_zGvGA3XpPBAN42oEhBbwa0-XP0q_5iKGXhGepJfZBzu_OoHiCYdY4K5cj3ZF4MAIuUY6K6EhJ09u71_kN2ODPHVS8ikVEnxsYnb6zpE9uFgOr0&ts=1528916816599'+ocstr+'\"; path=/'; return true;}\\n\\n\\nvar jobmap = {};\\n\\njobmap[0]= {jk:'8293c99fe6ff4510',efccid: '095d1ce2b0d658ff',srcid:'0e136d2a3ac162d3',cmpid:'309cae34ae4c0e80',num:'0',srcname:'BRASKEM AMERICA, INC',cmp:'BRASKEM AMERICA, INC',cmpesc:'BRASKEM AMERICA, INC',cmplnk:'/q-BRASKEM-AMERICA-jobs.html',loc:'Pittsburgh, PA 15219',country:'US',zip:'',city:'Pittsburgh',title:'Data Scientist',locid:'24b8300eacbd6b16',rd:'2WKP5Dncumetl6uQHWBI3_EjTYFBCydOHIJo0jSLt2tOh0y9mGcM6cGL33gfN8J3'};\\n\\njobmap[1]= {jk:'392ea0d93230424c',efccid: '521645e5cd22988a',srcid:'acceb484de3ee972',cmpid:'c8e727c23f0216a4',num:'1',srcname:'Allstate',cmp:'Allstate',cmpesc:'Allstate',cmplnk:'/q-Allstate-jobs.html',loc:'Charlotte, NC 28202',country:'US',zip:'28202',city:'Charlotte',title:'Junior Data Scientist',locid:'578fa8376f4eec04',rd:'KMmgpPP_N8Ma8_Z5coeA6vEjTYFBCydOHIJo0jSLt2s6Y-yqBPyGuGJJ2wHIo2IB'};\\n\\njobmap[2]= {jk:'3e0122d3f5ff4af4',efccid: 'c8fc0a704fc147c1',srcid:'bcf6e546b5a47fe9',cmpid:'4b009e4453b5db30',num:'2',srcname:'Indeed',cmp:'Education for everyone',cmpesc:'Education for everyone',cmplnk:'/q-Education-for-everyone-jobs.html',loc:'Carnegie, PA 15106',country:'US',zip:'15106',city:'Carnegie',title:'Data Scientist',locid:'574e43353810793a',rd:'ksNjx-mCCxTfpBxRk4GxMQfmkRX_hXv5vdGF0Dj9Cb8'};\\n\\njobmap[3]= {jk:'9a5449d9792cd6ae',efccid: '2bdc661a025fbaec',srcid:'180edad0bcf909c8',cmpid:'c6a54152be512fe3',num:'3',srcname:'ZestFinance',cmp:'ZestFinance',cmpesc:'ZestFinance',cmplnk:'/q-ZestFinance-jobs.html',loc:'Pittsburgh, PA',country:'US',zip:'',city:'Pittsburgh',title:'Data Scientist, Machine Learning',locid:'24b8300eacbd6b16',rd:'yiFpXy0V5VnR7pRG_LDt7_EjTYFBCydOHIJo0jSLt2uHo2FPJRW7W81vuVjEFeH2'};\\n\\njobmap[4]= {jk:'535a264fa58ea216',efccid: '2db733d1a7b6ac97',srcid:'c807eac73b85bcde',cmpid:'dfc44f3b8c44a6db',num:'4',srcname:'Cisco Systems',cmp:'Cisco',cmpesc:'Cisco',cmplnk:'/q-Cisco-jobs.html',loc:'Pittsburgh, PA',country:'US',zip:'',city:'Pittsburgh',title:'1230435 Sales Data Scientist',locid:'24b8300eacbd6b16',rd:'UoSLGNYeoaCEbrc4zUQx7_EjTYFBCydOHIJo0jSLt2vwg1xS4oCr2jewzrnaucZm'};\\n\\njobmap[5]= {jk:'e41ba31a5c7cdbe6',efccid: '955339f72f9ee5c6',srcid:'f4100f26cd863182',cmpid:'70ca9e18becbd3c8',num:'5',srcname:'Highmark Health',cmp:'Highmark Health',cmpesc:'Highmark Health',cmplnk:'/q-Highmark-Health-jobs.html',loc:'Pittsburgh, PA 15222',country:'US',zip:'15222',city:'Pittsburgh',title:'Data Scientist',locid:'24b8300eacbd6b16',rd:'ypQSWt1Kpk7SEQoWpXENyvEjTYFBCydOHIJo0jSLt2vQIrUeLEm6FscIRkf0tQ0W'};\\n\\njobmap[6]= {jk:'7bc2087719c1dca7',efccid: 'aacc7ab7e77fae54',srcid:'4fe346d4b740ed05',cmpid:'5bd99dfa21c8a490',num:'6',srcname:'Bank of America',cmp:'Bank of America',cmpesc:'Bank of America',cmplnk:'/q-Bank-of-America-jobs.html',loc:'Charlotte, NC 28255',country:'US',zip:'28255',city:'Charlotte',title:'Data Scientist I',locid:'578fa8376f4eec04',rd:'A1kmjcdO9UbIpSbViw6K6vEjTYFBCydOHIJo0jSLt2tC0Xa0m5LB2W65CWONpXaZ'};\\n\\njobmap[7]= {jk:'2d7c6cc29c4555c8',efccid: '6d1792cb93b77d2d',srcid:'bb338f3a02ecbc9d',cmpid:'1a952ffd7c75d4ad',num:'7',srcname:'MARC USA LLC',cmp:'MARC USA LLC',cmpesc:'MARC USA LLC',cmplnk:'/q-MARC-USA-jobs.html',loc:'Pittsburgh, PA 15219',country:'US',zip:'15219',city:'Pittsburgh',title:'Senior Data Scientist',locid:'24b8300eacbd6b16',rd:'gIBhyxjX88CBheNzlvzgWAfmkRX_hXv5vdGF0Dj9Cb8'};\\n\\njobmap[8]= {jk:'4e6d747c8470498d',efccid: '85b7177420aa2f6d',srcid:'f6c81542f363559e',cmpid:'35d653c09c2712b6',num:'8',srcname:'NBCUniversal',cmp:'NBCUniversal',cmpesc:'NBCUniversal',cmplnk:'/q-NBCUniversal-jobs.html',loc:'Universal City, CA',country:'US',zip:'',city:'Universal City',title:'Data Scientist',locid:'feb4ce15f0eed46a',rd:'id9YYX5O4_uiUP8-vquUm_EjTYFBCydOHIJo0jSLt2vwg1xS4oCr2jewzrnaucZm'};\\n\\njobmap[9]= {jk:'de8696554cc71b22',efccid: 'caff23281376b83d',srcid:'c6c40f68ed4ae948',cmpid:'fe2d21eef233e94a',num:'9',srcname:'Amazon.com',cmp:'Amazon.com',cmpesc:'Amazon.com',cmplnk:'/q-Amazon.com-jobs.html',loc:'Pittsburgh, PA',country:'US',zip:'',city:'Pittsburgh',title:'Research Scientist II, Amazon Alexa',locid:'24b8300eacbd6b16',rd:'HgqJEbKk5cQW1h3qe3-fi_EjTYFBCydOHIJo0jSLt2v643S2KwFAze-YU5kL_RQ0'};\\n</script>\\n<style type=\"text/css\">\\n            .jobtitle {\\n                font-weight: bold;\\n            }\\n            td.snip b, span.company b, #femp_list .jobtitle, #cmpinfo_list .jobtitle, .jobtitle .new {\\n                font-weight: normal;\\n            }\\n            div.result-link-bar b {\\n                font-weight: bold;\\n            }\\n        </style>\\n<style type=\"text/css\">\\n    div.row table tr td.snip { line-height: 1.4; }\\n</style>\\n<table border=\"0\" cellpadding=\"0\" cellspacing=\"0\" id=\"resultsBody\" role=\"main\"><tr><td>\\n<script type=\"text/javascript\">\\n    window['ree'] = \"pdsssps\";\\n    window['jas'] = \"KPbzBs5aKWc\";\\n</script>\\n<style type=\"text/css\">\\n    /* Promos Generic Styling */\\n\\n/* Single Link with text */\\n.basePromo {\\n    margin-top: 8px; margin-bottom: 13px; padding-left: 12px; padding-right: 12px;\\n}\\n\\n.redText {\\n    color: #FF0000;\\n}\\n\\n.bold {\\n    font-weight: bold;\\n}\\n\\n.basePromo.resume {\\n    font-size: 14px;\\n    margin-top: 5px;\\n}\\n\\n.basePromo.resume > img {\\n    height: 20px;\\n    margin-right: 5px;\\n    margin-bottom: 3px;\\n    width: 16px;\\n}</style>\\n<style type=\"text/css\">\\n        @import url(/styles/component/resumematch.css);@import url(/styles/viewjob-footer.css);@import url(/styles/component/dropdown.css);@import url(/styles/component/blue-button.css);@import url(/styles/component/statepicker.css);.icl-Alert,.icl-Alert-body,.icl-Alert-close,.icl-Alert-headline,.icl-Alert-iconContainer,.icl-Alert-text{box-sizing:border-box}.icl-Alert{position:relative;width:100%}[dir] .icl-Alert{padding:1rem}@media (min-width: 48em){[dir] .icl-Alert{text-align:center}}[dir] .icl-Alert--success{background-color:#e6fff6}.icl-Alert--success .icl-Alert-headline{color:#00825f}.icl-Alert--success .icl-Alert-icon{fill:#00b887;width:22px;height:22px;fill-rule:evenodd}.icl-Alert--success .icl-Alert-iconContainer{width:22px;height:22px}[dir] .icl-Alert--info{background-color:#ebfeff}.icl-Alert--info .icl-Alert-headline{color:set-text-color(primary)}.icl-Alert--info .icl-Alert-icon{fill:#085ff7;width:22px;height:22px;fill-rule:evenodd}.icl-Alert--info .icl-Alert-iconContainer{width:22px;height:22px}[dir] .icl-Alert--warning{background-color:#fffbde}.icl-Alert--warning .icl-Alert-headline{color:set-text-color(primary)}.icl-Alert--warning .icl-Alert-icon{fill:#fce356;width:24px;height:22px;fill-rule:evenodd}.icl-Alert--warning .icl-Alert-iconContainer{width:24px;height:22px}[dir] .icl-Alert--danger{background-color:#fff0ef}.icl-Alert--danger .icl-Alert-headline{color:#db183f}.icl-Alert--danger .icl-Alert-icon{fill:#ff575f;width:22px;height:22px;fill-rule:evenodd}.icl-Alert--danger .icl-Alert-iconContainer{width:22px;height:22px}.icl-Alert-text{display:inline-block;vertical-align:middle;max-width:80%}[dir=ltr] .icl-Alert-text{text-align:left}[dir=rtl] .icl-Alert-text{text-align:right}.icl-Alert-headline{font-size:1rem;line-height:1.5rem;font-weight:700}.icl-Alert-body,.icl-Alert-headline{font-family:Helvetica Neue,Helvetica,Arial,Liberation Sans,Roboto,Noto,sans-serif;letter-spacing:0}.icl-Alert-body{font-size:.6875rem;line-height:1rem;font-weight:400}.icl-Alert-body a{color:#085ff7}.icl-Alert-body a,.icl-Alert-body a:active,.icl-Alert-body a:focus,.icl-Alert-body a:hover,.icl-Alert-body a:link,.icl-Alert-body a:visited{text-decoration:none}.icl-Alert-body a:visited{color:#5a38d6}.icl-Alert-body a:active,.icl-Alert-body a:focus,.icl-Alert-body a:hover{color:#1497ff}.icl-Alert-iconContainer{display:inline-block;vertical-align:middle}[dir=ltr] .icl-Alert-iconContainer{margin-right:1rem}[dir=rtl] .icl-Alert-iconContainer{margin-left:1rem}.icl-Alert-close{position:absolute;top:0}[dir] .icl-Alert-close{padding:1rem}[dir=ltr] .icl-Alert-close{right:0}[dir=rtl] .icl-Alert-close{left:0}.icl-Radio,.icl-Radio-control,.icl-Radio-errorText,.icl-Radio-helpText,.icl-Radio-item,.icl-Radio-label,.icl-Radio-legend{box-sizing:border-box}[dir] .icl-Radio{border:none;padding:0}.icl-Radio-legend{font-family:Helvetica Neue,Helvetica,Arial,Liberation Sans,Roboto,Noto,sans-serif;font-size:.875rem;letter-spacing:0;line-height:1.25rem;font-weight:700;color:#2d2d2d}[dir] .icl-Radio-legend{padding:0}.icl-Radio-helpText{font-family:Helvetica Neue,Helvetica,Arial,Liberation Sans,Roboto,Noto,sans-serif;font-size:.6875rem;letter-spacing:0;line-height:1rem;font-weight:500;color:#767676}[dir] .icl-Radio-item{padding-top:.5rem;padding-bottom:.5rem}[dir] .icl-Radio-control{margin:0}[dir=ltr] .icl-Radio-control{margin-right:1rem}[dir=rtl] .icl-Radio-control{margin-left:1rem}.icl-Radio-label{font-family:Helvetica Neue,Helvetica,Arial,Liberation Sans,Roboto,Noto,sans-serif;font-size:.875rem;letter-spacing:0;line-height:1.25rem;font-weight:400;color:#2d2d2d}[dir] .icl-Radio-label{padding-top:.5rem;padding-bottom:.5rem}.icl-Radio-errorText{font-family:Helvetica Neue,Helvetica,Arial,Liberation Sans,Roboto,Noto,sans-serif;font-size:.625rem;letter-spacing:0;line-height:1rem;font-weight:500;color:#db183f}.icl-CloseButton{box-sizing:border-box}[dir] .icl-CloseButton{cursor:pointer;background:none;border:none}[dir=ltr] .icl-CloseButton{float:right}[dir=rtl] .icl-CloseButton{float:left}.icl-Icon{box-sizing:border-box;display:inline-block;vertical-align:middle;height:48px;width:48px}.icl-Icon--input{display:inline-block;position:absolute;height:44px;width:40px;fill:#ccc;bottom:0}.icl-Icon--md{height:24px;width:24px}.icl-Icon--sm{height:18px;width:18px}[dir=ltr] .icl-Icon--right{margin-left:.2rem;right:0}[dir=rtl] .icl-Icon--right{margin-right:.2rem;left:0}[dir=ltr] .icl-Icon--left{margin-right:.2rem}[dir=rtl] .icl-Icon--left{margin-left:.2rem}.icl-Icon--black{fill:#000}.icl-Icon--blue{fill:#00c}.icl-Icon--grey{fill:#6f6f6f}.icl-Icon--orange{fill:#f60}.icl-Icon--white{fill:#fff}#tjobalertswrapper{margin-left:inherit;width:inherit}.resultsTop::after{content:'';clear:both;display:block}#vjs-container{background-color:#fff;border:1px solid #CCC;position:fixed;transition:opacity 150ms ease-in-out;width:440px;top:0;overflow:hidden;z-index:1}@media only screen and (min-width: 1200px){.row .jobtitle{white-space:normal !important}}@media only screen and (min-width: 1280px){#vjs-container{width:504px}}@media only screen and (min-width: 1360px){#vjs-container{width:530px}}@media only screen and (min-width: 1440px){#vjs-container{width:600px}}@media only screen and (min-width: 1740px){#vjs-container{width:790px}}#vjs-header{background:#FFFFFF;height:auto;border-bottom:1px solid #CCC;box-shadow:0 1px 2px rgba(0,0,0,0.05);position:relative;padding:16px 44px 16px 24px}#vjs-header #apply-button-container{margin-top:0;margin-bottom:0}#vjs-header #apply-button-container .job-footer-button-row{margin-top:10px}#vjs-content{overflow-x:auto;height:calc(100% - 140px);padding:0 24px 10px 24px}#vjs-jbspot-content{overflow-x:auto;height:calc(100% - 140px);padding:0 0 10px 24px}#vjs-jbspot-iframe{width:100%;height:100%;border:0}#vjs-footer #apply-button-container{margin-bottom:10px}#vjs-desc{padding:16px 0 24px 0;line-height:1.5}#vjs-jobtitle{color:#000000;line-height:20px;font-size:18px;font-weight:700;margin-bottom:3px}#vjs-jobinfo{font-size:11pt;line-height:20px}#vjs-header-jobinfo{display:flex;align-items:center}#vjs-x{position:absolute;top:10px}.ltr #vjs-x{right:10px}.rtl #vjs-x{left:10px}#vjs-footer{margin-bottom:24px;height:90px}#vjs-footer #apply-state-picker-container{margin-bottom:0}#vjs-jobcategory{margin-bottom:2px}.row.vjs-highlight{background:#F5F5F5;border:1px solid #CCC !important;position:relative}.vjs-highlight:before,.vjs-highlight:after{content:\" \";border-style:solid;position:absolute;z-index:101}.vjs-highlight:before{border-color:transparent transparent transparent #ccc;border-width:13px 0 13px 13px;right:-13px;top:calc(50% - 13px)}.vjs-highlight:after{border-color:transparent transparent transparent #f5f5f5;border-width:12px 0 12px 12px;right:-12px;top:calc(50% - 12px)}.vjs-trustworthymsg{color:#666666;font-size:12px;font-family:AvenirNext, regular;line-height:17px;margin-top:5px}.rtl .vjs-highlight:before{border-color:transparent #ccc transparent transparent !important;border-width:13px 13px 13px 0 !important;left:-13px;right:auto}.rtl .vjs-highlight:after{border-color:transparent #f5f5f5 transparent transparent;border-width:12px 12px 12px 0;left:-12px;right:auto}.vjs-expired{color:#900;font-size:13.5pt}#vjs-cmL{max-height:50px;margin-right:12px;border:1px solid #D7D7D7}#vjs-img-cmL{max-width:100px;max-height:50px;overflow:hidden}#footerWrapper{position:absolute;left:0;right:0;width:100%;border-top:1px solid #CCC;padding-top:10px}.no-scroll{overflow-x:auto;overflow-y:hidden}#PlaceholderContainer{display:block;margin:8px}.PlaceholderCopy-line,.PlaceholderHeader-jobTitle{display:block;background-color:#e8e8e8}.PlaceholderHeader-company,.PlaceholderHeader-location{display:inline-block;height:12px;background-color:#e8e8e8}.PlaceholderHeader-company{width:18%}.PlaceholderHeader-location{width:40%}.PlaceholderHeader-stars{display:inline-block;height:12px;width:65px;background-image:url(\"/images/stars.png\");background-size:contain}.PlaceholderHeader{padding:20px 0;margin-bottom:20px;border-bottom:1px solid #ccc;min-width:200px}.PlaceholderHeader-jobTitle{height:16px;margin-bottom:12px;width:55%}.PlaceholderHeader-companyLocation{display:block}.PlaceHolderCopy{display:block;margin-bottom:28px;max-width:400px}.PlaceholderCopy-line{height:12px;margin-bottom:8px}.PlaceholderCopy-line--1{width:24%}.PlaceholderCopy-line--2{width:100%}.PlaceholderCopy-line--3{width:90%}.PlaceholderCopy-line--4{width:95%}.PlaceholderCopy-line--5{width:80%}.indeedLogo{width:205px !important}#refineresults{box-sizing:border-box;width:260px;margin-right:20px;margin-left:5px}#resultsCol{width:410px;min-width:410px;padding:6px 28px 9px 0 !important}#branding-td{min-width:290px}@media only screen and (min-width: 1125px){#branding-td{min-width:282px}}@media screen and (min-width: 1366px){#resultsCol{min-width:470px}}@media only screen and (min-width: 1740px){#resultsCol{min-width:586px}}table#pageContent{max-width:1024px;min-height:432px}#auxCol{position:relative !important;width:320px;padding-left:0}#serpRecommendations .row,.row.result{padding:10px;border:1px solid transparent;position:relative}.ltr #serpRecommendations .row,.ltr .row.result{padding-right:28px}.rtl #serpRecommendations .row,.rtl .row.result{padding-left:28px}.ltr #resultsCol .showing{padding-left:10px}@media only screen and (min-width: 1125px){.ltr #branding img{margin-left:16px;margin-right:0}}@media only screen and (min-width: 1250px){.ltr #branding img{margin-left:16px;margin-right:0}}#resumePromo{padding-left:12px}.ita-base-container{min-height:1px;width:1px;text-align:center;font-size:40px;position:absolute;top:0;box-sizing:border-box}.popover{position:fixed;display:none;-webkit-box-shadow:0 1px 3px 0 rgba(0,0,0,0.28);-moz-box-shadow:0 1px 3px 0 rgba(0,0,0,0.28);box-shadow:0 1px 3px 0 rgba(0,0,0,0.28)}#popover-background{position:fixed;z-index:999;background:#000000;width:100%;height:100%;opacity:.30;filter:alpha(opacity=30);top:0;left:0}.ita-base-container>#popover-foreground{max-height:700px;width:750px;text-align:left;z-index:1000;font-size:40px;position:fixed;box-sizing:border-box;padding:25px;background:white;margin:0 auto;overflow-y:auto}#popover-x{float:right;margin:-12px -12px 0 0}.popover-x-span{font-weight:bold;font-size:18px;cursor:pointer}.popover-heading-div{text-align:center;font-size:14px;padding-bottom:15px}#popover-ita-container .btn-primary{color:#F8F8F9 !important}.ita-base-container>#fullpage-div{margin:0 !important}.itaHeader{width:100%;background:white}.itaLogo{display:block;margin-top:9px;margin-left:auto;margin-right:auto;max-height:40px;max-width:159px}.itaClose{text-align:center;font-weight:bold}.itaText{text-align:left;color:#6f6f6f;font-size:90%}.itaLocation{text-align:left;color:#6f6f6f}.itaBold{font-weight:bold}.itaNoFormatting{text-decoration:none}.ita-ctas{text-align:center}.aquo{font-size:140%;font-weight:bold;line-height:0.5;color:#f60}#bvjl{font-size:16px;margin:1em 0 1.5em}.snip .sl,.snip .view_job_link{white-space:nowrap}.row.result{margin-bottom:4px}.clickcard:hover{border:1px solid #d8d8d8 !important;cursor:pointer !important}#jobalertswrapper,#femp_list,#picard-profile-completeness-widget,#univsrch-salary-v3,.rightRailAd{margin-left:12px;width:inherit}.ltr #serpRecommendations .row,.ltr .row.result{margin-right:-24px}.ltr #serpRecommendations .row,.ltr .row.result.vjs-highlight{margin-right:-29px}\\n</style>\\n<table border=\"0\" cellpadding=\"0\" cellspacing=\"0\" id=\"pageContent\" width=\"100%\">\\n<tr valign=\"top\">\\n<td data-tn-section=\"refineBy\" id=\"refineresultscol\">\\n<div id=\"refineresults\">\\n<h1><font size=\"+1\">data scientist jobs</font></h1>\\n<span aria-level=\"2\" role=\"heading\" style=\"height: 0; overflow: hidden; position: absolute;\">Filter results by:</span>\\n<div style=\"margin-left: 6px; margin-bottom: 1em;\">Sort\\xa0by: <span class=\"no-wrap\"><b>relevance</b> -\\n            <a href=\"/jobs?q=data+scientist&amp;sort=date\" rel=\"nofollow\">date</a></span></div>\\n<div class=\"rbSection rbOpen\" id=\"rb_Salary Estimate\">\\n<div class=\"rbHeader\">\\n<span aria-level=\"3\" class=\"ws_bold\" role=\"heading\">\\n                    Salary Estimate</span>\\n</div>\\n<div class=\"rbsrbo\" id=\"SALARY_rbo\">\\n<ul class=\"rbList\">\\n<li onmousedown=\"rbptk('rb', 'salest', '1');\">\\n<a href=\"/q-data-scientist-$60,000-jobs.html\" rel=\"nofollow\" title=\"$60,000 (23029)\">$60,000</a> (23029)</li>\\n<li onmousedown=\"rbptk('rb', 'salest', '2');\">\\n<a href=\"/q-data-scientist-$80,000-jobs.html\" rel=\"nofollow\" title=\"$80,000 (18506)\">$80,000</a> (18506)</li>\\n<li onmousedown=\"rbptk('rb', 'salest', '3');\">\\n<a href=\"/q-data-scientist-$95,000-jobs.html\" rel=\"nofollow\" title=\"$95,000 (14728)\">$95,000</a> (14728)</li>\\n<li onmousedown=\"rbptk('rb', 'salest', '4');\">\\n<a href=\"/q-data-scientist-$110,000-jobs.html\" rel=\"nofollow\" title=\"$110,000 (10285)\">$110,000</a> (10285)</li>\\n<li onmousedown=\"rbptk('rb', 'salest', '5');\">\\n<a href=\"/q-data-scientist-$130,000-jobs.html\" rel=\"nofollow\" title=\"$130,000 (5043)\">$130,000</a> (5043)</li>\\n</ul>\\n</div>\\n</div>\\n<div class=\"rbSection rbOpen\" id=\"rb_Job Type\">\\n<div class=\"rbHeader\">\\n<span aria-level=\"3\" class=\"ws_bold\" role=\"heading\">\\n                    Job Type</span>\\n</div>\\n<div class=\"rbsrbo\" id=\"JOB_TYPE_rbo\">\\n<ul class=\"rbList\">\\n<li onmousedown=\"rbptk('rb', 'jobtype', '1');\">\\n<a href=\"/jobs?q=data+scientist&amp;jt=fulltime\" rel=\"nofollow\" title=\"Full-time (27367)\">Full-time</a> (27367)</li>\\n<li onmousedown=\"rbptk('rb', 'jobtype', '2');\">\\n<a href=\"/jobs?q=data+scientist&amp;jt=contract\" rel=\"nofollow\" title=\"Contract (1334)\">Contract</a> (1334)</li>\\n<li onmousedown=\"rbptk('rb', 'jobtype', '3');\">\\n<a href=\"/jobs?q=data+scientist&amp;jt=parttime\" rel=\"nofollow\" title=\"Part-time (731)\">Part-time</a> (731)</li>\\n<li onmousedown=\"rbptk('rb', 'jobtype', '4');\">\\n<a href=\"/jobs?q=data+scientist&amp;jt=temporary\" rel=\"nofollow\" title=\"Temporary (368)\">Temporary</a> (368)</li>\\n<li onmousedown=\"rbptk('rb', 'jobtype', '5');\">\\n<a href=\"/jobs?q=data+scientist&amp;jt=internship\" rel=\"nofollow\" title=\"Internship (318)\">Internship</a> (318)</li>\\n<li onmousedown=\"rbptk('rb', 'jobtype', '6');\">\\n<a href=\"/jobs?q=data+scientist&amp;jt=commission\" rel=\"nofollow\" title=\"Commission (97)\">Commission</a> (97)</li>\\n</ul>\\n</div>\\n</div>\\n<div class=\"rbSection rbOpen\" id=\"rb_Location\">\\n<div class=\"rbHeader\">\\n<span aria-level=\"3\" class=\"ws_bold\" role=\"heading\">\\n                    Location</span>\\n</div>\\n<div class=\"rbsrbo\" id=\"LOCATION_rbo\">\\n<ul class=\"rbList\">\\n<li onmousedown=\"rbptk('rb', 'loc', '1');\">\\n<a href=\"/jobs?q=data+scientist&amp;rbl=New+York,+NY&amp;jlid=45f6c4ded55c00bf\" rel=\"nofollow\" title=\"New York, NY (2008)\">New York, NY</a> (2008)</li>\\n<li onmousedown=\"rbptk('rb', 'loc', '2');\">\\n<a href=\"/jobs?q=data+scientist&amp;rbl=San+Francisco,+CA&amp;jlid=6cf5e6d389fd6d6b\" rel=\"nofollow\" title=\"San Francisco, CA (1253)\">San Francisco, CA</a> (1253)</li>\\n<li onmousedown=\"rbptk('rb', 'loc', '3');\">\\n<a href=\"/jobs?q=data+scientist&amp;rbl=Austin,+TX&amp;jlid=d2a39b6d57d82344\" rel=\"nofollow\" title=\"Austin, TX (947)\">Austin, TX</a> (947)</li>\\n<li onmousedown=\"rbptk('rb', 'loc', '4');\">\\n<a href=\"/jobs?q=data+scientist&amp;rbl=Cambridge,+MA&amp;jlid=28b85bba6e466386\" rel=\"nofollow\" title=\"Cambridge, MA (881)\">Cambridge, MA</a> (881)</li>\\n<li onmousedown=\"rbptk('rb', 'loc', '5');\">\\n<a href=\"/jobs?q=data+scientist&amp;rbl=Seattle,+WA&amp;jlid=1e8a7dce52945215\" rel=\"nofollow\" title=\"Seattle, WA (832)\">Seattle, WA</a> (832)</li>\\n<li class=\"moreLi\" onmousedown=\"rbptk('rb', 'loc', '6');\">\\n<a href=\"/jobs?q=data+scientist&amp;rbl=Boston,+MA&amp;jlid=e167aeb8a259bcac\" rel=\"nofollow\" title=\"Boston, MA (743)\">Boston, MA</a> (743)</li>\\n<li class=\"moreLi\" onmousedown=\"rbptk('rb', 'loc', '7');\">\\n<a href=\"/jobs?q=data+scientist&amp;rbl=Chicago,+IL&amp;jlid=402d6ad50e16c894\" rel=\"nofollow\" title=\"Chicago, IL (579)\">Chicago, IL</a> (579)</li>\\n<li class=\"moreLi\" onmousedown=\"rbptk('rb', 'loc', '8');\">\\n<a href=\"/jobs?q=data+scientist&amp;rbl=Washington,+DC&amp;jlid=c08ec92d8c031faa\" rel=\"nofollow\" title=\"Washington, DC (452)\">Washington, DC</a> (452)</li>\\n<li class=\"moreLi\" onmousedown=\"rbptk('rb', 'loc', '9');\">\\n<a href=\"/jobs?q=data+scientist&amp;rbl=San+Diego,+CA&amp;jlid=15daff915f69f903\" rel=\"nofollow\" title=\"San Diego, CA (442)\">San Diego, CA</a> (442)</li>\\n<li class=\"moreLi\" onmousedown=\"rbptk('rb', 'loc', '10');\">\\n<a href=\"/jobs?q=data+scientist&amp;rbl=Redmond,+WA&amp;jlid=a7d60f4fa63c73eb\" rel=\"nofollow\" title=\"Redmond, WA (378)\">Redmond, WA</a> (378)</li>\\n<li class=\"moreLi\" onmousedown=\"rbptk('rb', 'loc', '11');\">\\n<a href=\"/jobs?q=data+scientist&amp;rbl=Atlanta,+GA&amp;jlid=966e6327a98f7e81\" rel=\"nofollow\" title=\"Atlanta, GA (374)\">Atlanta, GA</a> (374)</li>\\n<li class=\"moreLi\" onmousedown=\"rbptk('rb', 'loc', '12');\">\\n<a href=\"/jobs?q=data+scientist&amp;rbl=Sunnyvale,+CA&amp;jlid=62f8f620fe0679b7\" rel=\"nofollow\" title=\"Sunnyvale, CA (347)\">Sunnyvale, CA</a> (347)</li>\\n<li class=\"moreLi\" onmousedown=\"rbptk('rb', 'loc', '13');\">\\n<a href=\"/jobs?q=data+scientist&amp;rbl=Albuquerque,+NM&amp;jlid=0c54fa8350e60614\" rel=\"nofollow\" title=\"Albuquerque, NM (306)\">Albuquerque, NM</a> (306)</li>\\n<li class=\"moreLi\" onmousedown=\"rbptk('rb', 'loc', '14');\">\\n<a href=\"/jobs?q=data+scientist&amp;rbl=St.+Louis,+MO&amp;jlid=67612839f9db3f30\" rel=\"nofollow\" title=\"St. Louis, MO (283)\">St. Louis, MO</a> (283)</li>\\n</ul>\\n<div class=\"more_link\"><span onclick=\"showAllRefinements('rb_Location'); return false;\" onkeyup=\"if (event.keyCode == 13) showAllRefinements('rb_Location'); return false;\" tabindex=\"0\">more \\xbb</span></div></div>\\n</div>\\n<div class=\"rbSection rbOpen\" id=\"rb_Company\">\\n<div class=\"rbHeader\">\\n<span aria-level=\"3\" class=\"ws_bold\" role=\"heading\">\\n                    Company</span>\\n</div>\\n<div class=\"rbsrbo\" id=\"COMPANY_rbo\">\\n<ul class=\"rbList\">\\n<li onmousedown=\"rbptk('rb', 'cmp', '1');\">\\n<a href=\"/jobs?q=data+scientist&amp;rbc=Asuragen&amp;jcid=2f5b2a12422b193d\" rel=\"nofollow\" title=\"Asuragen (653)\">Asuragen</a> (653)</li>\\n<li onmousedown=\"rbptk('rb', 'cmp', '2');\">\\n<a href=\"/jobs?q=data+scientist&amp;rbc=Microsoft&amp;jcid=734cb5a01ee60f80\" rel=\"nofollow\" title=\"Microsoft (492)\">Microsoft</a> (492)</li>\\n<li onmousedown=\"rbptk('rb', 'cmp', '3');\">\\n<a href=\"/jobs?q=data+scientist&amp;rbc=Presbyterian+Healthcare+Services&amp;jcid=2faa77e8dc712650\" rel=\"nofollow\" title=\"Presbyterian Healthcare Services (463)\">Presbyterian Healthcare Services</a> (463)</li>\\n<li onmousedown=\"rbptk('rb', 'cmp', '4');\">\\n<a href=\"/jobs?q=data+scientist&amp;rbc=Amazon.com&amp;jcid=fe2d21eef233e94a\" rel=\"nofollow\" title=\"Amazon.com (403)\">Amazon.com</a> (403)</li>\\n<li onmousedown=\"rbptk('rb', 'cmp', '5');\">\\n<a href=\"/jobs?q=data+scientist&amp;rbc=Ball+Aerospace&amp;jcid=82c5e27e77990fa2\" rel=\"nofollow\" title=\"Ball Aerospace (375)\">Ball Aerospace</a> (375)</li>\\n<li class=\"moreLi\" onmousedown=\"rbptk('rb', 'cmp', '6');\">\\n<a href=\"/jobs?q=data+scientist&amp;rbc=Bristol-Myers+Squibb&amp;jcid=45f7e11d0973ee3a\" rel=\"nofollow\" title=\"Bristol-Myers Squibb (331)\">Bristol-Myers Squibb</a> (331)</li>\\n<li class=\"moreLi\" onmousedown=\"rbptk('rb', 'cmp', '7');\">\\n<a href=\"/jobs?q=data+scientist&amp;rbc=BOEING&amp;jcid=edae4285faf6c2f0\" rel=\"nofollow\" title=\"BOEING (314)\">BOEING</a> (314)</li>\\n<li class=\"moreLi\" onmousedown=\"rbptk('rb', 'cmp', '8');\">\\n<a href=\"/jobs?q=data+scientist&amp;rbc=Pfizer&amp;jcid=7ff126af0cd3d93b\" rel=\"nofollow\" title=\"Pfizer (270)\">Pfizer</a> (270)</li>\\n<li class=\"moreLi\" onmousedown=\"rbptk('rb', 'cmp', '9');\">\\n<a href=\"/jobs?q=data+scientist&amp;rbc=Walmart+eCommerce&amp;jcid=8c49e99f20f89e48\" rel=\"nofollow\" title=\"Walmart eCommerce (227)\">Walmart eCommerce</a> (227)</li>\\n<li class=\"moreLi\" onmousedown=\"rbptk('rb', 'cmp', '10');\">\\n<a href=\"/jobs?q=data+scientist&amp;rbc=Jacobs&amp;jcid=de56d7554bea5214\" rel=\"nofollow\" title=\"Jacobs (208)\">Jacobs</a> (208)</li>\\n<li class=\"moreLi\" onmousedown=\"rbptk('rb', 'cmp', '11');\">\\n<a href=\"/jobs?q=data+scientist&amp;rbc=Apple&amp;jcid=c1099851e9794854\" rel=\"nofollow\" title=\"Apple (180)\">Apple</a> (180)</li>\\n<li class=\"moreLi\" onmousedown=\"rbptk('rb', 'cmp', '12');\">\\n<a href=\"/jobs?q=data+scientist&amp;rbc=Burns+%26+McDonnell&amp;jcid=75aff752794baac1\" rel=\"nofollow\" title=\"Burns &amp; McDonnell (162)\">Burns &amp; McDonnell</a> (162)</li>\\n<li class=\"moreLi\" onmousedown=\"rbptk('rb', 'cmp', '13');\">\\n<a href=\"/jobs?q=data+scientist&amp;rbc=Google&amp;jcid=a5b4499d9e91a5c6\" rel=\"nofollow\" title=\"Google (141)\">Google</a> (141)</li>\\n<li class=\"moreLi\" onmousedown=\"rbptk('rb', 'cmp', '14');\">\\n<a href=\"/jobs?q=data+scientist&amp;rbc=The+Aerospace+Corporation&amp;jcid=ba923b146fa75d0d\" rel=\"nofollow\" title=\"The Aerospace Corporation (141)\">The Aerospace Corporation</a> (141)</li>\\n<li class=\"moreLi\" onmousedown=\"rbptk('rb', 'cmp', '15');\">\\n<a href=\"/jobs?q=data+scientist&amp;rbc=Booz+Allen+Hamilton&amp;jcid=4e041af1d0af1bc8\" rel=\"nofollow\" title=\"Booz Allen Hamilton (137)\">Booz Allen Hamilton</a> (137)</li>\\n</ul>\\n<div class=\"more_link\"><span onclick=\"showAllRefinements('rb_Company'); return false;\" onkeyup=\"if (event.keyCode == 13) showAllRefinements('rb_Company'); return false;\" tabindex=\"0\">more \\xbb</span></div></div>\\n</div>\\n<div class=\"rbSection rbOpen\" id=\"rb_Experience Level\">\\n<div class=\"rbHeader\">\\n<span aria-level=\"3\" class=\"ws_bold\" role=\"heading\">\\n                    Experience Level</span>\\n</div>\\n<div class=\"rbsrbo\" id=\"EXP_LVL_rbo\">\\n<ul class=\"rbList\">\\n<li onmousedown=\"rbptk('rb', 'explvl', '1');\">\\n<a href=\"/jobs?q=data+scientist&amp;explvl=mid_level\" rel=\"nofollow\" title=\"Mid Level (12543)\">Mid Level</a> (12543)</li>\\n<li onmousedown=\"rbptk('rb', 'explvl', '2');\">\\n<a href=\"/jobs?q=data+scientist&amp;explvl=entry_level\" rel=\"nofollow\" title=\"Entry Level (6865)\">Entry Level</a> (6865)</li>\\n<li onmousedown=\"rbptk('rb', 'explvl', '3');\">\\n<a href=\"/jobs?q=data+scientist&amp;explvl=senior_level\" rel=\"nofollow\" title=\"Senior Level (4599)\">Senior Level</a> (4599)</li>\\n</ul>\\n</div>\\n</div>\\n</div>\\n</td>\\n<td id=\"resultsCol\">\\n<div class=\"messageContainer\">\\n<script type=\"text/javascript\">\\n    function setRefineByCookie(refineByTypes) {\\n        var expires = new Date();\\n        expires.setTime(expires.getTime() + (10 * 1000));\\n        for (var i = 0; i < refineByTypes.length; i++) {\\n            setCookie(refineByTypes[i], \"1\", expires);\\n        }\\n    }\\n</script>\\n<p class=\"message\">Tip: Enter your zip code in the \"where\" box to show results in your area.</p>\\n</div>\\n<style type=\"text/css\">\\n    #increased_radius_result {\\n        font-size: 16px;\\n        font-style: italic;\\n    }\\n    #original_radius_result{\\n        font-size: 13px;\\n        font-style: italic;\\n        color: #666666;\\n    }\\n</style>\\n<div class=\"resultsTop\"><div id=\"searchCount\">\\n        Page 1 of 28,842 jobs</div>\\n<div data-tn-section=\"primePromo\" id=\"primePromo\">\\n<span class=\"new\">New!</span> <a href=\"/promo/prime\" onclick=\"this.href = appendParamsOnce( this.href, '?from=serptop&amp;subfrom=primeprmtop&amp;trk.origin=jobsearch&amp;trk.variant=primeprmtop&amp;trk.tk=1cft8mcmn534nbbp&amp;vertical=TECH&amp;x_isid=serptop&amp;x_ikw=data+scientist&amp;x_sid=serptop&amp;x_kw=data+scientist')\">Join Indeed Prime</a> - Get offers from great tech companies</div></div>\\n<script type=\"text/javascript\">\\n            window['sjl'] = \"kElV3Muh\";\\n        </script>\\n<style type=\"text/css\">\\n\\t\\t.kElV3Muh { margin: 0 0 6px 0; padding: 0; _zoom:100%; border: 0; background-color: #fff; }\\n\\t\\t.kElV3Muh .jobtitle { float:left; _float: none; }\\n        .kElV3Muh .sdn { color: #CD29C0; }\\n\\t\\t.SzZix88sBkJ .brdr { margin-top: 12px; }\\n\\t\\t.zO3gqkX .brdr { margin-bottom: 12px; }\\n\\t\\t@media only screen and (min-height:780px) {\\n            .SzZix88sBkJ { margin-bottom: 9px; }\\n\\t\\t\\t.zO3gqkX .brdr,\\n            .hIaIEMs,\\n\\t\\t\\t.SzZix88sBkJ .brdr { margin-bottom: 9px; margin-top: 9px; }\\n\\t\\t}\\n\\t</style>\\n<style type=\"text/css\">\\n            .result-tab:empty {margin-top: 0;}\\n            .SzZix88sBkJ {\\n                margin-bottom: 0;\\n            }\\n            @media only screen and (min-height:780px) {\\n                .SzZix88sBkJ {\\n                    margin-bottom: 0;\\n                }\\n            }\\n        </style>\\n<div></div>\\n<a id=\"jobPostingsAnchor\" tabindex=\"-1\"></a>\\n<div class=\"kElV3Muh SzZix88sBkJ\">\\n<div class=\"row result\" data-advn=\"1494283193091219\" data-jk=\"572b86d638549e59\" data-tu=\"\" id=\"pj_572b86d638549e59\">\\n<a class=\"jobtitle turnstileLink\" data-tn-element=\"jobTitle\" href=\"/pagead/clk?mo=r&amp;ad=-6NYlbfkN0BT1oD7gxL4d4q7k2XK_xqJz55UkLlcqeX4XFuXt5iz9mK7FpaANvl7AxojJjQyGAV4M_tjtAEGT4LY-pg1ts2dI0n4nkPajVHUzh4WCG87IXC-oTmcuSKj3QDgt02XWwARQtId-qql3tMfCxGWGr3lRnxw3Mryf5CEPEXwGm4EagkQUed9oouhJkbLtMuaklsq3vdjKD4JuOXcpOwq2Vdl9vTfSF4yawzI6WxlnTkwZ8pzZiXF1lKc0EjX2dOxGZlMKdPaMKc5mQ7hLOG7FwlSU0clqgz8HsvfFaTrDVk6PXbdbTMSewa2bTblamDFNlSbfoRmyciIwp2zb8sOzEyjo1XncX0fsiFuV-HPnxGIMxtfZ1DiDgdJeHbRdRT1GY755OZ6rMYv4hR19Kg-wuovUIi2-66ANLXj9F-vDUPbyfYsKSUhsRvxYHFgCZb9FyO5d75Lp9ASsCJ3TxG4G4SpbCHMVbMk7ek=&amp;vjs=3&amp;p=1&amp;sk=&amp;fvj=0\" id=\"sja1\" onclick=\"setRefineByCookie([]); sjoc('sja1',0); convCtr('SJ')\" onmousedown=\"sjomd('sja1'); clk('sja1');\" rel=\"noopener nofollow\" target=\"_blank\" title=\"Data Scientist III\"><b>Data</b> <b>Scientist</b> III</a>\\n<br/>\\n<div class=\"sjcl\">\\n<span class=\"company\">\\n<a class=\"turnstileLink\" data-tn-element=\"companyName\" href=\"/cmp/Honeywell\" onmousedown=\"this.href = appendParamsOnce(this.href, 'from=SERP&amp;campaignid=serp-linkcompanyname&amp;fromjk=572b86d638549e59&amp;jcid=50208b5bf45ee3b8')\" rel=\"noopener\" target=\"_blank\">\\n    Honeywell</a></span>\\n\\n - <a class=\"turnstileLink slNoUnderline \" data-tn-element=\"reviewStars\" data-tn-variant=\"cmplinktst2\" href=\"/cmp/Honeywell/reviews\" onmousedown=\"this.href = appendParamsOnce(this.href, '?campaignid=cmplinktst2&amp;from=SERP&amp;jt=Data+Scientist+III&amp;fromjk=572b86d638549e59&amp;jcid=50208b5bf45ee3b8');\" rel=\"noopener\" target=\"_blank\" title=\"Honeywell reviews\">\\n<span class=\"ratings\"><span class=\"rating\" style=\"width:43.8px\"><!-- --></span></span>\\n<span class=\"slNoUnderline\">5,910 reviews</span></a>\\n - <span class=\"location\">Atlanta, GA 30308</span></div>\\n<div class=\"\">\\n<table border=\"0\" cellpadding=\"0\" cellspacing=\"0\"><tr><td class=\"snip\">\\n<span class=\"summary\">\\n                            The Data Scientist will be responsible for the design, validation, and support of data-driven and heuristic algorithms that detect cyber-attacks or health...</span>\\n</td></tr></table>\\n</div>\\n<div class=\"sjCapt\">\\n<div class=\"result-link-bar-container\">\\n<div class=\"result-link-bar\"><span class=\" sponsoredGray \">Sponsored</span> - <span class=\"tt_set\" id=\"tt_set_10\"><a class=\"sl resultLink save-job-link \" href=\"#\" id=\"sj_572b86d638549e59\" onclick=\"changeJobState('572b86d638549e59', 'save', 'linkbar', true, ''); return false;\" title=\"Save this job to my.indeed\">save job</a></span><div class=\"edit_note_content\" id=\"editsaved2_572b86d638549e59\" style=\"display:none;\"></div><script>if (!window['sj_result_572b86d638549e59']) {window['sj_result_572b86d638549e59'] = {};}window['sj_result_572b86d638549e59']['showSource'] = false; window['sj_result_572b86d638549e59']['source'] = \"Honeywell\"; window['sj_result_572b86d638549e59']['loggedIn'] = false; window['sj_result_572b86d638549e59']['showMyJobsLinks'] = false;window['sj_result_572b86d638549e59']['undoAction'] = \"unsave\";window['sj_result_572b86d638549e59']['jobKey'] = \"572b86d638549e59\"; window['sj_result_572b86d638549e59']['myIndeedAvailable'] = true; window['sj_result_572b86d638549e59']['showMoreActionsLink'] = window['sj_result_572b86d638549e59']['showMoreActionsLink'] || false; window['sj_result_572b86d638549e59']['resultNumber'] = 10; window['sj_result_572b86d638549e59']['jobStateChangedToSaved'] = false; window['sj_result_572b86d638549e59']['searchState'] = \"q=data scientist&amp;\"; window['sj_result_572b86d638549e59']['basicPermaLink'] = \"https://www.indeed.com\"; window['sj_result_572b86d638549e59']['saveJobFailed'] = false; window['sj_result_572b86d638549e59']['removeJobFailed'] = false; window['sj_result_572b86d638549e59']['requestPending'] = false; window['sj_result_572b86d638549e59']['notesEnabled'] = false; window['sj_result_572b86d638549e59']['currentPage'] = \"serp\"; window['sj_result_572b86d638549e59']['sponsored'] = true;window['sj_result_572b86d638549e59']['showSponsor'] = true;window['sj_result_572b86d638549e59']['reportJobButtonEnabled'] = false; window['sj_result_572b86d638549e59']['showMyJobsHired'] = false; window['sj_result_572b86d638549e59']['showSaveForSponsored'] = true; window['sj_result_572b86d638549e59']['showJobAge'] = true;</script></div></div>\\n<div class=\"tab-container\">\\n<div class=\"sign-in-container result-tab\"></div>\\n<div class=\"tellafriend-container result-tab email_job_content\"></div>\\n</div>\\n</div>\\n</div>\\n<div class=\"row result\" data-advn=\"1494283193091219\" data-jk=\"0be2a3c1a60aea42\" data-tu=\"\" id=\"pj_0be2a3c1a60aea42\">\\n<a class=\"jobtitle turnstileLink\" data-tn-element=\"jobTitle\" href=\"/pagead/clk?mo=r&amp;ad=-6NYlbfkN0BT1oD7gxL4d4q7k2XK_xqJz55UkLlcqeX4XFuXt5iz9mK7FpaANvl7AxojJjQyGAWUTmUfz4b_ga57iDwstxm1rhrhW-OZpNuLjvgl7OoIkFm7a1SrstoDNARqFsj018NB0fUj8eCRm1hQw1RADWlPuHN2NOiCsY1gID1MtGOYC1afT8u9nHBwoahnech-6Tz-WgEOkjPyNw1tlUSCV6gqGNlPySpIBN2nxKsZEKQQvfprPRN1D2Z0ZUXGzIUYho1lU7m0sw3m4k1ZP32MxuTqBRY_0p_qzUCFB9ac3Ghb_W72TFxMq5N3a0ermQu8Q0zB4pY6GoqI8touimGxFPvJtor69y5CEN6KNuxJlST__YV_qg5afSG7Dak0pTfaKSDbl5OHsx7RVttzaIljVjJUzb5ssIP0bjjrUzHCRmGh5OHcjjDRUXwbkrvDVmT_1WKixXZn8xFJkxEeoajiQbzJYISdU5VrN-M=&amp;vjs=3&amp;p=2&amp;sk=&amp;fvj=0\" id=\"sja2\" onclick=\"setRefineByCookie([]); sjoc('sja2',0); convCtr('SJ')\" onmousedown=\"sjomd('sja2'); clk('sja2');\" rel=\"noopener nofollow\" target=\"_blank\" title=\"Sr Data Scientist\">Sr <b>Data</b> <b>Scientist</b></a>\\n<br/>\\n<div class=\"sjcl\">\\n<span class=\"company\">\\n<a class=\"turnstileLink\" data-tn-element=\"companyName\" href=\"/cmp/Honeywell\" onmousedown=\"this.href = appendParamsOnce(this.href, 'from=SERP&amp;campaignid=serp-linkcompanyname&amp;fromjk=0be2a3c1a60aea42&amp;jcid=50208b5bf45ee3b8')\" rel=\"noopener\" target=\"_blank\">\\n    Honeywell</a></span>\\n\\n - <a class=\"turnstileLink slNoUnderline \" data-tn-element=\"reviewStars\" data-tn-variant=\"cmplinktst2\" href=\"/cmp/Honeywell/reviews\" onmousedown=\"this.href = appendParamsOnce(this.href, '?campaignid=cmplinktst2&amp;from=SERP&amp;jt=Sr+Data+Scientist&amp;fromjk=0be2a3c1a60aea42&amp;jcid=50208b5bf45ee3b8');\" rel=\"noopener\" target=\"_blank\" title=\"Honeywell reviews\">\\n<span class=\"ratings\"><span class=\"rating\" style=\"width:43.8px\"><!-- --></span></span>\\n<span class=\"slNoUnderline\">5,910 reviews</span></a>\\n - <span class=\"location\">Atlanta, GA 30308</span></div>\\n<div class=\"\">\\n<table border=\"0\" cellpadding=\"0\" cellspacing=\"0\"><tr><td class=\"snip\">\\n<span class=\"summary\">\\n                            You will also be expected to actively participate in defining and governing our analytics strategy for Honeywell, as well as begin a strong leader in...</span>\\n</td></tr></table>\\n</div>\\n<div class=\"sjCapt\">\\n<div class=\"result-link-bar-container\">\\n<div class=\"result-link-bar\"><span class=\" sponsoredGray \">Sponsored</span> - <span class=\"tt_set\" id=\"tt_set_11\"><a class=\"sl resultLink save-job-link \" href=\"#\" id=\"sj_0be2a3c1a60aea42\" onclick=\"changeJobState('0be2a3c1a60aea42', 'save', 'linkbar', true, ''); return false;\" title=\"Save this job to my.indeed\">save job</a></span><div class=\"edit_note_content\" id=\"editsaved2_0be2a3c1a60aea42\" style=\"display:none;\"></div><script>if (!window['sj_result_0be2a3c1a60aea42']) {window['sj_result_0be2a3c1a60aea42'] = {};}window['sj_result_0be2a3c1a60aea42']['showSource'] = false; window['sj_result_0be2a3c1a60aea42']['source'] = \"Honeywell\"; window['sj_result_0be2a3c1a60aea42']['loggedIn'] = false; window['sj_result_0be2a3c1a60aea42']['showMyJobsLinks'] = false;window['sj_result_0be2a3c1a60aea42']['undoAction'] = \"unsave\";window['sj_result_0be2a3c1a60aea42']['jobKey'] = \"0be2a3c1a60aea42\"; window['sj_result_0be2a3c1a60aea42']['myIndeedAvailable'] = true; window['sj_result_0be2a3c1a60aea42']['showMoreActionsLink'] = window['sj_result_0be2a3c1a60aea42']['showMoreActionsLink'] || false; window['sj_result_0be2a3c1a60aea42']['resultNumber'] = 11; window['sj_result_0be2a3c1a60aea42']['jobStateChangedToSaved'] = false; window['sj_result_0be2a3c1a60aea42']['searchState'] = \"q=data scientist&amp;\"; window['sj_result_0be2a3c1a60aea42']['basicPermaLink'] = \"https://www.indeed.com\"; window['sj_result_0be2a3c1a60aea42']['saveJobFailed'] = false; window['sj_result_0be2a3c1a60aea42']['removeJobFailed'] = false; window['sj_result_0be2a3c1a60aea42']['requestPending'] = false; window['sj_result_0be2a3c1a60aea42']['notesEnabled'] = false; window['sj_result_0be2a3c1a60aea42']['currentPage'] = \"serp\"; window['sj_result_0be2a3c1a60aea42']['sponsored'] = true;window['sj_result_0be2a3c1a60aea42']['showSponsor'] = true;window['sj_result_0be2a3c1a60aea42']['reportJobButtonEnabled'] = false; window['sj_result_0be2a3c1a60aea42']['showMyJobsHired'] = false; window['sj_result_0be2a3c1a60aea42']['showSaveForSponsored'] = true; window['sj_result_0be2a3c1a60aea42']['showJobAge'] = true;</script></div></div>\\n<div class=\"tab-container\">\\n<div class=\"sign-in-container result-tab\"></div>\\n<div class=\"tellafriend-container result-tab email_job_content\"></div>\\n</div>\\n</div>\\n</div>\\n<div class=\"row result\" data-advn=\"7563612448552419\" data-jk=\"636d342617306182\" data-tu=\"https://click.appcast.io/jview-te8/a31.png?ent=6&amp;e=2676&amp;jid=2676_107028&amp;org=false&amp;src=66&amp;bid=lUf2CslKyPxm6i440ZgUYA==&amp;indeed=sp\" id=\"pj_636d342617306182\">\\n<a class=\"jobtitle turnstileLink\" data-tn-element=\"jobTitle\" href=\"/pagead/clk?mo=r&amp;ad=-6NYlbfkN0BLH0BMQoDn-yw6Urt952hBm1JLFZ7WpBxND2cMIOjOqbFVk94wXfJol2fCSe2VsLyr3tfw1mHGQjtV0MZfKTyyounIY7s5gS18m_9zWuX_Oixt12kmxKdpB8VjFbHHF4S5utYefXT9LqX6cp8Enxl7mCUCMGGMxaS2Hg66K2gMuM-X_RDjWqZX1G4S2YvSttG1Yy0fc1lVL0xyFL9ZPkn9ZL15Yht_jSEG7u0zfiZgNsOrIj2Ga-yEvYOapDu0rJonBJ0QkzEfsNBNkXgSiBvYN6jy1oUYp9yxjIr75Xv1uAjY2NC38C_GiwGFmpKASBNJCCGdougp-01L_0jl1H66nFCz-Mx4q-Ogg6rHTd4AHyHNqqc8lxDERCtxXqmU0XX7q9DyMLidmVuaN6pjPTNs&amp;vjs=3&amp;p=3&amp;sk=&amp;fvj=0\" id=\"sja3\" onclick=\"setRefineByCookie([]); sjoc('sja3',0); convCtr('SJ')\" onmousedown=\"sjomd('sja3'); clk('sja3');\" rel=\"noopener nofollow\" target=\"_blank\" title=\"Junior Data Scientist\">Junior <b>Data</b> <b>Scientist</b></a>\\n<br/>\\n<div class=\"sjcl\">\\n<span class=\"company\">\\n<a class=\"turnstileLink\" data-tn-element=\"companyName\" href=\"/cmp/Allstate-Insurance\" onmousedown=\"this.href = appendParamsOnce(this.href, 'from=SERP&amp;campaignid=serp-linkcompanyname&amp;fromjk=636d342617306182&amp;jcid=c8e727c23f0216a4')\" rel=\"noopener\" target=\"_blank\">\\n    Allstate</a></span>\\n\\n - <a class=\"turnstileLink slNoUnderline \" data-tn-element=\"reviewStars\" data-tn-variant=\"cmplinktst2\" href=\"/cmp/Allstate-Insurance/reviews\" onmousedown=\"this.href = appendParamsOnce(this.href, '?campaignid=cmplinktst2&amp;from=SERP&amp;jt=Junior+Data+Scientist&amp;fromjk=636d342617306182&amp;jcid=c8e727c23f0216a4');\" rel=\"noopener\" target=\"_blank\" title=\"Allstate reviews\">\\n<span class=\"ratings\"><span class=\"rating\" style=\"width:43.8px\"><!-- --></span></span>\\n<span class=\"slNoUnderline\">5,194 reviews</span></a>\\n - <span class=\"location\">Charlotte, NC 28202</span></div>\\n<div class=\"\">\\n<table border=\"0\" cellpadding=\"0\" cellspacing=\"0\"><tr><td class=\"snip\">\\n<span class=\"summary\">\\n                            The development and execution of a communication strategy, with appropriate coaching, that keeps all relevant stakeholders informed and provides an...</span>\\n</td></tr></table>\\n</div>\\n<div class=\"sjCapt\">\\n<div class=\"result-link-bar-container\">\\n<div class=\"result-link-bar\"><span class=\" sponsoredGray \">Sponsored</span> - <span class=\"date\">5 hours ago</span> <span class=\"tt_set\" id=\"tt_set_12\">  -  <a class=\"sl resultLink save-job-link \" href=\"#\" id=\"sj_636d342617306182\" onclick=\"changeJobState('636d342617306182', 'save', 'linkbar', true, ''); return false;\" title=\"Save this job to my.indeed\">save job</a></span><div class=\"edit_note_content\" id=\"editsaved2_636d342617306182\" style=\"display:none;\"></div><script>if (!window['sj_result_636d342617306182']) {window['sj_result_636d342617306182'] = {};}window['sj_result_636d342617306182']['showSource'] = false; window['sj_result_636d342617306182']['source'] = \"Allstate\"; window['sj_result_636d342617306182']['loggedIn'] = false; window['sj_result_636d342617306182']['showMyJobsLinks'] = false;window['sj_result_636d342617306182']['undoAction'] = \"unsave\";window['sj_result_636d342617306182']['relativeJobAge'] = \"5 hours ago\";window['sj_result_636d342617306182']['jobKey'] = \"636d342617306182\"; window['sj_result_636d342617306182']['myIndeedAvailable'] = true; window['sj_result_636d342617306182']['showMoreActionsLink'] = window['sj_result_636d342617306182']['showMoreActionsLink'] || false; window['sj_result_636d342617306182']['resultNumber'] = 12; window['sj_result_636d342617306182']['jobStateChangedToSaved'] = false; window['sj_result_636d342617306182']['searchState'] = \"q=data scientist&amp;\"; window['sj_result_636d342617306182']['basicPermaLink'] = \"https://www.indeed.com\"; window['sj_result_636d342617306182']['saveJobFailed'] = false; window['sj_result_636d342617306182']['removeJobFailed'] = false; window['sj_result_636d342617306182']['requestPending'] = false; window['sj_result_636d342617306182']['notesEnabled'] = false; window['sj_result_636d342617306182']['currentPage'] = \"serp\"; window['sj_result_636d342617306182']['sponsored'] = true;window['sj_result_636d342617306182']['showSponsor'] = true;window['sj_result_636d342617306182']['reportJobButtonEnabled'] = false; window['sj_result_636d342617306182']['showMyJobsHired'] = false; window['sj_result_636d342617306182']['showSaveForSponsored'] = true; window['sj_result_636d342617306182']['showJobAge'] = true;</script></div></div>\\n<div class=\"tab-container\">\\n<div class=\"sign-in-container result-tab\"></div>\\n<div class=\"tellafriend-container result-tab email_job_content\"></div>\\n</div>\\n</div>\\n</div>\\n<div class=\"row sjlast result\" data-advn=\"3285536531213582\" data-jk=\"119193f6d1bbdab6\" data-tu=\"\" id=\"pj_119193f6d1bbdab6\">\\n<a class=\"jobtitle turnstileLink\" data-tn-element=\"jobTitle\" href=\"/pagead/clk?mo=r&amp;ad=-6NYlbfkN0Ck9tLHwkWfEoxUitczklUtEb3JHaOoZd3oUK2oGwTq_8NFbL7M-HYylTNsNqA6WJPeoXCdbLDOtB9AvP1p9q1rRcS1jelSgOtNazBTDqvZn_A-ZAfX6bK34Ssjzs7ELGMY9zLOTkMZxgU71dz8H5VhwyFtZ4_wlqQY5y4tqTp6y3CfM3nKLoBVp3NNYTxJ1OgpQimP1QTmXwAZpWhFug-8nEBlQSXiTusTw0bcl0kYUuBA0-VCygvhfwLDCcokUOXTUN8wCpLehNWq0W0L6Kauovo5TMTG5Jsvh_FhMgq8qL9MQnEZPBo-DqUYIfvdLMINYy4WaJDvjEsLb6RPoXCNmgfWFG2IU7IYtpT1K4sK91b0M97BhFVHg7_-lu9f5UMW3Lnmf-AwFQJw1PGxe6KeGEK-fHagU2dtv_jfA1VBX-xvzU44506G8vkYlD57OKvsE-fxmVn1SKr1qmlCnEdhTsWStyZR3XMpD-PJE63dQNFNEWmn6NOpjKntFUtKQ0uTalR2HOnkfRJIIrNfzBBGNgTzDlFY9M5RFg5ziVSyM-dctCQHlRSXGZGVIRRgmgY=&amp;vjs=3&amp;p=4&amp;sk=&amp;fvj=0\" id=\"sja4\" onclick=\"setRefineByCookie([]); sjoc('sja4',0); convCtr('SJ')\" onmousedown=\"sjomd('sja4'); clk('sja4');\" rel=\"noopener nofollow\" target=\"_blank\" title=\"Data Scientist\"><b>Data</b> <b>Scientist</b></a>\\n<br/>\\n<div class=\"sjcl\">\\n<span class=\"company\">\\n<a class=\"turnstileLink\" data-tn-element=\"companyName\" href=\"/cmp/Dupage-Medical-Group\" onmousedown=\"this.href = appendParamsOnce(this.href, 'from=SERP&amp;campaignid=serp-linkcompanyname&amp;fromjk=119193f6d1bbdab6&amp;jcid=7c91c4b781cb8588')\" rel=\"noopener\" target=\"_blank\">\\n    Dupage Medical Group</a></span>\\n\\n - <a class=\"turnstileLink slNoUnderline \" data-tn-element=\"reviewStars\" data-tn-variant=\"cmplinktst2\" href=\"/cmp/Dupage-Medical-Group/reviews\" onmousedown=\"this.href = appendParamsOnce(this.href, '?campaignid=cmplinktst2&amp;from=SERP&amp;jt=Data+Scientist&amp;fromjk=119193f6d1bbdab6&amp;jcid=7c91c4b781cb8588');\" rel=\"noopener\" target=\"_blank\" title=\"Dupage Medical Group reviews\">\\n<span class=\"ratings\"><span class=\"rating\" style=\"width:39.6px\"><!-- --></span></span>\\n<span class=\"slNoUnderline\">169 reviews</span></a>\\n - <span class=\"location\">Downers Grove, IL 60515</span></div>\\n<div class=\"\">\\n<table border=\"0\" cellpadding=\"0\" cellspacing=\"0\"><tr><td class=\"snip\">\\n<span class=\"summary\">\\n                            Produce novel insights to help inform business strategy through the use of machine learning and statistical modeling techniques on large data-sets\\n</span>\\n</td></tr></table>\\n</div>\\n<div class=\"sjCapt\">\\n<div class=\"result-link-bar-container\">\\n<div class=\"result-link-bar\"><span class=\" sponsoredGray \">Sponsored</span> - <span class=\"tt_set\" id=\"tt_set_13\"><a class=\"sl resultLink save-job-link \" href=\"#\" id=\"sj_119193f6d1bbdab6\" onclick=\"changeJobState('119193f6d1bbdab6', 'save', 'linkbar', true, ''); return false;\" title=\"Save this job to my.indeed\">save job</a></span><div class=\"edit_note_content\" id=\"editsaved2_119193f6d1bbdab6\" style=\"display:none;\"></div><script>if (!window['sj_result_119193f6d1bbdab6']) {window['sj_result_119193f6d1bbdab6'] = {};}window['sj_result_119193f6d1bbdab6']['showSource'] = false; window['sj_result_119193f6d1bbdab6']['source'] = \"Dupage Medical Group\"; window['sj_result_119193f6d1bbdab6']['loggedIn'] = false; window['sj_result_119193f6d1bbdab6']['showMyJobsLinks'] = false;window['sj_result_119193f6d1bbdab6']['undoAction'] = \"unsave\";window['sj_result_119193f6d1bbdab6']['jobKey'] = \"119193f6d1bbdab6\"; window['sj_result_119193f6d1bbdab6']['myIndeedAvailable'] = true; window['sj_result_119193f6d1bbdab6']['showMoreActionsLink'] = window['sj_result_119193f6d1bbdab6']['showMoreActionsLink'] || false; window['sj_result_119193f6d1bbdab6']['resultNumber'] = 13; window['sj_result_119193f6d1bbdab6']['jobStateChangedToSaved'] = false; window['sj_result_119193f6d1bbdab6']['searchState'] = \"q=data scientist&amp;\"; window['sj_result_119193f6d1bbdab6']['basicPermaLink'] = \"https://www.indeed.com\"; window['sj_result_119193f6d1bbdab6']['saveJobFailed'] = false; window['sj_result_119193f6d1bbdab6']['removeJobFailed'] = false; window['sj_result_119193f6d1bbdab6']['requestPending'] = false; window['sj_result_119193f6d1bbdab6']['notesEnabled'] = false; window['sj_result_119193f6d1bbdab6']['currentPage'] = \"serp\"; window['sj_result_119193f6d1bbdab6']['sponsored'] = true;window['sj_result_119193f6d1bbdab6']['showSponsor'] = true;window['sj_result_119193f6d1bbdab6']['reportJobButtonEnabled'] = false; window['sj_result_119193f6d1bbdab6']['showMyJobsHired'] = false; window['sj_result_119193f6d1bbdab6']['showSaveForSponsored'] = true; window['sj_result_119193f6d1bbdab6']['showJobAge'] = true;</script></div></div>\\n<div class=\"tab-container\">\\n<div class=\"sign-in-container result-tab\"></div>\\n<div class=\"tellafriend-container result-tab email_job_content\"></div>\\n</div>\\n</div>\\n</div>\\n</div>\\n<div class=\" row result\" data-jk=\"8293c99fe6ff4510\" data-tn-component=\"organicJob\" data-tu=\"\" id=\"p_8293c99fe6ff4510\">\\n<h2 class=\"jobtitle\" id=\"jl_8293c99fe6ff4510\">\\n<a class=\"turnstileLink\" data-tn-element=\"jobTitle\" href=\"/rc/clk?jk=8293c99fe6ff4510&amp;fccid=126e6829e033d790&amp;vjs=3\" onclick=\"setRefineByCookie([]); return rclk(this,jobmap[0],true,0);\" onmousedown=\"return rclk(this,jobmap[0],0);\" rel=\"noopener nofollow\" target=\"_blank\" title=\"Data Scientist\"><b>Data</b> <b>Scientist</b></a>\\n</h2>\\n<span class=\"company\">\\n<a href=\"/cmp/Braskem\" onmousedown=\"this.href = appendParamsOnce(this.href, 'from=SERP&amp;campaignid=serp-linkcompanyname&amp;fromjk=8293c99fe6ff4510&amp;jcid=309cae34ae4c0e80')\" rel=\"noopener\" target=\"_blank\">\\n    BRASKEM AMERICA, INC</a></span>\\n\\n - <a class=\"turnstileLink slNoUnderline \" data-tn-element=\"reviewStars\" data-tn-variant=\"cmplinktst2\" href=\"/cmp/Braskem/reviews\" onmousedown=\"this.href = appendParamsOnce(this.href, '?campaignid=cmplinktst2&amp;from=SERP&amp;jt=Data+Scientist&amp;fromjk=8293c99fe6ff4510&amp;jcid=309cae34ae4c0e80');\" rel=\"noopener\" target=\"_blank\" title=\"Braskem America reviews\">\\n<span class=\"ratings\"><span class=\"rating\" style=\"width:54.0px\"><!-- --></span></span>\\n<span class=\"slNoUnderline\">240 reviews</span></a>\\n - <span class=\"location\">Pittsburgh, PA 15219 <span style=\"font-size: smaller\">(Middle Hill area)</span></span><table border=\"0\" cellpadding=\"0\" cellspacing=\"0\">\\n<tr>\\n<td class=\"snip\">\\n<div class=\"\">\\n<span class=\"summary\">\\n            You will be challenged to be influential and make positive difference on a global scale, working in a team that is the center of excellence for the company...</span>\\n</div>\\n<div class=\"iaP\">\\n<span class=\"iaLabel\"> Easily apply</span>\\n</div>\\n<div class=\"result-link-bar-container\">\\n<div class=\"result-link-bar\"><span class=\"date\">30+ days ago</span> <span class=\"tt_set\" id=\"tt_set_0\">  -  <a class=\"sl resultLink save-job-link \" href=\"#\" id=\"sj_8293c99fe6ff4510\" onclick=\"changeJobState('8293c99fe6ff4510', 'save', 'linkbar', false, ''); return false;\" title=\"Save this job to my.indeed\">save job</a> - <a class=\"sl resultLink more-link \" href=\"#\" id=\"tog_0\" onclick=\"toggleMoreLinks('8293c99fe6ff4510'); return false;\">more...</a></span><div class=\"edit_note_content\" id=\"editsaved2_8293c99fe6ff4510\" style=\"display:none;\"></div><script>if (!window['result_8293c99fe6ff4510']) {window['result_8293c99fe6ff4510'] = {};}window['result_8293c99fe6ff4510']['showSource'] = false; window['result_8293c99fe6ff4510']['source'] = \"BRASKEM AMERICA, INC\"; window['result_8293c99fe6ff4510']['loggedIn'] = false; window['result_8293c99fe6ff4510']['showMyJobsLinks'] = false;window['result_8293c99fe6ff4510']['undoAction'] = \"unsave\";window['result_8293c99fe6ff4510']['relativeJobAge'] = \"30+ days ago\";window['result_8293c99fe6ff4510']['jobKey'] = \"8293c99fe6ff4510\"; window['result_8293c99fe6ff4510']['myIndeedAvailable'] = true; window['result_8293c99fe6ff4510']['showMoreActionsLink'] = window['result_8293c99fe6ff4510']['showMoreActionsLink'] || true; window['result_8293c99fe6ff4510']['resultNumber'] = 0; window['result_8293c99fe6ff4510']['jobStateChangedToSaved'] = false; window['result_8293c99fe6ff4510']['searchState'] = \"q=data scientist&amp;\"; window['result_8293c99fe6ff4510']['basicPermaLink'] = \"https://www.indeed.com\"; window['result_8293c99fe6ff4510']['saveJobFailed'] = false; window['result_8293c99fe6ff4510']['removeJobFailed'] = false; window['result_8293c99fe6ff4510']['requestPending'] = false; window['result_8293c99fe6ff4510']['notesEnabled'] = true; window['result_8293c99fe6ff4510']['currentPage'] = \"serp\"; window['result_8293c99fe6ff4510']['sponsored'] = false;window['result_8293c99fe6ff4510']['reportJobButtonEnabled'] = false; window['result_8293c99fe6ff4510']['showMyJobsHired'] = false; window['result_8293c99fe6ff4510']['showSaveForSponsored'] = false; window['result_8293c99fe6ff4510']['showJobAge'] = true;</script></div></div>\\n<div class=\"tab-container\">\\n<div class=\"more-links-container result-tab\" id=\"tt_display_0\" style=\"display:none;\"><a class=\"close-link closeLink\" href=\"#\" onclick=\"toggleMoreLinks('8293c99fe6ff4510'); return false;\" title=\"Close\"></a><div class=\"more_actions\" id=\"more_0\"><ul><li><span class=\"mat\">View all <a href=\"/jobs?q=Braskem+America,+Inc&amp;l=Pittsburgh,+PA&amp;nc=jasx\" rel=\"nofollow\">BRASKEM AMERICA, INC jobs in Pittsburgh, PA</a> - <a href=\"/l-Pittsburgh,-PA-jobs.html\">Pittsburgh jobs</a></span></li><li><span class=\"mat\">Salary Search: <a href=\"/salaries/Data-Scientist-Salaries,-Pittsburgh-PA\" onmousedown=\"this.href = appendParamsOnce(this.href, '?campaignid=serp-more&amp;fromjk=8293c99fe6ff4510&amp;from=serp-more');\">Data Scientist salaries in Pittsburgh, PA</a></span></li><li><span class=\"mat\">Learn more about working at <a href=\"/cmp/Braskem\" onmousedown=\"this.href = appendParamsOnce(this.href, '?fromjk=8293c99fe6ff4510&amp;from=serp-more&amp;campaignid=serp-more&amp;jcid=309cae34ae4c0e80');\">Braskem America, Inc</a></span></li><li><span class=\"mat\">Related forums: <a href=\"/forum/cmp/Braskem.html\">Braskem</a> - <a href=\"/forum/loc/Pittsburgh-Pennsylvania.html\">Pittsburgh, Pennsylvania</a></span></li></ul></div></div><div class=\"dya-container result-tab\"></div>\\n<div class=\"tellafriend-container result-tab email_job_content\"></div>\\n<div class=\"sign-in-container result-tab\"></div>\\n<div class=\"notes-container result-tab\"></div>\\n</div>\\n</td>\\n</tr>\\n</table>\\n</div>\\n<div class=\" row result\" data-jk=\"392ea0d93230424c\" data-tn-component=\"organicJob\" data-tu=\"https://click.appcast.io/jview-te8/a31.png?ent=6&amp;e=2676&amp;jid=2676_107028&amp;org=true&amp;src=66&amp;bid=kzV5I2YEOFCzdDk7YVxw2A==&amp;indeed=organic\" id=\"p_392ea0d93230424c\">\\n<h2 class=\"jobtitle\" id=\"jl_392ea0d93230424c\">\\n<a class=\"turnstileLink\" data-tn-element=\"jobTitle\" href=\"/rc/clk?jk=392ea0d93230424c&amp;fccid=3a71a4d2f7990a25&amp;vjs=3\" onclick=\"setRefineByCookie([]); return rclk(this,jobmap[1],true,0);\" onmousedown=\"return rclk(this,jobmap[1],0);\" rel=\"noopener nofollow\" target=\"_blank\" title=\"Junior Data Scientist\">Junior <b>Data</b> <b>Scientist</b></a>\\n</h2>\\n<span class=\"company\">\\n<a href=\"/cmp/Allstate-Insurance\" onmousedown=\"this.href = appendParamsOnce(this.href, 'from=SERP&amp;campaignid=serp-linkcompanyname&amp;fromjk=392ea0d93230424c&amp;jcid=c8e727c23f0216a4')\" rel=\"noopener\" target=\"_blank\">\\n    Allstate</a></span>\\n\\n - <a class=\"turnstileLink slNoUnderline \" data-tn-element=\"reviewStars\" data-tn-variant=\"cmplinktst2\" href=\"/cmp/Allstate-Insurance/reviews\" onmousedown=\"this.href = appendParamsOnce(this.href, '?campaignid=cmplinktst2&amp;from=SERP&amp;jt=Junior+Data+Scientist&amp;fromjk=392ea0d93230424c&amp;jcid=c8e727c23f0216a4');\" rel=\"noopener\" target=\"_blank\" title=\"Allstate reviews\">\\n<span class=\"ratings\"><span class=\"rating\" style=\"width:43.8px\"><!-- --></span></span>\\n<span class=\"slNoUnderline\">5,194 reviews</span></a>\\n - <span class=\"location\">Charlotte, NC 28202 <span style=\"font-size: smaller\">(Downtown Charlotte area)</span></span>\\n        \\xa0<a class=\"more_loc\" href=\"/addlLoc/redirect?tk=1cft8mcmn534nbbp&amp;jk=392ea0d93230424c&amp;dest=%2Fjobs%3Fq%3Ddata%2Bscientist%26rbt%3DJunior%2BData%2BScientist%26rbc%3DAllstate%26jtid%3D6e3aba355fc02a0c%26jcid%3Dc8e727c23f0216a4%26grp%3Dtcl\" onmousedown=\"ptk('addlloc');\" rel=\"nofollow\">\\n        +2 locations</a><table border=\"0\" cellpadding=\"0\" cellspacing=\"0\">\\n<tr>\\n<td class=\"snip\">\\n<div class=\"\">\\n<span class=\"summary\">\\n            The development and execution of a communication strategy, with appropriate coaching, that keeps all relevant stakeholders informed and provides an...</span>\\n</div>\\n<div class=\"result-link-bar-container\">\\n<div class=\"result-link-bar\"><span class=\"date\">3 hours ago</span> <span class=\"tt_set\" id=\"tt_set_1\">  -  <a class=\"sl resultLink save-job-link \" href=\"#\" id=\"sj_392ea0d93230424c\" onclick=\"changeJobState('392ea0d93230424c', 'save', 'linkbar', false, ''); return false;\" title=\"Save this job to my.indeed\">save job</a> - <a class=\"sl resultLink more-link \" href=\"#\" id=\"tog_1\" onclick=\"toggleMoreLinks('392ea0d93230424c'); return false;\">more...</a></span><div class=\"edit_note_content\" id=\"editsaved2_392ea0d93230424c\" style=\"display:none;\"></div><script>if (!window['result_392ea0d93230424c']) {window['result_392ea0d93230424c'] = {};}window['result_392ea0d93230424c']['showSource'] = false; window['result_392ea0d93230424c']['source'] = \"Allstate\"; window['result_392ea0d93230424c']['loggedIn'] = false; window['result_392ea0d93230424c']['showMyJobsLinks'] = false;window['result_392ea0d93230424c']['undoAction'] = \"unsave\";window['result_392ea0d93230424c']['relativeJobAge'] = \"3 hours ago\";window['result_392ea0d93230424c']['jobKey'] = \"392ea0d93230424c\"; window['result_392ea0d93230424c']['myIndeedAvailable'] = true; window['result_392ea0d93230424c']['showMoreActionsLink'] = window['result_392ea0d93230424c']['showMoreActionsLink'] || true; window['result_392ea0d93230424c']['resultNumber'] = 1; window['result_392ea0d93230424c']['jobStateChangedToSaved'] = false; window['result_392ea0d93230424c']['searchState'] = \"q=data scientist&amp;\"; window['result_392ea0d93230424c']['basicPermaLink'] = \"https://www.indeed.com\"; window['result_392ea0d93230424c']['saveJobFailed'] = false; window['result_392ea0d93230424c']['removeJobFailed'] = false; window['result_392ea0d93230424c']['requestPending'] = false; window['result_392ea0d93230424c']['notesEnabled'] = true; window['result_392ea0d93230424c']['currentPage'] = \"serp\"; window['result_392ea0d93230424c']['sponsored'] = false;window['result_392ea0d93230424c']['reportJobButtonEnabled'] = false; window['result_392ea0d93230424c']['showMyJobsHired'] = false; window['result_392ea0d93230424c']['showSaveForSponsored'] = false; window['result_392ea0d93230424c']['showJobAge'] = true;</script></div></div>\\n<div class=\"tab-container\">\\n<div class=\"more-links-container result-tab\" id=\"tt_display_1\" style=\"display:none;\"><a class=\"close-link closeLink\" href=\"#\" onclick=\"toggleMoreLinks('392ea0d93230424c'); return false;\" title=\"Close\"></a><div class=\"more_actions\" id=\"more_1\"><ul><li><span class=\"mat\">View all <a href=\"/q-Allstate-l-Charlotte,-NC-jobs.html\" rel=\"nofollow\">Allstate jobs in Charlotte, NC</a> - <a href=\"/l-Charlotte,-NC-jobs.html\">Charlotte jobs</a></span></li><li><span class=\"mat\">Salary Search: <a href=\"/salaries/Data-Scientist-Salaries,-Charlotte-NC\" onmousedown=\"this.href = appendParamsOnce(this.href, '?campaignid=serp-more&amp;fromjk=392ea0d93230424c&amp;from=serp-more');\">Data Scientist salaries in Charlotte, NC</a></span></li><li><span class=\"mat\">Learn more about working at <a href=\"/cmp/Allstate-Insurance\" onmousedown=\"this.href = appendParamsOnce(this.href, '?fromjk=392ea0d93230424c&amp;from=serp-more&amp;campaignid=serp-more&amp;jcid=c8e727c23f0216a4');\">Allstate</a></span></li><li><span class=\"mat\"><a href=\"/cmp/Allstate-Insurance/faq\" onmousedown=\"this.href = appendParamsOnce(this.href, '?from=serp-more&amp;campaignid=serp-more&amp;fromjk=392ea0d93230424c&amp;jcid=c8e727c23f0216a4');\">Allstate questions about work, benefits, interviews and hiring process:</a><ul><li><a href=\"/cmp/Allstate-Insurance/faq/how-are-the-working-hours?quid=1accqt5n3ak7j8ba\" onmousedown=\"this.href = appendParamsOnce(this.href, '?from=serp-more&amp;campaignid=serp-more&amp;fromjk=392ea0d93230424c&amp;jcid=c8e727c23f0216a4');\">How are the working hours?</a></li><li><a href=\"/cmp/Allstate-Insurance/faq/what-would-you-suggest-allstate-insurance-management-do-to-prevent-others-from-leaving-for-this-reason?quid=1bbh7uucgakgs9db\" onmousedown=\"this.href = appendParamsOnce(this.href, '?from=serp-more&amp;campaignid=serp-more&amp;fromjk=392ea0d93230424c&amp;jcid=c8e727c23f0216a4');\">What would you suggest Allstate Insurance management do to prevent other...</a></li></ul></span></li><li><span class=\"mat\">Related forums: <a href=\"/forum/loc/Charlotte-North-Carolina.html\">Charlotte, North Carolina</a> - <a href=\"/forum/cmp/Allstate-Insurance.html\">Allstate Insurance</a></span></li></ul></div></div><div class=\"dya-container result-tab\"></div>\\n<div class=\"tellafriend-container result-tab email_job_content\"></div>\\n<div class=\"sign-in-container result-tab\"></div>\\n<div class=\"notes-container result-tab\"></div>\\n</div>\\n</td>\\n</tr>\\n</table>\\n</div>\\n<div class=\" row result\" data-jk=\"3e0122d3f5ff4af4\" data-tn-component=\"organicJob\" data-tu=\"\" id=\"p_3e0122d3f5ff4af4\">\\n<h2 class=\"jobtitle\" id=\"jl_3e0122d3f5ff4af4\">\\n<a class=\"turnstileLink\" data-tn-element=\"jobTitle\" href=\"/company/Education-for-everyone/jobs/Data-Scientist-3e0122d3f5ff4af4?fccid=8809e567458c04a0&amp;vjs=3\" onclick=\"setRefineByCookie([]); return rclk(this,jobmap[2],true,0);\" onmousedown=\"return rclk(this,jobmap[2],0);\" rel=\"noopener nofollow\" target=\"_blank\" title=\"Data Scientist\"><b>Data</b> <b>Scientist</b></a>\\n</h2>\\n<span class=\"company\">\\n    Education for everyone</span>\\n\\n - <span class=\"location\">Carnegie, PA 15106</span><table border=\"0\" cellpadding=\"0\" cellspacing=\"0\">\\n<tr>\\n<td class=\"snip\">\\n<div class=\"\">\\n<span class=\"summary\">\\n</span>\\n</div>\\n<div class=\"iaP\">\\n<span class=\"iaLabel\"> Easily apply</span>\\n</div>\\n<div class=\"result-link-bar-container\">\\n<div class=\"result-link-bar\"><span class=\"date\">11 days ago</span> <span class=\"tt_set\" id=\"tt_set_2\">  -  <a class=\"sl resultLink save-job-link \" href=\"#\" id=\"sj_3e0122d3f5ff4af4\" onclick=\"changeJobState('3e0122d3f5ff4af4', 'save', 'linkbar', false, ''); return false;\" title=\"Save this job to my.indeed\">save job</a> - <a class=\"sl resultLink more-link \" href=\"#\" id=\"tog_2\" onclick=\"toggleMoreLinks('3e0122d3f5ff4af4'); return false;\">more...</a></span><div class=\"edit_note_content\" id=\"editsaved2_3e0122d3f5ff4af4\" style=\"display:none;\"></div><script>if (!window['result_3e0122d3f5ff4af4']) {window['result_3e0122d3f5ff4af4'] = {};}window['result_3e0122d3f5ff4af4']['showSource'] = false; window['result_3e0122d3f5ff4af4']['source'] = \"Indeed\"; window['result_3e0122d3f5ff4af4']['loggedIn'] = false; window['result_3e0122d3f5ff4af4']['showMyJobsLinks'] = false;window['result_3e0122d3f5ff4af4']['undoAction'] = \"unsave\";window['result_3e0122d3f5ff4af4']['relativeJobAge'] = \"11 days ago\";window['result_3e0122d3f5ff4af4']['jobKey'] = \"3e0122d3f5ff4af4\"; window['result_3e0122d3f5ff4af4']['myIndeedAvailable'] = true; window['result_3e0122d3f5ff4af4']['showMoreActionsLink'] = window['result_3e0122d3f5ff4af4']['showMoreActionsLink'] || true; window['result_3e0122d3f5ff4af4']['resultNumber'] = 2; window['result_3e0122d3f5ff4af4']['jobStateChangedToSaved'] = false; window['result_3e0122d3f5ff4af4']['searchState'] = \"q=data scientist&amp;\"; window['result_3e0122d3f5ff4af4']['basicPermaLink'] = \"https://www.indeed.com\"; window['result_3e0122d3f5ff4af4']['saveJobFailed'] = false; window['result_3e0122d3f5ff4af4']['removeJobFailed'] = false; window['result_3e0122d3f5ff4af4']['requestPending'] = false; window['result_3e0122d3f5ff4af4']['notesEnabled'] = true; window['result_3e0122d3f5ff4af4']['currentPage'] = \"serp\"; window['result_3e0122d3f5ff4af4']['sponsored'] = false;window['result_3e0122d3f5ff4af4']['reportJobButtonEnabled'] = false; window['result_3e0122d3f5ff4af4']['showMyJobsHired'] = false; window['result_3e0122d3f5ff4af4']['showSaveForSponsored'] = false; window['result_3e0122d3f5ff4af4']['showJobAge'] = true;</script></div></div>\\n<div class=\"tab-container\">\\n<div class=\"more-links-container result-tab\" id=\"tt_display_2\" style=\"display:none;\"><a class=\"close-link closeLink\" href=\"#\" onclick=\"toggleMoreLinks('3e0122d3f5ff4af4'); return false;\" title=\"Close\"></a><div class=\"more_actions\" id=\"more_2\"><ul><li><span class=\"mat\">View all <a href=\"/q-Education-For-Everyone-l-Carnegie,-PA-jobs.html\" rel=\"nofollow\">Education for everyone jobs in Carnegie, PA</a> - <a href=\"/l-Carnegie,-PA-jobs.html\">Carnegie jobs</a></span></li><li><span class=\"mat\">Salary Search: <a href=\"/salaries/Data-Scientist-Salaries,-Carnegie-PA\" onmousedown=\"this.href = appendParamsOnce(this.href, '?campaignid=serp-more&amp;fromjk=3e0122d3f5ff4af4&amp;from=serp-more-nofollow');\" rel='\"nofollow\"'>Data Scientist salaries in Carnegie, PA</a></span></li><li><span class=\"mat\">Related forums: <a href=\"/forum/cmp/Education-For-Everyone-1.html\">Education for everyone</a> - <a href=\"/forum/loc/Carnegie-Pennsylvania.html\">Carnegie, Pennsylvania</a></span></li></ul></div></div><div class=\"dya-container result-tab\"></div>\\n<div class=\"tellafriend-container result-tab email_job_content\"></div>\\n<div class=\"sign-in-container result-tab\"></div>\\n<div class=\"notes-container result-tab\"></div>\\n</div>\\n</td>\\n</tr>\\n</table>\\n</div>\\n<div class=\" row result\" data-jk=\"9a5449d9792cd6ae\" data-tn-component=\"organicJob\" data-tu=\"\" id=\"p_9a5449d9792cd6ae\">\\n<h2 class=\"jobtitle\" id=\"jl_9a5449d9792cd6ae\">\\n<a class=\"turnstileLink\" data-tn-element=\"jobTitle\" href=\"/rc/clk?jk=9a5449d9792cd6ae&amp;fccid=b4d23b7ae49ca3e4&amp;vjs=3\" onclick=\"setRefineByCookie([]); return rclk(this,jobmap[3],true,0);\" onmousedown=\"return rclk(this,jobmap[3],0);\" rel=\"noopener nofollow\" target=\"_blank\" title=\"Data Scientist, Machine Learning\"><b>Data</b> <b>Scientist</b>, Machine Learning</a>\\n</h2>\\n<span class=\"company\">\\n<a href=\"/cmp/Zestfinance\" onmousedown=\"this.href = appendParamsOnce(this.href, 'from=SERP&amp;campaignid=serp-linkcompanyname&amp;fromjk=9a5449d9792cd6ae&amp;jcid=c6a54152be512fe3')\" rel=\"noopener\" target=\"_blank\">\\n    ZestFinance</a></span>\\n\\n - <a class=\"turnstileLink slNoUnderline \" data-tn-element=\"reviewStars\" data-tn-variant=\"cmplinktst2\" href=\"/cmp/Zestfinance/reviews\" onmousedown=\"this.href = appendParamsOnce(this.href, '?campaignid=cmplinktst2&amp;from=SERP&amp;jt=Data+Scientist%2C+Machine+Learning&amp;fromjk=9a5449d9792cd6ae&amp;jcid=c6a54152be512fe3');\" rel=\"noopener\" target=\"_blank\" title=\"Zestfinance reviews\">\\n<span class=\"ratings\"><span class=\"rating\" style=\"width:39.0px\"><!-- --></span></span>\\n<span class=\"slNoUnderline\">3 reviews</span></a>\\n - <span class=\"location\">Pittsburgh, PA</span>\\n        \\xa0<a class=\"more_loc\" href=\"/addlLoc/redirect?tk=1cft8mcmn534nbbp&amp;jk=9a5449d9792cd6ae&amp;dest=%2Fjobs%3Fq%3Ddata%2Bscientist%26rbt%3DData%2BScientist%252C%2BMachine%2BLearning%26rbc%3DZestFinance%26jtid%3D5d4221b83aac2bac%26jcid%3Dc6a54152be512fe3%26grp%3Dtcl\" onmousedown=\"ptk('addlloc');\" rel=\"nofollow\">\\n        +1 location</a><table border=\"0\" cellpadding=\"0\" cellspacing=\"0\">\\n<tr>\\n<td class=\"snip\">\\n<div class=\"\">\\n<span class=\"summary\">\\n            Collaborate with a cross-functional team of Engineers, Product Managers, and Business Analysts to identify and manage high leverage opportunities for...</span>\\n</div>\\n<div class=\"result-link-bar-container\">\\n<div class=\"result-link-bar\"><span class=\"date\">30+ days ago</span> <span class=\"tt_set\" id=\"tt_set_3\">  -  <a class=\"sl resultLink save-job-link \" href=\"#\" id=\"sj_9a5449d9792cd6ae\" onclick=\"changeJobState('9a5449d9792cd6ae', 'save', 'linkbar', false, ''); return false;\" title=\"Save this job to my.indeed\">save job</a> - <a class=\"sl resultLink more-link \" href=\"#\" id=\"tog_3\" onclick=\"toggleMoreLinks('9a5449d9792cd6ae'); return false;\">more...</a></span><div class=\"edit_note_content\" id=\"editsaved2_9a5449d9792cd6ae\" style=\"display:none;\"></div><script>if (!window['result_9a5449d9792cd6ae']) {window['result_9a5449d9792cd6ae'] = {};}window['result_9a5449d9792cd6ae']['showSource'] = false; window['result_9a5449d9792cd6ae']['source'] = \"ZestFinance\"; window['result_9a5449d9792cd6ae']['loggedIn'] = false; window['result_9a5449d9792cd6ae']['showMyJobsLinks'] = false;window['result_9a5449d9792cd6ae']['undoAction'] = \"unsave\";window['result_9a5449d9792cd6ae']['relativeJobAge'] = \"30+ days ago\";window['result_9a5449d9792cd6ae']['jobKey'] = \"9a5449d9792cd6ae\"; window['result_9a5449d9792cd6ae']['myIndeedAvailable'] = true; window['result_9a5449d9792cd6ae']['showMoreActionsLink'] = window['result_9a5449d9792cd6ae']['showMoreActionsLink'] || true; window['result_9a5449d9792cd6ae']['resultNumber'] = 3; window['result_9a5449d9792cd6ae']['jobStateChangedToSaved'] = false; window['result_9a5449d9792cd6ae']['searchState'] = \"q=data scientist&amp;\"; window['result_9a5449d9792cd6ae']['basicPermaLink'] = \"https://www.indeed.com\"; window['result_9a5449d9792cd6ae']['saveJobFailed'] = false; window['result_9a5449d9792cd6ae']['removeJobFailed'] = false; window['result_9a5449d9792cd6ae']['requestPending'] = false; window['result_9a5449d9792cd6ae']['notesEnabled'] = true; window['result_9a5449d9792cd6ae']['currentPage'] = \"serp\"; window['result_9a5449d9792cd6ae']['sponsored'] = false;window['result_9a5449d9792cd6ae']['reportJobButtonEnabled'] = false; window['result_9a5449d9792cd6ae']['showMyJobsHired'] = false; window['result_9a5449d9792cd6ae']['showSaveForSponsored'] = false; window['result_9a5449d9792cd6ae']['showJobAge'] = true;</script></div></div>\\n<div class=\"tab-container\">\\n<div class=\"more-links-container result-tab\" id=\"tt_display_3\" style=\"display:none;\"><a class=\"close-link closeLink\" href=\"#\" onclick=\"toggleMoreLinks('9a5449d9792cd6ae'); return false;\" title=\"Close\"></a><div class=\"more_actions\" id=\"more_3\"><ul><li><span class=\"mat\">View all <a href=\"/q-Zestfinance-l-Pittsburgh,-PA-jobs.html\" rel=\"nofollow\">ZestFinance jobs in Pittsburgh, PA</a> - <a href=\"/l-Pittsburgh,-PA-jobs.html\">Pittsburgh jobs</a></span></li><li><span class=\"mat\">Salary Search: <a href=\"/salaries/Data-Scientist-Salaries,-Pittsburgh-PA\" onmousedown=\"this.href = appendParamsOnce(this.href, '?campaignid=serp-more&amp;fromjk=9a5449d9792cd6ae&amp;from=serp-more');\">Data Scientist salaries in Pittsburgh, PA</a></span></li><li><span class=\"mat\">Learn more about working at <a href=\"/cmp/Zestfinance\" onmousedown=\"this.href = appendParamsOnce(this.href, '?fromjk=9a5449d9792cd6ae&amp;from=serp-more&amp;campaignid=serp-more&amp;jcid=c6a54152be512fe3');\">Zestfinance</a></span></li><li><span class=\"mat\"><a href=\"/cmp/Zestfinance/faq\" onmousedown=\"this.href = appendParamsOnce(this.href, '?from=serp-more&amp;campaignid=serp-more&amp;fromjk=9a5449d9792cd6ae&amp;jcid=c6a54152be512fe3');\">Zestfinance questions about work, benefits, interviews and hiring process:</a><ul><li><a href=\"/cmp/Zestfinance/faq/how-long-does-it-take-to-get-hired-from-start-to-finish-what-are-the-steps-along-the-way?quid=1ama8lrhcas1nfkn\" onmousedown=\"this.href = appendParamsOnce(this.href, '?from=serp-more&amp;campaignid=serp-more&amp;fromjk=9a5449d9792cd6ae&amp;jcid=c6a54152be512fe3');\">How long does it take to get hired from start to finish? What are the st...</a></li><li><a href=\"/cmp/Zestfinance/faq/what-is-the-interview-process-like?quid=1ama8lrhgas1nb6c\" onmousedown=\"this.href = appendParamsOnce(this.href, '?from=serp-more&amp;campaignid=serp-more&amp;fromjk=9a5449d9792cd6ae&amp;jcid=c6a54152be512fe3');\">What is the interview process like?</a></li></ul></span></li><li><span class=\"mat\">Related forums: <a href=\"/forum/loc/Pittsburgh-Pennsylvania.html\">Pittsburgh, Pennsylvania</a> - <a href=\"/forum/cmp/Zestfinance.html\">ZestFinance</a></span></li></ul></div></div><div class=\"dya-container result-tab\"></div>\\n<div class=\"tellafriend-container result-tab email_job_content\"></div>\\n<div class=\"sign-in-container result-tab\"></div>\\n<div class=\"notes-container result-tab\"></div>\\n</div>\\n</td>\\n</tr>\\n</table>\\n</div>\\n<div class=\" row result\" data-jk=\"535a264fa58ea216\" data-tn-component=\"organicJob\" data-tu=\"\" id=\"p_535a264fa58ea216\">\\n<h2 class=\"jobtitle\" id=\"jl_535a264fa58ea216\">\\n<a class=\"turnstileLink\" data-tn-element=\"jobTitle\" href=\"/rc/clk?jk=535a264fa58ea216&amp;fccid=dfc44f3b8c44a6db&amp;vjs=3\" onclick=\"setRefineByCookie([]); return rclk(this,jobmap[4],true,0);\" onmousedown=\"return rclk(this,jobmap[4],0);\" rel=\"noopener nofollow\" target=\"_blank\" title=\"1230435 Sales Data Scientist\">1230435 Sales <b>Data</b> <b>Scientist</b></a>\\n</h2>\\n<span class=\"company\">\\n<a href=\"/cmp/Cisco\" onmousedown=\"this.href = appendParamsOnce(this.href, 'from=SERP&amp;campaignid=serp-linkcompanyname&amp;fromjk=535a264fa58ea216&amp;jcid=dfc44f3b8c44a6db')\" rel=\"noopener\" target=\"_blank\">\\n    Cisco</a></span>\\n\\n - <a class=\"turnstileLink slNoUnderline \" data-tn-element=\"reviewStars\" data-tn-variant=\"cmplinktst2\" href=\"/cmp/Cisco/reviews\" onmousedown=\"this.href = appendParamsOnce(this.href, '?campaignid=cmplinktst2&amp;from=SERP&amp;jt=1230435+Sales+Data+Scientist&amp;fromjk=535a264fa58ea216&amp;jcid=dfc44f3b8c44a6db');\" rel=\"noopener\" target=\"_blank\" title=\"Cisco reviews\">\\n<span class=\"ratings\"><span class=\"rating\" style=\"width:51.6px\"><!-- --></span></span>\\n<span class=\"slNoUnderline\">3,862 reviews</span></a>\\n - <span class=\"location\">Pittsburgh, PA</span><table border=\"0\" cellpadding=\"0\" cellspacing=\"0\">\\n<tr>\\n<td class=\"snip\">\\n<div class=\"\">\\n<span class=\"summary\">\\n            You will work with partners and team members to rapidly prototype and iterate on creative analytics, and help support scaling and operationalization to...</span>\\n</div>\\n<div class=\"result-link-bar-container\">\\n<div class=\"result-link-bar\"><span class=\"result-link-source\">Cisco Systems </span>- <span class=\"date\">30+ days ago</span> <span class=\"tt_set\" id=\"tt_set_4\">  -  <a class=\"sl resultLink save-job-link \" href=\"#\" id=\"sj_535a264fa58ea216\" onclick=\"changeJobState('535a264fa58ea216', 'save', 'linkbar', false, ''); return false;\" title=\"Save this job to my.indeed\">save job</a> - <a class=\"sl resultLink more-link \" href=\"#\" id=\"tog_4\" onclick=\"toggleMoreLinks('535a264fa58ea216'); return false;\">more...</a></span><div class=\"edit_note_content\" id=\"editsaved2_535a264fa58ea216\" style=\"display:none;\"></div><script>if (!window['result_535a264fa58ea216']) {window['result_535a264fa58ea216'] = {};}window['result_535a264fa58ea216']['showSource'] = true; window['result_535a264fa58ea216']['source'] = \"Cisco Systems\"; window['result_535a264fa58ea216']['loggedIn'] = false; window['result_535a264fa58ea216']['showMyJobsLinks'] = false;window['result_535a264fa58ea216']['undoAction'] = \"unsave\";window['result_535a264fa58ea216']['relativeJobAge'] = \"30+ days ago\";window['result_535a264fa58ea216']['jobKey'] = \"535a264fa58ea216\"; window['result_535a264fa58ea216']['myIndeedAvailable'] = true; window['result_535a264fa58ea216']['showMoreActionsLink'] = window['result_535a264fa58ea216']['showMoreActionsLink'] || true; window['result_535a264fa58ea216']['resultNumber'] = 4; window['result_535a264fa58ea216']['jobStateChangedToSaved'] = false; window['result_535a264fa58ea216']['searchState'] = \"q=data scientist&amp;\"; window['result_535a264fa58ea216']['basicPermaLink'] = \"https://www.indeed.com\"; window['result_535a264fa58ea216']['saveJobFailed'] = false; window['result_535a264fa58ea216']['removeJobFailed'] = false; window['result_535a264fa58ea216']['requestPending'] = false; window['result_535a264fa58ea216']['notesEnabled'] = true; window['result_535a264fa58ea216']['currentPage'] = \"serp\"; window['result_535a264fa58ea216']['sponsored'] = false;window['result_535a264fa58ea216']['reportJobButtonEnabled'] = false; window['result_535a264fa58ea216']['showMyJobsHired'] = false; window['result_535a264fa58ea216']['showSaveForSponsored'] = false; window['result_535a264fa58ea216']['showJobAge'] = true;</script></div></div>\\n<div class=\"tab-container\">\\n<div class=\"more-links-container result-tab\" id=\"tt_display_4\" style=\"display:none;\"><a class=\"close-link closeLink\" href=\"#\" onclick=\"toggleMoreLinks('535a264fa58ea216'); return false;\" title=\"Close\"></a><div class=\"more_actions\" id=\"more_4\"><ul><li><span class=\"mat\">View all <a href=\"/q-Cisco-l-Pittsburgh,-PA-jobs.html\" rel=\"nofollow\">Cisco jobs in Pittsburgh, PA</a> - <a href=\"/l-Pittsburgh,-PA-jobs.html\">Pittsburgh jobs</a></span></li><li><span class=\"mat\">Salary Search: <a href=\"/salaries/Data-Scientist-Salaries,-Pittsburgh-PA\" onmousedown=\"this.href = appendParamsOnce(this.href, '?campaignid=serp-more&amp;fromjk=535a264fa58ea216&amp;from=serp-more');\">Data Scientist salaries in Pittsburgh, PA</a></span></li><li><span class=\"mat\">Learn more about working at <a href=\"/cmp/Cisco\" onmousedown=\"this.href = appendParamsOnce(this.href, '?fromjk=535a264fa58ea216&amp;from=serp-more&amp;campaignid=serp-more&amp;jcid=dfc44f3b8c44a6db');\">Cisco</a></span></li><li><span class=\"mat\"><a href=\"/cmp/Cisco/faq\" onmousedown=\"this.href = appendParamsOnce(this.href, '?from=serp-more&amp;campaignid=serp-more&amp;fromjk=535a264fa58ea216&amp;jcid=dfc44f3b8c44a6db');\">Cisco questions about work, benefits, interviews and hiring process:</a><ul><li><a href=\"/cmp/Cisco/faq/why-did-you-leave-your-job-at-cisco?quid=1bbk4ifr3ak52e9i\" onmousedown=\"this.href = appendParamsOnce(this.href, '?from=serp-more&amp;campaignid=serp-more&amp;fromjk=535a264fa58ea216&amp;jcid=dfc44f3b8c44a6db');\">Why did you leave your job at Cisco?</a></li><li><a href=\"/cmp/Cisco/faq/on-average-how-many-hours-do-you-work-a-day?quid=1b0gh8lbhas0u9ua\" onmousedown=\"this.href = appendParamsOnce(this.href, '?from=serp-more&amp;campaignid=serp-more&amp;fromjk=535a264fa58ea216&amp;jcid=dfc44f3b8c44a6db');\">On average, how many hours do you work a day?</a></li></ul></span></li><li><span class=\"mat\">Related forums: <a href=\"/forum/loc/Pittsburgh-Pennsylvania.html\">Pittsburgh, Pennsylvania</a> - <a href=\"/forum/cmp/Cisco.html\">Cisco</a></span></li></ul></div></div><div class=\"dya-container result-tab\"></div>\\n<div class=\"tellafriend-container result-tab email_job_content\"></div>\\n<div class=\"sign-in-container result-tab\"></div>\\n<div class=\"notes-container result-tab\"></div>\\n</div>\\n</td>\\n</tr>\\n</table>\\n</div>\\n<div class=\" row result\" data-jk=\"e41ba31a5c7cdbe6\" data-tn-component=\"organicJob\" data-tu=\"\" id=\"p_e41ba31a5c7cdbe6\">\\n<h2 class=\"jobtitle\" id=\"jl_e41ba31a5c7cdbe6\">\\n<a class=\"turnstileLink\" data-tn-element=\"jobTitle\" href=\"/rc/clk?jk=e41ba31a5c7cdbe6&amp;fccid=05de1bb29b7bb370&amp;vjs=3\" onclick=\"setRefineByCookie([]); return rclk(this,jobmap[5],true,0);\" onmousedown=\"return rclk(this,jobmap[5],0);\" rel=\"noopener nofollow\" target=\"_blank\" title=\"Data Scientist\"><b>Data</b> <b>Scientist</b></a>\\n</h2>\\n<span class=\"company\">\\n<a href=\"/cmp/Highmark-Health\" onmousedown=\"this.href = appendParamsOnce(this.href, 'from=SERP&amp;campaignid=serp-linkcompanyname&amp;fromjk=e41ba31a5c7cdbe6&amp;jcid=70ca9e18becbd3c8')\" rel=\"noopener\" target=\"_blank\">\\n    Highmark Health</a></span>\\n\\n - <a class=\"turnstileLink slNoUnderline \" data-tn-element=\"reviewStars\" data-tn-variant=\"cmplinktst2\" href=\"/cmp/Highmark-Health/reviews\" onmousedown=\"this.href = appendParamsOnce(this.href, '?campaignid=cmplinktst2&amp;from=SERP&amp;jt=Data+Scientist&amp;fromjk=e41ba31a5c7cdbe6&amp;jcid=70ca9e18becbd3c8');\" rel=\"noopener\" target=\"_blank\" title=\"Highmark Health reviews\">\\n<span class=\"ratings\"><span class=\"rating\" style=\"width:40.2px\"><!-- --></span></span>\\n<span class=\"slNoUnderline\">572 reviews</span></a>\\n - <span class=\"location\">Pittsburgh, PA 15222 <span style=\"font-size: smaller\">(Strip District area)</span></span><table border=\"0\" cellpadding=\"0\" cellspacing=\"0\">\\n<tr>\\n<td class=\"snip\">\\n<div class=\"\">\\n<span class=\"summary\">\\n            Research self- directed new analytical skills and approaches, building relationships internally and externally to transfer knowledge and maintain their...</span>\\n</div>\\n<div class=\"result-link-bar-container\">\\n<div class=\"result-link-bar\"><span class=\"date\">30+ days ago</span> <span class=\"tt_set\" id=\"tt_set_5\">  -  <a class=\"sl resultLink save-job-link \" href=\"#\" id=\"sj_e41ba31a5c7cdbe6\" onclick=\"changeJobState('e41ba31a5c7cdbe6', 'save', 'linkbar', false, ''); return false;\" title=\"Save this job to my.indeed\">save job</a> - <a class=\"sl resultLink more-link \" href=\"#\" id=\"tog_5\" onclick=\"toggleMoreLinks('e41ba31a5c7cdbe6'); return false;\">more...</a></span><div class=\"edit_note_content\" id=\"editsaved2_e41ba31a5c7cdbe6\" style=\"display:none;\"></div><script>if (!window['result_e41ba31a5c7cdbe6']) {window['result_e41ba31a5c7cdbe6'] = {};}window['result_e41ba31a5c7cdbe6']['showSource'] = false; window['result_e41ba31a5c7cdbe6']['source'] = \"Highmark Health\"; window['result_e41ba31a5c7cdbe6']['loggedIn'] = false; window['result_e41ba31a5c7cdbe6']['showMyJobsLinks'] = false;window['result_e41ba31a5c7cdbe6']['undoAction'] = \"unsave\";window['result_e41ba31a5c7cdbe6']['relativeJobAge'] = \"30+ days ago\";window['result_e41ba31a5c7cdbe6']['jobKey'] = \"e41ba31a5c7cdbe6\"; window['result_e41ba31a5c7cdbe6']['myIndeedAvailable'] = true; window['result_e41ba31a5c7cdbe6']['showMoreActionsLink'] = window['result_e41ba31a5c7cdbe6']['showMoreActionsLink'] || true; window['result_e41ba31a5c7cdbe6']['resultNumber'] = 5; window['result_e41ba31a5c7cdbe6']['jobStateChangedToSaved'] = false; window['result_e41ba31a5c7cdbe6']['searchState'] = \"q=data scientist&amp;\"; window['result_e41ba31a5c7cdbe6']['basicPermaLink'] = \"https://www.indeed.com\"; window['result_e41ba31a5c7cdbe6']['saveJobFailed'] = false; window['result_e41ba31a5c7cdbe6']['removeJobFailed'] = false; window['result_e41ba31a5c7cdbe6']['requestPending'] = false; window['result_e41ba31a5c7cdbe6']['notesEnabled'] = true; window['result_e41ba31a5c7cdbe6']['currentPage'] = \"serp\"; window['result_e41ba31a5c7cdbe6']['sponsored'] = false;window['result_e41ba31a5c7cdbe6']['reportJobButtonEnabled'] = false; window['result_e41ba31a5c7cdbe6']['showMyJobsHired'] = false; window['result_e41ba31a5c7cdbe6']['showSaveForSponsored'] = false; window['result_e41ba31a5c7cdbe6']['showJobAge'] = true;</script></div></div>\\n<div class=\"tab-container\">\\n<div class=\"more-links-container result-tab\" id=\"tt_display_5\" style=\"display:none;\"><a class=\"close-link closeLink\" href=\"#\" onclick=\"toggleMoreLinks('e41ba31a5c7cdbe6'); return false;\" title=\"Close\"></a><div class=\"more_actions\" id=\"more_5\"><ul><li><span class=\"mat\">View all <a href=\"/q-Highmark-Health-l-Pittsburgh,-PA-jobs.html\" rel=\"nofollow\">Highmark Health jobs in Pittsburgh, PA</a> - <a href=\"/l-Pittsburgh,-PA-jobs.html\">Pittsburgh jobs</a></span></li><li><span class=\"mat\">Salary Search: <a href=\"/salaries/Data-Scientist-Salaries,-Pittsburgh-PA\" onmousedown=\"this.href = appendParamsOnce(this.href, '?campaignid=serp-more&amp;fromjk=e41ba31a5c7cdbe6&amp;from=serp-more');\">Data Scientist salaries in Pittsburgh, PA</a></span></li><li><span class=\"mat\">Learn more about working at <a href=\"/cmp/Highmark-Health\" onmousedown=\"this.href = appendParamsOnce(this.href, '?fromjk=e41ba31a5c7cdbe6&amp;from=serp-more&amp;campaignid=serp-more&amp;jcid=70ca9e18becbd3c8');\">Highmark Health</a></span></li><li><span class=\"mat\"><a href=\"/cmp/Highmark-Health/faq\" onmousedown=\"this.href = appendParamsOnce(this.href, '?from=serp-more&amp;campaignid=serp-more&amp;fromjk=e41ba31a5c7cdbe6&amp;jcid=70ca9e18becbd3c8');\">Highmark Health questions about work, benefits, interviews and hiring process:</a><ul><li><a href=\"/cmp/Highmark-Health/faq/what-benefits-does-the-company-provide?quid=1aokfiqlg52ulc7i\" onmousedown=\"this.href = appendParamsOnce(this.href, '?from=serp-more&amp;campaignid=serp-more&amp;fromjk=e41ba31a5c7cdbe6&amp;jcid=70ca9e18becbd3c8');\">What benefits does the company provide?</a></li><li><a href=\"/cmp/Highmark-Health/faq/how-did-you-feel-about-telling-people-you-worked-at-highmark-health-services?quid=1bf2b2ffbak8maal\" onmousedown=\"this.href = appendParamsOnce(this.href, '?from=serp-more&amp;campaignid=serp-more&amp;fromjk=e41ba31a5c7cdbe6&amp;jcid=70ca9e18becbd3c8');\">How did you feel about telling people you worked at Highmark Health Serv...</a></li></ul></span></li><li><span class=\"mat\">Related forums: <a href=\"/forum/cmp/Highmark-Health.html\">Highmark Health</a> - <a href=\"/forum/loc/Pittsburgh-Pennsylvania.html\">Pittsburgh, Pennsylvania</a></span></li></ul></div></div><div class=\"dya-container result-tab\"></div>\\n<div class=\"tellafriend-container result-tab email_job_content\"></div>\\n<div class=\"sign-in-container result-tab\"></div>\\n<div class=\"notes-container result-tab\"></div>\\n</div>\\n</td>\\n</tr>\\n</table>\\n</div>\\n<div class=\" row result\" data-jk=\"7bc2087719c1dca7\" data-tn-component=\"organicJob\" data-tu=\"https://click.appcast.io/jview-te8/a31.png?ent=121&amp;e=3165&amp;jid=3165_18034959&amp;org=true&amp;src=2780&amp;bid=kzV5I2YEOFCzdDk7YVxw2A==&amp;indeed=organic\" id=\"p_7bc2087719c1dca7\">\\n<h2 class=\"jobtitle\" id=\"jl_7bc2087719c1dca7\">\\n<a class=\"turnstileLink\" data-tn-element=\"jobTitle\" href=\"/rc/clk?jk=7bc2087719c1dca7&amp;fccid=5bd99dfa21c8a490&amp;vjs=3\" onclick=\"setRefineByCookie([]); return rclk(this,jobmap[6],true,0);\" onmousedown=\"return rclk(this,jobmap[6],0);\" rel=\"noopener nofollow\" target=\"_blank\" title=\"Data Scientist I\"><b>Data</b> <b>Scientist</b> I</a>\\n</h2>\\n<span class=\"company\">\\n<a href=\"/cmp/Bank-of-America\" onmousedown=\"this.href = appendParamsOnce(this.href, 'from=SERP&amp;campaignid=serp-linkcompanyname&amp;fromjk=7bc2087719c1dca7&amp;jcid=5bd99dfa21c8a490')\" rel=\"noopener\" target=\"_blank\">\\n    Bank of America</a></span>\\n\\n - <a class=\"turnstileLink slNoUnderline \" data-tn-element=\"reviewStars\" data-tn-variant=\"cmplinktst2\" href=\"/cmp/Bank-of-America/reviews\" onmousedown=\"this.href = appendParamsOnce(this.href, '?campaignid=cmplinktst2&amp;from=SERP&amp;jt=Data+Scientist+I&amp;fromjk=7bc2087719c1dca7&amp;jcid=5bd99dfa21c8a490');\" rel=\"noopener\" target=\"_blank\" title=\"Bank of America reviews\">\\n<span class=\"ratings\"><span class=\"rating\" style=\"width:44.4px\"><!-- --></span></span>\\n<span class=\"slNoUnderline\">21,424 reviews</span></a>\\n - <span class=\"location\">Charlotte, NC 28255 <span style=\"font-size: smaller\">(Wilmore area)</span></span>\\n        \\xa0<a class=\"more_loc\" href=\"/addlLoc/redirect?tk=1cft8mcmn534nbbp&amp;jk=7bc2087719c1dca7&amp;dest=%2Fjobs%3Fq%3Ddata%2Bscientist%26rbt%3DData%2BScientist%2BI%26rbc%3DBank%2Bof%2BAmerica%26jtid%3D701ae7bdd9533e1b%26jcid%3D5bd99dfa21c8a490%26grp%3Dtcl\" onmousedown=\"ptk('addlloc');\" rel=\"nofollow\">\\n        +1 location</a><table border=\"0\" cellpadding=\"0\" cellspacing=\"0\">\\n<tr>\\n<td class=\"snip\">\\n<div class=\"\">\\n<span class=\"summary\">\\n            The primary requirement is not related to traditional programming or systems analysis skills but to the ability to create sophisticated, value-added analytic...</span>\\n</div>\\n<div class=\"result-link-bar-container\">\\n<div class=\"result-link-bar\"><span class=\"date\">4 days ago</span> <span class=\"tt_set\" id=\"tt_set_6\">  -  <a class=\"sl resultLink save-job-link \" href=\"#\" id=\"sj_7bc2087719c1dca7\" onclick=\"changeJobState('7bc2087719c1dca7', 'save', 'linkbar', false, ''); return false;\" title=\"Save this job to my.indeed\">save job</a> - <a class=\"sl resultLink more-link \" href=\"#\" id=\"tog_6\" onclick=\"toggleMoreLinks('7bc2087719c1dca7'); return false;\">more...</a></span><div class=\"edit_note_content\" id=\"editsaved2_7bc2087719c1dca7\" style=\"display:none;\"></div><script>if (!window['result_7bc2087719c1dca7']) {window['result_7bc2087719c1dca7'] = {};}window['result_7bc2087719c1dca7']['showSource'] = false; window['result_7bc2087719c1dca7']['source'] = \"Bank of America\"; window['result_7bc2087719c1dca7']['loggedIn'] = false; window['result_7bc2087719c1dca7']['showMyJobsLinks'] = false;window['result_7bc2087719c1dca7']['undoAction'] = \"unsave\";window['result_7bc2087719c1dca7']['relativeJobAge'] = \"4 days ago\";window['result_7bc2087719c1dca7']['jobKey'] = \"7bc2087719c1dca7\"; window['result_7bc2087719c1dca7']['myIndeedAvailable'] = true; window['result_7bc2087719c1dca7']['showMoreActionsLink'] = window['result_7bc2087719c1dca7']['showMoreActionsLink'] || true; window['result_7bc2087719c1dca7']['resultNumber'] = 6; window['result_7bc2087719c1dca7']['jobStateChangedToSaved'] = false; window['result_7bc2087719c1dca7']['searchState'] = \"q=data scientist&amp;\"; window['result_7bc2087719c1dca7']['basicPermaLink'] = \"https://www.indeed.com\"; window['result_7bc2087719c1dca7']['saveJobFailed'] = false; window['result_7bc2087719c1dca7']['removeJobFailed'] = false; window['result_7bc2087719c1dca7']['requestPending'] = false; window['result_7bc2087719c1dca7']['notesEnabled'] = true; window['result_7bc2087719c1dca7']['currentPage'] = \"serp\"; window['result_7bc2087719c1dca7']['sponsored'] = false;window['result_7bc2087719c1dca7']['reportJobButtonEnabled'] = false; window['result_7bc2087719c1dca7']['showMyJobsHired'] = false; window['result_7bc2087719c1dca7']['showSaveForSponsored'] = false; window['result_7bc2087719c1dca7']['showJobAge'] = true;</script></div></div>\\n<div class=\"tab-container\">\\n<div class=\"more-links-container result-tab\" id=\"tt_display_6\" style=\"display:none;\"><a class=\"close-link closeLink\" href=\"#\" onclick=\"toggleMoreLinks('7bc2087719c1dca7'); return false;\" title=\"Close\"></a><div class=\"more_actions\" id=\"more_6\"><ul><li><span class=\"mat\">View all <a href=\"/q-Bank-of-America-l-Charlotte,-NC-jobs.html\" rel=\"nofollow\">Bank of America jobs in Charlotte, NC</a> - <a href=\"/l-Charlotte,-NC-jobs.html\">Charlotte jobs</a></span></li><li><span class=\"mat\">Salary Search: <a href=\"/salaries/Data-Scientist-Salaries,-Charlotte-NC\" onmousedown=\"this.href = appendParamsOnce(this.href, '?campaignid=serp-more&amp;fromjk=7bc2087719c1dca7&amp;from=serp-more');\">Data Scientist salaries in Charlotte, NC</a></span></li><li><span class=\"mat\">Learn more about working at <a href=\"/cmp/Bank-of-America\" onmousedown=\"this.href = appendParamsOnce(this.href, '?fromjk=7bc2087719c1dca7&amp;from=serp-more&amp;campaignid=serp-more&amp;jcid=5bd99dfa21c8a490');\">Bank of America</a></span></li><li><span class=\"mat\"><a href=\"/cmp/Bank-of-America/faq\" onmousedown=\"this.href = appendParamsOnce(this.href, '?from=serp-more&amp;campaignid=serp-more&amp;fromjk=7bc2087719c1dca7&amp;jcid=5bd99dfa21c8a490');\">Bank of America questions about work, benefits, interviews and hiring process:</a><ul><li><a href=\"/cmp/Bank-of-America/faq/what-questions-did-they-ask-during-your-interview?quid=1acdc07i552vga2j\" onmousedown=\"this.href = appendParamsOnce(this.href, '?from=serp-more&amp;campaignid=serp-more&amp;fromjk=7bc2087719c1dca7&amp;jcid=5bd99dfa21c8a490');\">What questions did they ask during your interview?</a></li><li><a href=\"/cmp/Bank-of-America/faq/do-you-have-to-have-good-credit-to-be-considered?quid=1aumc1oju5naaeub\" onmousedown=\"this.href = appendParamsOnce(this.href, '?from=serp-more&amp;campaignid=serp-more&amp;fromjk=7bc2087719c1dca7&amp;jcid=5bd99dfa21c8a490');\">Do you have to have good credit to be considered?</a></li></ul></span></li><li><span class=\"mat\">Related forums: <a href=\"/forum/cmp/Bank-of-America.html\">Bank Of America</a> - <a href=\"/forum/loc/Charlotte-North-Carolina.html\">Charlotte, North Carolina</a></span></li></ul></div></div><div class=\"dya-container result-tab\"></div>\\n<div class=\"tellafriend-container result-tab email_job_content\"></div>\\n<div class=\"sign-in-container result-tab\"></div>\\n<div class=\"notes-container result-tab\"></div>\\n</div>\\n</td>\\n</tr>\\n</table>\\n</div>\\n<div class=\" row result\" data-jk=\"2d7c6cc29c4555c8\" data-tn-component=\"organicJob\" data-tu=\"\" id=\"p_2d7c6cc29c4555c8\">\\n<h2 class=\"jobtitle\" id=\"jl_2d7c6cc29c4555c8\">\\n<a class=\"turnstileLink\" data-tn-element=\"jobTitle\" href=\"/rc/clk?jk=2d7c6cc29c4555c8&amp;fccid=479d4c849eb100c4&amp;vjs=3\" onclick=\"setRefineByCookie([]); return rclk(this,jobmap[7],true,0);\" onmousedown=\"return rclk(this,jobmap[7],0);\" rel=\"noopener nofollow\" target=\"_blank\" title=\"Senior Data Scientist\">Senior <b>Data</b> <b>Scientist</b></a>\\n</h2>\\n<span class=\"company\">\\n    MARC USA LLC</span>\\n\\n - <span class=\"location\">Pittsburgh, PA 15219 <span style=\"font-size: smaller\">(Middle Hill area)</span></span><table border=\"0\" cellpadding=\"0\" cellspacing=\"0\">\\n<tr>\\n<td class=\"snip\">\\n<div class=\"\">\\n<span class=\"summary\">\\n            Our Analytics team plays a central role for all clients by using data to understand how media affects their business and identifying how to optimize their...</span>\\n</div>\\n<div class=\"result-link-bar-container\">\\n<div class=\"result-link-bar\"><span class=\"date\">18 days ago</span> <span class=\"tt_set\" id=\"tt_set_7\">  -  <a class=\"sl resultLink save-job-link \" href=\"#\" id=\"sj_2d7c6cc29c4555c8\" onclick=\"changeJobState('2d7c6cc29c4555c8', 'save', 'linkbar', false, ''); return false;\" title=\"Save this job to my.indeed\">save job</a> - <a class=\"sl resultLink more-link \" href=\"#\" id=\"tog_7\" onclick=\"toggleMoreLinks('2d7c6cc29c4555c8'); return false;\">more...</a></span><div class=\"edit_note_content\" id=\"editsaved2_2d7c6cc29c4555c8\" style=\"display:none;\"></div><script>if (!window['result_2d7c6cc29c4555c8']) {window['result_2d7c6cc29c4555c8'] = {};}window['result_2d7c6cc29c4555c8']['showSource'] = false; window['result_2d7c6cc29c4555c8']['source'] = \"MARC USA LLC\"; window['result_2d7c6cc29c4555c8']['loggedIn'] = false; window['result_2d7c6cc29c4555c8']['showMyJobsLinks'] = false;window['result_2d7c6cc29c4555c8']['undoAction'] = \"unsave\";window['result_2d7c6cc29c4555c8']['relativeJobAge'] = \"18 days ago\";window['result_2d7c6cc29c4555c8']['jobKey'] = \"2d7c6cc29c4555c8\"; window['result_2d7c6cc29c4555c8']['myIndeedAvailable'] = true; window['result_2d7c6cc29c4555c8']['showMoreActionsLink'] = window['result_2d7c6cc29c4555c8']['showMoreActionsLink'] || true; window['result_2d7c6cc29c4555c8']['resultNumber'] = 7; window['result_2d7c6cc29c4555c8']['jobStateChangedToSaved'] = false; window['result_2d7c6cc29c4555c8']['searchState'] = \"q=data scientist&amp;\"; window['result_2d7c6cc29c4555c8']['basicPermaLink'] = \"https://www.indeed.com\"; window['result_2d7c6cc29c4555c8']['saveJobFailed'] = false; window['result_2d7c6cc29c4555c8']['removeJobFailed'] = false; window['result_2d7c6cc29c4555c8']['requestPending'] = false; window['result_2d7c6cc29c4555c8']['notesEnabled'] = true; window['result_2d7c6cc29c4555c8']['currentPage'] = \"serp\"; window['result_2d7c6cc29c4555c8']['sponsored'] = false;window['result_2d7c6cc29c4555c8']['reportJobButtonEnabled'] = false; window['result_2d7c6cc29c4555c8']['showMyJobsHired'] = false; window['result_2d7c6cc29c4555c8']['showSaveForSponsored'] = false; window['result_2d7c6cc29c4555c8']['showJobAge'] = true;</script></div></div>\\n<div class=\"tab-container\">\\n<div class=\"more-links-container result-tab\" id=\"tt_display_7\" style=\"display:none;\"><a class=\"close-link closeLink\" href=\"#\" onclick=\"toggleMoreLinks('2d7c6cc29c4555c8'); return false;\" title=\"Close\"></a><div class=\"more_actions\" id=\"more_7\"><ul><li><span class=\"mat\">View all <a href=\"/jobs?q=Marc+USA+LLC&amp;l=Pittsburgh,+PA&amp;nc=jasx\" rel=\"nofollow\">MARC USA LLC jobs in Pittsburgh, PA</a> - <a href=\"/l-Pittsburgh,-PA-jobs.html\">Pittsburgh jobs</a></span></li><li><span class=\"mat\">Salary Search: <a href=\"/salaries/Data-Scientist-Salaries,-Pittsburgh-PA\" onmousedown=\"this.href = appendParamsOnce(this.href, '?campaignid=serp-more&amp;fromjk=2d7c6cc29c4555c8&amp;from=serp-more');\">Data Scientist salaries in Pittsburgh, PA</a></span></li><li><span class=\"mat\">Related forums: <a href=\"/forum/loc/Pittsburgh-Pennsylvania.html\">Pittsburgh, Pennsylvania</a> - <a href=\"/forum/cmp/Marc-USA-LLC.html\">MARC USA LLC</a></span></li></ul></div></div><div class=\"dya-container result-tab\"></div>\\n<div class=\"tellafriend-container result-tab email_job_content\"></div>\\n<div class=\"sign-in-container result-tab\"></div>\\n<div class=\"notes-container result-tab\"></div>\\n</div>\\n</td>\\n</tr>\\n</table>\\n</div>\\n<div class=\" row result\" data-jk=\"4e6d747c8470498d\" data-tn-component=\"organicJob\" data-tu=\"\" id=\"p_4e6d747c8470498d\">\\n<h2 class=\"jobtitle\" id=\"jl_4e6d747c8470498d\">\\n<a class=\"turnstileLink\" data-tn-element=\"jobTitle\" href=\"/rc/clk?jk=4e6d747c8470498d&amp;fccid=35d653c09c2712b6&amp;vjs=3\" onclick=\"setRefineByCookie([]); return rclk(this,jobmap[8],true,0);\" onmousedown=\"return rclk(this,jobmap[8],0);\" rel=\"noopener nofollow\" target=\"_blank\" title=\"Data Scientist\"><b>Data</b> <b>Scientist</b></a>\\n</h2>\\n<span class=\"company\">\\n<a href=\"/cmp/Nbcuniversal\" onmousedown=\"this.href = appendParamsOnce(this.href, 'from=SERP&amp;campaignid=serp-linkcompanyname&amp;fromjk=4e6d747c8470498d&amp;jcid=35d653c09c2712b6')\" rel=\"noopener\" target=\"_blank\">\\n    NBCUniversal</a></span>\\n\\n - <a class=\"turnstileLink slNoUnderline \" data-tn-element=\"reviewStars\" data-tn-variant=\"cmplinktst2\" href=\"/cmp/Nbcuniversal/reviews\" onmousedown=\"this.href = appendParamsOnce(this.href, '?campaignid=cmplinktst2&amp;from=SERP&amp;jt=Data+Scientist&amp;fromjk=4e6d747c8470498d&amp;jcid=35d653c09c2712b6');\" rel=\"noopener\" target=\"_blank\" title=\"Nbcuniversal reviews\">\\n<span class=\"ratings\"><span class=\"rating\" style=\"width:51.6px\"><!-- --></span></span>\\n<span class=\"slNoUnderline\">1,688 reviews</span></a>\\n - <span class=\"location\">Universal City, CA</span><table border=\"0\" cellpadding=\"0\" cellspacing=\"0\">\\n<tr>\\n<td class=\"snip\">\\n<div class=\"\">\\n<span class=\"summary\">\\n            Working with the Games team and partners to understand what are the needed KPIs in addition to what selected BI tools provide\\n</span>\\n</div>\\n<div class=\"result-link-bar-container\">\\n<div class=\"result-link-bar\"><span class=\"date\">8 days ago</span> <span class=\"tt_set\" id=\"tt_set_8\">  -  <a class=\"sl resultLink save-job-link \" href=\"#\" id=\"sj_4e6d747c8470498d\" onclick=\"changeJobState('4e6d747c8470498d', 'save', 'linkbar', false, ''); return false;\" title=\"Save this job to my.indeed\">save job</a> - <a class=\"sl resultLink more-link \" href=\"#\" id=\"tog_8\" onclick=\"toggleMoreLinks('4e6d747c8470498d'); return false;\">more...</a></span><div class=\"edit_note_content\" id=\"editsaved2_4e6d747c8470498d\" style=\"display:none;\"></div><script>if (!window['result_4e6d747c8470498d']) {window['result_4e6d747c8470498d'] = {};}window['result_4e6d747c8470498d']['showSource'] = false; window['result_4e6d747c8470498d']['source'] = \"NBCUniversal\"; window['result_4e6d747c8470498d']['loggedIn'] = false; window['result_4e6d747c8470498d']['showMyJobsLinks'] = false;window['result_4e6d747c8470498d']['undoAction'] = \"unsave\";window['result_4e6d747c8470498d']['relativeJobAge'] = \"8 days ago\";window['result_4e6d747c8470498d']['jobKey'] = \"4e6d747c8470498d\"; window['result_4e6d747c8470498d']['myIndeedAvailable'] = true; window['result_4e6d747c8470498d']['showMoreActionsLink'] = window['result_4e6d747c8470498d']['showMoreActionsLink'] || true; window['result_4e6d747c8470498d']['resultNumber'] = 8; window['result_4e6d747c8470498d']['jobStateChangedToSaved'] = false; window['result_4e6d747c8470498d']['searchState'] = \"q=data scientist&amp;\"; window['result_4e6d747c8470498d']['basicPermaLink'] = \"https://www.indeed.com\"; window['result_4e6d747c8470498d']['saveJobFailed'] = false; window['result_4e6d747c8470498d']['removeJobFailed'] = false; window['result_4e6d747c8470498d']['requestPending'] = false; window['result_4e6d747c8470498d']['notesEnabled'] = true; window['result_4e6d747c8470498d']['currentPage'] = \"serp\"; window['result_4e6d747c8470498d']['sponsored'] = false;window['result_4e6d747c8470498d']['reportJobButtonEnabled'] = false; window['result_4e6d747c8470498d']['showMyJobsHired'] = false; window['result_4e6d747c8470498d']['showSaveForSponsored'] = false; window['result_4e6d747c8470498d']['showJobAge'] = true;</script></div></div>\\n<div class=\"tab-container\">\\n<div class=\"more-links-container result-tab\" id=\"tt_display_8\" style=\"display:none;\"><a class=\"close-link closeLink\" href=\"#\" onclick=\"toggleMoreLinks('4e6d747c8470498d'); return false;\" title=\"Close\"></a><div class=\"more_actions\" id=\"more_8\"><ul><li><span class=\"mat\">View all <a href=\"/q-Nbcuniversal-l-Universal-City,-CA-jobs.html\" rel=\"nofollow\">NBCUniversal jobs in Universal City, CA</a> - <a href=\"/l-Universal-City,-CA-jobs.html\">Universal City jobs</a></span></li><li><span class=\"mat\">Salary Search: <a href=\"/salaries/Data-Scientist-Salaries,-Universal-City-CA\" onmousedown=\"this.href = appendParamsOnce(this.href, '?campaignid=serp-more&amp;fromjk=4e6d747c8470498d&amp;from=serp-more-nofollow');\" rel='\"nofollow\"'>Data Scientist salaries in Universal City, CA</a></span></li><li><span class=\"mat\">Learn more about working at <a href=\"/cmp/Nbcuniversal\" onmousedown=\"this.href = appendParamsOnce(this.href, '?fromjk=4e6d747c8470498d&amp;from=serp-more&amp;campaignid=serp-more&amp;jcid=35d653c09c2712b6');\">Nbcuniversal</a></span></li><li><span class=\"mat\"><a href=\"/cmp/Nbcuniversal/faq\" onmousedown=\"this.href = appendParamsOnce(this.href, '?from=serp-more&amp;campaignid=serp-more&amp;fromjk=4e6d747c8470498d&amp;jcid=35d653c09c2712b6');\">Nbcuniversal questions about work, benefits, interviews and hiring process:</a><ul><li><a href=\"/cmp/Nbcuniversal/faq/how-quickly-does-nbc-universal-get-back-to-you-when-you-apply-for-a-position?quid=1am7ensc8ak939pk\" onmousedown=\"this.href = appendParamsOnce(this.href, '?from=serp-more&amp;campaignid=serp-more&amp;fromjk=4e6d747c8470498d&amp;jcid=35d653c09c2712b6');\">How quickly does NBC Universal get back to you when you apply for a posi...</a></li><li><a href=\"/cmp/Nbcuniversal/faq/if-you-were-to-leave-comcastnbcuniversal-what-would-be-the-reason?quid=1c2i41db9b88ubk7\" onmousedown=\"this.href = appendParamsOnce(this.href, '?from=serp-more&amp;campaignid=serp-more&amp;fromjk=4e6d747c8470498d&amp;jcid=35d653c09c2712b6');\">If you were to leave ComcastNBCUniversal, what would be the reason?</a></li></ul></span></li><li><span class=\"mat\">Related forums: <a href=\"/forum/cmp/Nbcuniversal.html\">NBCUniversal</a></span></li></ul></div></div><div class=\"dya-container result-tab\"></div>\\n<div class=\"tellafriend-container result-tab email_job_content\"></div>\\n<div class=\"sign-in-container result-tab\"></div>\\n<div class=\"notes-container result-tab\"></div>\\n</div>\\n</td>\\n</tr>\\n</table>\\n</div>\\n<div class=\"lastRow row result\" data-jk=\"de8696554cc71b22\" data-tn-component=\"organicJob\" data-tu=\"\" id=\"p_de8696554cc71b22\">\\n<h2 class=\"jobtitle\" id=\"jl_de8696554cc71b22\">\\n<a class=\"turnstileLink\" data-tn-element=\"jobTitle\" href=\"/rc/clk?jk=de8696554cc71b22&amp;fccid=fe2d21eef233e94a&amp;vjs=3\" onclick=\"setRefineByCookie([]); return rclk(this,jobmap[9],true,0);\" onmousedown=\"return rclk(this,jobmap[9],0);\" rel=\"noopener nofollow\" target=\"_blank\" title=\"Research Scientist II, Amazon Alexa\">Research <b>Scientist</b> II, Amazon Alexa</a>\\n</h2>\\n<span class=\"company\">\\n<a href=\"/cmp/Amazon.com\" onmousedown=\"this.href = appendParamsOnce(this.href, 'from=SERP&amp;campaignid=serp-linkcompanyname&amp;fromjk=de8696554cc71b22&amp;jcid=fe2d21eef233e94a')\" rel=\"noopener\" target=\"_blank\">\\n    Amazon.com</a></span>\\n\\n - <a class=\"turnstileLink slNoUnderline \" data-tn-element=\"reviewStars\" data-tn-variant=\"cmplinktst2\" href=\"/cmp/Amazon.com/reviews\" onmousedown=\"this.href = appendParamsOnce(this.href, '?campaignid=cmplinktst2&amp;from=SERP&amp;jt=Research+Scientist+II%2C+Amazon+Alexa&amp;fromjk=de8696554cc71b22&amp;jcid=fe2d21eef233e94a');\" rel=\"noopener\" target=\"_blank\" title=\"Amazon.com reviews\">\\n<span class=\"ratings\"><span class=\"rating\" style=\"width:43.2px\"><!-- --></span></span>\\n<span class=\"slNoUnderline\">24,448 reviews</span></a>\\n - <span class=\"location\">Pittsburgh, PA</span><table border=\"0\" cellpadding=\"0\" cellspacing=\"0\">\\n<tr>\\n<td class=\"snip\">\\n<div class=\"\">\\n<span class=\"summary\">\\n            Ensure data quality throughout all stages of acquisition and processing, including such areas as data sourcing/collection, ground truth generation...</span>\\n</div>\\n<div class=\"result-link-bar-container\">\\n<div class=\"result-link-bar\"><span class=\"date\">20 days ago</span> <span class=\"tt_set\" id=\"tt_set_9\">  -  <a class=\"sl resultLink save-job-link \" href=\"#\" id=\"sj_de8696554cc71b22\" onclick=\"changeJobState('de8696554cc71b22', 'save', 'linkbar', false, ''); return false;\" title=\"Save this job to my.indeed\">save job</a> - <a class=\"sl resultLink more-link \" href=\"#\" id=\"tog_9\" onclick=\"toggleMoreLinks('de8696554cc71b22'); return false;\">more...</a></span><div class=\"edit_note_content\" id=\"editsaved2_de8696554cc71b22\" style=\"display:none;\"></div><script>if (!window['result_de8696554cc71b22']) {window['result_de8696554cc71b22'] = {};}window['result_de8696554cc71b22']['showSource'] = false; window['result_de8696554cc71b22']['source'] = \"Amazon.com\"; window['result_de8696554cc71b22']['loggedIn'] = false; window['result_de8696554cc71b22']['showMyJobsLinks'] = false;window['result_de8696554cc71b22']['undoAction'] = \"unsave\";window['result_de8696554cc71b22']['relativeJobAge'] = \"20 days ago\";window['result_de8696554cc71b22']['jobKey'] = \"de8696554cc71b22\"; window['result_de8696554cc71b22']['myIndeedAvailable'] = true; window['result_de8696554cc71b22']['showMoreActionsLink'] = window['result_de8696554cc71b22']['showMoreActionsLink'] || true; window['result_de8696554cc71b22']['resultNumber'] = 9; window['result_de8696554cc71b22']['jobStateChangedToSaved'] = false; window['result_de8696554cc71b22']['searchState'] = \"q=data scientist&amp;\"; window['result_de8696554cc71b22']['basicPermaLink'] = \"https://www.indeed.com\"; window['result_de8696554cc71b22']['saveJobFailed'] = false; window['result_de8696554cc71b22']['removeJobFailed'] = false; window['result_de8696554cc71b22']['requestPending'] = false; window['result_de8696554cc71b22']['notesEnabled'] = true; window['result_de8696554cc71b22']['currentPage'] = \"serp\"; window['result_de8696554cc71b22']['sponsored'] = false;window['result_de8696554cc71b22']['reportJobButtonEnabled'] = false; window['result_de8696554cc71b22']['showMyJobsHired'] = false; window['result_de8696554cc71b22']['showSaveForSponsored'] = false; window['result_de8696554cc71b22']['showJobAge'] = true;</script></div></div>\\n<div class=\"tab-container\">\\n<div class=\"more-links-container result-tab\" id=\"tt_display_9\" style=\"display:none;\"><a class=\"close-link closeLink\" href=\"#\" onclick=\"toggleMoreLinks('de8696554cc71b22'); return false;\" title=\"Close\"></a><div class=\"more_actions\" id=\"more_9\"><ul><li><span class=\"mat\">View all <a href=\"/q-Amazon-Com-l-Pittsburgh,-PA-jobs.html\" rel=\"nofollow\">Amazon.com jobs in Pittsburgh, PA</a> - <a href=\"/l-Pittsburgh,-PA-jobs.html\">Pittsburgh jobs</a></span></li><li><span class=\"mat\">Salary Search: <a href=\"/salaries/Senior-Research-Scientist-Salaries,-Pittsburgh-PA\" onmousedown=\"this.href = appendParamsOnce(this.href, '?campaignid=serp-more&amp;fromjk=de8696554cc71b22&amp;from=serp-more-nofollow');\" rel='\"nofollow\"'>Senior Research Scientist salaries in Pittsburgh, PA</a></span></li><li><span class=\"mat\">Learn more about working at <a href=\"/cmp/Amazon.com\" onmousedown=\"this.href = appendParamsOnce(this.href, '?fromjk=de8696554cc71b22&amp;from=serp-more&amp;campaignid=serp-more&amp;jcid=fe2d21eef233e94a');\">Amazon.com</a></span></li><li><span class=\"mat\"><a href=\"/cmp/Amazon.com/faq\" onmousedown=\"this.href = appendParamsOnce(this.href, '?from=serp-more&amp;campaignid=serp-more&amp;fromjk=de8696554cc71b22&amp;jcid=fe2d21eef233e94a');\">Amazon.com questions about work, benefits, interviews and hiring process:</a><ul><li><a href=\"/cmp/Amazon.com/faq/what-would-you-suggest-amazon-com-management-do-to-prevent-others-from-leaving-for-this-reason?quid=1bb857n98brch8lj\" onmousedown=\"this.href = appendParamsOnce(this.href, '?from=serp-more&amp;campaignid=serp-more&amp;fromjk=de8696554cc71b22&amp;jcid=fe2d21eef233e94a');\">What would you suggest Amazon.com management do to prevent others from l...</a></li><li><a href=\"/cmp/Amazon.com/faq/if-you-were-to-leave-amazon-com-what-would-be-the-reason?quid=1bb9r3ilcakgj8dv\" onmousedown=\"this.href = appendParamsOnce(this.href, '?from=serp-more&amp;campaignid=serp-more&amp;fromjk=de8696554cc71b22&amp;jcid=fe2d21eef233e94a');\">If you were to leave Amazon.com, what would be the reason?</a></li></ul></span></li><li><span class=\"mat\">Related forums: <a href=\"/forum/job/Research-Scientist.html\">Research Scientist</a> - <a href=\"/forum/loc/Pittsburgh-Pennsylvania.html\">Pittsburgh, Pennsylvania</a></span></li></ul></div></div><div class=\"dya-container result-tab\"></div>\\n<div class=\"tellafriend-container result-tab email_job_content\"></div>\\n<div class=\"sign-in-container result-tab\"></div>\\n<div class=\"notes-container result-tab\"></div>\\n</div>\\n</td>\\n</tr>\\n</table>\\n</div>\\n<div></div>\\n<div class=\"kElV3Muh zO3gqkX\">\\n<div class=\"row result\" data-advn=\"7081666267986438\" data-jk=\"790db77715a64f01\" data-tu=\"\" id=\"pj_790db77715a64f01\">\\n<a class=\"jobtitle turnstileLink\" data-tn-element=\"jobTitle\" href=\"/pagead/clk?mo=r&amp;ad=-6NYlbfkN0Bb0ggU0Y-rq495ncf1H_2wXYeVfIGI_wg_m0YtNU8UPCVlr3vPQjrfHcpg-2YPqI8DgJ9EWB6cuV4EMVM5MPx3YkQS7_CZ9q_RDvAPb1lRCOkj2-Qg7yq-uDo8QCLvDGbEJhznzuvk98-Xkg52kUcz7vihSyfWrf6YM9oI1g-3lUxr92VTkC3WxId_fd2-Zx6zqs8Tcf2jbljEk5xC-JobIzNxhN88c4BHDbyb13CGR-dzuC5Ut1OLPSDCjB1kTwdSszpB57V-U2RfDlue__QfjKtRuc5kLdZN6QYagrbkvFY9YmRSFS-FGmHuEWTm4y6eJn9mwMzyNko36Ucxk05YPWALn8kPL0wbhkTTQbFNtM1IxM2FOz9qDjvoA3i_P7BhHimWU7v09WPPUEqtvknP8F39vavV3Kytwb78480VAbG7g37e1a2b&amp;vjs=3&amp;p=5&amp;sk=&amp;fvj=1\" id=\"sja5\" onclick=\"setRefineByCookie([]); sjoc('sja5',0); convCtr('SJ')\" onmousedown=\"sjomd('sja5'); clk('sja5');\" rel=\"noopener nofollow\" target=\"_blank\" title=\"Data Scientist\"><b>Data</b> <b>Scientist</b></a>\\n<br/>\\n<div class=\"sjcl\">\\n<span class=\"company\">\\n    Spigot Inc.</span>\\n\\n - <span class=\"location\">Fort Myers, FL</span></div>\\n<div class=\"\">\\n<table border=\"0\" cellpadding=\"0\" cellspacing=\"0\"><tr><td class=\"snip\">\\n<span class=\"summary\">\\n                            The Data Scientist will be responsible for completing profit-driven analysis to provide recommendations on how to increase profits and efficiency on all...</span>\\n</td></tr></table>\\n</div>\\n<div class=\"sjCapt\">\\n<div class=\"iaP\">\\n<span class=\"iaLabel\"> Easily apply</span>\\n</div>\\n<div class=\"result-link-bar-container\">\\n<div class=\"result-link-bar\"><span class=\" sponsoredGray \">Sponsored</span> - <span class=\"date\">23 hours ago</span> <span class=\"tt_set\" id=\"tt_set_14\">  -  <a class=\"sl resultLink save-job-link \" href=\"#\" id=\"sj_790db77715a64f01\" onclick=\"changeJobState('790db77715a64f01', 'save', 'linkbar', true, ''); return false;\" title=\"Save this job to my.indeed\">save job</a></span><div class=\"edit_note_content\" id=\"editsaved2_790db77715a64f01\" style=\"display:none;\"></div><script>if (!window['sj_result_790db77715a64f01']) {window['sj_result_790db77715a64f01'] = {};}window['sj_result_790db77715a64f01']['showSource'] = false; window['sj_result_790db77715a64f01']['source'] = \"Indeed\"; window['sj_result_790db77715a64f01']['loggedIn'] = false; window['sj_result_790db77715a64f01']['showMyJobsLinks'] = false;window['sj_result_790db77715a64f01']['undoAction'] = \"unsave\";window['sj_result_790db77715a64f01']['relativeJobAge'] = \"23 hours ago\";window['sj_result_790db77715a64f01']['jobKey'] = \"790db77715a64f01\"; window['sj_result_790db77715a64f01']['myIndeedAvailable'] = true; window['sj_result_790db77715a64f01']['showMoreActionsLink'] = window['sj_result_790db77715a64f01']['showMoreActionsLink'] || false; window['sj_result_790db77715a64f01']['resultNumber'] = 14; window['sj_result_790db77715a64f01']['jobStateChangedToSaved'] = false; window['sj_result_790db77715a64f01']['searchState'] = \"q=data scientist&amp;\"; window['sj_result_790db77715a64f01']['basicPermaLink'] = \"https://www.indeed.com\"; window['sj_result_790db77715a64f01']['saveJobFailed'] = false; window['sj_result_790db77715a64f01']['removeJobFailed'] = false; window['sj_result_790db77715a64f01']['requestPending'] = false; window['sj_result_790db77715a64f01']['notesEnabled'] = false; window['sj_result_790db77715a64f01']['currentPage'] = \"serp\"; window['sj_result_790db77715a64f01']['sponsored'] = true;window['sj_result_790db77715a64f01']['showSponsor'] = true;window['sj_result_790db77715a64f01']['reportJobButtonEnabled'] = false; window['sj_result_790db77715a64f01']['showMyJobsHired'] = false; window['sj_result_790db77715a64f01']['showSaveForSponsored'] = true; window['sj_result_790db77715a64f01']['showJobAge'] = true;</script></div></div>\\n<div class=\"tab-container\">\\n<div class=\"sign-in-container result-tab\"></div>\\n<div class=\"tellafriend-container result-tab email_job_content\"></div>\\n</div>\\n</div>\\n</div>\\n<div class=\"row sjlast result\" data-advn=\"210908886952977\" data-jk=\"6b5e920bdd627e42\" data-tu=\"\" id=\"pj_6b5e920bdd627e42\">\\n<a class=\"jobtitle turnstileLink\" data-tn-element=\"jobTitle\" href=\"/pagead/clk?mo=r&amp;ad=-6NYlbfkN0DhVAxkc_TxySVbUOs6bxWYWOfhmDTNcVTjFFBAY1FXZ_jbp8Q_DSbxEHI3oKBhlFywPKy8iEN-gkTge5qzwp-X1Msw3NaqMy6FE2IpLrIglm_1vdavGvJTAwL6o3DOLvH9z39-1awJOi95vGfwYp9SkoAaRQm7Ia4ZKhqgRf4Y0hQtBapME7RZJwDDVgDQVOVhEfxN5ZN4zMm3Ye5sle3Yg3m7J_zqXqo6N_Pox_t_cy5tUwnNqSoJIOy-PTN_IpGCzzRcqcvHPqS9ruXDYNLwD7y3Z5UUJhvQ7XRrkQrTSLYI_xnM3dsTkwrIW45qp3HJWiOjv6geFnP5avPSX49ugmD7baDuCZwkAbHp4ud9m9q3p6HjRdLh8iX5moVpd0NG8GKuGN0APWXbMQDx4atW_XVrzNqNrFEEBJaHeVepu6_gYsK3E3zHoZDvdIHvVhU=&amp;vjs=3&amp;p=6&amp;sk=&amp;fvj=0\" id=\"sja6\" onclick=\"setRefineByCookie([]); sjoc('sja6',0); convCtr('SJ')\" onmousedown=\"sjomd('sja6'); clk('sja6');\" rel=\"noopener nofollow\" target=\"_blank\" title=\"Data Scientist I\"><b>Data</b> <b>Scientist</b> I</a>\\n<br/>\\n<div class=\"sjcl\">\\n<span class=\"company\">\\n    zulily in partnership with Indeed Prime</span>\\n\\n - <span class=\"location\">Seattle, WA</span></div>\\n<div class=\"\">\\n<table border=\"0\" cellpadding=\"0\" cellspacing=\"0\"><tr><td class=\"snip\">\\n<span class=\"summary\">\\n                            Examples of reasonable accommodation include making a change to the application process, providing documents in an alternate format, using a sign language...</span>\\n</td></tr></table>\\n</div>\\n<div class=\"sjCapt\">\\n<div class=\"result-link-bar-container\">\\n<div class=\"result-link-bar\"><span class=\" sponsoredGray \">Sponsored by <b>Indeed Prime</b></span> - <span class=\"tt_set\" id=\"tt_set_15\"><a class=\"sl resultLink save-job-link \" href=\"#\" id=\"sj_6b5e920bdd627e42\" onclick=\"changeJobState('6b5e920bdd627e42', 'save', 'linkbar', true, ''); return false;\" title=\"Save this job to my.indeed\">save job</a></span><div class=\"edit_note_content\" id=\"editsaved2_6b5e920bdd627e42\" style=\"display:none;\"></div><script>if (!window['sj_result_6b5e920bdd627e42']) {window['sj_result_6b5e920bdd627e42'] = {};}window['sj_result_6b5e920bdd627e42']['showSource'] = false; window['sj_result_6b5e920bdd627e42']['source'] = \"Indeed Prime\"; window['sj_result_6b5e920bdd627e42']['loggedIn'] = false; window['sj_result_6b5e920bdd627e42']['showMyJobsLinks'] = false;window['sj_result_6b5e920bdd627e42']['undoAction'] = \"unsave\";window['sj_result_6b5e920bdd627e42']['jobKey'] = \"6b5e920bdd627e42\"; window['sj_result_6b5e920bdd627e42']['myIndeedAvailable'] = true; window['sj_result_6b5e920bdd627e42']['showMoreActionsLink'] = window['sj_result_6b5e920bdd627e42']['showMoreActionsLink'] || false; window['sj_result_6b5e920bdd627e42']['resultNumber'] = 15; window['sj_result_6b5e920bdd627e42']['jobStateChangedToSaved'] = false; window['sj_result_6b5e920bdd627e42']['searchState'] = \"q=data scientist&amp;\"; window['sj_result_6b5e920bdd627e42']['basicPermaLink'] = \"https://www.indeed.com\"; window['sj_result_6b5e920bdd627e42']['saveJobFailed'] = false; window['sj_result_6b5e920bdd627e42']['removeJobFailed'] = false; window['sj_result_6b5e920bdd627e42']['requestPending'] = false; window['sj_result_6b5e920bdd627e42']['notesEnabled'] = false; window['sj_result_6b5e920bdd627e42']['currentPage'] = \"serp\"; window['sj_result_6b5e920bdd627e42']['sponsored'] = true;window['sj_result_6b5e920bdd627e42']['showSponsor'] = true;window['sj_result_6b5e920bdd627e42']['sponsorName'] = \"Indeed Prime\";window['sj_result_6b5e920bdd627e42']['reportJobButtonEnabled'] = false; window['sj_result_6b5e920bdd627e42']['showMyJobsHired'] = false; window['sj_result_6b5e920bdd627e42']['showSaveForSponsored'] = true; window['sj_result_6b5e920bdd627e42']['showJobAge'] = true;</script></div></div>\\n<div class=\"tab-container\">\\n<div class=\"sign-in-container result-tab\"></div>\\n<div class=\"tellafriend-container result-tab email_job_content\"></div>\\n</div>\\n</div>\\n</div>\\n</div><script type=\"text/javascript\">\\nfunction ptk(st,p) {\\n  document.cookie = 'PTK=\"tk=&type=jobsearch&subtype=' + st + (p ? '&' + p : '')\\n     + (st == 'pagination' ? '&fp=1' : '')\\n    +'\"; path=/';\\n}\\n</script>\\n<script type=\"text/javascript\">\\nfunction pclk(event) {\\n  var evt = event || window.event;\\n  var target = evt.target || evt.srcElement;\\n  var el = target.nodeType == 1 ? target : target.parentNode;\\n  var tag = el.tagName.toLowerCase();\\n  if (tag == 'span' || tag == 'a') {\\n    ptk('pagination');\\n  }\\n  return true;\\n}\\nfunction addPPUrlParam(obj) {\\n  var pp = obj.getAttribute('data-pp');\\n  var href = obj.getAttribute('href');\\n  if (pp && href) {\\n    obj.setAttribute('href', href + '&pp=' + pp);\\n  }\\n}\\n</script>\\n<div class=\"pagination\" onmousedown=\"pclk(event);\">Results\\xa0Page:\\xa0\\xa0<b>1</b>\\xa0\\xa0<a data-pp=\"AAoAAAAAAAAAAAAAAAE9uzNiAQEBBgqUtWGpcAHDCkPf2uHMTy3RjNtQW6en1hm4Lpw\" href=\"/jobs?q=data+scientist&amp;start=10\" onmousedown=\"addPPUrlParam &amp;&amp; addPPUrlParam(this);\"><span class=\"pn\">2</span></a>\\xa0\\xa0<a data-pp=\"ABQAAAAAAAAAAAAAAAE9uzNiAQEBCgOLqCmjIIrKsQPiaj9OZer7u00QjbJhu4b8cdbPDKh0J5XVGI9YH6lYTsuiIg\" href=\"/jobs?q=data+scientist&amp;start=20\" onmousedown=\"addPPUrlParam &amp;&amp; addPPUrlParam(this);\"><span class=\"pn\">3</span></a>\\xa0\\xa0<a data-pp=\"AB4AAAAAAAAAAAAAAAE9uzNiAQEBDwnQMxQVDGfMNWzsQXYtXJySOch-WIJoSQWUzrJajkV2ztx3X1Y6qsyTVlpGDjNwHQzc5qVlDOjxRbpubV8\" href=\"/jobs?q=data+scientist&amp;start=30\" onmousedown=\"addPPUrlParam &amp;&amp; addPPUrlParam(this);\"><span class=\"pn\">4</span></a>\\xa0\\xa0<a data-pp=\"ACgAAAAAAAAAAAAAAAE9uzNiAQEBES6u34cDCp5ZmsuTD5qxdzJohOTJaArsZ5-Wlku-sHrwhUEW_YvU_ZJgmAbc4Bwss4NOYw_rLeONa3RyPYvCc5RJkXqoG57R2sqj\" href=\"/jobs?q=data+scientist&amp;start=40\" onmousedown=\"addPPUrlParam &amp;&amp; addPPUrlParam(this);\"><span class=\"pn\">5</span></a>\\xa0\\xa0 <a data-pp=\"AAoAAAAAAAAAAAAAAAE9uzNiAQEBBgqUtWGpcAHDCkPf2uHMTy3RjNtQW6en1hm4Lpw\" href=\"/jobs?q=data+scientist&amp;start=10\" onmousedown=\"addPPUrlParam &amp;&amp; addPPUrlParam(this);\"><span class=\"pn\"><span class=\"np\">Next\\xa0\\xbb</span></span></a></div>\\n<div class=\"related_searches\">\\n<div class=\"related_searches_list\">\\n<b>People also searched: </b><ul class=\"relatedQueries-listView-pageFirst\"><li class=\"relatedQueries-listItem-pageFirst rightBorder\"><a href=\"/q-Data-Analyst-jobs.html\" onmousedown=\"this.href = appendParamsOnce(this.href, '?from=relatedQueries&amp;saIdx=1&amp;rqf=1&amp;parentQnorm=data+scientist');\">data analyst</a></li><li class=\"relatedQueries-listItem-pageFirst rightBorder\"><a href=\"/q-Data-Science-jobs.html\" onmousedown=\"this.href = appendParamsOnce(this.href, '?from=relatedQueries&amp;saIdx=2&amp;rqf=1&amp;parentQnorm=data+scientist');\">data science</a></li><li class=\"relatedQueries-listItem-pageFirst rightBorder\"><a href=\"/q-Machine-Learning-jobs.html\" onmousedown=\"this.href = appendParamsOnce(this.href, '?from=relatedQueries&amp;saIdx=3&amp;rqf=1&amp;parentQnorm=data+scientist');\">machine learning</a></li><li class=\"relatedQueries-listItem-pageFirst rightBorder\"><a href=\"/q-Data-jobs.html\" onmousedown=\"this.href = appendParamsOnce(this.href, '?from=relatedQueries&amp;saIdx=4&amp;rqf=1&amp;parentQnorm=data+scientist');\">data</a></li><li class=\"relatedQueries-listItem-pageFirst rightBorder\"><a href=\"/q-Software-Engineer-jobs.html\" onmousedown=\"this.href = appendParamsOnce(this.href, '?from=relatedQueries&amp;saIdx=5&amp;rqf=1&amp;parentQnorm=data+scientist');\">software engineer</a></li><li class=\"relatedQueries-listItem-pageFirst rightBorder\"><a href=\"/q-Python-jobs.html\" onmousedown=\"this.href = appendParamsOnce(this.href, '?from=relatedQueries&amp;saIdx=6&amp;rqf=1&amp;parentQnorm=data+scientist');\">python</a></li><li class=\"relatedQueries-listItem-pageFirst rightBorder\"><a href=\"/q-Analyst-jobs.html\" onmousedown=\"this.href = appendParamsOnce(this.href, '?from=relatedQueries&amp;saIdx=7&amp;rqf=1&amp;parentQnorm=data+scientist');\">analyst</a></li><li class=\"relatedQueries-listItem-pageFirst rightBorder\"><a href=\"/q-Business-Analyst-jobs.html\" onmousedown=\"this.href = appendParamsOnce(this.href, '?from=relatedQueries&amp;saIdx=8&amp;rqf=1&amp;parentQnorm=data+scientist');\">business analyst</a></li><li class=\"relatedQueries-listItem-pageFirst rightBorder\"><a href=\"/q-Statistician-jobs.html\" onmousedown=\"this.href = appendParamsOnce(this.href, '?from=relatedQueries&amp;saIdx=9&amp;rqf=1&amp;parentQnorm=data+scientist');\">statistician</a></li><li class=\"relatedQueries-listItem-pageFirst\"><a href=\"/q-Statistics-jobs.html\" onmousedown=\"this.href = appendParamsOnce(this.href, '?from=relatedQueries&amp;saIdx=10&amp;rqf=1&amp;parentQnorm=data+scientist');\">statistics</a></li></ul></div>\\n<style type=\"text/css\">\\n                .relatedQueries-listView-pageFirst {\\n                    list-style-type: none;\\n                    margin: 0;\\n                    padding: 0;\\n                }\\n                .relatedQueries-listItem-pageFirst {\\n                    display: inline-block;\\n                }\\n                .rightBorder {\\n                    border-right: 1px solid #77c;\\n                    margin-right: 5px;\\n                    padding-right: 5px;\\n                }\\n                .related_searches_list > * {\\n                    display: inline;\\n                }\\n            </style>\\n<div class=\"related_searches_list\">\\n<b class=\"related_searches_title\">Related Forums:</b>\\n<a href=\"/forum/job/Research-Scientist.html\" onclick=\"logRSC('rfsclk', 'Research Scientist', '1cft8mcmn534nbbp')\">Research Scientist</a>\\n</div>\\n<div class=\"related_searches_list\">\\n<b class=\"related_searches_title\">\\n          Salaries:</b>\\n<a href=\"/salaries/Research-Scientist-Salaries?from=serp\" onclick=\"logRSC('rssclk', 'Research Scientist', '1cft8mcmn534nbbp')\">Research Scientist salary</a>\\n</div>\\n</div> </td>\\n<td id=\"auxCol\" role=\"complementary\">\\n<style type=\"text/css\">\\n\\t\\t#recaptcha_div {\\n    alignment: left;\\n    margin-bottom: 10px;\\n}\\n\\n.recaptcha-error {\\n    border: 1px solid #dd4b39;\\n    padding: 5px;\\n    width: 302px\\n}\\n\\n.recaptcha-error-message {\\n    color: #dd4b39;\\n    fontSize: 12px;\\n    padding: 4px 0\\n}</style>\\n<div id=\"jobalertswrapper\">\\n<div class=\"open jaui \" id=\"jobalerts\">\\n<div class=\"jobalertlabel\">\\n<span class=\"jobalerts_title\" id=\"jobalertlabel\"><span aria-label=\"alert icon\" class=\"ico\" role=\"img\"></span>Be the first to see new <b>data scientist jobs</b></span>\\n</div>\\n<div class=\"jaform\" id=\"jobalertform\">\\n<span class=\"ja_checkmark_ui\" id=\"jobalerttext\"></span><span id=\"jobalertsending\"></span>\\n<div id=\"jobalertmessage\">\\n<form action=\"/alert\" method=\"POST\" onsubmit=\"return addAlertFormSubmit()\">\\n<input name=\"a\" type=\"hidden\" value=\"add\"/>\\n<input name=\"q\" type=\"hidden\" value=\"data scientist\"/>\\n<input name=\"l\" type=\"hidden\" value=\"\"/>\\n<input name=\"radius\" type=\"hidden\" value=\"25\"/>\\n<input name=\"noscript\" type=\"hidden\" value=\"1\"/>\\n<input name=\"tk\" type=\"hidden\" value=\"1cft8mcmn534nbbp\"/>\\n<input id=\"alertverified\" name=\"verified\" type=\"hidden\" value=\"0\"/>\\n<input name=\"alertparams\" type=\"hidden\" value=\"\"/>\\n<label for=\"alertemail\">My email:</label> <input id=\"alertemail\" maxlength=\"100\" name=\"email\" size=\"25\" type=\"text\" value=\"\"/>\\n<label for=\"recjobalert\" id=\"recjobalertlabel\">\\n<input id=\"recjobalert\" name=\"recjobalert\" type=\"checkbox\"/>\\n<span>Also get an email with jobs recommended just for me</span>\\n</label>\\n<div id=\"recaptcha-v2-div\"></div><span class=\"indeed-serp-button\"><span class=\"indeed-serp-button-inner\"><input class=\"indeed-serp-button-label\" id=\"alertsubmit\" type=\"submit\" value=\"Activate\"/></span></span>\\n<style type=\"text/css\">\\n    .indeed-serp-button { cursor : pointer !important; display : inline-block !important; padding : 1px !important; height : 31px !important; -moz-border-radius : 7px !important; border-radius : 7px !important; position : relative !important; text-decoration : none !important;background-color:#79788B; filter:progid:DXImageTransform.Microsoft.gradient(startColorstr='#BCBBCD', endColorstr='#79788B', GradientType=0);background-image: -webkit-gradient(linear, center top, center bottom, from(#BCBBCD), to(#79788B)) !important;background-image: -webkit-linear-gradient(top, #BCBBCD, #79788B) !important;background-image: -moz-linear-gradient(top, #BCBBCD, #79788B) !important;background-image: -o-linear-gradient(top, #BCBBCD, #79788B) !important;background-image: -ms-linear-gradient(top, #BCBBCD, #79788B) !important;background-image: linear-gradient(top, #BCBBCD, #79788B) !important;-webkit-box-shadow: 0 1px 2px rgba(0,0,0,0.2) !important;-moz-box-shadow: 0 1px 2px rgba(0,0,0,0.2) !important;box-shadow: 0 1px 2px rgba(0,0,0,0.2) !important; } #indeed-ia-1329175190441-0:link, #indeed-ia-1329175190441-0:visited, #indeed-ia-1329175190441-0:hover, #indeed-ia-1329175190441-0:active { border : 0 !important; text-decoration : none !important; }\\n\\n    .indeed-serp-button:hover { filter:progid:DXImageTransform.Microsoft.gradient(startColorstr='#6D99F6', endColorstr='#1B45A3', GradientType=0);background-image: -webkit-gradient(linear, center top, center bottom, from(#6D99F6), to(#1B45A3)) !important;background-image: -webkit-linear-gradient(top, #6D99F6, #1B45A3) !important;background-image: -moz-linear-gradient(top, #6D99F6, #1B45A3) !important;background-image: -o-linear-gradient(top, #6D99F6, #1B45A3) !important;background-image: -ms-linear-gradient(top, #6D99F6, #1B45A3) !important;background-image: linear-gradient(top, #6D99F6, #1B45A3) !important; }\\n\\n    .indeed-apply-state-clicked .indeed-serp-button,\\n    .indeed-serp-button:active { filter:progid:DXImageTransform.Microsoft.gradient(startColorstr='#B3BACA', endColorstr='#7C8493', GradientType=0);background-image: -webkit-gradient(linear, center top, center bottom, from(#B3BACA), to(#7C8493)) !important;background-image: -webkit-linear-gradient(top, #B3BACA, #7C8493) !important;background-image: -moz-linear-gradient(top, #B3BACA, #7C8493) !important;background-image: -o-linear-gradient(top, #B3BACA, #7C8493) !important;background-image: -ms-linear-gradient(top, #B3BACA, #7C8493) !important;background-image: linear-gradient(top, #B3BACA, #7C8493) !important;-webkit-box-shadow: none !important;-moz-box-shadow: none !important;box-shadow: none !important; }\\n\\n    .indeed-serp-button-inner { display : inline-block !important; height : 31px !important; -moz-border-radius : 6px !important; border-radius : 6px !important; font : 18px 'Helvetica Neue','Helvetica',Arial !important; font-weight : 200 !important; text-decoration : none !important; text-shadow : 0px 1px #F1F1F4 !important;background-color:#D9D9E2;  color: #FF6703;filter:progid:DXImageTransform.Microsoft.gradient(startColorstr='#FAFAFB', endColorstr='#D9D9E2', GradientType=0);background-image: -webkit-gradient(linear, center top, center bottom, from(#FAFAFB), to(#D9D9E2)) !important;background-image: -webkit-linear-gradient(top, #FAFAFB, #D9D9E2) !important;background-image: -moz-linear-gradient(top, #FAFAFB, #D9D9E2) !important;background-image: -o-linear-gradient(top, #FAFAFB, #D9D9E2) !important;background-image: -ms-linear-gradient(top, #FAFAFB, #D9D9E2) !important;background-image: linear-gradient(top, #FAFAFB, #D9D9E2) !important; }\\n\\n    .indeed-serp-button:active .indeed-serp-button-inner { filter:progid:DXImageTransform.Microsoft.gradient(startColorstr='#E8E8E9', endColorstr='#CBCBD3', GradientType=0);background-image: -webkit-gradient(linear, center top, center bottom, from(#E8E8E9), to(#CBCBD3)) !important;background-image: -webkit-linear-gradient(top, #E8E8E9, #CBCBD3) !important;background-image: -moz-linear-gradient(top, #E8E8E9, #CBCBD3) !important;background-image: -o-linear-gradient(top, #E8E8E9, #CBCBD3) !important;background-image: -ms-linear-gradient(top, #E8E8E9, #CBCBD3) !important;background-image: linear-gradient(top, #E8E8E9, #CBCBD3) !important; }\\n\\n    .indeed-serp-button-label {cursor: pointer; text-align : center !important; border:0; background: transparent;font-size: 12px; font-family: Arial, sans-serif; padding:3px 14px 2px 12px; margin:0; line-height: 26px; }\\n\\n    .indeed-serp-button:active .indeed-serp-button-label,\\n    .indeed-apply-state-clicked .indeed-serp-button-label { -ms-filter: \"progid:DXImageTransform.Microsoft.Alpha(Opacity=0.75)\" !important;filter: alpha(opacity=75) !important;-moz-opacity: 0.75 !important;-khtml-opacity: 0.75 !important;opacity: 0.75 !important; }\\n\\n    #alertemail {  height: 27px; line-height: 24px; padding-left: 6px; padding-right: 6px; font-size: 14px; font-family: Arial, sans-serif; }\\n\\n    .jobalertform-terms-outer-wrapper label {  position: fixed;  font-size: 1px;  transform: scale(0.3);  }\\n\\n    .jobalertform-terms-inner-wrapper {  position: relative;  z-index: 20;  width: 50%;  background: #ebebeb;  height: 12px;  }\\n</style>\\n</form>\\n</div>\\n</div>\\n</div>\\n</div>\\n<script type=\"text/javascript\">\\n\\tvar addAlertFormSubmit = function() {\\n\\t\\tvar email = document.getElementById('alertemail').value;\\n\\t\\tvar verified = document.getElementById('alertverified').value;\\n\\t\\tvar recJACheckbox = document.getElementById('recjobalert');\\n\\t\\tvar tacCheckbox = document.getElementById('termsandconditionscheckbox');\\n\\t\\tvar recjobalertchecked = recJACheckbox ? recJACheckbox.checked : false;\\n\\t\\tvar termsandconditionschecked = tacCheckbox ? tacCheckbox.checked : false;\\n\\n\\t\\treturn addalertdelegate(\\n\\t\\t\\t'data+scientist',\\n\\t\\t\\t'',\\n\\t\\t\\t'',\\n\\t\\t\\temail,\\n\\t\\t\\t'1cft8mcmn534nbbp',\\n\\t\\t\\tverified,\\n\\t\\t\\ttrue,\\n\\t\\t\\t'661982',\\n\\t\\t\\t'US',\\n\\t\\t\\t'28dffa8c461ddf26250a65a800d0a138',\\n\\t\\t\\trecjobalertchecked,\\n\\t\\t\\tfalse,\\n\\t\\t\\ttermsandconditionschecked,\\n\\t\\t\\ttrue\\n\\t\\t);\\n\\t}\\n</script><div id=\"femp_list\">\\n<div class=\"femp_header\">Company with data scientist jobs</div>\\n<div class=\"femp_item\">\\n<div class=\"femp_logo\">\\n<a href=\"/cmp/Allstate-Insurance\" onmousedown=\"this.href = appendParamsOnce(this.href, 'tk=1cft8mcmn534nbbp&amp;campaignid=femp&amp;from=femp');\" rel=\"noopener\" target=\"_blank\">\\n<img alt=\"Allstate Insurance\" src=\"https://d2q79iu7y748jz.cloudfront.net/s/_logo/3c5b8609f8e93ac4ac65b7d8f7b51ffb.png\" width=\"120\"/>\\n</a>\\n</div>\\n<div class=\"femp_cmp\">\\n<a class=\"femp_cmp_link\" href=\"/cmp/Allstate-Insurance\" onmousedown=\"this.href = appendParamsOnce(this.href, 'tk=1cft8mcmn534nbbp&amp;campaignid=femp&amp;from=femp');\" rel=\"noopener\" target=\"_blank\">\\n            Allstate Insurance</a>\\n</div>\\n<div class=\"femp_desc\">Allstate Corporation was founded in 1931, and is the second largest personal lines insurance company in the United States. </div>\\n<div class=\"featemp_sjl\" id=\"featemp_sj\" style=\"display: none\">\\n<div id=\"indJobContent\"></div>\\n</div>\\n<script type=\"text/javascript\">\\n        var ind_nr = true;\\n        var ind_pub = '8772657697788355';\\n        var ind_el = 'indJobContent';\\n        var ind_pf = '';\\n        var ind_q = '';\\n        var ind_fcckey = '06e9852350ad6ff3';\\n        var ind_l = '';\\n        var ind_chnl = 'Allstate Insurance';\\n        var ind_n = 3;\\n        var ind_d = '';\\n        var ind_t = 60;\\n        var ind_c = 30;\\n        var ind_rq = 'data scientist';\\n    </script>\\n<script async=\"\" src=\"/jobroll-widget-v3-fc2.js\" type=\"text/javascript\"></script>\\n<div class=\"femp_links\">\\n<div class=\"jobs\"><a href=\"/jobs?q=company%3A%22Allstate+Insurance%22&amp;l=\" onmousedown=\"this.href = appendParamsOnce(this.href, '&amp;from=femp');\">Jobs (656)</a></div>\\n<div class=\"reviews\"><a href=\"/cmp/Allstate-Insurance/reviews\" onmousedown=\"this.href = appendParamsOnce(this.href, '&amp;campaignid=femp&amp;from=femp');\">Reviews (5,194)</a> <span class=\"ratings\"><span class=\"rating\" style=\"width:43.8px\"><!-- --></span></span>\\n</div>\\n<div class=\"photos\"><a href=\"/cmp/Allstate-Insurance/photos\" onmousedown=\"this.href = appendParamsOnce(this.href, '&amp;campaignid=femp&amp;from=femp');\">Photos (24)</a></div>\\n<div class=\"salaries\"><a href=\"/cmp/Allstate-Insurance/salaries\" onmousedown=\"this.href = appendParamsOnce(this.href, '&amp;campaignid=femp&amp;from=femp');\">Salaries (15,282)</a></div>\\n</div>\\n</div>\\n</div>\\n<div id=\"univsrch-salary-v3\"><div id=\"univsrch-salary-info\"><div id=\"univsrch-salary-title\">Data Scientist salaries in United States</div><div id=\"univsrch-salary-eval\"><div class=\"v3\" id=\"univsrch-salary-rates\"><p class=\"v3\" id=\"univsrch-salary-currentsalary\"><b>$131,427</b> per year</p></div><div class=\"v3\" id=\"univsrch-salary-stats\"><p class=\"v3\" id=\"univsrch-salary-stats-para\">Based on 9,337 salaries</p></div><div id=\"univsrch-sal-distribution\"><ul><li style=\"height:66.1566859730287%; width:9.2%; left:0.0%;\"></li><li style=\"height:82.01168745238277%; width:9.2%; left:10.088999999999999%;\"></li><li class=\"univsrch-sal-highlight\" style=\"height:90.0%; width:9.2%; left:20.177999999999997%;\"></li><li style=\"height:89.97636246583315%; width:9.2%; left:30.266999999999996%;\"></li><li style=\"height:83.67376233071272%; width:9.2%; left:40.355999999999995%;\"></li><li style=\"height:73.5110699916538%; width:9.2%; left:50.44499999999999%;\"></li><li style=\"height:61.73198949167755%; width:9.2%; left:60.53399999999999%;\"></li><li style=\"height:50.00087144361617%; width:9.2%; left:70.62299999999999%;\"></li><li style=\"height:39.33766415077958%; width:9.2%; left:80.71199999999999%;\"></li><li style=\"height:30.228356178150186%; width:9.2%; left:90.80099999999999%;\"></li></ul><div class=\"univsrch-sal-min univsrch-sal-caption float-left\"><div class=\"float-left\" style=\"width: 13.07px;\"></div><span>Min<br/>$46,000</span></div><div class=\"univsrch-sal-max univsrch-sal-caption float-right\"><div class=\"float-right\" style=\"width: 13.07px;\"></div><span>Max<br/>$260,000</span></div></div><div id=\"univsrch-salary-link\"><a href=\"/salaries/Data-Scientist-Salaries\" onmousedown=\"this.href = appendParamsOnce(this.href, 'from=serpsalaryblock');\" title=\"Data Scientist salaries by company in United States\">Data Scientist salaries by company in United States</a></div></div></div></div><script type=\"text/javascript\">usBindSalaryWidgetLoggingNew();</script><script id=\"jaFloatScript\" type=\"text/javascript\">\\n      initFloatingBoxes(\"#jobalertswrapper, #related-searches.related_searches_sticky\");\\n    </script>\\n</td></tr>\\n</table>\\n<script>\\nvar focusHandlers = [];\\nvar linkHighlighter = new LinkHighlighter();\\nfocusHandlers.push(googBind(linkHighlighter.fadeToOriginalColor, linkHighlighter));\\nvar lostFocusHandlers = [];\\nlostFocusHandlers.push(googBind(linkHighlighter.clickedAway, linkHighlighter, \"#551a8b\"));\\n</script>\\n<script>\\n        if (!showVjOnSerp) {\\n            var didYouApplyPrompt = new DidYouApplyPrompt('1cft8mcmn534nbbp', 60, 'serp',\\n                false);\\n            focusHandlers.push(googBind(didYouApplyPrompt.returnedToPage, didYouApplyPrompt));\\n            lostFocusHandlers.push(googBind(didYouApplyPrompt.leftPage, didYouApplyPrompt));\\n            didYouApplyPrompt.dyaChangeFromCookie();\\n        }\\n    </script>\\n<script>\\nvar clickTime = new ClickTime(window.tk, 'serp', 'jobtitle', focusHandlers, lostFocusHandlers);\\n</script>\\n<script type=\"text/javascript\">\\n        if (bindAndRender && typeof bindAndRender === 'function') {\\n            bindAndRender.apply();\\n    \\n        }\\n    </script>\\n<script>usBindRightRailLogging();</script>\\n<script>\\n        window['recaptchaSitekeyV2'] = \"6Lc1uUEUAAAAAPHQRK9uCuJsLbJbUpwmnx5SARHu\";\\n        window['recaptchaSitekeyInvisible'] = \"6Lc5uUEUAAAAAHBFgzyc9no20EC0e7A-_R0QFgww\";\\n    </script>\\n<style type=\"text/css\">\\n    #secondary_nav a,\\n#secondary_nav a:link,\\n#secondary_nav a:visited { color: #77c; text-decoration: none; }\\n#secondary_nav a:hover { text-decoration: underline;  }</style>\\n<!-- jobs -->\\n<div id=\"footerWrapper\" role=\"contentinfo\" style=\"text-align:center;\">\\n<div id=\"footer\" style=\"text-align:left;\">\\n<div class=\"separator_bottom\"></div>\\n<div id=\"secondary_nav\">\\n<div style=\"margin: 1em;\"><span class=\"gaj_heading\">Indeed helps people get jobs:</span> <a class=\"sl\" href=\"/promo/gotajob\" onmousedown=\"null\">Over 10 million stories shared</a></div><a href=\"/\" id=\"jobs_product_link\" title=\"Jobs\">Jobs</a> - <a href=\"/career-advice?isid=jasx_us-en&amp;ikw=jsfooter\" id=\"careeradvice_product_link\" title=\"Career Advice\">Career Advice</a> - <script type=\"text/javascript\">\\n                    var jobsProductLink = document.getElementById('jobs_product_link');\\n                    </script>\\n<a href=\"http://www.hiringlab.org\">Hiring Lab</a> - <a href=\"/find-jobs.jsp\">Browse Jobs</a> - <a href=\"/tools/jobseeker/\">Tools</a> - <a href=\"http://www.indeedevents.com/?hl=en_US\">Employer Events</a> - <a href=\"http://www.indeed.jobs\">Work at Indeed</a> - <a href=\"/intl/en/about.html\"><span style=\"white-space: nowrap;\">About</span></a> - <a href=\"https://indeed.zendesk.com/hc/en-us\">Help Center</a>\\n<style type=\"text/css\">\\n                #footer-legal {\\n                    margin-top: 10px;\\n                    font-size: 9pt;\\n                }\\n            </style>\\n<div id=\"footer-legal\">\\n<div class=\"legal-footer\">\\xa92018 Indeed - <a href=\"/legal\">Cookies, Privacy and Terms</a></div></div>\\n</div>\\n</div>\\n<style type=\"text/css\">\\n    /*Need to update this file when there is a update on frontend-icl library, details see ITAD-358*/\\n.icl-Button{box-sizing:border-box;display:inline-block;vertical-align:middle;font-family:Helvetica Neue,Helvetica,Arial,Roboto,Noto,sans-serif;font-size:1.125rem;line-height:1.8rem;font-weight:700;text-decoration:none;text-overflow:ellipsis;white-space:nowrap;filter:progid:DXImageTransform.Microsoft.dropshadow(OffX=0,OffY=-1,Color=#e80f2299,Positive=true);-webkit-appearance:none;-moz-appearance:none;appearance:none;overflow:hidden;-webkit-user-select:none;-moz-user-select:none;-ms-user-select:none;user-select:none;-webkit-touch-callout:none;-webkit-highlight:none;-webkit-tap-highlight-color:transparent}[dir] .icl-Button{padding:.5rem 1.125rem;text-align:center;background-repeat:repeat-x;border:1px solid;border-radius:6px;box-shadow:0 1px 5px rgba(0,0,0,.2);cursor:pointer}[dir=ltr] .icl-Button{margin:12px 12px 12px 0}[dir=rtl] .icl-Button{margin:12px 0 12px 12px}[dir] .icl-Button::-moz-focus-inner{border:0}[dir] .icl-Button:hover{background-image:none;box-shadow:0 1px 5px rgba(0,0,0,.4)}.icl-Button:active{outline:none}[dir] .icl-Button:active{background-image:none;box-shadow:inset 0 2px 4px rgba(0,0,0,.15),0 1px 2px rgba(0,0,0,.05)}.icl-Button:disabled{opacity:.65}[dir] .icl-Button:disabled{background-image:none;box-shadow:none;cursor:default}[dir] .icl-Button:disabled:hover{box-shadow:none}.icl-Button--primary{color:#f8f8f9;filter:progid:DXImageTransform.Microsoft.gradient(startColorstr=\"#ff6598fe\",endColorstr=\"#ff3c69e0\",GradientType=0)}[dir] .icl-Button--primary{text-shadow:0 -1px #0f2299;background-color:#5585f2;background-image:-webkit-linear-gradient(top,#6598ff,#2e5ad7);background-image:linear-gradient(180deg,#6598ff,#2e5ad7);border-color:#1642bb;border-bottom-color:#1642bb}.icl-Button--primary:hover{text-decoration:none}[dir] .icl-Button--primary:active,[dir] .icl-Button--primary:disabled,[dir] .icl-Button--primary:hover{background-color:#2e5ad7}.icl-Button--secondary{color:#333;filter:progid:DXImageTransform.Microsoft.gradient(startColorstr=\"#fff8f8f9\",endColorstr=\"#ffe6e6e6\",GradientType=0)}[dir] .icl-Button--secondary{text-shadow:0 1px #fff;background-color:#d9d9e2;background-image:-webkit-linear-gradient(top,#f8f8f9,#d9d9e2);background-image:linear-gradient(180deg,#f8f8f9,#d9d9e2);border-color:#9a99ac;border-bottom-color:#a2a2a2}.icl-Button--secondary:hover{text-decoration:none}[dir] .icl-Button--secondary:active,[dir] .icl-Button--secondary:disabled,[dir] .icl-Button--secondary:hover{background-color:#f8f8f9}.icl-Button--special{color:#f8f8f9;filter:progid:DXImageTransform.Microsoft.gradient(startColorstr=\"#ff6598fe\",endColorstr=\"#ff3c69e0\",GradientType=0)}[dir] .icl-Button--special{text-shadow:0 -1px #000;background-color:#f14200;background-image:-webkit-linear-gradient(top,#f60,#f14200);background-image:linear-gradient(180deg,#f60,#f14200);border-color:#ba3200;border-bottom-color:#ba3200}.icl-Button--special:hover{text-decoration:none}[dir] .icl-Button--special:active,[dir] .icl-Button--special:disabled,[dir] .icl-Button--special:hover{background-color:#f14200}.icl-Button--danger{color:#f8f8f9;filter:progid:DXImageTransform.Microsoft.gradient(startColorstr=\"#ff6598fe\",endColorstr=\"#ff3c69e0\",GradientType=0)}[dir] .icl-Button--danger{text-shadow:0 -1px #000;background-color:#b01825;background-image:-webkit-linear-gradient(top,#d1787f,#b01825);background-image:linear-gradient(180deg,#d1787f,#b01825);border-color:#83121b;border-bottom-color:#83121b}.icl-Button--danger:hover{text-decoration:none}[dir] .icl-Button--danger:active,[dir] .icl-Button--danger:disabled,[dir] .icl-Button--danger:hover{background-color:#b01825}[dir] .icl-Button--working{border-color:#9a99ac;border-bottom-color:#a2a2a2}.icl-Button--working:hover{text-decoration:none}[dir] .icl-Button--working:disabled{background-color:#f8f8f9}.icl-Button--transparent{color:#00c}[dir] .icl-Button--transparent{text-shadow:none;background:transparent none;border:none;box-shadow:none}.icl-Button--transparent:hover{color:#00c;text-decoration:underline}[dir] .icl-Button--transparent:active,[dir] .icl-Button--transparent:hover{box-shadow:0 0 0 transparent}.icl-Button--transparent:disabled:hover{color:#00c}.icl-Button--block{display:block;width:100%;max-width:351px}[dir] .icl-Button--block{margin:12px auto}.icl-Button--md{font-size:.9375rem;font-weight:600}[dir] .icl-Button--md{padding:.5rem 1rem;border-radius:5px}.icl-Button--sm{font-size:.8125rem;font-weight:500}[dir] .icl-Button--sm{padding:.325rem .8125rem;border-radius:4px}[dir] .icl-Button--group{border-radius:0;box-shadow:0 0 0 transparent}[dir=ltr] .icl-Button--group{float:left;margin:0 0 0 -1px}[dir=rtl] .icl-Button--group{float:right;margin:0 -1px 0 0}[dir] .icl-Button--group:hover{box-shadow:0 0 0 transparent}[dir=ltr] .icl-Button--group:first-child{margin-left:0;border-bottom-left-radius:6px;border-top-left-radius:6px}[dir=rtl] .icl-Button--group:first-child{margin-right:0}[dir=ltr] .icl-Button--group:last-child,[dir=rtl] .icl-Button--group:first-child{border-bottom-right-radius:6px;border-top-right-radius:6px}[dir=rtl] .icl-Button--group:last-child{border-bottom-left-radius:6px;border-top-left-radius:6px}[dir=ltr] .icl-Button--icon,[dir=rtl] .icl-Button--icon{padding-left:10px;padding-right:10px}\\n/*# sourceMappingURL=Button.css.map*/</style>\\n<div id=\"resumeCtaFooter\" style=\"height:64px;\"><div style=\"position:absolute;width:100%;\"><style type=\"text/css\">\\n                    .footerCta {\\n                        text-align:center;\\n                        margin:0px;\\n                        font-size:15px;\\n                        width:100%;\\n                    }\\n\\n                    .footerCta.blueBar {\\n                        background-color:#2164f3;\\n                        color:#ffffff;\\n                    }\\n\\n                    .footerCta.greyBar {\\n                        background-color:#ebebeb;\\n                        color:#000000;\\n                    }\\n\\n                    div.content >table {\\n                        margin-bottom: 4em;\\n                    }\\n                </style><script type=\"text/javascript\">if(null !== call_when_jsall_loaded) {call_when_jsall_loaded(function() {if(!!window.logPromoImpression) {window.logPromoImpression('trk.origin=jobsearch&trk.variant=FooterGrayBelow&trk.pos=below&trk.tk=1cft8mcmn534nbbp', 'resume');}})}</script><div class=\"footerCta greyBar\">Let Employers Find You  <style type=\"text/css\">\\n        .cta_button {\\n            text-decoration:none !important;\\n            margin: 12px !important;\\n        }\\n\\n        .cta_button.blue  {\\n            color: #f8f8f9 !important;\\n        }\\n\\n        .cta_button.grey {\\n            color: #000000 !important;\\n        }\\n        </style><span dir=\"ltr\"><a class=\"icl-Button icl-Button--primary icl-Button--sm cta_button blue\" href=\"/promo/resume?from=bottomResumeCTAjobsearch&amp;trk.origin=jobsearch\" onclick=\"if(!!window.logPromoClick) {window.logPromoClick('trk.origin=jobsearch&amp;trk.variant=FooterGrayBelow&amp;trk.pos=below&amp;trk.tk=1cft8mcmn534nbbp', 'resume','/promo/resume?from=bottomResumeCTAjobsearch&amp;trk.origin=jobsearch');}\">Upload Your Resume</a></span></div></div></div></div>\\n<script defer=\"\" src=\"/tos/banner.js?ctk=1cft8mcmg534nam1&amp;hl=en&amp;tk=1cft8mcmn534nbbp\"></script>\\n</td></tr></table>\\n<script type=\"text/javascript\">\\n        function sm_cv_tag(activityId) {\\n            var ebRand = Math.random()+'';\\n            ebRand = ebRand * 1000000;\\n\\n            var tagContainer = document.body.appendChild(document.createElement(\"div\"));\\n            tagContainer.style.position=\"absolute\";\\n            tagContainer.style.top=\"0\";\\n            tagContainer.style.left=\"0\";\\n            tagContainer.style.width=\"1px\";\\n            tagContainer.style.height=\"1px\";\\n            tagContainer.style.display=\"none\";\\n\\n            var jsTag = document.createElement('script');\\n            jsTag.src = '//bs.serving-sys.com/Serving/ActivityServer.bs?cn=as&ActivityID=' + activityId + '&rnd=' + ebRand;\\n            jsTag.setAttribute('crossorigin', 'anonymous');\\n            jsTag.style.width=\"1px\";\\n            jsTag.style.height=\"1px\";\\n            jsTag.style.border=\"0\";\\n            jsTag.async = 1;\\n\\n            var noScript = document.createElement(\"noscript\");\\n            var noScriptText = '<img width=\"1\" height=\"1\" style=\"border:0\" src=\"//bs.serving-sys.com/Serving/ActivityServer.bs?cn=as&ActivityID=' + activityId + '&ns=1\"/>';\\n\\n            // IE less than 9 and RCs do not support innerHTML on some DOM elements, but supports .text for it\\n            if (((typeof noScript.canHaveHTML) === \"boolean\") && (noScript.canHaveHTML === false)) { // canHaveHTML only exists for IE\\n                noScript.text = noScriptText;\\n            } else {\\n                noScript.innerHTML = noScriptText;\\n            }\\n\\n            tagContainer.appendChild(jsTag);\\n            tagContainer.appendChild(noScript);\\n        }\\n    </script>\\n<script type=\"text/javascript\">\\n<!--\\nlogJSVPing('jsv', '1cft8mcmn534nbbp');\\nfunction jsall_loaded() {\\n    \\n\\n    initProcessLeftoverDwellEntries();\\n    \\n    detectBrowserState('jobsearch', '1cft8mcmn534nbbp');\\n\\n    attachSjBlock('');\\n    attachJaBlock('');\\n}\\nif (window['closureReady'] === true) {\\n    jsall_loaded();\\n}\\n//-->\\n</script>\\n<script type=\"text/javascript\">\\nPENDING_ANALYTICS_VARS = window.PENDING_ANALYTICS_VARS || [];\\nPENDING_ANALYTICS_VARS[PENDING_ANALYTICS_VARS.length] = ['_setCustomVar', 5, 'loggedIn', 'false', 3];\\n</script>\\n<script type=\"text/javascript\">\\n        var ga_domains = [];\\n        ga_domains.push('indeed.co.in');ga_domains.push('indeed.lu');ga_domains.push('indeed.fr');ga_domains.push('indeed.de');ga_domains.push('indeed.com.br');ga_domains.push('indeed.co.uk');ga_domains.push('indeed.hk');ga_domains.push('indeed.fi');ga_domains.push('indeed.pt');ga_domains.push('indeed.jp');ga_domains.push('indeed.com');ga_domains.push('indeed.com.sg');ga_domains.push('indeed.nl');ga_domains.push('indeed.com.pk');ga_domains.push('indeed.cl');ga_domains.push('indeed.es');ga_domains.push('indeed.co.ve');ga_domains.push('indeed.ae');ga_domains.push('indeed.com.mx');ga_domains.push('indeed.com.my');ga_domains.push('indeed.ch');ga_domains.push('indeed.com.co');ga_domains.push('indeed.com.ph');ga_domains.push('indeed.co.za');ga_domains.push('indeed.ie');ga_domains.push('indeed.com.au');ga_domains.push('indeed.ca');ga_domains.push('indeed.com.pe');\\n\\n        (function (i, s, o, g, r, a, m) {\\n            i['GoogleAnalyticsObject'] = r;\\n            i[r] = i[r] || function () {\\n                (i[r].q = i[r].q || []).push(arguments)\\n            }, i[r].l = 1 * new Date();\\n            a = s.createElement(o),\\n                    m = s.getElementsByTagName(o)[0];\\n            a.async = 1;\\n            a.src = g;\\n            m.parentNode.insertBefore(a, m)\\n        })(window, document, 'script', '//www.google-analytics.com/analytics.js', 'ga');\\n\\n        var ga = ga || [];\\n        ga('create', 'UA-90780-1', 'auto', {\\n            'allowLinker': true\\n        });\\n        ga('require', 'linkid');\\n        ga('require', 'linker');\\n        ga('linker:autoLink', ga_domains, false, true);\\n        ga('require', 'displayfeatures');\\n        ga('send', 'pageview');\\n\\n        \\n        (function () {\\n            if (window.PENDING_ANALYTICS_VARS && window.PENDING_ANALYTICS_VARS.length > 0) {\\n                for (var i in PENDING_ANALYTICS_VARS) {\\n                    ga('set', PENDING_ANALYTICS_VARS[i][2], PENDING_ANALYTICS_VARS[i][3]);\\n                }\\n            }\\n        })();\\n    </script>\\n<script>\\n    !function(f,b,e,v,n,t,s){if(f.fbq)return;n=f.fbq=function(){n.callMethod?\\n            n.callMethod.apply(n,arguments):n.queue.push(arguments)};if(!f._fbq)f._fbq=n;\\n        n.push=n;n.loaded=!0;n.version='2.0';n.queue=[];t=b.createElement(e);t.async=!0;\\n        t.src=v;s=b.getElementsByTagName(e)[0];s.parentNode.insertBefore(t,s)}(window,\\n            document,'script','https://connect.facebook.net/en_US/fbevents.js');\\n\\n    fbq('init', '579216298929618');\\n    fbq('track', \"PageView\");</script>\\n<noscript><img height=\"1\" src=\"https://www.facebook.com/tr?id=579216298929618&amp;ev=PageView&amp;noscript=1\" style=\"display:none\" width=\"1\"/></noscript>\\n<script>\\nvar _comscore = _comscore || [];\\n_comscore.push({ c1: \"2\", c2: \"6486505\", c4:\"www.indeed.com/q-data-scientist-jobs.html\", c15:\"1cft8mcmg534nam1\"});\\n(function() { var s = document.createElement(\"script\"), el = document.getElementsByTagName(\"script\")[0]; s.async = true; s.src = (document.location.protocol == \"https:\" ? \"https://sb\" : \"http://b\") + \".scorecardresearch.com/beacon.js\"; el.parentNode.insertBefore(s, el); })();\\n</script>\\n<noscript>\\n<img alt=\"\" height=\"0\" src=\"https://sb.scorecardresearch.com/p?c1=2&amp;c2=6486505&amp;c4=www.indeed.com%2Fq-data-scientist-jobs.html&amp;c15=1cft8mcmg534nam1&amp;cv=2.0&amp;cj=1\" style=\"display:none\" width=\"0\"/>\\n</noscript>\\n</body>\\n</html>\\n"
      ]
     },
     "execution_count": 71,
     "metadata": {},
     "output_type": "execute_result"
    }
   ],
   "source": [
    "# Fixed url for job postings containing data scientist\n",
    "url = 'http://www.indeed.com/jobs?q=data+scientist&l='\n",
    "# read the website\n",
    "source = urllib.urlopen(url).read()\n",
    "# parse html code\n",
    "bs_tree = bs4.BeautifulSoup(source)\n",
    "bs_tree"
   ]
  },
  {
   "cell_type": "code",
   "execution_count": 72,
   "metadata": {
    "slideshow": {
     "slide_type": "slide"
    }
   },
   "outputs": [
    {
     "name": "stdout",
     "output_type": "stream",
     "text": [
      "Search yielded jobs hits.\n",
      "0.0\n"
     ]
    }
   ],
   "source": [
    "# see how many job postings we found\n",
    "job_count_string = bs_tree.find(id = 'searchCount').contents[0]\n",
    "job_count_string = job_count_string.split()[-1]\n",
    "print(\"Search yielded %s hits.\" % (job_count_string))\n",
    "\n",
    "# not that job_count so far is still a string, \n",
    "# not an integer, and the , separator prevents \n",
    "# us from just casting it to int\n",
    "\n",
    "job_count_digits = [int(d) for d in job_count_string if d.isdigit()]\n",
    "job_count = np.sum([digit*(10**exponent) for digit, exponent in \n",
    "                    zip(job_count_digits[::-1], range(len(job_count_digits)))])\n",
    "\n",
    "print job_count"
   ]
  },
  {
   "cell_type": "code",
   "execution_count": 98,
   "metadata": {
    "slideshow": {
     "slide_type": "slide"
    }
   },
   "outputs": [
    {
     "name": "stdout",
     "output_type": "stream",
     "text": [
      "0\n",
      "-10\n",
      "We found a lot of jobs:  244\n"
     ]
    }
   ],
   "source": [
    "# The website is only listing 10 results per page, \n",
    "# so we need to scrape them page after page\n",
    "num_pages = int(np.ceil(job_count/10.0))\n",
    "\n",
    "base_url = 'http://www.indeed.com'\n",
    "job_links = []\n",
    "for i in range(20): #do range(num_pages) if you want them all\n",
    "    if i%10==0:\n",
    "        print num_pages-i\n",
    "    url = 'http://www.indeed.com/jobs?q=data+scientist&start=' + str(i*10)\n",
    "    html_page = urllib2.urlopen(url).read() \n",
    "    bs_tree = bs4.BeautifulSoup(html_page)\n",
    "    job_link_area = bs_tree.find(id = 'resultsCol')\n",
    "    job_postings = job_link_area.findAll(\"div\")\n",
    "    job_postings = [jp for jp in job_postings if not jp.get('class') is None \n",
    "                    and ''.join(jp.get('class')) ==\"rowresult\"]\n",
    "    job_ids = [jp.get('data-jk') for jp in job_postings]\n",
    "    \n",
    "    # go after each link\n",
    "    for id in job_ids:\n",
    "        job_links.append(base_url + '/rc/clk?jk=' + id)\n",
    "    \n",
    "    #VERY IMPORTANT\n",
    "    time.sleep(1)\n",
    "\n",
    "print \"We found a lot of jobs: \", len(job_links)"
   ]
  },
  {
   "cell_type": "markdown",
   "metadata": {
    "slideshow": {
     "slide_type": "slide"
    }
   },
   "source": [
    "Some precautions to enable us to restart our search\n",
    "========================="
   ]
  },
  {
   "cell_type": "code",
   "execution_count": 99,
   "metadata": {
    "slideshow": {
     "slide_type": "-"
    }
   },
   "outputs": [],
   "source": [
    "# Save the scraped links\n",
    "with open('scraped_links.pkl', 'wb') as f:\n",
    "    pickle.dump(job_links, f)\n",
    "    \n",
    "# Read canned scraped links\n",
    "with open('scraped_links.pkl', 'r') as f:\n",
    "    job_links = pickle.load(f)    "
   ]
  },
  {
   "cell_type": "code",
   "execution_count": 100,
   "metadata": {
    "slideshow": {
     "slide_type": "slide"
    }
   },
   "outputs": [],
   "source": [
    "skill_set = {'mapreduce': 0, 'spark': 0}\n",
    "\n",
    "## write initialization into a file, so we can restart later\n",
    "with open('scraped_links_restart.pkl', 'wb') as f:\n",
    "    pickle.dump((skill_set, 0),f)    "
   ]
  },
  {
   "cell_type": "markdown",
   "metadata": {
    "slideshow": {
     "slide_type": "slide"
    }
   },
   "source": [
    "Python Dictonaries\n",
    "==================\n",
    "\n",
    "* build in data type\n",
    "* uses key: value pairs"
   ]
  },
  {
   "cell_type": "code",
   "execution_count": 101,
   "metadata": {
    "slideshow": {
     "slide_type": "slide"
    }
   },
   "outputs": [
    {
     "name": "stdout",
     "output_type": "stream",
     "text": [
      "{'a': 1, 'b': 2}\n",
      "['a', 'b']\n",
      "[1, 2]\n",
      "a 1\n",
      "b 2\n",
      "a 1\n",
      "b 2\n"
     ]
    }
   ],
   "source": [
    "a = {'a': 1, 'b':2}\n",
    "print a\n",
    "\n",
    "#show keys\n",
    "print a.keys()\n",
    "\n",
    "#show values\n",
    "print a.values()\n",
    "\n",
    "#show for loop over all entries\n",
    "# option 1 using zip\n",
    "# this works also for iterating over any\n",
    "# other two lists\n",
    "for k,v in zip(a.keys(), a.values()):\n",
    "    print k,v\n",
    "\n",
    "# option 2 using the dictionary `iteritems()` function\n",
    "for k,v in a.iteritems():\n",
    "    print k,v"
   ]
  },
  {
   "cell_type": "code",
   "execution_count": 102,
   "metadata": {
    "slideshow": {
     "slide_type": "slide"
    }
   },
   "outputs": [
    {
     "name": "stdout",
     "output_type": "stream",
     "text": [
      "How many websites still to go?  244\n"
     ]
    }
   ],
   "source": [
    "# This code below does the trick, but could be optimized for speed if necessary\n",
    "# e.g. skills are typically listed at the end of the webpage\n",
    "# might not need to split/join the whole webpage, as we already know\n",
    "# which words we are looking for \n",
    "# and could stop after the first occurance of each word\n",
    "\n",
    "with open('scraped_links_restart.pkl', 'r') as f:\n",
    "    skill_set, index = pickle.load(f)\n",
    "    print \"How many websites still to go? \", len(job_links) - index\n",
    "    \n",
    "    "
   ]
  },
  {
   "cell_type": "markdown",
   "metadata": {},
   "source": [
    "# Notice how they've gotten rid of the exceptions"
   ]
  },
  {
   "cell_type": "code",
   "execution_count": 104,
   "metadata": {
    "slideshow": {
     "slide_type": "slide"
    }
   },
   "outputs": [
    {
     "name": "stdout",
     "output_type": "stream",
     "text": [
      "HTTPError:\n",
      "HTTPError:\n",
      "HTTPError:\n",
      "HTTPError:\n",
      "HTTPError:\n",
      "229\n",
      "{'spark': 1, 'mapreduce': 0}\n",
      "HTTPError:\n",
      "224\n",
      "{'spark': 1, 'mapreduce': 0}\n",
      "219\n",
      "{'spark': 2, 'mapreduce': 0}\n",
      "214\n",
      "{'spark': 3, 'mapreduce': 0}\n",
      "HTTPError:\n",
      "HTTPError:\n",
      "HTTPError:\n",
      "204\n",
      "{'spark': 6, 'mapreduce': 3}\n",
      "199\n",
      "{'spark': 6, 'mapreduce': 3}\n",
      "194\n",
      "{'spark': 6, 'mapreduce': 3}\n",
      "HTTPError:\n",
      "HTTPError:\n",
      "189\n",
      "{'spark': 7, 'mapreduce': 3}\n",
      "URLError:\n",
      "HTTPError:\n",
      "179\n",
      "{'spark': 9, 'mapreduce': 3}\n",
      "HTTPError:\n",
      "174\n",
      "{'spark': 10, 'mapreduce': 3}\n",
      "HTTPError:\n",
      "169\n",
      "{'spark': 12, 'mapreduce': 3}\n",
      "164\n",
      "{'spark': 12, 'mapreduce': 3}\n",
      "159\n",
      "{'spark': 13, 'mapreduce': 3}\n",
      "HTTPError:\n",
      "HTTPError:\n",
      "HTTPError:\n",
      "HTTPError:\n",
      "144\n",
      "{'spark': 18, 'mapreduce': 3}\n",
      "139\n",
      "{'spark': 18, 'mapreduce': 3}\n",
      "HTTPError:\n",
      "HTTPError:\n",
      "134\n",
      "{'spark': 19, 'mapreduce': 3}\n",
      "HTTPError:\n",
      "129\n",
      "{'spark': 19, 'mapreduce': 3}\n",
      "124\n",
      "{'spark': 19, 'mapreduce': 3}\n",
      "119\n",
      "{'spark': 20, 'mapreduce': 3}\n",
      "HTTPError:\n",
      "114\n",
      "{'spark': 20, 'mapreduce': 3}\n",
      "HTTPError:\n",
      "HTTPError:\n",
      "109\n",
      "{'spark': 20, 'mapreduce': 3}\n",
      "HTTPError:\n",
      "HTTPError:\n",
      "104\n",
      "{'spark': 20, 'mapreduce': 3}\n",
      "HTTPError:\n",
      "94\n",
      "{'spark': 22, 'mapreduce': 3}\n",
      "HTTPError:\n",
      "HTTPError:\n",
      "HTTPError:\n",
      "84\n",
      "{'spark': 24, 'mapreduce': 3}\n",
      "HTTPError:\n",
      "79\n",
      "{'spark': 25, 'mapreduce': 3}\n",
      "74\n",
      "{'spark': 26, 'mapreduce': 4}\n",
      "HTTPError:\n",
      "HTTPError:\n",
      "69\n",
      "{'spark': 26, 'mapreduce': 4}\n",
      "64\n",
      "{'spark': 27, 'mapreduce': 4}\n",
      "59\n",
      "{'spark': 27, 'mapreduce': 4}\n",
      "54\n",
      "{'spark': 27, 'mapreduce': 4}\n",
      "49\n",
      "{'spark': 28, 'mapreduce': 4}\n",
      "44\n",
      "{'spark': 29, 'mapreduce': 4}\n",
      "39\n",
      "{'spark': 30, 'mapreduce': 4}\n",
      "34\n",
      "{'spark': 31, 'mapreduce': 4}\n",
      "HTTPError:\n",
      "HTTPError:\n",
      "24\n",
      "{'spark': 33, 'mapreduce': 4}\n",
      "19\n",
      "{'spark': 37, 'mapreduce': 5}\n",
      "14\n",
      "{'spark': 39, 'mapreduce': 5}\n",
      "9\n",
      "{'spark': 40, 'mapreduce': 5}\n",
      "HTTPError:\n"
     ]
    }
   ],
   "source": [
    "counter = 0\n",
    "\n",
    "for link in job_links[index:]:\n",
    "    counter +=1  \n",
    "    \n",
    "    try:\n",
    "        html_page = urllib2.urlopen(link).read()\n",
    "    except urllib2.HTTPError:\n",
    "        print \"HTTPError:\"\n",
    "        continue\n",
    "    except urllib2.URLError:\n",
    "        print \"URLError:\"\n",
    "        continue\n",
    "    except socket.error as error:\n",
    "        print \"Connection closed\"\n",
    "        continue\n",
    "\n",
    "    html_text = re.sub(\"[^a-z.+3]\",\" \", html_page.lower()) # replace all but the listed characters\n",
    "        \n",
    "    for key in skill_set.keys():\n",
    "        if key in html_text:  \n",
    "            skill_set[key] +=1\n",
    "            \n",
    "    if counter % 5 == 0:\n",
    "        print len(job_links) - counter - index\n",
    "        print skill_set\n",
    "        with open('scraped_links_restart.pkl','wb') as f:\n",
    "            pickle.dump((skill_set, index+counter),f)"
   ]
  },
  {
   "cell_type": "code",
   "execution_count": 105,
   "metadata": {
    "slideshow": {
     "slide_type": "slide"
    }
   },
   "outputs": [
    {
     "name": "stdout",
     "output_type": "stream",
     "text": [
      "{'spark': 42, 'mapreduce': 5}\n"
     ]
    }
   ],
   "source": [
    "print skill_set"
   ]
  },
  {
   "cell_type": "code",
   "execution_count": 107,
   "metadata": {
    "slideshow": {
     "slide_type": "slide"
    }
   },
   "outputs": [
    {
     "data": {
      "image/png": "[encoded data removed]",
      "text/plain": [
       "<Figure size 432x288 with 1 Axes>"
      ]
     },
     "metadata": {},
     "output_type": "display_data"
    }
   ],
   "source": [
    "pseries = pd.Series(skill_set)\n",
    "pseries.sort_values(ascending=False)\n",
    "\n",
    "pseries.plot(kind = 'bar')\n",
    "## set the title to Score Comparison\n",
    "plt.title('Data Science Skills')\n",
    "plt.xlabel('Skills')\n",
    "plt.ylabel('Count')\n",
    "plt.show()"
   ]
  },
  {
   "cell_type": "markdown",
   "metadata": {},
   "source": [
    "Some more regular expressions:\n",
    "================="
   ]
  },
  {
   "cell_type": "code",
   "execution_count": null,
   "metadata": {},
   "outputs": [],
   "source": []
  },
  {
   "cell_type": "markdown",
   "metadata": {
    "slideshow": {
     "slide_type": "slide"
    }
   },
   "source": [
    "Another Example\n",
    "================\n",
    "\n",
    "Designed by Katharine Jarmul\n",
    "----------------------------\n",
    "\n",
    "https://github.com/kjam/python-web-scraping-tutorial\n",
    "\n",
    "\n"
   ]
  },
  {
   "cell_type": "markdown",
   "metadata": {
    "slideshow": {
     "slide_type": "slide"
    }
   },
   "source": [
    "Scraping Happy Hours\n",
    "====================\n",
    "\n",
    "Scrape the happy hour list of LA for personal preferences\n",
    "\n",
    "http://www.downtownla.com/3_10_happyHours.asp?action=ALL\n",
    "\n",
    "This example is part of her talk about data scraping at PyCon2014. She is a really good speaker and I enjoyed watching her talk. Check it out: http://www.youtube.com/watch?v=p1iX0uxM1w8"
   ]
  },
  {
   "cell_type": "code",
   "execution_count": 97,
   "metadata": {},
   "outputs": [],
   "source": []
  },
  {
   "cell_type": "code",
   "execution_count": 108,
   "metadata": {
    "slideshow": {
     "slide_type": "slide"
    }
   },
   "outputs": [
    {
     "ename": "HTTPError",
     "evalue": "HTTP Error 404: Not Found",
     "output_type": "error",
     "traceback": [
      "\u001b[0;31m---------------------------------------------------------------------------\u001b[0m",
      "\u001b[0;31mHTTPError\u001b[0m                                 Traceback (most recent call last)",
      "\u001b[0;32m<ipython-input-108-ecd2bbd9e069>\u001b[0m in \u001b[0;36m<module>\u001b[0;34m()\u001b[0m\n\u001b[1;32m      4\u001b[0m \u001b[0;31m# First, I'm going to identify the areas of the page I want to look at\u001b[0m\u001b[0;34m\u001b[0m\u001b[0;34m\u001b[0m\u001b[0m\n\u001b[1;32m      5\u001b[0m \u001b[0murl\u001b[0m \u001b[0;34m=\u001b[0m \u001b[0;34m'http://www.downtownla.com/3_10_happyHours.asp?action=ALL'\u001b[0m\u001b[0;34m\u001b[0m\u001b[0m\n\u001b[0;32m----> 6\u001b[0;31m \u001b[0msource\u001b[0m \u001b[0;34m=\u001b[0m \u001b[0murllib2\u001b[0m\u001b[0;34m.\u001b[0m\u001b[0murlopen\u001b[0m\u001b[0;34m(\u001b[0m\u001b[0murl\u001b[0m\u001b[0;34m)\u001b[0m\u001b[0;34m.\u001b[0m\u001b[0mread\u001b[0m\u001b[0;34m(\u001b[0m\u001b[0;34m)\u001b[0m\u001b[0;34m\u001b[0m\u001b[0m\n\u001b[0m\u001b[1;32m      7\u001b[0m \u001b[0mtables\u001b[0m \u001b[0;34m=\u001b[0m \u001b[0mbs4\u001b[0m\u001b[0;34m.\u001b[0m\u001b[0mBeautifulSoup\u001b[0m\u001b[0;34m(\u001b[0m\u001b[0msource\u001b[0m\u001b[0;34m)\u001b[0m\u001b[0;34m\u001b[0m\u001b[0m\n",
      "\u001b[0;32m/usr/lib/python2.7/urllib2.pyc\u001b[0m in \u001b[0;36murlopen\u001b[0;34m(url, data, timeout, cafile, capath, cadefault, context)\u001b[0m\n\u001b[1;32m    152\u001b[0m     \u001b[0;32melse\u001b[0m\u001b[0;34m:\u001b[0m\u001b[0;34m\u001b[0m\u001b[0m\n\u001b[1;32m    153\u001b[0m         \u001b[0mopener\u001b[0m \u001b[0;34m=\u001b[0m \u001b[0m_opener\u001b[0m\u001b[0;34m\u001b[0m\u001b[0m\n\u001b[0;32m--> 154\u001b[0;31m     \u001b[0;32mreturn\u001b[0m \u001b[0mopener\u001b[0m\u001b[0;34m.\u001b[0m\u001b[0mopen\u001b[0m\u001b[0;34m(\u001b[0m\u001b[0murl\u001b[0m\u001b[0;34m,\u001b[0m \u001b[0mdata\u001b[0m\u001b[0;34m,\u001b[0m \u001b[0mtimeout\u001b[0m\u001b[0;34m)\u001b[0m\u001b[0;34m\u001b[0m\u001b[0m\n\u001b[0m\u001b[1;32m    155\u001b[0m \u001b[0;34m\u001b[0m\u001b[0m\n\u001b[1;32m    156\u001b[0m \u001b[0;32mdef\u001b[0m \u001b[0minstall_opener\u001b[0m\u001b[0;34m(\u001b[0m\u001b[0mopener\u001b[0m\u001b[0;34m)\u001b[0m\u001b[0;34m:\u001b[0m\u001b[0;34m\u001b[0m\u001b[0m\n",
      "\u001b[0;32m/usr/lib/python2.7/urllib2.pyc\u001b[0m in \u001b[0;36mopen\u001b[0;34m(self, fullurl, data, timeout)\u001b[0m\n\u001b[1;32m    433\u001b[0m         \u001b[0;32mfor\u001b[0m \u001b[0mprocessor\u001b[0m \u001b[0;32min\u001b[0m \u001b[0mself\u001b[0m\u001b[0;34m.\u001b[0m\u001b[0mprocess_response\u001b[0m\u001b[0;34m.\u001b[0m\u001b[0mget\u001b[0m\u001b[0;34m(\u001b[0m\u001b[0mprotocol\u001b[0m\u001b[0;34m,\u001b[0m \u001b[0;34m[\u001b[0m\u001b[0;34m]\u001b[0m\u001b[0;34m)\u001b[0m\u001b[0;34m:\u001b[0m\u001b[0;34m\u001b[0m\u001b[0m\n\u001b[1;32m    434\u001b[0m             \u001b[0mmeth\u001b[0m \u001b[0;34m=\u001b[0m \u001b[0mgetattr\u001b[0m\u001b[0;34m(\u001b[0m\u001b[0mprocessor\u001b[0m\u001b[0;34m,\u001b[0m \u001b[0mmeth_name\u001b[0m\u001b[0;34m)\u001b[0m\u001b[0;34m\u001b[0m\u001b[0m\n\u001b[0;32m--> 435\u001b[0;31m             \u001b[0mresponse\u001b[0m \u001b[0;34m=\u001b[0m \u001b[0mmeth\u001b[0m\u001b[0;34m(\u001b[0m\u001b[0mreq\u001b[0m\u001b[0;34m,\u001b[0m \u001b[0mresponse\u001b[0m\u001b[0;34m)\u001b[0m\u001b[0;34m\u001b[0m\u001b[0m\n\u001b[0m\u001b[1;32m    436\u001b[0m \u001b[0;34m\u001b[0m\u001b[0m\n\u001b[1;32m    437\u001b[0m         \u001b[0;32mreturn\u001b[0m \u001b[0mresponse\u001b[0m\u001b[0;34m\u001b[0m\u001b[0m\n",
      "\u001b[0;32m/usr/lib/python2.7/urllib2.pyc\u001b[0m in \u001b[0;36mhttp_response\u001b[0;34m(self, request, response)\u001b[0m\n\u001b[1;32m    546\u001b[0m         \u001b[0;32mif\u001b[0m \u001b[0;32mnot\u001b[0m \u001b[0;34m(\u001b[0m\u001b[0;36m200\u001b[0m \u001b[0;34m<=\u001b[0m \u001b[0mcode\u001b[0m \u001b[0;34m<\u001b[0m \u001b[0;36m300\u001b[0m\u001b[0;34m)\u001b[0m\u001b[0;34m:\u001b[0m\u001b[0;34m\u001b[0m\u001b[0m\n\u001b[1;32m    547\u001b[0m             response = self.parent.error(\n\u001b[0;32m--> 548\u001b[0;31m                 'http', request, response, code, msg, hdrs)\n\u001b[0m\u001b[1;32m    549\u001b[0m \u001b[0;34m\u001b[0m\u001b[0m\n\u001b[1;32m    550\u001b[0m         \u001b[0;32mreturn\u001b[0m \u001b[0mresponse\u001b[0m\u001b[0;34m\u001b[0m\u001b[0m\n",
      "\u001b[0;32m/usr/lib/python2.7/urllib2.pyc\u001b[0m in \u001b[0;36merror\u001b[0;34m(self, proto, *args)\u001b[0m\n\u001b[1;32m    465\u001b[0m             \u001b[0mhttp_err\u001b[0m \u001b[0;34m=\u001b[0m \u001b[0;36m0\u001b[0m\u001b[0;34m\u001b[0m\u001b[0m\n\u001b[1;32m    466\u001b[0m         \u001b[0margs\u001b[0m \u001b[0;34m=\u001b[0m \u001b[0;34m(\u001b[0m\u001b[0mdict\u001b[0m\u001b[0;34m,\u001b[0m \u001b[0mproto\u001b[0m\u001b[0;34m,\u001b[0m \u001b[0mmeth_name\u001b[0m\u001b[0;34m)\u001b[0m \u001b[0;34m+\u001b[0m \u001b[0margs\u001b[0m\u001b[0;34m\u001b[0m\u001b[0m\n\u001b[0;32m--> 467\u001b[0;31m         \u001b[0mresult\u001b[0m \u001b[0;34m=\u001b[0m \u001b[0mself\u001b[0m\u001b[0;34m.\u001b[0m\u001b[0m_call_chain\u001b[0m\u001b[0;34m(\u001b[0m\u001b[0;34m*\u001b[0m\u001b[0margs\u001b[0m\u001b[0;34m)\u001b[0m\u001b[0;34m\u001b[0m\u001b[0m\n\u001b[0m\u001b[1;32m    468\u001b[0m         \u001b[0;32mif\u001b[0m \u001b[0mresult\u001b[0m\u001b[0;34m:\u001b[0m\u001b[0;34m\u001b[0m\u001b[0m\n\u001b[1;32m    469\u001b[0m             \u001b[0;32mreturn\u001b[0m \u001b[0mresult\u001b[0m\u001b[0;34m\u001b[0m\u001b[0m\n",
      "\u001b[0;32m/usr/lib/python2.7/urllib2.pyc\u001b[0m in \u001b[0;36m_call_chain\u001b[0;34m(self, chain, kind, meth_name, *args)\u001b[0m\n\u001b[1;32m    405\u001b[0m             \u001b[0mfunc\u001b[0m \u001b[0;34m=\u001b[0m \u001b[0mgetattr\u001b[0m\u001b[0;34m(\u001b[0m\u001b[0mhandler\u001b[0m\u001b[0;34m,\u001b[0m \u001b[0mmeth_name\u001b[0m\u001b[0;34m)\u001b[0m\u001b[0;34m\u001b[0m\u001b[0m\n\u001b[1;32m    406\u001b[0m \u001b[0;34m\u001b[0m\u001b[0m\n\u001b[0;32m--> 407\u001b[0;31m             \u001b[0mresult\u001b[0m \u001b[0;34m=\u001b[0m \u001b[0mfunc\u001b[0m\u001b[0;34m(\u001b[0m\u001b[0;34m*\u001b[0m\u001b[0margs\u001b[0m\u001b[0;34m)\u001b[0m\u001b[0;34m\u001b[0m\u001b[0m\n\u001b[0m\u001b[1;32m    408\u001b[0m             \u001b[0;32mif\u001b[0m \u001b[0mresult\u001b[0m \u001b[0;32mis\u001b[0m \u001b[0;32mnot\u001b[0m \u001b[0mNone\u001b[0m\u001b[0;34m:\u001b[0m\u001b[0;34m\u001b[0m\u001b[0m\n\u001b[1;32m    409\u001b[0m                 \u001b[0;32mreturn\u001b[0m \u001b[0mresult\u001b[0m\u001b[0;34m\u001b[0m\u001b[0m\n",
      "\u001b[0;32m/usr/lib/python2.7/urllib2.pyc\u001b[0m in \u001b[0;36mhttp_error_302\u001b[0;34m(self, req, fp, code, msg, headers)\u001b[0m\n\u001b[1;32m    652\u001b[0m         \u001b[0mfp\u001b[0m\u001b[0;34m.\u001b[0m\u001b[0mclose\u001b[0m\u001b[0;34m(\u001b[0m\u001b[0;34m)\u001b[0m\u001b[0;34m\u001b[0m\u001b[0m\n\u001b[1;32m    653\u001b[0m \u001b[0;34m\u001b[0m\u001b[0m\n\u001b[0;32m--> 654\u001b[0;31m         \u001b[0;32mreturn\u001b[0m \u001b[0mself\u001b[0m\u001b[0;34m.\u001b[0m\u001b[0mparent\u001b[0m\u001b[0;34m.\u001b[0m\u001b[0mopen\u001b[0m\u001b[0;34m(\u001b[0m\u001b[0mnew\u001b[0m\u001b[0;34m,\u001b[0m \u001b[0mtimeout\u001b[0m\u001b[0;34m=\u001b[0m\u001b[0mreq\u001b[0m\u001b[0;34m.\u001b[0m\u001b[0mtimeout\u001b[0m\u001b[0;34m)\u001b[0m\u001b[0;34m\u001b[0m\u001b[0m\n\u001b[0m\u001b[1;32m    655\u001b[0m \u001b[0;34m\u001b[0m\u001b[0m\n\u001b[1;32m    656\u001b[0m     \u001b[0mhttp_error_301\u001b[0m \u001b[0;34m=\u001b[0m \u001b[0mhttp_error_303\u001b[0m \u001b[0;34m=\u001b[0m \u001b[0mhttp_error_307\u001b[0m \u001b[0;34m=\u001b[0m \u001b[0mhttp_error_302\u001b[0m\u001b[0;34m\u001b[0m\u001b[0m\n",
      "\u001b[0;32m/usr/lib/python2.7/urllib2.pyc\u001b[0m in \u001b[0;36mopen\u001b[0;34m(self, fullurl, data, timeout)\u001b[0m\n\u001b[1;32m    433\u001b[0m         \u001b[0;32mfor\u001b[0m \u001b[0mprocessor\u001b[0m \u001b[0;32min\u001b[0m \u001b[0mself\u001b[0m\u001b[0;34m.\u001b[0m\u001b[0mprocess_response\u001b[0m\u001b[0;34m.\u001b[0m\u001b[0mget\u001b[0m\u001b[0;34m(\u001b[0m\u001b[0mprotocol\u001b[0m\u001b[0;34m,\u001b[0m \u001b[0;34m[\u001b[0m\u001b[0;34m]\u001b[0m\u001b[0;34m)\u001b[0m\u001b[0;34m:\u001b[0m\u001b[0;34m\u001b[0m\u001b[0m\n\u001b[1;32m    434\u001b[0m             \u001b[0mmeth\u001b[0m \u001b[0;34m=\u001b[0m \u001b[0mgetattr\u001b[0m\u001b[0;34m(\u001b[0m\u001b[0mprocessor\u001b[0m\u001b[0;34m,\u001b[0m \u001b[0mmeth_name\u001b[0m\u001b[0;34m)\u001b[0m\u001b[0;34m\u001b[0m\u001b[0m\n\u001b[0;32m--> 435\u001b[0;31m             \u001b[0mresponse\u001b[0m \u001b[0;34m=\u001b[0m \u001b[0mmeth\u001b[0m\u001b[0;34m(\u001b[0m\u001b[0mreq\u001b[0m\u001b[0;34m,\u001b[0m \u001b[0mresponse\u001b[0m\u001b[0;34m)\u001b[0m\u001b[0;34m\u001b[0m\u001b[0m\n\u001b[0m\u001b[1;32m    436\u001b[0m \u001b[0;34m\u001b[0m\u001b[0m\n\u001b[1;32m    437\u001b[0m         \u001b[0;32mreturn\u001b[0m \u001b[0mresponse\u001b[0m\u001b[0;34m\u001b[0m\u001b[0m\n",
      "\u001b[0;32m/usr/lib/python2.7/urllib2.pyc\u001b[0m in \u001b[0;36mhttp_response\u001b[0;34m(self, request, response)\u001b[0m\n\u001b[1;32m    546\u001b[0m         \u001b[0;32mif\u001b[0m \u001b[0;32mnot\u001b[0m \u001b[0;34m(\u001b[0m\u001b[0;36m200\u001b[0m \u001b[0;34m<=\u001b[0m \u001b[0mcode\u001b[0m \u001b[0;34m<\u001b[0m \u001b[0;36m300\u001b[0m\u001b[0;34m)\u001b[0m\u001b[0;34m:\u001b[0m\u001b[0;34m\u001b[0m\u001b[0m\n\u001b[1;32m    547\u001b[0m             response = self.parent.error(\n\u001b[0;32m--> 548\u001b[0;31m                 'http', request, response, code, msg, hdrs)\n\u001b[0m\u001b[1;32m    549\u001b[0m \u001b[0;34m\u001b[0m\u001b[0m\n\u001b[1;32m    550\u001b[0m         \u001b[0;32mreturn\u001b[0m \u001b[0mresponse\u001b[0m\u001b[0;34m\u001b[0m\u001b[0m\n",
      "\u001b[0;32m/usr/lib/python2.7/urllib2.pyc\u001b[0m in \u001b[0;36merror\u001b[0;34m(self, proto, *args)\u001b[0m\n\u001b[1;32m    471\u001b[0m         \u001b[0;32mif\u001b[0m \u001b[0mhttp_err\u001b[0m\u001b[0;34m:\u001b[0m\u001b[0;34m\u001b[0m\u001b[0m\n\u001b[1;32m    472\u001b[0m             \u001b[0margs\u001b[0m \u001b[0;34m=\u001b[0m \u001b[0;34m(\u001b[0m\u001b[0mdict\u001b[0m\u001b[0;34m,\u001b[0m \u001b[0;34m'default'\u001b[0m\u001b[0;34m,\u001b[0m \u001b[0;34m'http_error_default'\u001b[0m\u001b[0;34m)\u001b[0m \u001b[0;34m+\u001b[0m \u001b[0morig_args\u001b[0m\u001b[0;34m\u001b[0m\u001b[0m\n\u001b[0;32m--> 473\u001b[0;31m             \u001b[0;32mreturn\u001b[0m \u001b[0mself\u001b[0m\u001b[0;34m.\u001b[0m\u001b[0m_call_chain\u001b[0m\u001b[0;34m(\u001b[0m\u001b[0;34m*\u001b[0m\u001b[0margs\u001b[0m\u001b[0;34m)\u001b[0m\u001b[0;34m\u001b[0m\u001b[0m\n\u001b[0m\u001b[1;32m    474\u001b[0m \u001b[0;34m\u001b[0m\u001b[0m\n\u001b[1;32m    475\u001b[0m \u001b[0;31m# XXX probably also want an abstract factory that knows when it makes\u001b[0m\u001b[0;34m\u001b[0m\u001b[0;34m\u001b[0m\u001b[0m\n",
      "\u001b[0;32m/usr/lib/python2.7/urllib2.pyc\u001b[0m in \u001b[0;36m_call_chain\u001b[0;34m(self, chain, kind, meth_name, *args)\u001b[0m\n\u001b[1;32m    405\u001b[0m             \u001b[0mfunc\u001b[0m \u001b[0;34m=\u001b[0m \u001b[0mgetattr\u001b[0m\u001b[0;34m(\u001b[0m\u001b[0mhandler\u001b[0m\u001b[0;34m,\u001b[0m \u001b[0mmeth_name\u001b[0m\u001b[0;34m)\u001b[0m\u001b[0;34m\u001b[0m\u001b[0m\n\u001b[1;32m    406\u001b[0m \u001b[0;34m\u001b[0m\u001b[0m\n\u001b[0;32m--> 407\u001b[0;31m             \u001b[0mresult\u001b[0m \u001b[0;34m=\u001b[0m \u001b[0mfunc\u001b[0m\u001b[0;34m(\u001b[0m\u001b[0;34m*\u001b[0m\u001b[0margs\u001b[0m\u001b[0;34m)\u001b[0m\u001b[0;34m\u001b[0m\u001b[0m\n\u001b[0m\u001b[1;32m    408\u001b[0m             \u001b[0;32mif\u001b[0m \u001b[0mresult\u001b[0m \u001b[0;32mis\u001b[0m \u001b[0;32mnot\u001b[0m \u001b[0mNone\u001b[0m\u001b[0;34m:\u001b[0m\u001b[0;34m\u001b[0m\u001b[0m\n\u001b[1;32m    409\u001b[0m                 \u001b[0;32mreturn\u001b[0m \u001b[0mresult\u001b[0m\u001b[0;34m\u001b[0m\u001b[0m\n",
      "\u001b[0;32m/usr/lib/python2.7/urllib2.pyc\u001b[0m in \u001b[0;36mhttp_error_default\u001b[0;34m(self, req, fp, code, msg, hdrs)\u001b[0m\n\u001b[1;32m    554\u001b[0m \u001b[0;32mclass\u001b[0m \u001b[0mHTTPDefaultErrorHandler\u001b[0m\u001b[0;34m(\u001b[0m\u001b[0mBaseHandler\u001b[0m\u001b[0;34m)\u001b[0m\u001b[0;34m:\u001b[0m\u001b[0;34m\u001b[0m\u001b[0m\n\u001b[1;32m    555\u001b[0m     \u001b[0;32mdef\u001b[0m \u001b[0mhttp_error_default\u001b[0m\u001b[0;34m(\u001b[0m\u001b[0mself\u001b[0m\u001b[0;34m,\u001b[0m \u001b[0mreq\u001b[0m\u001b[0;34m,\u001b[0m \u001b[0mfp\u001b[0m\u001b[0;34m,\u001b[0m \u001b[0mcode\u001b[0m\u001b[0;34m,\u001b[0m \u001b[0mmsg\u001b[0m\u001b[0;34m,\u001b[0m \u001b[0mhdrs\u001b[0m\u001b[0;34m)\u001b[0m\u001b[0;34m:\u001b[0m\u001b[0;34m\u001b[0m\u001b[0m\n\u001b[0;32m--> 556\u001b[0;31m         \u001b[0;32mraise\u001b[0m \u001b[0mHTTPError\u001b[0m\u001b[0;34m(\u001b[0m\u001b[0mreq\u001b[0m\u001b[0;34m.\u001b[0m\u001b[0mget_full_url\u001b[0m\u001b[0;34m(\u001b[0m\u001b[0;34m)\u001b[0m\u001b[0;34m,\u001b[0m \u001b[0mcode\u001b[0m\u001b[0;34m,\u001b[0m \u001b[0mmsg\u001b[0m\u001b[0;34m,\u001b[0m \u001b[0mhdrs\u001b[0m\u001b[0;34m,\u001b[0m \u001b[0mfp\u001b[0m\u001b[0;34m)\u001b[0m\u001b[0;34m\u001b[0m\u001b[0m\n\u001b[0m\u001b[1;32m    557\u001b[0m \u001b[0;34m\u001b[0m\u001b[0m\n\u001b[1;32m    558\u001b[0m \u001b[0;32mclass\u001b[0m \u001b[0mHTTPRedirectHandler\u001b[0m\u001b[0;34m(\u001b[0m\u001b[0mBaseHandler\u001b[0m\u001b[0;34m)\u001b[0m\u001b[0;34m:\u001b[0m\u001b[0;34m\u001b[0m\u001b[0m\n",
      "\u001b[0;31mHTTPError\u001b[0m: HTTP Error 404: Not Found"
     ]
    }
   ],
   "source": [
    "stuff_i_like = ['burger', 'sushi', 'sweet potato fries', 'BBQ','beer']\n",
    "found_happy_hours = []\n",
    "my_happy_hours = []\n",
    "# First, I'm going to identify the areas of the page I want to look at\n",
    "url = 'http://www.downtownla.com/3_10_happyHours.asp?action=ALL'\n",
    "source = urllib2.urlopen(url).read()\n",
    "tables = bs4.BeautifulSoup(source)"
   ]
  },
  {
   "cell_type": "code",
   "execution_count": null,
   "metadata": {
    "slideshow": {
     "slide_type": "slide"
    }
   },
   "outputs": [],
   "source": [
    "# Then, I'm going to sort out the *exact* parts of the page\n",
    "# that match what I'm looking for...\n",
    "for t in tables.findAll('p', {'class': 'calendar_EventTitle'}):\n",
    "    text = t.text\n",
    "    for s in t.findNextSiblings():\n",
    "        text += '\\n' + s.text\n",
    "    found_happy_hours.append(text)\n",
    "\n",
    "print \"The scraper found %d happy hours!\" % len(found_happy_hours)"
   ]
  },
  {
   "cell_type": "code",
   "execution_count": null,
   "metadata": {
    "slideshow": {
     "slide_type": "slide"
    }
   },
   "outputs": [],
   "source": [
    "# Now I'm going to loop through the food I like\n",
    "# and see if any of the happy hour descriptions match\n",
    "for food in stuff_i_like:\n",
    "    for hh in found_happy_hours:\n",
    "        # checking for text AND making sure I don't have duplicates\n",
    "        if food in hh and hh not in my_happy_hours:\n",
    "            print \"YAY! I found some %s!\" % food\n",
    "            my_happy_hours.append(hh)\n",
    "\n",
    "print \"I think you might like %d of them, yipeeeee!\" % len(my_happy_hours)"
   ]
  },
  {
   "cell_type": "code",
   "execution_count": null,
   "metadata": {
    "slideshow": {
     "slide_type": "slide"
    }
   },
   "outputs": [],
   "source": [
    "# Now, let's make a mail message we can read:\n",
    "message = 'Hey Katharine,\\n\\n\\n'\n",
    "message += 'OMG, I found some stuff for you in Downtown, take a look.\\n\\n'\n",
    "message += '==============================\\n'.join(my_happy_hours)\n",
    "message = message.encode('utf-8')\n",
    "# To read more about encoding:\n",
    "# http://diveintopython.org/xml_processing/unicode.html\n",
    "message = message.replace('\\t', '').replace('\\r', '')\n",
    "message += '\\n\\nXOXO,\\n Your Py Script'\n",
    "\n",
    "#print message"
   ]
  },
  {
   "cell_type": "markdown",
   "metadata": {
    "slideshow": {
     "slide_type": "slide"
    }
   },
   "source": [
    "Getting Data with an API\n",
    "=========================\n",
    "\n",
    "* API: application programming interface\n",
    "* some sites try to make your life easier\n",
    "* Twitter, New York Times, ImDB, rotten Tomatoes, Yelp, ..."
   ]
  },
  {
   "cell_type": "markdown",
   "metadata": {
    "slideshow": {
     "slide_type": "slide"
    }
   },
   "source": [
    "Rotten Tomatoes\n",
    "===============\n",
    "\n",
    "![The Wizard of Oz](images/wiz_oz.png \"The wizard of Oz\")\n",
    "\n",
    "http://www.rottentomatoes.com/top/\n"
   ]
  },
  {
   "cell_type": "markdown",
   "metadata": {
    "slideshow": {
     "slide_type": "slide"
    }
   },
   "source": [
    "API keys\n",
    "=========\n",
    "\n",
    "* required for data access\n",
    "* identifies application (you)\n",
    "* monitors usage\n",
    "* limits rates"
   ]
  },
  {
   "cell_type": "markdown",
   "metadata": {
    "slideshow": {
     "slide_type": "slide"
    }
   },
   "source": [
    "Rotten Tomatoes Key\n",
    "===================\n",
    "\n",
    "http://developer.rottentomatoes.com/member/register"
   ]
  },
  {
   "cell_type": "code",
   "execution_count": 109,
   "metadata": {
    "slideshow": {
     "slide_type": "slide"
    }
   },
   "outputs": [
    {
     "ename": "NameError",
     "evalue": "name 'rottenTomatoes_key' is not defined",
     "output_type": "error",
     "traceback": [
      "\u001b[0;31m---------------------------------------------------------------------------\u001b[0m",
      "\u001b[0;31mNameError\u001b[0m                                 Traceback (most recent call last)",
      "\u001b[0;32m<ipython-input-109-e39eeae50411>\u001b[0m in \u001b[0;36m<module>\u001b[0;34m()\u001b[0m\n\u001b[1;32m      2\u001b[0m \u001b[0;32mimport\u001b[0m \u001b[0mrequests\u001b[0m\u001b[0;34m\u001b[0m\u001b[0m\n\u001b[1;32m      3\u001b[0m \u001b[0;34m\u001b[0m\u001b[0m\n\u001b[0;32m----> 4\u001b[0;31m \u001b[0mapi_key\u001b[0m \u001b[0;34m=\u001b[0m \u001b[0mrottenTomatoes_key\u001b[0m\u001b[0;34m(\u001b[0m\u001b[0;34m)\u001b[0m\u001b[0;34m\u001b[0m\u001b[0m\n\u001b[0m\u001b[1;32m      5\u001b[0m \u001b[0;34m\u001b[0m\u001b[0m\n\u001b[1;32m      6\u001b[0m \u001b[0murl\u001b[0m \u001b[0;34m=\u001b[0m \u001b[0;34m'http://api.rottentomatoes.com/api/public/v1.0/lists/dvds/top_rentals.json?apikey='\u001b[0m \u001b[0;34m+\u001b[0m \u001b[0mapi_key\u001b[0m\u001b[0;34m\u001b[0m\u001b[0m\n",
      "\u001b[0;31mNameError\u001b[0m: name 'rottenTomatoes_key' is not defined"
     ]
    }
   ],
   "source": [
    "import json\n",
    "import requests\n",
    "\n",
    "api_key = rottenTomatoes_key()\n",
    "\n",
    "url = 'http://api.rottentomatoes.com/api/public/v1.0/lists/dvds/top_rentals.json?apikey=' + api_key\n",
    "data = urllib2.urlopen(url).read()\n",
    "#print data"
   ]
  },
  {
   "cell_type": "markdown",
   "metadata": {
    "slideshow": {
     "slide_type": "slide"
    }
   },
   "source": [
    "JSON\n",
    "======\n",
    "\n",
    "* JavaScript Object Notation\n",
    "* human readable\n",
    "* transmit attribute-value pairs"
   ]
  },
  {
   "cell_type": "code",
   "execution_count": 111,
   "metadata": {
    "slideshow": {
     "slide_type": "slide"
    }
   },
   "outputs": [
    {
     "name": "stdout",
     "output_type": "stream",
     "text": [
      "{'a': 1, 'b': 2}\n",
      "{\"a\": 1, \"b\": 2}\n",
      "{u'a': 1, u'b': 2}\n"
     ]
    }
   ],
   "source": [
    "a = {'a': 1, 'b':2}\n",
    "s = json.dumps(a)\n",
    "a2 = json.loads(s)\n",
    "\n",
    "## a is a dictionary\n",
    "print a\n",
    "## vs s is a string containing a in JSON encoding\n",
    "print s\n",
    "## reading back the keys are now in unicode\n",
    "print a2"
   ]
  },
  {
   "cell_type": "code",
   "execution_count": 112,
   "metadata": {
    "slideshow": {
     "slide_type": "slide"
    }
   },
   "outputs": [
    {
     "ename": "NameError",
     "evalue": "name 'data' is not defined",
     "output_type": "error",
     "traceback": [
      "\u001b[0;31m---------------------------------------------------------------------------\u001b[0m",
      "\u001b[0;31mNameError\u001b[0m                                 Traceback (most recent call last)",
      "\u001b[0;32m<ipython-input-112-c03a6d7be667>\u001b[0m in \u001b[0;36m<module>\u001b[0;34m()\u001b[0m\n\u001b[1;32m      1\u001b[0m \u001b[0;31m## create dictionary from JSON\u001b[0m\u001b[0;34m\u001b[0m\u001b[0;34m\u001b[0m\u001b[0m\n\u001b[0;32m----> 2\u001b[0;31m \u001b[0mdataDict\u001b[0m \u001b[0;34m=\u001b[0m \u001b[0mjson\u001b[0m\u001b[0;34m.\u001b[0m\u001b[0mloads\u001b[0m\u001b[0;34m(\u001b[0m\u001b[0mdata\u001b[0m\u001b[0;34m)\u001b[0m\u001b[0;34m\u001b[0m\u001b[0m\n\u001b[0m\u001b[1;32m      3\u001b[0m \u001b[0;34m\u001b[0m\u001b[0m\n\u001b[1;32m      4\u001b[0m \u001b[0;31m## explore dictionary\u001b[0m\u001b[0;34m\u001b[0m\u001b[0;34m\u001b[0m\u001b[0m\n\u001b[1;32m      5\u001b[0m \u001b[0;32mprint\u001b[0m \u001b[0;34m\"Starting keys:\"\u001b[0m\u001b[0;34m\u001b[0m\u001b[0m\n",
      "\u001b[0;31mNameError\u001b[0m: name 'data' is not defined"
     ]
    }
   ],
   "source": [
    "## create dictionary from JSON \n",
    "dataDict = json.loads(data)\n",
    "\n",
    "## explore dictionary\n",
    "print \"Starting keys:\"\n",
    "print dataDict.keys()\n",
    "print\n",
    "\n",
    "## there is a key named `movies` containing a list of movies as a value\n",
    "movies = dataDict['movies']\n",
    "\n",
    "## each element of the list `movies` is a dictionary\n",
    "print \"Movie keys:\"\n",
    "print movies[0].keys()\n",
    "print"
   ]
  },
  {
   "cell_type": "code",
   "execution_count": null,
   "metadata": {
    "slideshow": {
     "slide_type": "slide"
    }
   },
   "outputs": [],
   "source": [
    "## one of the keys is called `ratings`\n",
    "## the value is yet another dictionary\n",
    "print \"Movie rating keys:\"\n",
    "print movies[0]['ratings'].keys()\n",
    "print\n",
    "\n",
    "## so we made it all the way to find the critics score\n",
    "print \"Movie critics score rating:\"\n",
    "print movies[0]['ratings']['critics_score']\n",
    "print"
   ]
  },
  {
   "cell_type": "markdown",
   "metadata": {
    "slideshow": {
     "slide_type": "slide"
    }
   },
   "source": [
    "Quiz\n",
    "=====\n",
    "\n",
    "* build a list with critics scores\n",
    "* build a list with audience scores"
   ]
  },
  {
   "cell_type": "code",
   "execution_count": null,
   "metadata": {
    "slideshow": {
     "slide_type": "slide"
    }
   },
   "outputs": [],
   "source": [
    "# critics scores list\n",
    "critics_scores = [m['ratings']['critics_score'] for m in movies]\n",
    "\n",
    "# audience scores list\n",
    "audience_scores = [m['ratings']['audience_score'] for m in movies]"
   ]
  },
  {
   "cell_type": "markdown",
   "metadata": {
    "slideshow": {
     "slide_type": "skip"
    }
   },
   "source": [
    "The following code shows how to create a pandas data frame with the data we gathered from the webpage.\n",
    "Beware of the `set_index()` function in pandas. Per default it does not change the actual data frame! You need to either reassign the output or set the `inplace` argument to `True`."
   ]
  },
  {
   "cell_type": "code",
   "execution_count": null,
   "metadata": {
    "slideshow": {
     "slide_type": "slide"
    }
   },
   "outputs": [],
   "source": [
    "## create pandas data frame with critics and audience score\n",
    "scores = pd.DataFrame(data=[critics_scores, audience_scores]).transpose()\n",
    "scores.columns = ['critics', 'audience']\n",
    "\n",
    "## also create a list with all movie titles\n",
    "movie_titles = [m['title'] for m in movies]\n",
    "\n",
    "## set index of dataFrame BEWARE of inplace!\n",
    "scores.set_index([movie_titles])\n",
    "\n",
    "## the line above does not changes scores!\n",
    "## You need to either reassign\n",
    "\n",
    "scores = scores.set_index([movie_titles])\n",
    "\n",
    "## or set the inplace argument to True\n",
    "scores.set_index([movie_titles], inplace=True)\n",
    "scores.head(3)"
   ]
  },
  {
   "cell_type": "code",
   "execution_count": null,
   "metadata": {
    "slideshow": {
     "slide_type": "slide"
    }
   },
   "outputs": [],
   "source": [
    "## create a bar plot with the data\n",
    "## notice that we are using the data frame itself and call its plot function\n",
    "scores.plot(kind = 'bar')\n",
    "\n",
    "## set the title to Score Comparison\n",
    "plt.title('Score Comparison')\n",
    "\n",
    "## set the x label\n",
    "plt.xlabel('Movies')\n",
    "\n",
    "## set the y label\n",
    "plt.ylabel('Scores')"
   ]
  },
  {
   "cell_type": "code",
   "execution_count": null,
   "metadata": {
    "slideshow": {
     "slide_type": "slide"
    }
   },
   "outputs": [],
   "source": [
    "## show the plot\n",
    "plt.show()"
   ]
  },
  {
   "cell_type": "markdown",
   "metadata": {
    "slideshow": {
     "slide_type": "slide"
    }
   },
   "source": [
    "Twitter Example:\n",
    "================\n",
    "\n",
    "* API a bit more complicated\n",
    "* libraries make life easier\n",
    "* python-twitter\n",
    "\n",
    "https://github.com/bear/python-twitter\n",
    "\n",
    "What we are going to do is scrape Joe's twitter account, and then filter it for the interesting tweets. Defining interesting as tweets that have be re-tweeted at least 10 times. \n"
   ]
  },
  {
   "cell_type": "code",
   "execution_count": 11,
   "metadata": {
    "slideshow": {
     "slide_type": "slide"
    }
   },
   "outputs": [],
   "source": [
    "import twitter\n",
    "\n",
    "## define the necessary keys\n",
    "cKey = \"ct83v3uWH9pzJFqxssthfshe9\"\n",
    "cSecret = \"Zc6nogOD8KFI7Owi4XWosQDv73jQMzo5hF560d5BLqRcKk7NDW\"\n",
    "aKey =  \"935322552066564096-qTwW1IRaXm8v0iLo9I9d2fHVBKKaeed\"\n",
    "aSecret = \"BanAHsz2semy9ZRRIZogAPbXLsIuYpqiE97OBL9nGCYRY\"\n",
    "\n",
    "## create the api object with the twitter-python library\n",
    "api = twitter.Api(consumer_key=cKey, consumer_secret=cSecret, access_token_key=aKey, access_token_secret=aSecret)\n"
   ]
  },
  {
   "cell_type": "code",
   "execution_count": 15,
   "metadata": {},
   "outputs": [
    {
     "data": {
      "text/html": [
       "<div>\n",
       "<style scoped>\n",
       "    .dataframe tbody tr th:only-of-type {\n",
       "        vertical-align: middle;\n",
       "    }\n",
       "\n",
       "    .dataframe tbody tr th {\n",
       "        vertical-align: top;\n",
       "    }\n",
       "\n",
       "    .dataframe thead th {\n",
       "        text-align: right;\n",
       "    }\n",
       "</style>\n",
       "<table border=\"1\" class=\"dataframe\">\n",
       "  <thead>\n",
       "    <tr style=\"text-align: right;\">\n",
       "      <th></th>\n",
       "      <th>created_at</th>\n",
       "      <th>favorite_count</th>\n",
       "      <th>hashtags</th>\n",
       "      <th>id</th>\n",
       "      <th>id_str</th>\n",
       "      <th>in_reply_to_screen_name</th>\n",
       "      <th>in_reply_to_status_id</th>\n",
       "      <th>in_reply_to_user_id</th>\n",
       "      <th>lang</th>\n",
       "      <th>source</th>\n",
       "      <th>text</th>\n",
       "      <th>truncated</th>\n",
       "      <th>urls</th>\n",
       "      <th>user</th>\n",
       "      <th>user_mentions</th>\n",
       "      <th>retweet_count</th>\n",
       "      <th>retweeted_status</th>\n",
       "      <th>quoted_status_id</th>\n",
       "      <th>quoted_status_id_str</th>\n",
       "    </tr>\n",
       "  </thead>\n",
       "  <tbody>\n",
       "    <tr>\n",
       "      <th>0</th>\n",
       "      <td>Wed Jun 13 16:35:57 +0000 2018</td>\n",
       "      <td>1.0</td>\n",
       "      <td>[]</td>\n",
       "      <td>1006938232263729154</td>\n",
       "      <td>1006938232263729154</td>\n",
       "      <td>AnimaAnandkumar</td>\n",
       "      <td>1.006798e+18</td>\n",
       "      <td>2.882894e+09</td>\n",
       "      <td>en</td>\n",
       "      <td>&lt;a href=\"http://twitter.com\" rel=\"nofollow\"&gt;Tw...</td>\n",
       "      <td>@AnimaAnandkumar @Caltech Congratulations!!! W...</td>\n",
       "      <td>True</td>\n",
       "      <td>[{u'url': u'https://t.co/E8KijYeFxV', u'expand...</td>\n",
       "      <td>{u'profile_use_background_image': True, u'id':...</td>\n",
       "      <td>[{u'id_str': u'2882893927', u'screen_name': u'...</td>\n",
       "      <td>NaN</td>\n",
       "      <td>NaN</td>\n",
       "      <td>NaN</td>\n",
       "      <td>NaN</td>\n",
       "    </tr>\n",
       "    <tr>\n",
       "      <th>1</th>\n",
       "      <td>Wed Jun 13 00:39:33 +0000 2018</td>\n",
       "      <td>2.0</td>\n",
       "      <td>[]</td>\n",
       "      <td>1006697546314670081</td>\n",
       "      <td>1006697546314670081</td>\n",
       "      <td>TenanATC</td>\n",
       "      <td>1.006694e+18</td>\n",
       "      <td>1.569456e+09</td>\n",
       "      <td>en</td>\n",
       "      <td>&lt;a href=\"http://twitter.com/download/iphone\" r...</td>\n",
       "      <td>@TenanATC Thanks so much! And I’m sure you can...</td>\n",
       "      <td>NaN</td>\n",
       "      <td>[]</td>\n",
       "      <td>{u'profile_use_background_image': True, u'id':...</td>\n",
       "      <td>[{u'id_str': u'1569456499', u'screen_name': u'...</td>\n",
       "      <td>NaN</td>\n",
       "      <td>NaN</td>\n",
       "      <td>NaN</td>\n",
       "      <td>NaN</td>\n",
       "    </tr>\n",
       "  </tbody>\n",
       "</table>\n",
       "</div>"
      ],
      "text/plain": [
       "                       created_at  favorite_count hashtags  \\\n",
       "0  Wed Jun 13 16:35:57 +0000 2018             1.0       []   \n",
       "1  Wed Jun 13 00:39:33 +0000 2018             2.0       []   \n",
       "\n",
       "                    id               id_str in_reply_to_screen_name  \\\n",
       "0  1006938232263729154  1006938232263729154         AnimaAnandkumar   \n",
       "1  1006697546314670081  1006697546314670081                TenanATC   \n",
       "\n",
       "   in_reply_to_status_id  in_reply_to_user_id lang  \\\n",
       "0           1.006798e+18         2.882894e+09   en   \n",
       "1           1.006694e+18         1.569456e+09   en   \n",
       "\n",
       "                                              source  \\\n",
       "0  <a href=\"http://twitter.com\" rel=\"nofollow\">Tw...   \n",
       "1  <a href=\"http://twitter.com/download/iphone\" r...   \n",
       "\n",
       "                                                text truncated  \\\n",
       "0  @AnimaAnandkumar @Caltech Congratulations!!! W...      True   \n",
       "1  @TenanATC Thanks so much! And I’m sure you can...       NaN   \n",
       "\n",
       "                                                urls  \\\n",
       "0  [{u'url': u'https://t.co/E8KijYeFxV', u'expand...   \n",
       "1                                                 []   \n",
       "\n",
       "                                                user  \\\n",
       "0  {u'profile_use_background_image': True, u'id':...   \n",
       "1  {u'profile_use_background_image': True, u'id':...   \n",
       "\n",
       "                                       user_mentions  retweet_count  \\\n",
       "0  [{u'id_str': u'2882893927', u'screen_name': u'...            NaN   \n",
       "1  [{u'id_str': u'1569456499', u'screen_name': u'...            NaN   \n",
       "\n",
       "  retweeted_status  quoted_status_id quoted_status_id_str  \n",
       "0              NaN               NaN                  NaN  \n",
       "1              NaN               NaN                  NaN  "
      ]
     },
     "execution_count": 15,
     "metadata": {},
     "output_type": "execute_result"
    }
   ],
   "source": [
    "# get the user timeline with screen_name = 'stat110'\n",
    "twitter_statuses = api.GetUserTimeline(screen_name = 'stat110')\n",
    "\n",
    "## create a data frame\n",
    "## first get a list of panda Series or dict\n",
    "pdSeriesList = [pd.Series(t.AsDict()) for t in twitter_statuses]\n",
    "\n",
    "## then create the data frame\n",
    "data = pd.DataFrame(pdSeriesList)\n",
    "\n",
    "data.head(2)"
   ]
  },
  {
   "cell_type": "code",
   "execution_count": 16,
   "metadata": {
    "slideshow": {
     "slide_type": "slide"
    }
   },
   "outputs": [
    {
     "name": "stdout",
     "output_type": "stream",
     "text": [
      "######\n",
      "RT @mviser: A Somerville school is teaching kindergartners about lockdowns, with a song to the tune of “Twinkle, Twinkle, Little Star.” \n",
      "\n",
      "L…\n",
      "######\n",
      "RT @JessicaCalarco: Check out my new @TheAtlantic article using sociological research to explain why the classic marshmallow test didn't ho…\n",
      "######\n",
      "RT @rafalab: We ran a survey to better understand mortality in Puerto Rico after hurricane María. The official death count of 64 is likely…\n",
      "######\n",
      "Statisticians are called weird for terms like Law of the Unconscious Statistician (LOTUS), but I just heard that ac… https://t.co/8mmNMF1gVz\n",
      "######\n",
      "RT @dataandme: 📽 great slides for #dataliteracy:\n",
      "\"Statistical pitfalls in the news\" 🗣 @maartenzam \n",
      "https://t.co/T6q8DhWoJN #ddj #EIJC18 #So…\n"
     ]
    }
   ],
   "source": [
    "## filter tweets with enough retweet_count\n",
    "maybe_interesting = data[data.retweet_count>20]\n",
    "\n",
    "## get the text of these tweets\n",
    "tweet_text = maybe_interesting.text\n",
    "\n",
    "## print them out\n",
    "text = tweet_text.values\n",
    "\n",
    "for t in text:\n",
    "    print '######'\n",
    "    print t"
   ]
  },
  {
   "cell_type": "markdown",
   "metadata": {
    "slideshow": {
     "slide_type": "skip"
    }
   },
   "source": [
    "Extracting columns:\n",
    "===================\n",
    "\n",
    "__Warning:__ The returned column `tweet_text` is a `view` on the data\n",
    "    \n",
    "* it is not a copy\n",
    "* you change the Series => you change the DataFrame\n",
    "\n",
    "Below is another example of such a view:"
   ]
  },
  {
   "cell_type": "code",
   "execution_count": 17,
   "metadata": {
    "slideshow": {
     "slide_type": "skip"
    }
   },
   "outputs": [
    {
     "name": "stdout",
     "output_type": "stream",
     "text": [
      "-----------------\n",
      "This is view:\n",
      "5      NaN\n",
      "6      NaN\n",
      "9      NaN\n",
      "16    76.0\n",
      "17     NaN\n",
      "Name: favorite_count, dtype: float64\n",
      "-----------------\n",
      "This is view after changing view[8]\n",
      "5        NaN\n",
      "6        NaN\n",
      "9        NaN\n",
      "16      76.0\n",
      "17       NaN\n",
      "8     9999.0\n",
      "Name: favorite_count, dtype: float64\n",
      "-----------------\n",
      "This is maybe_interesting after changing view[8]\n",
      "It changed too!\n",
      "5        NaN\n",
      "6        NaN\n",
      "9        NaN\n",
      "16      76.0\n",
      "17       NaN\n",
      "8     9999.0\n",
      "Name: favorite_count, dtype: float64\n",
      "-----------------\n",
      "This is independent_data after changed at 10:\n",
      "5        NaN\n",
      "6        NaN\n",
      "9        NaN\n",
      "16      76.0\n",
      "17       NaN\n",
      "8     9999.0\n",
      "10     999.0\n",
      "Name: favorite_count, dtype: float64\n",
      "-----------------\n",
      "This is maybe_interesting after changing independent_data:\n",
      "It did not change because we only changed a copy of it\n",
      "5        NaN\n",
      "6        NaN\n",
      "9        NaN\n",
      "16      76.0\n",
      "17       NaN\n",
      "8     9999.0\n",
      "Name: favorite_count, dtype: float64\n"
     ]
    },
    {
     "name": "stderr",
     "output_type": "stream",
     "text": [
      "/usr/local/lib/python2.7/dist-packages/ipykernel_launcher.py:7: SettingWithCopyWarning: \n",
      "A value is trying to be set on a copy of a slice from a DataFrame\n",
      "\n",
      "See the caveats in the documentation: http://pandas.pydata.org/pandas-docs/stable/indexing.html#indexing-view-versus-copy\n",
      "  import sys\n",
      "/home/adityagc/.local/lib/python2.7/site-packages/pandas/core/series.py:914: SettingWithCopyWarning: \n",
      "A value is trying to be set on a copy of a slice from a DataFrame\n",
      "\n",
      "See the caveats in the documentation: http://pandas.pydata.org/pandas-docs/stable/indexing.html#indexing-view-versus-copy\n",
      "  self.loc[key] = value\n",
      "/home/adityagc/.local/lib/python2.7/site-packages/IPython/core/interactiveshell.py:2878: SettingWithCopyWarning: \n",
      "A value is trying to be set on a copy of a slice from a DataFrame\n",
      "\n",
      "See the caveats in the documentation: http://pandas.pydata.org/pandas-docs/stable/indexing.html#indexing-view-versus-copy\n",
      "  exec(code_obj, self.user_global_ns, self.user_ns)\n"
     ]
    }
   ],
   "source": [
    "## create a view for favorite_count on maybe_interesting\n",
    "view = maybe_interesting['favorite_count']\n",
    "print '-----------------'\n",
    "print \"This is view:\"\n",
    "print view\n",
    "## change a value\n",
    "view[8] = 9999\n",
    "\n",
    "## look at original frame\n",
    "print '-----------------'\n",
    "print \"This is view after changing view[8]\"\n",
    "print view\n",
    "\n",
    "print '-----------------'\n",
    "print \"This is maybe_interesting after changing view[8]\"\n",
    "print \"It changed too!\"\n",
    "print maybe_interesting['favorite_count']\n",
    "\n",
    "## to avoid this you can use copy\n",
    "independent_data = maybe_interesting['favorite_count'].copy()\n",
    "independent_data[10] = 999\n",
    "print '-----------------'\n",
    "print \"This is independent_data after changed at 10:\"\n",
    "print independent_data\n",
    "print '-----------------'\n",
    "print \"This is maybe_interesting after changing independent_data:\"\n",
    "print \"It did not change because we only changed a copy of it\"\n",
    "print maybe_interesting['favorite_count']"
   ]
  },
  {
   "cell_type": "markdown",
   "metadata": {
    "collapsed": true,
    "slideshow": {
     "slide_type": "slide"
    }
   },
   "source": [
    "What we covered today:\n",
    "============\n",
    "\n",
    "* Pandas data frames\n",
    "* Guidelines for friendly scraping\n",
    "* Scraping html sites\n",
    "* Scraping with Api's\n",
    "* Basic data cleanup\n"
   ]
  },
  {
   "cell_type": "markdown",
   "metadata": {
    "slideshow": {
     "slide_type": "slide"
    }
   },
   "source": [
    "Further material\n",
    "================\n",
    "\n",
    "* I highly recommend Katharine Jarmul's scraping tutorials\n",
    "* For example [this one](https://www.youtube.com/watch?v=p1iX0uxM1w8)\n",
    "* Pandas has extensive [documentation](http://pandas.pydata.org/pandas-docs/stable/)\n",
    "* Especially the [tem minutes to pandas chapter](http://pandas.pydata.org/pandas-docs/stable/10min.html)\n",
    "\n",
    "* [Greg Reda](http://www.gregreda.com/2013/10/26/using-pandas-on-the-movielens-dataset/) did a lot more pandas examples for the movie lens data set"
   ]
  },
  {
   "cell_type": "code",
   "execution_count": null,
   "metadata": {},
   "outputs": [],
   "source": []
  },
  {
   "cell_type": "code",
   "execution_count": null,
   "metadata": {},
   "outputs": [],
   "source": []
  }
 ],
 "metadata": {
  "celltoolbar": "Slideshow",
  "kernelspec": {
   "display_name": "Python 2",
   "language": "python",
   "name": "python2"
  },
  "language_info": {
   "codemirror_mode": {
    "name": "ipython",
    "version": 2
   },
   "file_extension": ".py",
   "mimetype": "text/x-python",
   "name": "python",
   "nbconvert_exporter": "python",
   "pygments_lexer": "ipython2",
   "version": "2.7.15rc1"
  }
 },
 "nbformat": 4,
 "nbformat_minor": 1
}
